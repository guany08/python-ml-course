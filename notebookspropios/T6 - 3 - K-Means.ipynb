{
 "cells": [
  {
   "cell_type": "markdown",
   "metadata": {},
   "source": [
    "# El método de k-means"
   ]
  },
  {
   "cell_type": "code",
   "execution_count": 3,
   "metadata": {},
   "outputs": [],
   "source": [
    "import numpy as np"
   ]
  },
  {
   "cell_type": "code",
   "execution_count": 4,
   "metadata": {},
   "outputs": [
    {
     "data": {
      "text/plain": [
       "array([[0.55664103, 0.92912746, 0.94489161],\n",
       "       [0.28663192, 0.76827158, 0.89527649],\n",
       "       [0.48251101, 0.70354294, 0.93034281],\n",
       "       [0.96331158, 0.63355644, 0.34938442],\n",
       "       [0.3818623 , 0.43669842, 0.47524953],\n",
       "       [0.08479025, 0.79459378, 0.30035921],\n",
       "       [0.64480872, 0.16320079, 0.78989192],\n",
       "       [0.33500942, 0.72772674, 0.06715305],\n",
       "       [0.94606263, 0.66704371, 0.28821174],\n",
       "       [0.15007569, 0.88765829, 0.68742919],\n",
       "       [0.35413015, 0.08471461, 0.29183552],\n",
       "       [0.71359036, 0.25692293, 0.26821488],\n",
       "       [0.66926468, 0.40880197, 0.09112598],\n",
       "       [0.61998789, 0.97348052, 0.57028305],\n",
       "       [0.48404753, 0.34828973, 0.41742368],\n",
       "       [0.9907463 , 0.75227299, 0.39687598],\n",
       "       [0.49720786, 0.81699037, 0.88753228],\n",
       "       [0.65518935, 0.38619875, 0.47987613],\n",
       "       [0.40179334, 0.13417108, 0.90928007],\n",
       "       [0.61506261, 0.57761523, 0.38436546],\n",
       "       [0.77015086, 0.64868101, 0.1423351 ],\n",
       "       [0.94516641, 0.24895437, 0.81833049],\n",
       "       [0.76041466, 0.36092996, 0.88338538],\n",
       "       [0.60191571, 0.9063392 , 0.82254104],\n",
       "       [0.47438104, 0.66021232, 0.00621177],\n",
       "       [0.83903467, 0.20567252, 0.87198897],\n",
       "       [0.70987898, 0.95827604, 0.48078504],\n",
       "       [0.54169753, 0.08432597, 0.84337665],\n",
       "       [0.11573436, 0.80314769, 0.61296778],\n",
       "       [0.79388327, 0.44542475, 0.62553497]])"
      ]
     },
     "execution_count": 4,
     "metadata": {},
     "output_type": "execute_result"
    }
   ],
   "source": [
    "data = np.random.random(90).reshape(30,3)\n",
    "data"
   ]
  },
  {
   "cell_type": "code",
   "execution_count": 6,
   "metadata": {},
   "outputs": [
    {
     "data": {
      "text/plain": [
       "array([[0.64480872, 0.16320079, 0.78989192],\n",
       "       [0.9907463 , 0.75227299, 0.39687598]])"
      ]
     },
     "execution_count": 6,
     "metadata": {},
     "output_type": "execute_result"
    }
   ],
   "source": [
    "c1 = np.random.choice(range(len(data)))\n",
    "c2 = np.random.choice(range(len(data)))\n",
    "clust_centers = np.vstack([data[c1], data[c2]])\n",
    "clust_centers"
   ]
  },
  {
   "cell_type": "code",
   "execution_count": 14,
   "metadata": {},
   "outputs": [],
   "source": [
    "from scipy.cluster.vq import vq"
   ]
  },
  {
   "cell_type": "code",
   "execution_count": 16,
   "metadata": {},
   "outputs": [
    {
     "data": {
      "text/plain": [
       "(array([1, 0, 0, 1, 0, 1, 0, 1, 1, 0, 0, 0, 1, 1, 0, 1, 0, 0, 0, 1, 1, 0,\n",
       "        0, 1, 1, 0, 1, 0, 0, 0]),\n",
       " array([0.72114217, 0.71099029, 0.58140918, 0.13077359, 0.49289107,\n",
       "        0.91206518, 0.        , 0.73437769, 0.14515019, 0.8832316 ,\n",
       "        0.58199166, 0.53447328, 0.5610756 , 0.46525754, 0.44590881,\n",
       "        0.        , 0.67731859, 0.38202833, 0.27230999, 0.41448773,\n",
       "        0.35239851, 0.31365135, 0.24739156, 0.59675486, 0.65400823,\n",
       "        0.2150988 , 0.35827983, 0.14040574, 0.84897224, 0.35900807]))"
      ]
     },
     "execution_count": 16,
     "metadata": {},
     "output_type": "execute_result"
    }
   ],
   "source": [
    "clusters = vq(data, clust_centers) # PRIMERO MUESTRA A QUE CLUSTER PERTENECE Y LUEGO LA Distancia a los baricentros de su cluster\n",
    "clusters"
   ]
  },
  {
   "cell_type": "code",
   "execution_count": 17,
   "metadata": {},
   "outputs": [
    {
     "data": {
      "text/plain": [
       "array([1, 0, 0, 1, 0, 1, 0, 1, 1, 0, 0, 0, 1, 1, 0, 1, 0, 0, 0, 1, 1, 0,\n",
       "       0, 1, 1, 0, 1, 0, 0, 0])"
      ]
     },
     "execution_count": 17,
     "metadata": {},
     "output_type": "execute_result"
    }
   ],
   "source": [
    "labels = clusters[0]\n",
    "labels"
   ]
  },
  {
   "cell_type": "code",
   "execution_count": 29,
   "metadata": {},
   "outputs": [],
   "source": [
    "import plotly.plotly as py\n",
    "import plotly.graph_objs as go\n",
    "import plotly.offline as ply"
   ]
  },
  {
   "cell_type": "code",
   "execution_count": 30,
   "metadata": {},
   "outputs": [
    {
     "data": {
      "text/plain": [
       "'file://C:\\\\Users\\\\Guany\\\\Documents\\\\GitHub\\\\python-ml-course\\\\notebookspropios\\\\Clusters.html'"
      ]
     },
     "execution_count": 30,
     "metadata": {},
     "output_type": "execute_result"
    }
   ],
   "source": [
    "x = []\n",
    "y = []\n",
    "z = []\n",
    "x2 = []\n",
    "y2 = []\n",
    "z2 = []\n",
    "\n",
    "for i in range(0, len(labels)):\n",
    "    if(labels[i] == 0):\n",
    "        x.append(data[i,0])\n",
    "        y.append(data[i,1])\n",
    "        z.append(data[i,2])\n",
    "        \n",
    "    else:\n",
    "        x2.append(data[i,0])\n",
    "        y2.append(data[i,1])\n",
    "        z2.append(data[i,2])\n",
    "\n",
    "cluster1 = go.Scatter3d(\n",
    "    x=x,\n",
    "    y=y,\n",
    "    z=z,\n",
    "    mode='markers',\n",
    "    marker=dict(\n",
    "        size=12,\n",
    "        line=dict(\n",
    "            color='rgba(217, 217, 217, 0.14)',\n",
    "            width=0.5\n",
    "        ),\n",
    "        opacity=0.9\n",
    "    ),\n",
    "    name=\"Cluster 0\"\n",
    ")\n",
    "\n",
    "\n",
    "cluster2 = go.Scatter3d(\n",
    "    x=x2,\n",
    "    y=y2,\n",
    "    z=z2,\n",
    "    mode='markers',\n",
    "    marker=dict(\n",
    "        color='rgb(127, 127, 127)',\n",
    "        size=12,\n",
    "        symbol='circle',\n",
    "        line=dict(\n",
    "            color='rgb(204, 204, 204)',\n",
    "            width=1\n",
    "        ),\n",
    "        opacity=0.9\n",
    "    ),\n",
    "    name=\"Cluster 1\"\n",
    ")\n",
    "data2 = [cluster1, cluster2]\n",
    "layout = go.Layout(\n",
    "    margin=dict(\n",
    "        l=0,\n",
    "        r=0,\n",
    "        b=0,\n",
    "        t=30\n",
    "    )\n",
    ")\n",
    "\n",
    "fig = go.Figure(data=data2, layout=layout)\n",
    "ply.plot(fig, filename='Clusters')\n"
   ]
  },
  {
   "cell_type": "code",
   "execution_count": 21,
   "metadata": {},
   "outputs": [],
   "source": [
    "from scipy.cluster.vq import kmeans"
   ]
  },
  {
   "cell_type": "code",
   "execution_count": 27,
   "metadata": {},
   "outputs": [
    {
     "data": {
      "text/plain": [
       "(array([[0.58366313, 0.39833976, 0.70827696],\n",
       "        [0.57474086, 0.74281471, 0.37143063]]), 0.3878527837976206)"
      ]
     },
     "execution_count": 27,
     "metadata": {},
     "output_type": "execute_result"
    }
   ],
   "source": [
    "kmeans(data, clust_centers)\n",
    "#CENTROS DE CADA CLUSTER GENERADO, EL ULTIMO NUMERO ES LA SUMA TOTAL DE LOS RESULTADOS MENOS LA DISTANCIA AL BARICENTRO GLOBAL DEL SISTEMA"
   ]
  },
  {
   "cell_type": "code",
   "execution_count": 28,
   "metadata": {},
   "outputs": [
    {
     "data": {
      "text/plain": [
       "(array([[0.41053747, 0.85414279, 0.71324085],\n",
       "        [0.66398037, 0.41157071, 0.47000258]]), 0.35985407774463235)"
      ]
     },
     "execution_count": 28,
     "metadata": {},
     "output_type": "execute_result"
    }
   ],
   "source": [
    "kmeans(data, 2)"
   ]
  },
  {
   "cell_type": "code",
   "execution_count": null,
   "metadata": {},
   "outputs": [],
   "source": []
  }
 ],
 "metadata": {
  "kernelspec": {
   "display_name": "Python 3",
   "language": "python",
   "name": "python3"
  },
  "language_info": {
   "codemirror_mode": {
    "name": "ipython",
    "version": 3
   },
   "file_extension": ".py",
   "mimetype": "text/x-python",
   "name": "python",
   "nbconvert_exporter": "python",
   "pygments_lexer": "ipython3",
   "version": "3.5.5"
  }
 },
 "nbformat": 4,
 "nbformat_minor": 2
}
