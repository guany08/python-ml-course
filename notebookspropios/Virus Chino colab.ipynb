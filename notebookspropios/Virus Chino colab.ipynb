{
 "cells": [
  {
   "cell_type": "markdown",
   "metadata": {
    "id": "694NJW7DdHHM"
   },
   "source": [
    "# Virus Chino"
   ]
  },
  {
   "cell_type": "code",
   "execution_count": null,
   "metadata": {
    "colab": {
     "base_uri": "https://localhost:8080/"
    },
    "executionInfo": {
     "elapsed": 21229,
     "status": "ok",
     "timestamp": 1619443421402,
     "user": {
      "displayName": "Gianni Bevilacqua",
      "photoUrl": "",
      "userId": "02828618652131278541"
     },
     "user_tz": 180
    },
    "id": "_HbnfMoBdXMf",
    "outputId": "1a8a6802-5bd4-469a-a97a-e3e1d4ebde09"
   },
   "outputs": [
    {
     "name": "stdout",
     "output_type": "stream",
     "text": [
      "Mounted at /content/drive\n"
     ]
    }
   ],
   "source": [
    "from google.colab import drive\n",
    "drive.mount('/content/drive')"
   ]
  },
  {
   "cell_type": "code",
   "execution_count": 1,
   "metadata": {
    "id": "HVgsfzkBdHHQ"
   },
   "outputs": [],
   "source": [
    "import pandas as pd\n",
    "import matplotlib.pyplot as plt\n",
    "import os\n",
    "import numpy as np"
   ]
  },
  {
   "cell_type": "code",
   "execution_count": 2,
   "metadata": {
    "id": "lwQfeZmRdHHS"
   },
   "outputs": [],
   "source": [
    "mainpath = \"C:/Users/Guany/Documents/\"\n",
    "#mainpath = \"C:/Users/ASUS/Documents/\"\n",
    "#fullpath = \"/content/drive/MyDrive/Covid19Casos.csv\"\n",
    "filename = \"Covid19casos.csv\"\n",
    "fullpath = os.path.join(mainpath, filename)"
   ]
  },
  {
   "cell_type": "code",
   "execution_count": 3,
   "metadata": {
    "colab": {
     "base_uri": "https://localhost:8080/",
     "height": 305
    },
    "executionInfo": {
     "elapsed": 31836,
     "status": "ok",
     "timestamp": 1619443459275,
     "user": {
      "displayName": "Gianni Bevilacqua",
      "photoUrl": "",
      "userId": "02828618652131278541"
     },
     "user_tz": 180
    },
    "id": "XlaSRAmndHHT",
    "outputId": "dd1d7145-30f3-4e2e-8482-22038d9f2ca6"
   },
   "outputs": [
    {
     "data": {
      "text/html": [
       "<div>\n",
       "<style scoped>\n",
       "    .dataframe tbody tr th:only-of-type {\n",
       "        vertical-align: middle;\n",
       "    }\n",
       "\n",
       "    .dataframe tbody tr th {\n",
       "        vertical-align: top;\n",
       "    }\n",
       "\n",
       "    .dataframe thead th {\n",
       "        text-align: right;\n",
       "    }\n",
       "</style>\n",
       "<table border=\"1\" class=\"dataframe\">\n",
       "  <thead>\n",
       "    <tr style=\"text-align: right;\">\n",
       "      <th></th>\n",
       "      <th>id_evento_caso</th>\n",
       "      <th>sexo</th>\n",
       "      <th>edad</th>\n",
       "      <th>edad_años_meses</th>\n",
       "      <th>residencia_pais_nombre</th>\n",
       "      <th>residencia_provincia_nombre</th>\n",
       "      <th>residencia_departamento_nombre</th>\n",
       "      <th>carga_provincia_nombre</th>\n",
       "      <th>fecha_inicio_sintomas</th>\n",
       "      <th>fecha_apertura</th>\n",
       "      <th>...</th>\n",
       "      <th>fecha_fallecimiento</th>\n",
       "      <th>asistencia_respiratoria_mecanica</th>\n",
       "      <th>carga_provincia_id</th>\n",
       "      <th>origen_financiamiento</th>\n",
       "      <th>clasificacion</th>\n",
       "      <th>clasificacion_resumen</th>\n",
       "      <th>residencia_provincia_id</th>\n",
       "      <th>fecha_diagnostico</th>\n",
       "      <th>residencia_departamento_id</th>\n",
       "      <th>ultima_actualizacion</th>\n",
       "    </tr>\n",
       "  </thead>\n",
       "  <tbody>\n",
       "    <tr>\n",
       "      <th>0</th>\n",
       "      <td>1000000</td>\n",
       "      <td>M</td>\n",
       "      <td>54.0</td>\n",
       "      <td>Años</td>\n",
       "      <td>Argentina</td>\n",
       "      <td>CABA</td>\n",
       "      <td>SIN ESPECIFICAR</td>\n",
       "      <td>Buenos Aires</td>\n",
       "      <td>NaN</td>\n",
       "      <td>2020-06-01</td>\n",
       "      <td>...</td>\n",
       "      <td>NaN</td>\n",
       "      <td>NO</td>\n",
       "      <td>6</td>\n",
       "      <td>Privado</td>\n",
       "      <td>Caso Descartado</td>\n",
       "      <td>Descartado</td>\n",
       "      <td>2</td>\n",
       "      <td>2020-06-09</td>\n",
       "      <td>0</td>\n",
       "      <td>2021-04-25</td>\n",
       "    </tr>\n",
       "    <tr>\n",
       "      <th>1</th>\n",
       "      <td>10000000</td>\n",
       "      <td>F</td>\n",
       "      <td>52.0</td>\n",
       "      <td>Años</td>\n",
       "      <td>Argentina</td>\n",
       "      <td>CABA</td>\n",
       "      <td>SIN ESPECIFICAR</td>\n",
       "      <td>CABA</td>\n",
       "      <td>NaN</td>\n",
       "      <td>2021-04-08</td>\n",
       "      <td>...</td>\n",
       "      <td>NaN</td>\n",
       "      <td>NO</td>\n",
       "      <td>2</td>\n",
       "      <td>Público</td>\n",
       "      <td>Caso Descartado</td>\n",
       "      <td>Descartado</td>\n",
       "      <td>2</td>\n",
       "      <td>2021-04-08</td>\n",
       "      <td>0</td>\n",
       "      <td>2021-04-25</td>\n",
       "    </tr>\n",
       "    <tr>\n",
       "      <th>2</th>\n",
       "      <td>10000001</td>\n",
       "      <td>F</td>\n",
       "      <td>22.0</td>\n",
       "      <td>Años</td>\n",
       "      <td>Argentina</td>\n",
       "      <td>Buenos Aires</td>\n",
       "      <td>Lomas de Zamora</td>\n",
       "      <td>Buenos Aires</td>\n",
       "      <td>2021-04-05</td>\n",
       "      <td>2021-04-08</td>\n",
       "      <td>...</td>\n",
       "      <td>NaN</td>\n",
       "      <td>NO</td>\n",
       "      <td>6</td>\n",
       "      <td>Público</td>\n",
       "      <td>Caso Descartado</td>\n",
       "      <td>Descartado</td>\n",
       "      <td>6</td>\n",
       "      <td>2021-04-08</td>\n",
       "      <td>490</td>\n",
       "      <td>2021-04-25</td>\n",
       "    </tr>\n",
       "    <tr>\n",
       "      <th>3</th>\n",
       "      <td>10000002</td>\n",
       "      <td>F</td>\n",
       "      <td>43.0</td>\n",
       "      <td>Años</td>\n",
       "      <td>Argentina</td>\n",
       "      <td>Buenos Aires</td>\n",
       "      <td>La Matanza</td>\n",
       "      <td>CABA</td>\n",
       "      <td>NaN</td>\n",
       "      <td>2021-04-08</td>\n",
       "      <td>...</td>\n",
       "      <td>NaN</td>\n",
       "      <td>NO</td>\n",
       "      <td>2</td>\n",
       "      <td>Público</td>\n",
       "      <td>Caso Descartado</td>\n",
       "      <td>Descartado</td>\n",
       "      <td>6</td>\n",
       "      <td>2021-04-06</td>\n",
       "      <td>427</td>\n",
       "      <td>2021-04-25</td>\n",
       "    </tr>\n",
       "    <tr>\n",
       "      <th>4</th>\n",
       "      <td>10000003</td>\n",
       "      <td>F</td>\n",
       "      <td>33.0</td>\n",
       "      <td>Años</td>\n",
       "      <td>Argentina</td>\n",
       "      <td>CABA</td>\n",
       "      <td>COMUNA 01</td>\n",
       "      <td>CABA</td>\n",
       "      <td>NaN</td>\n",
       "      <td>2021-04-08</td>\n",
       "      <td>...</td>\n",
       "      <td>NaN</td>\n",
       "      <td>NO</td>\n",
       "      <td>2</td>\n",
       "      <td>Público</td>\n",
       "      <td>Caso Descartado</td>\n",
       "      <td>Descartado</td>\n",
       "      <td>2</td>\n",
       "      <td>2021-04-08</td>\n",
       "      <td>1</td>\n",
       "      <td>2021-04-25</td>\n",
       "    </tr>\n",
       "  </tbody>\n",
       "</table>\n",
       "<p>5 rows × 25 columns</p>\n",
       "</div>"
      ],
      "text/plain": [
       "   id_evento_caso sexo  edad edad_años_meses residencia_pais_nombre  \\\n",
       "0         1000000    M  54.0            Años              Argentina   \n",
       "1        10000000    F  52.0            Años              Argentina   \n",
       "2        10000001    F  22.0            Años              Argentina   \n",
       "3        10000002    F  43.0            Años              Argentina   \n",
       "4        10000003    F  33.0            Años              Argentina   \n",
       "\n",
       "  residencia_provincia_nombre residencia_departamento_nombre  \\\n",
       "0                        CABA                SIN ESPECIFICAR   \n",
       "1                        CABA                SIN ESPECIFICAR   \n",
       "2                Buenos Aires                Lomas de Zamora   \n",
       "3                Buenos Aires                     La Matanza   \n",
       "4                        CABA                      COMUNA 01   \n",
       "\n",
       "  carga_provincia_nombre fecha_inicio_sintomas fecha_apertura  \\\n",
       "0           Buenos Aires                   NaN     2020-06-01   \n",
       "1                   CABA                   NaN     2021-04-08   \n",
       "2           Buenos Aires            2021-04-05     2021-04-08   \n",
       "3                   CABA                   NaN     2021-04-08   \n",
       "4                   CABA                   NaN     2021-04-08   \n",
       "\n",
       "          ...           fecha_fallecimiento asistencia_respiratoria_mecanica  \\\n",
       "0         ...                           NaN                               NO   \n",
       "1         ...                           NaN                               NO   \n",
       "2         ...                           NaN                               NO   \n",
       "3         ...                           NaN                               NO   \n",
       "4         ...                           NaN                               NO   \n",
       "\n",
       "  carga_provincia_id origen_financiamiento    clasificacion  \\\n",
       "0                  6               Privado  Caso Descartado   \n",
       "1                  2               Público  Caso Descartado   \n",
       "2                  6               Público  Caso Descartado   \n",
       "3                  2               Público  Caso Descartado   \n",
       "4                  2               Público  Caso Descartado   \n",
       "\n",
       "  clasificacion_resumen residencia_provincia_id  fecha_diagnostico  \\\n",
       "0            Descartado                       2         2020-06-09   \n",
       "1            Descartado                       2         2021-04-08   \n",
       "2            Descartado                       6         2021-04-08   \n",
       "3            Descartado                       6         2021-04-06   \n",
       "4            Descartado                       2         2021-04-08   \n",
       "\n",
       "  residencia_departamento_id ultima_actualizacion  \n",
       "0                          0           2021-04-25  \n",
       "1                          0           2021-04-25  \n",
       "2                        490           2021-04-25  \n",
       "3                        427           2021-04-25  \n",
       "4                          1           2021-04-25  \n",
       "\n",
       "[5 rows x 25 columns]"
      ]
     },
     "execution_count": 3,
     "metadata": {},
     "output_type": "execute_result"
    }
   ],
   "source": [
    "VC = pd.read_csv(fullpath)\n",
    "VC.head()"
   ]
  },
  {
   "cell_type": "code",
   "execution_count": 8,
   "metadata": {
    "colab": {
     "base_uri": "https://localhost:8080/",
     "height": 288
    },
    "executionInfo": {
     "elapsed": 29880,
     "status": "ok",
     "timestamp": 1619443461014,
     "user": {
      "displayName": "Gianni Bevilacqua",
      "photoUrl": "",
      "userId": "02828618652131278541"
     },
     "user_tz": 180
    },
    "id": "RnQKsCYjdHHW",
    "outputId": "fd70545c-333a-4daa-8a98-3d7b1457dc06"
   },
   "outputs": [
    {
     "data": {
      "text/html": [
       "<div>\n",
       "<style scoped>\n",
       "    .dataframe tbody tr th:only-of-type {\n",
       "        vertical-align: middle;\n",
       "    }\n",
       "\n",
       "    .dataframe tbody tr th {\n",
       "        vertical-align: top;\n",
       "    }\n",
       "\n",
       "    .dataframe thead th {\n",
       "        text-align: right;\n",
       "    }\n",
       "</style>\n",
       "<table border=\"1\" class=\"dataframe\">\n",
       "  <thead>\n",
       "    <tr style=\"text-align: right;\">\n",
       "      <th></th>\n",
       "      <th>id_evento_caso</th>\n",
       "      <th>edad</th>\n",
       "      <th>sepi_apertura</th>\n",
       "      <th>carga_provincia_id</th>\n",
       "      <th>residencia_provincia_id</th>\n",
       "      <th>residencia_departamento_id</th>\n",
       "    </tr>\n",
       "  </thead>\n",
       "  <tbody>\n",
       "    <tr>\n",
       "      <th>count</th>\n",
       "      <td>9.585311e+06</td>\n",
       "      <td>9.580772e+06</td>\n",
       "      <td>9.585311e+06</td>\n",
       "      <td>9.585311e+06</td>\n",
       "      <td>9.585311e+06</td>\n",
       "      <td>9.585311e+06</td>\n",
       "    </tr>\n",
       "    <tr>\n",
       "      <th>mean</th>\n",
       "      <td>6.047349e+06</td>\n",
       "      <td>3.918079e+01</td>\n",
       "      <td>2.425181e+01</td>\n",
       "      <td>2.305204e+01</td>\n",
       "      <td>2.432991e+01</td>\n",
       "      <td>1.916770e+02</td>\n",
       "    </tr>\n",
       "    <tr>\n",
       "      <th>std</th>\n",
       "      <td>2.964327e+06</td>\n",
       "      <td>1.816432e+01</td>\n",
       "      <td>1.715652e+01</td>\n",
       "      <td>2.918956e+01</td>\n",
       "      <td>2.944285e+01</td>\n",
       "      <td>2.488389e+02</td>\n",
       "    </tr>\n",
       "    <tr>\n",
       "      <th>min</th>\n",
       "      <td>5.667900e+05</td>\n",
       "      <td>-1.800000e+01</td>\n",
       "      <td>1.000000e+00</td>\n",
       "      <td>2.000000e+00</td>\n",
       "      <td>2.000000e+00</td>\n",
       "      <td>0.000000e+00</td>\n",
       "    </tr>\n",
       "    <tr>\n",
       "      <th>25%</th>\n",
       "      <td>3.491888e+06</td>\n",
       "      <td>2.600000e+01</td>\n",
       "      <td>9.000000e+00</td>\n",
       "      <td>2.000000e+00</td>\n",
       "      <td>6.000000e+00</td>\n",
       "      <td>1.400000e+01</td>\n",
       "    </tr>\n",
       "    <tr>\n",
       "      <th>50%</th>\n",
       "      <td>6.064147e+06</td>\n",
       "      <td>3.700000e+01</td>\n",
       "      <td>1.600000e+01</td>\n",
       "      <td>6.000000e+00</td>\n",
       "      <td>6.000000e+00</td>\n",
       "      <td>6.300000e+01</td>\n",
       "    </tr>\n",
       "    <tr>\n",
       "      <th>75%</th>\n",
       "      <td>8.615244e+06</td>\n",
       "      <td>5.000000e+01</td>\n",
       "      <td>4.100000e+01</td>\n",
       "      <td>3.400000e+01</td>\n",
       "      <td>3.800000e+01</td>\n",
       "      <td>3.710000e+02</td>\n",
       "    </tr>\n",
       "    <tr>\n",
       "      <th>max</th>\n",
       "      <td>1.114587e+07</td>\n",
       "      <td>2.210000e+02</td>\n",
       "      <td>5.300000e+01</td>\n",
       "      <td>9.400000e+01</td>\n",
       "      <td>9.900000e+01</td>\n",
       "      <td>8.820000e+02</td>\n",
       "    </tr>\n",
       "  </tbody>\n",
       "</table>\n",
       "</div>"
      ],
      "text/plain": [
       "       id_evento_caso          edad  sepi_apertura  carga_provincia_id  \\\n",
       "count    9.585311e+06  9.580772e+06   9.585311e+06        9.585311e+06   \n",
       "mean     6.047349e+06  3.918079e+01   2.425181e+01        2.305204e+01   \n",
       "std      2.964327e+06  1.816432e+01   1.715652e+01        2.918956e+01   \n",
       "min      5.667900e+05 -1.800000e+01   1.000000e+00        2.000000e+00   \n",
       "25%      3.491888e+06  2.600000e+01   9.000000e+00        2.000000e+00   \n",
       "50%      6.064147e+06  3.700000e+01   1.600000e+01        6.000000e+00   \n",
       "75%      8.615244e+06  5.000000e+01   4.100000e+01        3.400000e+01   \n",
       "max      1.114587e+07  2.210000e+02   5.300000e+01        9.400000e+01   \n",
       "\n",
       "       residencia_provincia_id  residencia_departamento_id  \n",
       "count             9.585311e+06                9.585311e+06  \n",
       "mean              2.432991e+01                1.916770e+02  \n",
       "std               2.944285e+01                2.488389e+02  \n",
       "min               2.000000e+00                0.000000e+00  \n",
       "25%               6.000000e+00                1.400000e+01  \n",
       "50%               6.000000e+00                6.300000e+01  \n",
       "75%               3.800000e+01                3.710000e+02  \n",
       "max               9.900000e+01                8.820000e+02  "
      ]
     },
     "execution_count": 8,
     "metadata": {},
     "output_type": "execute_result"
    }
   ],
   "source": [
    "VC.describe()"
   ]
  },
  {
   "cell_type": "code",
   "execution_count": 9,
   "metadata": {
    "colab": {
     "base_uri": "https://localhost:8080/"
    },
    "executionInfo": {
     "elapsed": 28178,
     "status": "ok",
     "timestamp": 1619443461015,
     "user": {
      "displayName": "Gianni Bevilacqua",
      "photoUrl": "",
      "userId": "02828618652131278541"
     },
     "user_tz": 180
    },
    "id": "l3ZbV9N6dHHX",
    "outputId": "156bd44a-aa86-4f73-d3af-a6aad5f164d4"
   },
   "outputs": [
    {
     "data": {
      "text/plain": [
       "0"
      ]
     },
     "execution_count": 9,
     "metadata": {},
     "output_type": "execute_result"
    }
   ],
   "source": [
    "pd.isnull(VC[\"edad_años_meses\"]).values.ravel().sum()"
   ]
  },
  {
   "cell_type": "code",
   "execution_count": 10,
   "metadata": {
    "id": "odsCt-GtdHHY"
   },
   "outputs": [],
   "source": [
    "VC[\"fecha_diagnostico\"] = pd.to_datetime(VC[\"fecha_diagnostico\"])"
   ]
  },
  {
   "cell_type": "code",
   "execution_count": 11,
   "metadata": {
    "colab": {
     "base_uri": "https://localhost:8080/"
    },
    "executionInfo": {
     "elapsed": 25030,
     "status": "ok",
     "timestamp": 1619443462236,
     "user": {
      "displayName": "Gianni Bevilacqua",
      "photoUrl": "",
      "userId": "02828618652131278541"
     },
     "user_tz": 180
    },
    "id": "2LQyk9FXdHHZ",
    "outputId": "a2676c61-bc5e-4f41-b546-cc92156df173"
   },
   "outputs": [
    {
     "data": {
      "text/plain": [
       "4539"
      ]
     },
     "execution_count": 11,
     "metadata": {},
     "output_type": "execute_result"
    }
   ],
   "source": [
    "pd.isnull(VC[\"edad\"]).values.ravel().sum()"
   ]
  },
  {
   "cell_type": "code",
   "execution_count": 12,
   "metadata": {
    "colab": {
     "base_uri": "https://localhost:8080/"
    },
    "executionInfo": {
     "elapsed": 24304,
     "status": "ok",
     "timestamp": 1619443462236,
     "user": {
      "displayName": "Gianni Bevilacqua",
      "photoUrl": "",
      "userId": "02828618652131278541"
     },
     "user_tz": 180
    },
    "id": "jhUau4QSdHHb",
    "outputId": "007bb732-1101-4d77-a17e-4f4b05cafc1c"
   },
   "outputs": [
    {
     "data": {
      "text/plain": [
       "39.18079284216345"
      ]
     },
     "execution_count": 12,
     "metadata": {},
     "output_type": "execute_result"
    }
   ],
   "source": [
    "VC[\"edad\"].mean()"
   ]
  },
  {
   "cell_type": "code",
   "execution_count": 13,
   "metadata": {
    "colab": {
     "base_uri": "https://localhost:8080/"
    },
    "executionInfo": {
     "elapsed": 24993,
     "status": "ok",
     "timestamp": 1619443463194,
     "user": {
      "displayName": "Gianni Bevilacqua",
      "photoUrl": "",
      "userId": "02828618652131278541"
     },
     "user_tz": 180
    },
    "id": "Iz15ZpoGdHHc",
    "outputId": "3135292b-12d3-4153-ff6b-0ec7490ab92f"
   },
   "outputs": [
    {
     "data": {
      "text/plain": [
       "count    9.580772e+06\n",
       "mean     3.918079e+01\n",
       "std      1.816432e+01\n",
       "min     -1.800000e+01\n",
       "25%      2.600000e+01\n",
       "50%      3.700000e+01\n",
       "75%      5.000000e+01\n",
       "max      2.210000e+02\n",
       "Name: edad, dtype: float64"
      ]
     },
     "execution_count": 13,
     "metadata": {},
     "output_type": "execute_result"
    }
   ],
   "source": [
    "VC[\"edad\"].describe()"
   ]
  },
  {
   "cell_type": "code",
   "execution_count": 14,
   "metadata": {
    "colab": {
     "base_uri": "https://localhost:8080/"
    },
    "executionInfo": {
     "elapsed": 24174,
     "status": "ok",
     "timestamp": 1619443463194,
     "user": {
      "displayName": "Gianni Bevilacqua",
      "photoUrl": "",
      "userId": "02828618652131278541"
     },
     "user_tz": 180
    },
    "id": "m5_KZ7i6dHHd",
    "outputId": "4465c6e3-2d9a-40c0-bfed-6adea645807c"
   },
   "outputs": [
    {
     "data": {
      "text/plain": [
       "id_evento_caso                                 10000699\n",
       "sexo                                                  M\n",
       "edad                                                 36\n",
       "edad_años_meses                                    Años\n",
       "residencia_pais_nombre                        Argentina\n",
       "residencia_provincia_nombre                Buenos Aires\n",
       "residencia_departamento_nombre          Almirante Brown\n",
       "carga_provincia_nombre                             CABA\n",
       "fecha_inicio_sintomas                               NaN\n",
       "fecha_apertura                               2021-04-08\n",
       "sepi_apertura                                        14\n",
       "fecha_internacion                                   NaN\n",
       "cuidado_intensivo                                    NO\n",
       "fecha_cui_intensivo                                 NaN\n",
       "fallecido                                            NO\n",
       "fecha_fallecimiento                                 NaN\n",
       "asistencia_respiratoria_mecanica                     NO\n",
       "carga_provincia_id                                    2\n",
       "origen_financiamiento                           Público\n",
       "clasificacion                           Caso Descartado\n",
       "clasificacion_resumen                        Descartado\n",
       "residencia_provincia_id                               6\n",
       "fecha_diagnostico                   2021-04-06 00:00:00\n",
       "residencia_departamento_id                           28\n",
       "ultima_actualizacion                         2021-04-25\n",
       "Name: 737, dtype: object"
      ]
     },
     "execution_count": 14,
     "metadata": {},
     "output_type": "execute_result"
    }
   ],
   "source": [
    "VC.loc[737]"
   ]
  },
  {
   "cell_type": "code",
   "execution_count": 15,
   "metadata": {
    "id": "v_TlIaNqdHHe"
   },
   "outputs": [],
   "source": [
    "VC.loc[VC['edad_años_meses'] == \"Meses\", [\"edad\"]] = 0\n",
    "VC.loc[VC['edad_años_meses'] == \"Meses\",  ['edad_años_meses']]= \"Años\"\n",
    "VC = VC.drop(VC[VC['edad_años_meses'] == 39].index)\n",
    "VC = VC.drop(VC[VC['sexo'] == 39].index)"
   ]
  },
  {
   "cell_type": "code",
   "execution_count": 16,
   "metadata": {
    "colab": {
     "base_uri": "https://localhost:8080/"
    },
    "executionInfo": {
     "elapsed": 1635,
     "status": "ok",
     "timestamp": 1619443471528,
     "user": {
      "displayName": "Gianni Bevilacqua",
      "photoUrl": "",
      "userId": "02828618652131278541"
     },
     "user_tz": 180
    },
    "id": "iXFKR19_dHHf",
    "outputId": "e8897620-34cd-482f-e4fa-57a87744db1a"
   },
   "outputs": [
    {
     "data": {
      "text/plain": [
       "F     4941983\n",
       "M     4542711\n",
       "NR     100617\n",
       "Name: sexo, dtype: int64"
      ]
     },
     "execution_count": 16,
     "metadata": {},
     "output_type": "execute_result"
    }
   ],
   "source": [
    "VC['sexo'].value_counts()"
   ]
  },
  {
   "cell_type": "code",
   "execution_count": 21,
   "metadata": {
    "colab": {
     "base_uri": "https://localhost:8080/"
    },
    "executionInfo": {
     "elapsed": 1625,
     "status": "ok",
     "timestamp": 1619443471529,
     "user": {
      "displayName": "Gianni Bevilacqua",
      "photoUrl": "",
      "userId": "02828618652131278541"
     },
     "user_tz": 180
    },
    "id": "7_zayfKUdHHg",
    "outputId": "2b1129d6-59b4-418c-8af0-efae7cee8d90"
   },
   "outputs": [
    {
     "data": {
      "text/plain": [
       "0"
      ]
     },
     "execution_count": 21,
     "metadata": {},
     "output_type": "execute_result"
    }
   ],
   "source": [
    "pd.isnull(VC[\"edad\"]).values.ravel().sum()"
   ]
  },
  {
   "cell_type": "code",
   "execution_count": 22,
   "metadata": {
    "id": "hHB8oOFIdHIC"
   },
   "outputs": [],
   "source": [
    "VC[\"edad\"] = VC[\"edad\"].fillna(int(VC[\"edad\"].mean()))"
   ]
  },
  {
   "cell_type": "code",
   "execution_count": 23,
   "metadata": {
    "id": "DZrFbcyIdHID"
   },
   "outputs": [],
   "source": [
    "#VC[VC['edad'] >= 105] = int(VC[\"edad\"].mean())\n",
    "#VC[VC['edad'] < 0] = int(VC[\"edad\"].mean())\n",
    "VC.loc[VC['edad']  > 105, [\"edad\"]] = int(VC[\"edad\"].mean())\n",
    "VC.loc[VC['edad'] < 0 ,  ['edad']]= int(VC[\"edad\"].mean())"
   ]
  },
  {
   "cell_type": "code",
   "execution_count": 24,
   "metadata": {
    "colab": {
     "base_uri": "https://localhost:8080/"
    },
    "executionInfo": {
     "elapsed": 781,
     "status": "ok",
     "timestamp": 1619443480886,
     "user": {
      "displayName": "Gianni Bevilacqua",
      "photoUrl": "",
      "userId": "02828618652131278541"
     },
     "user_tz": 180
    },
    "id": "FaSvhowUdHIE",
    "outputId": "7e8bd927-6250-49e2-940b-18424c05330e"
   },
   "outputs": [
    {
     "data": {
      "text/plain": [
       "39.156018307595865"
      ]
     },
     "execution_count": 24,
     "metadata": {},
     "output_type": "execute_result"
    }
   ],
   "source": [
    "VC[\"edad\"].mean()"
   ]
  },
  {
   "cell_type": "code",
   "execution_count": 25,
   "metadata": {
    "colab": {
     "base_uri": "https://localhost:8080/"
    },
    "executionInfo": {
     "elapsed": 1693,
     "status": "ok",
     "timestamp": 1619443483325,
     "user": {
      "displayName": "Gianni Bevilacqua",
      "photoUrl": "",
      "userId": "02828618652131278541"
     },
     "user_tz": 180
    },
    "id": "8sJ03Bw_dHIE",
    "outputId": "3400073e-615b-4ccc-9660-a3f44820fcd8"
   },
   "outputs": [
    {
     "data": {
      "text/plain": [
       "Años    9585311\n",
       "Name: edad_años_meses, dtype: int64"
      ]
     },
     "execution_count": 25,
     "metadata": {},
     "output_type": "execute_result"
    }
   ],
   "source": [
    "VC[\"edad_años_meses\"].value_counts()"
   ]
  },
  {
   "cell_type": "code",
   "execution_count": 29,
   "metadata": {
    "colab": {
     "base_uri": "https://localhost:8080/",
     "height": 68
    },
    "executionInfo": {
     "elapsed": 1938,
     "status": "ok",
     "timestamp": 1619443484008,
     "user": {
      "displayName": "Gianni Bevilacqua",
      "photoUrl": "",
      "userId": "02828618652131278541"
     },
     "user_tz": 180
    },
    "id": "pFfh4txudHIF",
    "outputId": "a89aaa9e-8ff5-4eaa-91bf-b29ee93db9c6"
   },
   "outputs": [
    {
     "data": {
      "text/html": [
       "<div>\n",
       "<style scoped>\n",
       "    .dataframe tbody tr th:only-of-type {\n",
       "        vertical-align: middle;\n",
       "    }\n",
       "\n",
       "    .dataframe tbody tr th {\n",
       "        vertical-align: top;\n",
       "    }\n",
       "\n",
       "    .dataframe thead th {\n",
       "        text-align: right;\n",
       "    }\n",
       "</style>\n",
       "<table border=\"1\" class=\"dataframe\">\n",
       "  <thead>\n",
       "    <tr style=\"text-align: right;\">\n",
       "      <th></th>\n",
       "      <th>id_evento_caso</th>\n",
       "      <th>sexo</th>\n",
       "      <th>edad</th>\n",
       "      <th>edad_años_meses</th>\n",
       "      <th>residencia_pais_nombre</th>\n",
       "      <th>residencia_provincia_nombre</th>\n",
       "      <th>residencia_departamento_nombre</th>\n",
       "      <th>carga_provincia_nombre</th>\n",
       "      <th>fecha_inicio_sintomas</th>\n",
       "      <th>fecha_apertura</th>\n",
       "      <th>...</th>\n",
       "      <th>fecha_fallecimiento</th>\n",
       "      <th>asistencia_respiratoria_mecanica</th>\n",
       "      <th>carga_provincia_id</th>\n",
       "      <th>origen_financiamiento</th>\n",
       "      <th>clasificacion</th>\n",
       "      <th>clasificacion_resumen</th>\n",
       "      <th>residencia_provincia_id</th>\n",
       "      <th>fecha_diagnostico</th>\n",
       "      <th>residencia_departamento_id</th>\n",
       "      <th>ultima_actualizacion</th>\n",
       "    </tr>\n",
       "  </thead>\n",
       "  <tbody>\n",
       "  </tbody>\n",
       "</table>\n",
       "<p>0 rows × 25 columns</p>\n",
       "</div>"
      ],
      "text/plain": [
       "Empty DataFrame\n",
       "Columns: [id_evento_caso, sexo, edad, edad_años_meses, residencia_pais_nombre, residencia_provincia_nombre, residencia_departamento_nombre, carga_provincia_nombre, fecha_inicio_sintomas, fecha_apertura, sepi_apertura, fecha_internacion, cuidado_intensivo, fecha_cui_intensivo, fallecido, fecha_fallecimiento, asistencia_respiratoria_mecanica, carga_provincia_id, origen_financiamiento, clasificacion, clasificacion_resumen, residencia_provincia_id, fecha_diagnostico, residencia_departamento_id, ultima_actualizacion]\n",
       "Index: []\n",
       "\n",
       "[0 rows x 25 columns]"
      ]
     },
     "execution_count": 29,
     "metadata": {},
     "output_type": "execute_result"
    }
   ],
   "source": [
    "VC[VC[\"edad_años_meses\"] == 39]"
   ]
  },
  {
   "cell_type": "code",
   "execution_count": 31,
   "metadata": {
    "colab": {
     "base_uri": "https://localhost:8080/"
    },
    "executionInfo": {
     "elapsed": 1188,
     "status": "ok",
     "timestamp": 1619443484009,
     "user": {
      "displayName": "Gianni Bevilacqua",
      "photoUrl": "",
      "userId": "02828618652131278541"
     },
     "user_tz": 180
    },
    "id": "9JMm20eidHIF",
    "outputId": "6f60bda9-2e25-429c-903b-a72f61c92549"
   },
   "outputs": [
    {
     "data": {
      "text/plain": [
       "30.0     240013\n",
       "29.0     239706\n",
       "32.0     229412\n",
       "31.0     227740\n",
       "34.0     227013\n",
       "28.0     226168\n",
       "33.0     222712\n",
       "26.0     219724\n",
       "27.0     219326\n",
       "35.0     216854\n",
       "39.0     213325\n",
       "25.0     210685\n",
       "36.0     205459\n",
       "38.0     204872\n",
       "41.0     204855\n",
       "37.0     202441\n",
       "24.0     200989\n",
       "40.0     199095\n",
       "42.0     196142\n",
       "43.0     189982\n",
       "23.0     185896\n",
       "44.0     178200\n",
       "22.0     172819\n",
       "45.0     171049\n",
       "46.0     164448\n",
       "21.0     160612\n",
       "47.0     152473\n",
       "48.0     151973\n",
       "49.0     149902\n",
       "20.0     145326\n",
       "          ...  \n",
       "77.0      31087\n",
       "78.0      28644\n",
       "79.0      26462\n",
       "80.0      25444\n",
       "0.0       25209\n",
       "81.0      23857\n",
       "82.0      21401\n",
       "83.0      20184\n",
       "84.0      19136\n",
       "85.0      17967\n",
       "86.0      16521\n",
       "87.0      15275\n",
       "88.0      14372\n",
       "89.0      13359\n",
       "90.0      12389\n",
       "91.0      10176\n",
       "92.0       8760\n",
       "93.0       7404\n",
       "94.0       5868\n",
       "95.0       4521\n",
       "96.0       3583\n",
       "97.0       2511\n",
       "98.0       1936\n",
       "99.0       1201\n",
       "100.0       822\n",
       "101.0       435\n",
       "102.0       232\n",
       "103.0       164\n",
       "104.0        63\n",
       "105.0        59\n",
       "Name: edad, Length: 106, dtype: int64"
      ]
     },
     "execution_count": 31,
     "metadata": {},
     "output_type": "execute_result"
    }
   ],
   "source": [
    "VC['edad'].value_counts()"
   ]
  },
  {
   "cell_type": "code",
   "execution_count": 32,
   "metadata": {
    "colab": {
     "base_uri": "https://localhost:8080/"
    },
    "executionInfo": {
     "elapsed": 557,
     "status": "ok",
     "timestamp": 1619443487110,
     "user": {
      "displayName": "Gianni Bevilacqua",
      "photoUrl": "",
      "userId": "02828618652131278541"
     },
     "user_tz": 180
    },
    "id": "oO9h29pJdHIG",
    "outputId": "95485c9f-9418-4f19-91d6-717f61dff1f5"
   },
   "outputs": [
    {
     "data": {
      "text/plain": [
       "0.0"
      ]
     },
     "execution_count": 32,
     "metadata": {},
     "output_type": "execute_result"
    }
   ],
   "source": [
    "VC['edad'].min()"
   ]
  },
  {
   "cell_type": "code",
   "execution_count": 33,
   "metadata": {
    "colab": {
     "base_uri": "https://localhost:8080/"
    },
    "executionInfo": {
     "elapsed": 1219,
     "status": "ok",
     "timestamp": 1619443488512,
     "user": {
      "displayName": "Gianni Bevilacqua",
      "photoUrl": "",
      "userId": "02828618652131278541"
     },
     "user_tz": 180
    },
    "id": "QRUtVLSsdHIH",
    "outputId": "6cadd052-c5e6-4696-8222-8d972809aac5"
   },
   "outputs": [
    {
     "data": {
      "text/plain": [
       "105.0"
      ]
     },
     "execution_count": 33,
     "metadata": {},
     "output_type": "execute_result"
    }
   ],
   "source": [
    "VC['edad'].max()"
   ]
  },
  {
   "cell_type": "code",
   "execution_count": 34,
   "metadata": {
    "colab": {
     "base_uri": "https://localhost:8080/"
    },
    "executionInfo": {
     "elapsed": 1251,
     "status": "ok",
     "timestamp": 1619443493547,
     "user": {
      "displayName": "Gianni Bevilacqua",
      "photoUrl": "",
      "userId": "02828618652131278541"
     },
     "user_tz": 180
    },
    "id": "UnGbWZNedHIH",
    "outputId": "cf9b485c-21a1-4cb5-fa21-fbd5e364843b"
   },
   "outputs": [
    {
     "data": {
      "text/plain": [
       "0    30.0\n",
       "dtype: float64"
      ]
     },
     "execution_count": 34,
     "metadata": {},
     "output_type": "execute_result"
    }
   ],
   "source": [
    "VC[\"edad\"].mode()"
   ]
  },
  {
   "cell_type": "code",
   "execution_count": 37,
   "metadata": {
    "colab": {
     "base_uri": "https://localhost:8080/",
     "height": 313
    },
    "executionInfo": {
     "elapsed": 1657,
     "status": "ok",
     "timestamp": 1619443550592,
     "user": {
      "displayName": "Gianni Bevilacqua",
      "photoUrl": "",
      "userId": "02828618652131278541"
     },
     "user_tz": 180
    },
    "id": "ovEFdNOIdHII",
    "outputId": "48d92007-7265-4c55-d960-c9ee34fadab1"
   },
   "outputs": [
    {
     "data": {
      "text/plain": [
       "Text(0.5,1,'Histograma de distribucion de testeos covid por edad')"
      ]
     },
     "execution_count": 37,
     "metadata": {},
     "output_type": "execute_result"
    },
    {
     "data": {
      "image/png": "[encoded data removed]",
      "text/plain": [
       "<matplotlib.figure.Figure at 0x1ec55b04128>"
      ]
     },
     "metadata": {
      "needs_background": "light"
     },
     "output_type": "display_data"
    }
   ],
   "source": [
    "plt.hist(VC[\"edad\"], bins= 200)\n",
    "plt.xlabel(\"Edad\")\n",
    "plt.ylabel(\"Frecuencia\")\n",
    "plt.title(\"Histograma de distribucion de testeos covid por edad\")"
   ]
  },
  {
   "cell_type": "code",
   "execution_count": 38,
   "metadata": {
    "colab": {
     "base_uri": "https://localhost:8080/"
    },
    "executionInfo": {
     "elapsed": 1140,
     "status": "ok",
     "timestamp": 1619443554324,
     "user": {
      "displayName": "Gianni Bevilacqua",
      "photoUrl": "",
      "userId": "02828618652131278541"
     },
     "user_tz": 180
    },
    "id": "v_NMo4-8dHII",
    "outputId": "a1692bb2-832a-405f-c1ca-874a257b4232"
   },
   "outputs": [
    {
     "data": {
      "text/plain": [
       "count    9.585311e+06\n",
       "mean     3.915602e+01\n",
       "std      1.818513e+01\n",
       "min      0.000000e+00\n",
       "25%      2.600000e+01\n",
       "50%      3.700000e+01\n",
       "75%      5.000000e+01\n",
       "max      1.050000e+02\n",
       "Name: edad, dtype: float64"
      ]
     },
     "execution_count": 38,
     "metadata": {},
     "output_type": "execute_result"
    }
   ],
   "source": [
    "VC[\"edad\"].describe()"
   ]
  },
  {
   "cell_type": "code",
   "execution_count": 40,
   "metadata": {
    "colab": {
     "base_uri": "https://localhost:8080/",
     "height": 299
    },
    "executionInfo": {
     "elapsed": 1679,
     "status": "ok",
     "timestamp": 1619443555071,
     "user": {
      "displayName": "Gianni Bevilacqua",
      "photoUrl": "",
      "userId": "02828618652131278541"
     },
     "user_tz": 180
    },
    "id": "4T2_eR0_dHIK",
    "outputId": "693174b7-08e4-4fd9-e1cd-d388600c06cb"
   },
   "outputs": [
    {
     "data": {
      "text/plain": [
       "Text(0.5,1,'Boxplot de testeos por edad')"
      ]
     },
     "execution_count": 40,
     "metadata": {},
     "output_type": "execute_result"
    },
    {
     "data": {
      "image/png": "[encoded data removed]",
      "text/plain": [
       "<matplotlib.figure.Figure at 0x1ec90e04cf8>"
      ]
     },
     "metadata": {
      "needs_background": "light"
     },
     "output_type": "display_data"
    }
   ],
   "source": [
    "plt.boxplot(VC[\"edad\"])\n",
    "plt.ylabel(\"Edad de los pacientes\")\n",
    "plt.title(\"Boxplot de testeos por edad\")"
   ]
  },
  {
   "cell_type": "code",
   "execution_count": 41,
   "metadata": {
    "colab": {
     "base_uri": "https://localhost:8080/"
    },
    "executionInfo": {
     "elapsed": 1462,
     "status": "ok",
     "timestamp": 1619443555071,
     "user": {
      "displayName": "Gianni Bevilacqua",
      "photoUrl": "",
      "userId": "02828618652131278541"
     },
     "user_tz": 180
    },
    "id": "FJ915DtkdHIL",
    "outputId": "ae5e992b-a7d3-4db6-c5ff-6e4504f856f8"
   },
   "outputs": [
    {
     "data": {
      "text/plain": [
       "0    30.0\n",
       "dtype: float64"
      ]
     },
     "execution_count": 41,
     "metadata": {},
     "output_type": "execute_result"
    }
   ],
   "source": [
    "VC[\"edad\"].mode()"
   ]
  },
  {
   "cell_type": "code",
   "execution_count": 42,
   "metadata": {
    "colab": {
     "base_uri": "https://localhost:8080/"
    },
    "executionInfo": {
     "elapsed": 1269,
     "status": "ok",
     "timestamp": 1619443557032,
     "user": {
      "displayName": "Gianni Bevilacqua",
      "photoUrl": "",
      "userId": "02828618652131278541"
     },
     "user_tz": 180
    },
    "id": "yIBW01l7dHIM",
    "outputId": "a5e8be9b-e46d-4259-e5e9-2ef289ef428e"
   },
   "outputs": [
    {
     "data": {
      "text/plain": [
       "array(['Años'], dtype=object)"
      ]
     },
     "execution_count": 42,
     "metadata": {},
     "output_type": "execute_result"
    }
   ],
   "source": [
    "VC['edad_años_meses'].unique()"
   ]
  },
  {
   "cell_type": "code",
   "execution_count": null,
   "metadata": {
    "colab": {
     "base_uri": "https://localhost:8080/",
     "height": 313
    },
    "executionInfo": {
     "elapsed": 2416,
     "status": "ok",
     "timestamp": 1619443559234,
     "user": {
      "displayName": "Gianni Bevilacqua",
      "photoUrl": "",
      "userId": "02828618652131278541"
     },
     "user_tz": 180
    },
    "id": "Tn1FqA12dHIM",
    "outputId": "8a42d288-c497-42f7-d526-b1830ac7db72"
   },
   "outputs": [],
   "source": [
    "plt.hist(VC[\"sexo\"], bins=5)\n",
    "plt.xlabel(\"Sexo\")\n",
    "plt.ylabel(\"Cantidad de pacientes\")\n",
    "plt.title(\"Histograma de distribucion de pacientes covid por sexo\")\n",
    "plt.show()"
   ]
  },
  {
   "cell_type": "code",
   "execution_count": null,
   "metadata": {
    "id": "5C390VPKDMEV"
   },
   "outputs": [],
   "source": [
    "VC_provincia = pd.DataFrame()\n",
    "VC_provincia[\"provincia\"] = VC[\"residencia_provincia_nombre\"]\n",
    "VC_provincia[\"cont\"] = 1\n",
    "grupo_provincia = VC_provincia.groupby(\"provincia\")\n",
    "VC_prov_sum = pd.DataFrame(grupo_provincia.sum(\"provincia\").sort_values(\"provincia\")).reset_index()"
   ]
  },
  {
   "cell_type": "code",
   "execution_count": null,
   "metadata": {
    "colab": {
     "base_uri": "https://localhost:8080/",
     "height": 828
    },
    "executionInfo": {
     "elapsed": 645,
     "status": "ok",
     "timestamp": 1619443566854,
     "user": {
      "displayName": "Gianni Bevilacqua",
      "photoUrl": "",
      "userId": "02828618652131278541"
     },
     "user_tz": 180
    },
    "id": "ABAk5sJkIRch",
    "outputId": "9153bc3a-a373-4673-81e3-3e72a76dba12"
   },
   "outputs": [
    {
     "data": {
      "text/html": [
       "<div>\n",
       "<style scoped>\n",
       "    .dataframe tbody tr th:only-of-type {\n",
       "        vertical-align: middle;\n",
       "    }\n",
       "\n",
       "    .dataframe tbody tr th {\n",
       "        vertical-align: top;\n",
       "    }\n",
       "\n",
       "    .dataframe thead th {\n",
       "        text-align: right;\n",
       "    }\n",
       "</style>\n",
       "<table border=\"1\" class=\"dataframe\">\n",
       "  <thead>\n",
       "    <tr style=\"text-align: right;\">\n",
       "      <th></th>\n",
       "      <th>cont</th>\n",
       "    </tr>\n",
       "    <tr>\n",
       "      <th>provincia</th>\n",
       "      <th></th>\n",
       "    </tr>\n",
       "  </thead>\n",
       "  <tbody>\n",
       "    <tr>\n",
       "      <th>Buenos Aires</th>\n",
       "      <td>3336019</td>\n",
       "    </tr>\n",
       "    <tr>\n",
       "      <th>CABA</th>\n",
       "      <td>1857684</td>\n",
       "    </tr>\n",
       "    <tr>\n",
       "      <th>Catamarca</th>\n",
       "      <td>59138</td>\n",
       "    </tr>\n",
       "    <tr>\n",
       "      <th>Chaco</th>\n",
       "      <td>200022</td>\n",
       "    </tr>\n",
       "    <tr>\n",
       "      <th>Chubut</th>\n",
       "      <td>120637</td>\n",
       "    </tr>\n",
       "    <tr>\n",
       "      <th>Corrientes</th>\n",
       "      <td>185460</td>\n",
       "    </tr>\n",
       "    <tr>\n",
       "      <th>Córdoba</th>\n",
       "      <td>1025517</td>\n",
       "    </tr>\n",
       "    <tr>\n",
       "      <th>Entre Ríos</th>\n",
       "      <td>136050</td>\n",
       "    </tr>\n",
       "    <tr>\n",
       "      <th>Formosa</th>\n",
       "      <td>86423</td>\n",
       "    </tr>\n",
       "    <tr>\n",
       "      <th>Jujuy</th>\n",
       "      <td>82814</td>\n",
       "    </tr>\n",
       "    <tr>\n",
       "      <th>La Pampa</th>\n",
       "      <td>90403</td>\n",
       "    </tr>\n",
       "    <tr>\n",
       "      <th>La Rioja</th>\n",
       "      <td>51440</td>\n",
       "    </tr>\n",
       "    <tr>\n",
       "      <th>Mendoza</th>\n",
       "      <td>268128</td>\n",
       "    </tr>\n",
       "    <tr>\n",
       "      <th>Misiones</th>\n",
       "      <td>47347</td>\n",
       "    </tr>\n",
       "    <tr>\n",
       "      <th>Neuquén</th>\n",
       "      <td>140178</td>\n",
       "    </tr>\n",
       "    <tr>\n",
       "      <th>Río Negro</th>\n",
       "      <td>132902</td>\n",
       "    </tr>\n",
       "    <tr>\n",
       "      <th>SIN ESPECIFICAR</th>\n",
       "      <td>21165</td>\n",
       "    </tr>\n",
       "    <tr>\n",
       "      <th>Salta</th>\n",
       "      <td>105041</td>\n",
       "    </tr>\n",
       "    <tr>\n",
       "      <th>San Juan</th>\n",
       "      <td>81747</td>\n",
       "    </tr>\n",
       "    <tr>\n",
       "      <th>San Luis</th>\n",
       "      <td>209678</td>\n",
       "    </tr>\n",
       "    <tr>\n",
       "      <th>Santa Cruz</th>\n",
       "      <td>119071</td>\n",
       "    </tr>\n",
       "    <tr>\n",
       "      <th>Santa Fe</th>\n",
       "      <td>573465</td>\n",
       "    </tr>\n",
       "    <tr>\n",
       "      <th>Santiago del Estero</th>\n",
       "      <td>129669</td>\n",
       "    </tr>\n",
       "    <tr>\n",
       "      <th>Tierra del Fuego</th>\n",
       "      <td>52889</td>\n",
       "    </tr>\n",
       "    <tr>\n",
       "      <th>Tucumán</th>\n",
       "      <td>314436</td>\n",
       "    </tr>\n",
       "  </tbody>\n",
       "</table>\n",
       "</div>"
      ],
      "text/plain": [
       "                        cont\n",
       "provincia                   \n",
       "Buenos Aires         3336019\n",
       "CABA                 1857684\n",
       "Catamarca              59138\n",
       "Chaco                 200022\n",
       "Chubut                120637\n",
       "Corrientes            185460\n",
       "Córdoba              1025517\n",
       "Entre Ríos            136050\n",
       "Formosa                86423\n",
       "Jujuy                  82814\n",
       "La Pampa               90403\n",
       "La Rioja               51440\n",
       "Mendoza               268128\n",
       "Misiones               47347\n",
       "Neuquén               140178\n",
       "Río Negro             132902\n",
       "SIN ESPECIFICAR        21165\n",
       "Salta                 105041\n",
       "San Juan               81747\n",
       "San Luis              209678\n",
       "Santa Cruz            119071\n",
       "Santa Fe              573465\n",
       "Santiago del Estero   129669\n",
       "Tierra del Fuego       52889\n",
       "Tucumán               314436"
      ]
     },
     "execution_count": 35,
     "metadata": {
      "tags": []
     },
     "output_type": "execute_result"
    }
   ],
   "source": [
    "grupo_provincia.sum()"
   ]
  },
  {
   "cell_type": "code",
   "execution_count": null,
   "metadata": {
    "colab": {
     "base_uri": "https://localhost:8080/",
     "height": 798
    },
    "executionInfo": {
     "elapsed": 808,
     "status": "ok",
     "timestamp": 1619443569987,
     "user": {
      "displayName": "Gianni Bevilacqua",
      "photoUrl": "",
      "userId": "02828618652131278541"
     },
     "user_tz": 180
    },
    "id": "5dwWlXANFyI1",
    "outputId": "c0a99c5f-3310-439f-989c-500077d4bb72"
   },
   "outputs": [
    {
     "data": {
      "text/html": [
       "<div>\n",
       "<style scoped>\n",
       "    .dataframe tbody tr th:only-of-type {\n",
       "        vertical-align: middle;\n",
       "    }\n",
       "\n",
       "    .dataframe tbody tr th {\n",
       "        vertical-align: top;\n",
       "    }\n",
       "\n",
       "    .dataframe thead th {\n",
       "        text-align: right;\n",
       "    }\n",
       "</style>\n",
       "<table border=\"1\" class=\"dataframe\">\n",
       "  <thead>\n",
       "    <tr style=\"text-align: right;\">\n",
       "      <th></th>\n",
       "      <th>provincia</th>\n",
       "      <th>cont</th>\n",
       "    </tr>\n",
       "  </thead>\n",
       "  <tbody>\n",
       "    <tr>\n",
       "      <th>0</th>\n",
       "      <td>Buenos Aires</td>\n",
       "      <td>3336019</td>\n",
       "    </tr>\n",
       "    <tr>\n",
       "      <th>1</th>\n",
       "      <td>CABA</td>\n",
       "      <td>1857684</td>\n",
       "    </tr>\n",
       "    <tr>\n",
       "      <th>6</th>\n",
       "      <td>Córdoba</td>\n",
       "      <td>1025517</td>\n",
       "    </tr>\n",
       "    <tr>\n",
       "      <th>21</th>\n",
       "      <td>Santa Fe</td>\n",
       "      <td>573465</td>\n",
       "    </tr>\n",
       "    <tr>\n",
       "      <th>24</th>\n",
       "      <td>Tucumán</td>\n",
       "      <td>314436</td>\n",
       "    </tr>\n",
       "    <tr>\n",
       "      <th>12</th>\n",
       "      <td>Mendoza</td>\n",
       "      <td>268128</td>\n",
       "    </tr>\n",
       "    <tr>\n",
       "      <th>19</th>\n",
       "      <td>San Luis</td>\n",
       "      <td>209678</td>\n",
       "    </tr>\n",
       "    <tr>\n",
       "      <th>3</th>\n",
       "      <td>Chaco</td>\n",
       "      <td>200022</td>\n",
       "    </tr>\n",
       "    <tr>\n",
       "      <th>5</th>\n",
       "      <td>Corrientes</td>\n",
       "      <td>185460</td>\n",
       "    </tr>\n",
       "    <tr>\n",
       "      <th>14</th>\n",
       "      <td>Neuquén</td>\n",
       "      <td>140178</td>\n",
       "    </tr>\n",
       "    <tr>\n",
       "      <th>7</th>\n",
       "      <td>Entre Ríos</td>\n",
       "      <td>136050</td>\n",
       "    </tr>\n",
       "    <tr>\n",
       "      <th>15</th>\n",
       "      <td>Río Negro</td>\n",
       "      <td>132902</td>\n",
       "    </tr>\n",
       "    <tr>\n",
       "      <th>22</th>\n",
       "      <td>Santiago del Estero</td>\n",
       "      <td>129669</td>\n",
       "    </tr>\n",
       "    <tr>\n",
       "      <th>4</th>\n",
       "      <td>Chubut</td>\n",
       "      <td>120637</td>\n",
       "    </tr>\n",
       "    <tr>\n",
       "      <th>20</th>\n",
       "      <td>Santa Cruz</td>\n",
       "      <td>119071</td>\n",
       "    </tr>\n",
       "    <tr>\n",
       "      <th>17</th>\n",
       "      <td>Salta</td>\n",
       "      <td>105041</td>\n",
       "    </tr>\n",
       "    <tr>\n",
       "      <th>10</th>\n",
       "      <td>La Pampa</td>\n",
       "      <td>90403</td>\n",
       "    </tr>\n",
       "    <tr>\n",
       "      <th>8</th>\n",
       "      <td>Formosa</td>\n",
       "      <td>86423</td>\n",
       "    </tr>\n",
       "    <tr>\n",
       "      <th>9</th>\n",
       "      <td>Jujuy</td>\n",
       "      <td>82814</td>\n",
       "    </tr>\n",
       "    <tr>\n",
       "      <th>18</th>\n",
       "      <td>San Juan</td>\n",
       "      <td>81747</td>\n",
       "    </tr>\n",
       "    <tr>\n",
       "      <th>2</th>\n",
       "      <td>Catamarca</td>\n",
       "      <td>59138</td>\n",
       "    </tr>\n",
       "    <tr>\n",
       "      <th>23</th>\n",
       "      <td>Tierra del Fuego</td>\n",
       "      <td>52889</td>\n",
       "    </tr>\n",
       "    <tr>\n",
       "      <th>11</th>\n",
       "      <td>La Rioja</td>\n",
       "      <td>51440</td>\n",
       "    </tr>\n",
       "    <tr>\n",
       "      <th>13</th>\n",
       "      <td>Misiones</td>\n",
       "      <td>47347</td>\n",
       "    </tr>\n",
       "    <tr>\n",
       "      <th>16</th>\n",
       "      <td>SIN ESPECIFICAR</td>\n",
       "      <td>21165</td>\n",
       "    </tr>\n",
       "  </tbody>\n",
       "</table>\n",
       "</div>"
      ],
      "text/plain": [
       "              provincia     cont\n",
       "0          Buenos Aires  3336019\n",
       "1                  CABA  1857684\n",
       "6               Córdoba  1025517\n",
       "21             Santa Fe   573465\n",
       "24              Tucumán   314436\n",
       "12              Mendoza   268128\n",
       "19             San Luis   209678\n",
       "3                 Chaco   200022\n",
       "5            Corrientes   185460\n",
       "14              Neuquén   140178\n",
       "7            Entre Ríos   136050\n",
       "15            Río Negro   132902\n",
       "22  Santiago del Estero   129669\n",
       "4                Chubut   120637\n",
       "20           Santa Cruz   119071\n",
       "17                Salta   105041\n",
       "10             La Pampa    90403\n",
       "8               Formosa    86423\n",
       "9                 Jujuy    82814\n",
       "18             San Juan    81747\n",
       "2             Catamarca    59138\n",
       "23     Tierra del Fuego    52889\n",
       "11             La Rioja    51440\n",
       "13             Misiones    47347\n",
       "16      SIN ESPECIFICAR    21165"
      ]
     },
     "execution_count": 36,
     "metadata": {
      "tags": []
     },
     "output_type": "execute_result"
    }
   ],
   "source": [
    "VC_prov_sum.sort_values(\"cont\",ascending=False)"
   ]
  },
  {
   "cell_type": "code",
   "execution_count": null,
   "metadata": {
    "colab": {
     "base_uri": "https://localhost:8080/",
     "height": 551
    },
    "executionInfo": {
     "elapsed": 1292,
     "status": "ok",
     "timestamp": 1619443627360,
     "user": {
      "displayName": "Gianni Bevilacqua",
      "photoUrl": "",
      "userId": "02828618652131278541"
     },
     "user_tz": 180
    },
    "id": "ksnJxC8em3Zg",
    "outputId": "007d0807-14f9-4037-d805-8384fa05ccf4"
   },
   "outputs": [
    {
     "data": {
      "text/plain": [
       "Text(0.5, 1.0, 'Histograma de distribucion de tests por provincia')"
      ]
     },
     "execution_count": 37,
     "metadata": {
      "tags": []
     },
     "output_type": "execute_result"
    },
    {
     "data": {
      "image/png": "[encoded data removed]",
      "text/plain": [
       "<Figure size 2160x576 with 1 Axes>"
      ]
     },
     "metadata": {
      "needs_background": "light",
      "tags": []
     },
     "output_type": "display_data"
    }
   ],
   "source": [
    "f, ax = plt.subplots(figsize=(30,8))\n",
    "plt.bar(\"provincia\", \"cont\", width=1, data=VC_prov_sum.sort_values(\"cont\",ascending=False))\n",
    "plt.xlabel(\"Provincia\")\n",
    "plt.ylabel(\"Cantidad de Tests\")\n",
    "plt.title(\"Histograma de distribucion de tests por provincia\")"
   ]
  },
  {
   "cell_type": "code",
   "execution_count": null,
   "metadata": {
    "colab": {
     "base_uri": "https://localhost:8080/"
    },
    "executionInfo": {
     "elapsed": 1480,
     "status": "ok",
     "timestamp": 1619443632027,
     "user": {
      "displayName": "Gianni Bevilacqua",
      "photoUrl": "",
      "userId": "02828618652131278541"
     },
     "user_tz": 180
    },
    "id": "H_Jxe8RFdHIN",
    "outputId": "ed47603e-ec19-4b2d-ab3f-ea3c6cb96cb5"
   },
   "outputs": [
    {
     "data": {
      "text/plain": [
       "F     4859338\n",
       "M     4468375\n",
       "NR      99610\n",
       "Name: sexo, dtype: int64"
      ]
     },
     "execution_count": 38,
     "metadata": {
      "tags": []
     },
     "output_type": "execute_result"
    }
   ],
   "source": [
    "VC[\"sexo\"].value_counts()"
   ]
  },
  {
   "cell_type": "code",
   "execution_count": null,
   "metadata": {
    "id": "zWd1teYodHIN"
   },
   "outputs": [],
   "source": [
    "confirmados = VC[[\"clasificacion_resumen\", \"fecha_diagnostico\", \"residencia_provincia_nombre\" , \"fallecido\", \"fecha_fallecimiento\" ]]"
   ]
  },
  {
   "cell_type": "code",
   "execution_count": null,
   "metadata": {
    "id": "HgmjjOYhdHIN"
   },
   "outputs": [],
   "source": [
    "confirmados = confirmados.replace(to_replace=\"Confirmado\", value=1)"
   ]
  },
  {
   "cell_type": "code",
   "execution_count": null,
   "metadata": {
    "id": "uDDbmKSgdHIO"
   },
   "outputs": [],
   "source": [
    "confirmados[\"fallecido\"] = confirmados.fallecido.replace(to_replace=\"SI\", value=1)\n",
    "confirmados[\"fallecido\"] = confirmados.fallecido.replace(to_replace=\"NO\", value=0)\n",
    "#confirmados[\"fecha_fallecimiento\"] = confirmados[\"fecha_fallecimiento\"].fillna(\"N\")"
   ]
  },
  {
   "cell_type": "code",
   "execution_count": null,
   "metadata": {
    "colab": {
     "base_uri": "https://localhost:8080/"
    },
    "executionInfo": {
     "elapsed": 929,
     "status": "ok",
     "timestamp": 1619443743270,
     "user": {
      "displayName": "Gianni Bevilacqua",
      "photoUrl": "",
      "userId": "02828618652131278541"
     },
     "user_tz": 180
    },
    "id": "RQZ85Yk-dHIO",
    "outputId": "37cdb123-49e1-4f5e-8150-d034dfdf4f76"
   },
   "outputs": [
    {
     "data": {
      "text/plain": [
       "9354134"
      ]
     },
     "execution_count": 45,
     "metadata": {
      "tags": []
     },
     "output_type": "execute_result"
    }
   ],
   "source": [
    "confirmados[\"fecha_fallecimiento\"].isnull().sum()"
   ]
  },
  {
   "cell_type": "code",
   "execution_count": null,
   "metadata": {
    "colab": {
     "base_uri": "https://localhost:8080/"
    },
    "executionInfo": {
     "elapsed": 1358,
     "status": "ok",
     "timestamp": 1619443680416,
     "user": {
      "displayName": "Gianni Bevilacqua",
      "photoUrl": "",
      "userId": "02828618652131278541"
     },
     "user_tz": 180
    },
    "id": "IPFvqJ7vdHIP",
    "outputId": "b29e8456-091f-4fc5-e1ba-dc69c50bcdbf"
   },
   "outputs": [
    {
     "data": {
      "text/plain": [
       "pandas._libs.tslibs.timestamps.Timestamp"
      ]
     },
     "execution_count": 43,
     "metadata": {
      "tags": []
     },
     "output_type": "execute_result"
    }
   ],
   "source": [
    "type(confirmados[\"fecha_diagnostico\"][5])"
   ]
  },
  {
   "cell_type": "code",
   "execution_count": null,
   "metadata": {
    "id": "mgCBtkQodHIP"
   },
   "outputs": [],
   "source": [
    "confirmados = confirmados.dropna(axis=0, how='all')"
   ]
  },
  {
   "cell_type": "code",
   "execution_count": null,
   "metadata": {
    "id": "v-5YBWO_dHIQ"
   },
   "outputs": [],
   "source": [
    "confirmados = confirmados[confirmados[\"clasificacion_resumen\"]== 1]"
   ]
  },
  {
   "cell_type": "code",
   "execution_count": null,
   "metadata": {
    "colab": {
     "base_uri": "https://localhost:8080/",
     "height": 407
    },
    "executionInfo": {
     "elapsed": 933,
     "status": "ok",
     "timestamp": 1619443755398,
     "user": {
      "displayName": "Gianni Bevilacqua",
      "photoUrl": "",
      "userId": "02828618652131278541"
     },
     "user_tz": 180
    },
    "id": "fOwhZWfodHIQ",
    "outputId": "e4f4511d-3471-466c-8d85-59a6376553a9",
    "scrolled": true
   },
   "outputs": [
    {
     "data": {
      "text/html": [
       "<div>\n",
       "<style scoped>\n",
       "    .dataframe tbody tr th:only-of-type {\n",
       "        vertical-align: middle;\n",
       "    }\n",
       "\n",
       "    .dataframe tbody tr th {\n",
       "        vertical-align: top;\n",
       "    }\n",
       "\n",
       "    .dataframe thead th {\n",
       "        text-align: right;\n",
       "    }\n",
       "</style>\n",
       "<table border=\"1\" class=\"dataframe\">\n",
       "  <thead>\n",
       "    <tr style=\"text-align: right;\">\n",
       "      <th></th>\n",
       "      <th>clasificacion_resumen</th>\n",
       "      <th>fecha_diagnostico</th>\n",
       "      <th>residencia_provincia_nombre</th>\n",
       "      <th>fallecido</th>\n",
       "      <th>fecha_fallecimiento</th>\n",
       "    </tr>\n",
       "  </thead>\n",
       "  <tbody>\n",
       "    <tr>\n",
       "      <th>715</th>\n",
       "      <td>1</td>\n",
       "      <td>2021-04-14</td>\n",
       "      <td>SIN ESPECIFICAR</td>\n",
       "      <td>0</td>\n",
       "      <td>NaN</td>\n",
       "    </tr>\n",
       "    <tr>\n",
       "      <th>755</th>\n",
       "      <td>1</td>\n",
       "      <td>2021-04-19</td>\n",
       "      <td>SIN ESPECIFICAR</td>\n",
       "      <td>0</td>\n",
       "      <td>NaN</td>\n",
       "    </tr>\n",
       "    <tr>\n",
       "      <th>2786</th>\n",
       "      <td>1</td>\n",
       "      <td>2021-04-09</td>\n",
       "      <td>SIN ESPECIFICAR</td>\n",
       "      <td>0</td>\n",
       "      <td>NaN</td>\n",
       "    </tr>\n",
       "    <tr>\n",
       "      <th>4727</th>\n",
       "      <td>1</td>\n",
       "      <td>2021-03-31</td>\n",
       "      <td>SIN ESPECIFICAR</td>\n",
       "      <td>0</td>\n",
       "      <td>NaN</td>\n",
       "    </tr>\n",
       "    <tr>\n",
       "      <th>5508</th>\n",
       "      <td>1</td>\n",
       "      <td>2020-05-30</td>\n",
       "      <td>SIN ESPECIFICAR</td>\n",
       "      <td>0</td>\n",
       "      <td>NaN</td>\n",
       "    </tr>\n",
       "    <tr>\n",
       "      <th>...</th>\n",
       "      <td>...</td>\n",
       "      <td>...</td>\n",
       "      <td>...</td>\n",
       "      <td>...</td>\n",
       "      <td>...</td>\n",
       "    </tr>\n",
       "    <tr>\n",
       "      <th>9415126</th>\n",
       "      <td>1</td>\n",
       "      <td>2021-04-08</td>\n",
       "      <td>SIN ESPECIFICAR</td>\n",
       "      <td>0</td>\n",
       "      <td>NaN</td>\n",
       "    </tr>\n",
       "    <tr>\n",
       "      <th>9416277</th>\n",
       "      <td>1</td>\n",
       "      <td>2021-04-06</td>\n",
       "      <td>SIN ESPECIFICAR</td>\n",
       "      <td>0</td>\n",
       "      <td>NaN</td>\n",
       "    </tr>\n",
       "    <tr>\n",
       "      <th>9417811</th>\n",
       "      <td>1</td>\n",
       "      <td>2020-06-03</td>\n",
       "      <td>SIN ESPECIFICAR</td>\n",
       "      <td>0</td>\n",
       "      <td>NaN</td>\n",
       "    </tr>\n",
       "    <tr>\n",
       "      <th>9418533</th>\n",
       "      <td>1</td>\n",
       "      <td>2020-06-02</td>\n",
       "      <td>SIN ESPECIFICAR</td>\n",
       "      <td>0</td>\n",
       "      <td>NaN</td>\n",
       "    </tr>\n",
       "    <tr>\n",
       "      <th>9419234</th>\n",
       "      <td>1</td>\n",
       "      <td>2020-06-13</td>\n",
       "      <td>SIN ESPECIFICAR</td>\n",
       "      <td>0</td>\n",
       "      <td>NaN</td>\n",
       "    </tr>\n",
       "  </tbody>\n",
       "</table>\n",
       "<p>4741 rows × 5 columns</p>\n",
       "</div>"
      ],
      "text/plain": [
       "        clasificacion_resumen fecha_diagnostico  ... fallecido  fecha_fallecimiento\n",
       "715                         1        2021-04-14  ...         0                  NaN\n",
       "755                         1        2021-04-19  ...         0                  NaN\n",
       "2786                        1        2021-04-09  ...         0                  NaN\n",
       "4727                        1        2021-03-31  ...         0                  NaN\n",
       "5508                        1        2020-05-30  ...         0                  NaN\n",
       "...                       ...               ...  ...       ...                  ...\n",
       "9415126                     1        2021-04-08  ...         0                  NaN\n",
       "9416277                     1        2021-04-06  ...         0                  NaN\n",
       "9417811                     1        2020-06-03  ...         0                  NaN\n",
       "9418533                     1        2020-06-02  ...         0                  NaN\n",
       "9419234                     1        2020-06-13  ...         0                  NaN\n",
       "\n",
       "[4741 rows x 5 columns]"
      ]
     },
     "execution_count": 48,
     "metadata": {
      "tags": []
     },
     "output_type": "execute_result"
    }
   ],
   "source": [
    "confirmados[confirmados[\"residencia_provincia_nombre\"]==\"SIN ESPECIFICAR\"]"
   ]
  },
  {
   "cell_type": "code",
   "execution_count": null,
   "metadata": {
    "id": "yfqdOhHbdHIR"
   },
   "outputs": [],
   "source": [
    "#confirmados = confirmados.drop(labels=\"clasificacion_resumen\", axis=1)"
   ]
  },
  {
   "cell_type": "code",
   "execution_count": null,
   "metadata": {
    "id": "FwzipnsEdHIR"
   },
   "outputs": [],
   "source": [
    "#confirmados = confirmados.drop(labels=2192241, axis=0)\n",
    "#confirmados = confirmados.drop(labels=2337905, axis=0)\n",
    "#confirmados = confirmados.drop(labels=2440280, axis=0)\n",
    "#confirmados = confirmados.drop(labels=4794269, axis=0)\n",
    "#confirmados = confirmados.drop(labels=1619136, axis=0)\n",
    "#confirmados = confirmados.drop(labels=6949111, axis=0)\n",
    "#confirmados = confirmados.drop(labels=1824030, axis=0)"
   ]
  },
  {
   "cell_type": "code",
   "execution_count": null,
   "metadata": {
    "id": "h1mwvQ23dHIS"
   },
   "outputs": [],
   "source": [
    "confirmados = confirmados[confirmados[\"fecha_diagnostico\"] > \"2020-03-02\"]"
   ]
  },
  {
   "cell_type": "code",
   "execution_count": null,
   "metadata": {
    "colab": {
     "base_uri": "https://localhost:8080/"
    },
    "executionInfo": {
     "elapsed": 1261,
     "status": "ok",
     "timestamp": 1619443843755,
     "user": {
      "displayName": "Gianni Bevilacqua",
      "photoUrl": "",
      "userId": "02828618652131278541"
     },
     "user_tz": 180
    },
    "id": "mHET4Mf5dHIS",
    "outputId": "b3e03742-c563-47b8-ff10-97a86ea23b69"
   },
   "outputs": [
    {
     "name": "stderr",
     "output_type": "stream",
     "text": [
      "/usr/local/lib/python3.7/dist-packages/ipykernel_launcher.py:1: SettingWithCopyWarning: \n",
      "A value is trying to be set on a copy of a slice from a DataFrame.\n",
      "Try using .loc[row_indexer,col_indexer] = value instead\n",
      "\n",
      "See the caveats in the documentation: https://pandas.pydata.org/pandas-docs/stable/user_guide/indexing.html#returning-a-view-versus-a-copy\n",
      "  \"\"\"Entry point for launching an IPython kernel.\n"
     ]
    }
   ],
   "source": [
    "confirmados[\"fecha_diagnostico\"] = pd.to_datetime(confirmados[\"fecha_diagnostico\"])"
   ]
  },
  {
   "cell_type": "code",
   "execution_count": null,
   "metadata": {
    "id": "WE_o3IU0dHIS"
   },
   "outputs": [],
   "source": [
    "confirmados = confirmados.sort_values(\"fecha_diagnostico\")"
   ]
  },
  {
   "cell_type": "code",
   "execution_count": null,
   "metadata": {
    "id": "fCyNrs8adHIT"
   },
   "outputs": [],
   "source": [
    "confirmados = confirmados.reset_index()\n",
    "confirmados = confirmados.drop(labels=\"index\", axis=1)"
   ]
  },
  {
   "cell_type": "code",
   "execution_count": null,
   "metadata": {
    "id": "zq6ZBB64Yj5V"
   },
   "outputs": [],
   "source": [
    "data_casos_provincia = pd.DataFrame(confirmados.groupby(\"residencia_provincia_nombre\").sum())\n",
    "data_casos_provincia = data_casos_provincia.reset_index()\n",
    "#data_casos_provincia = data_casos_provincia.drop(labels=\"index\", axis=1)"
   ]
  },
  {
   "cell_type": "code",
   "execution_count": null,
   "metadata": {
    "colab": {
     "base_uri": "https://localhost:8080/",
     "height": 798
    },
    "executionInfo": {
     "elapsed": 894,
     "status": "ok",
     "timestamp": 1619445140386,
     "user": {
      "displayName": "Gianni Bevilacqua",
      "photoUrl": "",
      "userId": "02828618652131278541"
     },
     "user_tz": 180
    },
    "id": "WxA88BMiYjw1",
    "outputId": "9d2a7b96-b210-424e-af7a-5477e2092f9b"
   },
   "outputs": [
    {
     "data": {
      "text/html": [
       "<div>\n",
       "<style scoped>\n",
       "    .dataframe tbody tr th:only-of-type {\n",
       "        vertical-align: middle;\n",
       "    }\n",
       "\n",
       "    .dataframe tbody tr th {\n",
       "        vertical-align: top;\n",
       "    }\n",
       "\n",
       "    .dataframe thead th {\n",
       "        text-align: right;\n",
       "    }\n",
       "</style>\n",
       "<table border=\"1\" class=\"dataframe\">\n",
       "  <thead>\n",
       "    <tr style=\"text-align: right;\">\n",
       "      <th></th>\n",
       "      <th>residencia_provincia_nombre</th>\n",
       "      <th>clasificacion_resumen</th>\n",
       "      <th>fallecido</th>\n",
       "    </tr>\n",
       "  </thead>\n",
       "  <tbody>\n",
       "    <tr>\n",
       "      <th>0</th>\n",
       "      <td>Buenos Aires</td>\n",
       "      <td>1077191</td>\n",
       "      <td>30746</td>\n",
       "    </tr>\n",
       "    <tr>\n",
       "      <th>1</th>\n",
       "      <td>CABA</td>\n",
       "      <td>316047</td>\n",
       "      <td>7390</td>\n",
       "    </tr>\n",
       "    <tr>\n",
       "      <th>2</th>\n",
       "      <td>Catamarca</td>\n",
       "      <td>13481</td>\n",
       "      <td>19</td>\n",
       "    </tr>\n",
       "    <tr>\n",
       "      <th>3</th>\n",
       "      <td>Chaco</td>\n",
       "      <td>42512</td>\n",
       "      <td>1003</td>\n",
       "    </tr>\n",
       "    <tr>\n",
       "      <th>4</th>\n",
       "      <td>Chubut</td>\n",
       "      <td>37600</td>\n",
       "      <td>801</td>\n",
       "    </tr>\n",
       "    <tr>\n",
       "      <th>5</th>\n",
       "      <td>Corrientes</td>\n",
       "      <td>35557</td>\n",
       "      <td>432</td>\n",
       "    </tr>\n",
       "    <tr>\n",
       "      <th>6</th>\n",
       "      <td>Córdoba</td>\n",
       "      <td>212377</td>\n",
       "      <td>3246</td>\n",
       "    </tr>\n",
       "    <tr>\n",
       "      <th>7</th>\n",
       "      <td>Entre Ríos</td>\n",
       "      <td>47199</td>\n",
       "      <td>996</td>\n",
       "    </tr>\n",
       "    <tr>\n",
       "      <th>8</th>\n",
       "      <td>Formosa</td>\n",
       "      <td>3830</td>\n",
       "      <td>61</td>\n",
       "    </tr>\n",
       "    <tr>\n",
       "      <th>9</th>\n",
       "      <td>Jujuy</td>\n",
       "      <td>23986</td>\n",
       "      <td>1012</td>\n",
       "    </tr>\n",
       "    <tr>\n",
       "      <th>10</th>\n",
       "      <td>La Pampa</td>\n",
       "      <td>24774</td>\n",
       "      <td>346</td>\n",
       "    </tr>\n",
       "    <tr>\n",
       "      <th>11</th>\n",
       "      <td>La Rioja</td>\n",
       "      <td>12481</td>\n",
       "      <td>448</td>\n",
       "    </tr>\n",
       "    <tr>\n",
       "      <th>12</th>\n",
       "      <td>Mendoza</td>\n",
       "      <td>86455</td>\n",
       "      <td>1686</td>\n",
       "    </tr>\n",
       "    <tr>\n",
       "      <th>13</th>\n",
       "      <td>Misiones</td>\n",
       "      <td>14679</td>\n",
       "      <td>235</td>\n",
       "    </tr>\n",
       "    <tr>\n",
       "      <th>14</th>\n",
       "      <td>Neuquén</td>\n",
       "      <td>52976</td>\n",
       "      <td>1013</td>\n",
       "    </tr>\n",
       "    <tr>\n",
       "      <th>15</th>\n",
       "      <td>Río Negro</td>\n",
       "      <td>47316</td>\n",
       "      <td>1284</td>\n",
       "    </tr>\n",
       "    <tr>\n",
       "      <th>16</th>\n",
       "      <td>SIN ESPECIFICAR</td>\n",
       "      <td>4444</td>\n",
       "      <td>41</td>\n",
       "    </tr>\n",
       "    <tr>\n",
       "      <th>17</th>\n",
       "      <td>Salta</td>\n",
       "      <td>30728</td>\n",
       "      <td>1101</td>\n",
       "    </tr>\n",
       "    <tr>\n",
       "      <th>18</th>\n",
       "      <td>San Juan</td>\n",
       "      <td>21117</td>\n",
       "      <td>255</td>\n",
       "    </tr>\n",
       "    <tr>\n",
       "      <th>19</th>\n",
       "      <td>San Luis</td>\n",
       "      <td>32157</td>\n",
       "      <td>456</td>\n",
       "    </tr>\n",
       "    <tr>\n",
       "      <th>20</th>\n",
       "      <td>Santa Cruz</td>\n",
       "      <td>39917</td>\n",
       "      <td>667</td>\n",
       "    </tr>\n",
       "    <tr>\n",
       "      <th>21</th>\n",
       "      <td>Santa Fe</td>\n",
       "      <td>223895</td>\n",
       "      <td>4376</td>\n",
       "    </tr>\n",
       "    <tr>\n",
       "      <th>22</th>\n",
       "      <td>Santiago del Estero</td>\n",
       "      <td>28927</td>\n",
       "      <td>327</td>\n",
       "    </tr>\n",
       "    <tr>\n",
       "      <th>23</th>\n",
       "      <td>Tierra del Fuego</td>\n",
       "      <td>21842</td>\n",
       "      <td>372</td>\n",
       "    </tr>\n",
       "    <tr>\n",
       "      <th>24</th>\n",
       "      <td>Tucumán</td>\n",
       "      <td>100818</td>\n",
       "      <td>1594</td>\n",
       "    </tr>\n",
       "  </tbody>\n",
       "</table>\n",
       "</div>"
      ],
      "text/plain": [
       "   residencia_provincia_nombre  clasificacion_resumen  fallecido\n",
       "0                 Buenos Aires                1077191      30746\n",
       "1                         CABA                 316047       7390\n",
       "2                    Catamarca                  13481         19\n",
       "3                        Chaco                  42512       1003\n",
       "4                       Chubut                  37600        801\n",
       "5                   Corrientes                  35557        432\n",
       "6                      Córdoba                 212377       3246\n",
       "7                   Entre Ríos                  47199        996\n",
       "8                      Formosa                   3830         61\n",
       "9                        Jujuy                  23986       1012\n",
       "10                    La Pampa                  24774        346\n",
       "11                    La Rioja                  12481        448\n",
       "12                     Mendoza                  86455       1686\n",
       "13                    Misiones                  14679        235\n",
       "14                     Neuquén                  52976       1013\n",
       "15                   Río Negro                  47316       1284\n",
       "16             SIN ESPECIFICAR                   4444         41\n",
       "17                       Salta                  30728       1101\n",
       "18                    San Juan                  21117        255\n",
       "19                    San Luis                  32157        456\n",
       "20                  Santa Cruz                  39917        667\n",
       "21                    Santa Fe                 223895       4376\n",
       "22         Santiago del Estero                  28927        327\n",
       "23            Tierra del Fuego                  21842        372\n",
       "24                     Tucumán                 100818       1594"
      ]
     },
     "execution_count": 134,
     "metadata": {
      "tags": []
     },
     "output_type": "execute_result"
    }
   ],
   "source": [
    "data_casos_provincia"
   ]
  },
  {
   "cell_type": "code",
   "execution_count": null,
   "metadata": {
    "colab": {
     "base_uri": "https://localhost:8080/"
    },
    "executionInfo": {
     "elapsed": 989,
     "status": "ok",
     "timestamp": 1619445135429,
     "user": {
      "displayName": "Gianni Bevilacqua",
      "photoUrl": "",
      "userId": "02828618652131278541"
     },
     "user_tz": 180
    },
    "id": "NsfBecfnZ3C1",
    "outputId": "7191cbb9-6482-48c5-fe37-7a8a518e7613"
   },
   "outputs": [
    {
     "data": {
      "text/plain": [
       "Index(['residencia_provincia_nombre', 'clasificacion_resumen', 'fallecido'], dtype='object')"
      ]
     },
     "execution_count": 133,
     "metadata": {
      "tags": []
     },
     "output_type": "execute_result"
    }
   ],
   "source": [
    "data_casos_provincia.columns"
   ]
  },
  {
   "cell_type": "code",
   "execution_count": null,
   "metadata": {
    "colab": {
     "base_uri": "https://localhost:8080/",
     "height": 502
    },
    "executionInfo": {
     "elapsed": 1766,
     "status": "ok",
     "timestamp": 1619444441600,
     "user": {
      "displayName": "Gianni Bevilacqua",
      "photoUrl": "",
      "userId": "02828618652131278541"
     },
     "user_tz": 180
    },
    "id": "cNjmeUDQZMDE",
    "outputId": "16371e95-ebf0-4b6b-a1e9-3f7acf2c5a70"
   },
   "outputs": [
    {
     "data": {
      "text/plain": [
       "Text(0.5, 1.0, 'Histograma de distribucion de casos por provincia')"
      ]
     },
     "execution_count": 91,
     "metadata": {
      "tags": []
     },
     "output_type": "execute_result"
    },
    {
     "data": {
      "image/png": "[encoded data removed]",
      "text/plain": [
       "<Figure size 2160x576 with 1 Axes>"
      ]
     },
     "metadata": {
      "needs_background": "light",
      "tags": []
     },
     "output_type": "display_data"
    }
   ],
   "source": [
    "f, ax = plt.subplots(figsize=(30,8))\n",
    "plt.bar(\"residencia_provincia_nombre\", \"clasificacion_resumen\", width=1, data=data_casos_provincia.sort_values(\"clasificacion_resumen\",ascending=False))\n",
    "plt.xlabel(\"Provincia\")\n",
    "plt.ylabel(\"Casos Positivos\")\n",
    "plt.title(\"Histograma de distribucion de casos por provincia\")"
   ]
  },
  {
   "cell_type": "code",
   "execution_count": null,
   "metadata": {
    "colab": {
     "base_uri": "https://localhost:8080/"
    },
    "executionInfo": {
     "elapsed": 1237,
     "status": "ok",
     "timestamp": 1619443844220,
     "user": {
      "displayName": "Gianni Bevilacqua",
      "photoUrl": "",
      "userId": "02828618652131278541"
     },
     "user_tz": 180
    },
    "id": "mHw_dK4cdHIT",
    "outputId": "0ecca202-66c6-4624-ccff-6903f3cf1e5b"
   },
   "outputs": [
    {
     "data": {
      "text/plain": [
       "pandas._libs.tslibs.timestamps.Timestamp"
      ]
     },
     "execution_count": 66,
     "metadata": {
      "tags": []
     },
     "output_type": "execute_result"
    }
   ],
   "source": [
    "type(confirmados[\"fecha_diagnostico\"][1])"
   ]
  },
  {
   "cell_type": "code",
   "execution_count": null,
   "metadata": {
    "colab": {
     "base_uri": "https://localhost:8080/",
     "height": 407
    },
    "executionInfo": {
     "elapsed": 1083,
     "status": "ok",
     "timestamp": 1619443844221,
     "user": {
      "displayName": "Gianni Bevilacqua",
      "photoUrl": "",
      "userId": "02828618652131278541"
     },
     "user_tz": 180
    },
    "id": "NR8_67pMdHIU",
    "outputId": "ae618fdf-bcbf-4127-c50f-6c72e0b3b8c2"
   },
   "outputs": [
    {
     "data": {
      "text/html": [
       "<div>\n",
       "<style scoped>\n",
       "    .dataframe tbody tr th:only-of-type {\n",
       "        vertical-align: middle;\n",
       "    }\n",
       "\n",
       "    .dataframe tbody tr th {\n",
       "        vertical-align: top;\n",
       "    }\n",
       "\n",
       "    .dataframe thead th {\n",
       "        text-align: right;\n",
       "    }\n",
       "</style>\n",
       "<table border=\"1\" class=\"dataframe\">\n",
       "  <thead>\n",
       "    <tr style=\"text-align: right;\">\n",
       "      <th></th>\n",
       "      <th>clasificacion_resumen</th>\n",
       "      <th>fecha_diagnostico</th>\n",
       "      <th>residencia_provincia_nombre</th>\n",
       "      <th>fallecido</th>\n",
       "      <th>fecha_fallecimiento</th>\n",
       "    </tr>\n",
       "  </thead>\n",
       "  <tbody>\n",
       "    <tr>\n",
       "      <th>8</th>\n",
       "      <td>1</td>\n",
       "      <td>2020-03-07</td>\n",
       "      <td>CABA</td>\n",
       "      <td>1</td>\n",
       "      <td>2020-03-07</td>\n",
       "    </tr>\n",
       "    <tr>\n",
       "      <th>30</th>\n",
       "      <td>1</td>\n",
       "      <td>2020-03-12</td>\n",
       "      <td>Chaco</td>\n",
       "      <td>1</td>\n",
       "      <td>2020-03-13</td>\n",
       "    </tr>\n",
       "    <tr>\n",
       "      <th>35</th>\n",
       "      <td>1</td>\n",
       "      <td>2020-03-12</td>\n",
       "      <td>Buenos Aires</td>\n",
       "      <td>1</td>\n",
       "      <td>2020-03-24</td>\n",
       "    </tr>\n",
       "    <tr>\n",
       "      <th>44</th>\n",
       "      <td>1</td>\n",
       "      <td>2020-03-13</td>\n",
       "      <td>CABA</td>\n",
       "      <td>1</td>\n",
       "      <td>2020-03-18</td>\n",
       "    </tr>\n",
       "    <tr>\n",
       "      <th>55</th>\n",
       "      <td>1</td>\n",
       "      <td>2020-03-15</td>\n",
       "      <td>CABA</td>\n",
       "      <td>1</td>\n",
       "      <td>2020-07-11</td>\n",
       "    </tr>\n",
       "    <tr>\n",
       "      <th>...</th>\n",
       "      <td>...</td>\n",
       "      <td>...</td>\n",
       "      <td>...</td>\n",
       "      <td>...</td>\n",
       "      <td>...</td>\n",
       "    </tr>\n",
       "    <tr>\n",
       "      <th>2550463</th>\n",
       "      <td>1</td>\n",
       "      <td>2021-04-22</td>\n",
       "      <td>Río Negro</td>\n",
       "      <td>1</td>\n",
       "      <td>2021-04-21</td>\n",
       "    </tr>\n",
       "    <tr>\n",
       "      <th>2550511</th>\n",
       "      <td>1</td>\n",
       "      <td>2021-04-22</td>\n",
       "      <td>Córdoba</td>\n",
       "      <td>1</td>\n",
       "      <td>2021-04-16</td>\n",
       "    </tr>\n",
       "    <tr>\n",
       "      <th>2551446</th>\n",
       "      <td>1</td>\n",
       "      <td>2021-04-22</td>\n",
       "      <td>Buenos Aires</td>\n",
       "      <td>1</td>\n",
       "      <td>2021-04-21</td>\n",
       "    </tr>\n",
       "    <tr>\n",
       "      <th>2552168</th>\n",
       "      <td>1</td>\n",
       "      <td>2021-04-22</td>\n",
       "      <td>Misiones</td>\n",
       "      <td>1</td>\n",
       "      <td>2021-04-19</td>\n",
       "    </tr>\n",
       "    <tr>\n",
       "      <th>2552290</th>\n",
       "      <td>1</td>\n",
       "      <td>2021-04-22</td>\n",
       "      <td>Buenos Aires</td>\n",
       "      <td>1</td>\n",
       "      <td>2021-04-21</td>\n",
       "    </tr>\n",
       "  </tbody>\n",
       "</table>\n",
       "<p>59907 rows × 5 columns</p>\n",
       "</div>"
      ],
      "text/plain": [
       "         clasificacion_resumen fecha_diagnostico  ... fallecido  fecha_fallecimiento\n",
       "8                            1        2020-03-07  ...         1           2020-03-07\n",
       "30                           1        2020-03-12  ...         1           2020-03-13\n",
       "35                           1        2020-03-12  ...         1           2020-03-24\n",
       "44                           1        2020-03-13  ...         1           2020-03-18\n",
       "55                           1        2020-03-15  ...         1           2020-07-11\n",
       "...                        ...               ...  ...       ...                  ...\n",
       "2550463                      1        2021-04-22  ...         1           2021-04-21\n",
       "2550511                      1        2021-04-22  ...         1           2021-04-16\n",
       "2551446                      1        2021-04-22  ...         1           2021-04-21\n",
       "2552168                      1        2021-04-22  ...         1           2021-04-19\n",
       "2552290                      1        2021-04-22  ...         1           2021-04-21\n",
       "\n",
       "[59907 rows x 5 columns]"
      ]
     },
     "execution_count": 67,
     "metadata": {
      "tags": []
     },
     "output_type": "execute_result"
    }
   ],
   "source": [
    "confirmados[confirmados[\"fallecido\"]==1]"
   ]
  },
  {
   "cell_type": "code",
   "execution_count": null,
   "metadata": {
    "id": "0glLsLdpdHIU"
   },
   "outputs": [],
   "source": [
    "confirmados[\"clasificacion_resumen\"]=1"
   ]
  },
  {
   "cell_type": "code",
   "execution_count": null,
   "metadata": {
    "id": "Sav8rEXTdHIV"
   },
   "outputs": [],
   "source": [
    "confirmgroup = confirmados.groupby(\"fecha_diagnostico\")"
   ]
  },
  {
   "cell_type": "code",
   "execution_count": null,
   "metadata": {
    "colab": {
     "base_uri": "https://localhost:8080/",
     "height": 437
    },
    "executionInfo": {
     "elapsed": 966,
     "status": "ok",
     "timestamp": 1619443844676,
     "user": {
      "displayName": "Gianni Bevilacqua",
      "photoUrl": "",
      "userId": "02828618652131278541"
     },
     "user_tz": 180
    },
    "id": "2JS2j183dHIV",
    "outputId": "06d6bc42-e217-4505-ebf7-94b1f069f057"
   },
   "outputs": [
    {
     "data": {
      "text/html": [
       "<div>\n",
       "<style scoped>\n",
       "    .dataframe tbody tr th:only-of-type {\n",
       "        vertical-align: middle;\n",
       "    }\n",
       "\n",
       "    .dataframe tbody tr th {\n",
       "        vertical-align: top;\n",
       "    }\n",
       "\n",
       "    .dataframe thead th {\n",
       "        text-align: right;\n",
       "    }\n",
       "</style>\n",
       "<table border=\"1\" class=\"dataframe\">\n",
       "  <thead>\n",
       "    <tr style=\"text-align: right;\">\n",
       "      <th></th>\n",
       "      <th>clasificacion_resumen</th>\n",
       "      <th>fallecido</th>\n",
       "    </tr>\n",
       "    <tr>\n",
       "      <th>fecha_diagnostico</th>\n",
       "      <th></th>\n",
       "      <th></th>\n",
       "    </tr>\n",
       "  </thead>\n",
       "  <tbody>\n",
       "    <tr>\n",
       "      <th>2020-03-03</th>\n",
       "      <td>1</td>\n",
       "      <td>0</td>\n",
       "    </tr>\n",
       "    <tr>\n",
       "      <th>2020-03-06</th>\n",
       "      <td>7</td>\n",
       "      <td>0</td>\n",
       "    </tr>\n",
       "    <tr>\n",
       "      <th>2020-03-07</th>\n",
       "      <td>1</td>\n",
       "      <td>1</td>\n",
       "    </tr>\n",
       "    <tr>\n",
       "      <th>2020-03-08</th>\n",
       "      <td>2</td>\n",
       "      <td>0</td>\n",
       "    </tr>\n",
       "    <tr>\n",
       "      <th>2020-03-09</th>\n",
       "      <td>6</td>\n",
       "      <td>0</td>\n",
       "    </tr>\n",
       "    <tr>\n",
       "      <th>...</th>\n",
       "      <td>...</td>\n",
       "      <td>...</td>\n",
       "    </tr>\n",
       "    <tr>\n",
       "      <th>2021-04-18</th>\n",
       "      <td>10623</td>\n",
       "      <td>16</td>\n",
       "    </tr>\n",
       "    <tr>\n",
       "      <th>2021-04-19</th>\n",
       "      <td>23132</td>\n",
       "      <td>41</td>\n",
       "    </tr>\n",
       "    <tr>\n",
       "      <th>2021-04-20</th>\n",
       "      <td>22834</td>\n",
       "      <td>15</td>\n",
       "    </tr>\n",
       "    <tr>\n",
       "      <th>2021-04-21</th>\n",
       "      <td>17644</td>\n",
       "      <td>22</td>\n",
       "    </tr>\n",
       "    <tr>\n",
       "      <th>2021-04-22</th>\n",
       "      <td>4295</td>\n",
       "      <td>8</td>\n",
       "    </tr>\n",
       "  </tbody>\n",
       "</table>\n",
       "<p>414 rows × 2 columns</p>\n",
       "</div>"
      ],
      "text/plain": [
       "                   clasificacion_resumen  fallecido\n",
       "fecha_diagnostico                                  \n",
       "2020-03-03                             1          0\n",
       "2020-03-06                             7          0\n",
       "2020-03-07                             1          1\n",
       "2020-03-08                             2          0\n",
       "2020-03-09                             6          0\n",
       "...                                  ...        ...\n",
       "2021-04-18                         10623         16\n",
       "2021-04-19                         23132         41\n",
       "2021-04-20                         22834         15\n",
       "2021-04-21                         17644         22\n",
       "2021-04-22                          4295          8\n",
       "\n",
       "[414 rows x 2 columns]"
      ]
     },
     "execution_count": 70,
     "metadata": {
      "tags": []
     },
     "output_type": "execute_result"
    }
   ],
   "source": [
    "confirmgroup.sum()"
   ]
  },
  {
   "cell_type": "code",
   "execution_count": null,
   "metadata": {
    "colab": {
     "base_uri": "https://localhost:8080/",
     "height": 407
    },
    "executionInfo": {
     "elapsed": 758,
     "status": "ok",
     "timestamp": 1619443844677,
     "user": {
      "displayName": "Gianni Bevilacqua",
      "photoUrl": "",
      "userId": "02828618652131278541"
     },
     "user_tz": 180
    },
    "id": "Wm_CVp64qYg6",
    "outputId": "708a58f0-133c-4a30-b391-80734927d54a"
   },
   "outputs": [
    {
     "data": {
      "text/html": [
       "<div>\n",
       "<style scoped>\n",
       "    .dataframe tbody tr th:only-of-type {\n",
       "        vertical-align: middle;\n",
       "    }\n",
       "\n",
       "    .dataframe tbody tr th {\n",
       "        vertical-align: top;\n",
       "    }\n",
       "\n",
       "    .dataframe thead th {\n",
       "        text-align: right;\n",
       "    }\n",
       "</style>\n",
       "<table border=\"1\" class=\"dataframe\">\n",
       "  <thead>\n",
       "    <tr style=\"text-align: right;\">\n",
       "      <th></th>\n",
       "      <th>clasificacion_resumen</th>\n",
       "      <th>fecha_diagnostico</th>\n",
       "      <th>residencia_provincia_nombre</th>\n",
       "      <th>fallecido</th>\n",
       "      <th>fecha_fallecimiento</th>\n",
       "    </tr>\n",
       "  </thead>\n",
       "  <tbody>\n",
       "    <tr>\n",
       "      <th>0</th>\n",
       "      <td>1</td>\n",
       "      <td>2020-03-03</td>\n",
       "      <td>CABA</td>\n",
       "      <td>0</td>\n",
       "      <td>NaN</td>\n",
       "    </tr>\n",
       "    <tr>\n",
       "      <th>1</th>\n",
       "      <td>1</td>\n",
       "      <td>2020-03-06</td>\n",
       "      <td>Córdoba</td>\n",
       "      <td>0</td>\n",
       "      <td>NaN</td>\n",
       "    </tr>\n",
       "    <tr>\n",
       "      <th>2</th>\n",
       "      <td>1</td>\n",
       "      <td>2020-03-06</td>\n",
       "      <td>Buenos Aires</td>\n",
       "      <td>0</td>\n",
       "      <td>NaN</td>\n",
       "    </tr>\n",
       "    <tr>\n",
       "      <th>3</th>\n",
       "      <td>1</td>\n",
       "      <td>2020-03-06</td>\n",
       "      <td>CABA</td>\n",
       "      <td>0</td>\n",
       "      <td>NaN</td>\n",
       "    </tr>\n",
       "    <tr>\n",
       "      <th>4</th>\n",
       "      <td>1</td>\n",
       "      <td>2020-03-06</td>\n",
       "      <td>CABA</td>\n",
       "      <td>0</td>\n",
       "      <td>NaN</td>\n",
       "    </tr>\n",
       "    <tr>\n",
       "      <th>...</th>\n",
       "      <td>...</td>\n",
       "      <td>...</td>\n",
       "      <td>...</td>\n",
       "      <td>...</td>\n",
       "      <td>...</td>\n",
       "    </tr>\n",
       "    <tr>\n",
       "      <th>2548016</th>\n",
       "      <td>1</td>\n",
       "      <td>2021-04-22</td>\n",
       "      <td>Entre Ríos</td>\n",
       "      <td>0</td>\n",
       "      <td>NaN</td>\n",
       "    </tr>\n",
       "    <tr>\n",
       "      <th>2548017</th>\n",
       "      <td>1</td>\n",
       "      <td>2021-04-22</td>\n",
       "      <td>Buenos Aires</td>\n",
       "      <td>0</td>\n",
       "      <td>NaN</td>\n",
       "    </tr>\n",
       "    <tr>\n",
       "      <th>2548018</th>\n",
       "      <td>1</td>\n",
       "      <td>2021-04-22</td>\n",
       "      <td>Buenos Aires</td>\n",
       "      <td>0</td>\n",
       "      <td>NaN</td>\n",
       "    </tr>\n",
       "    <tr>\n",
       "      <th>2548019</th>\n",
       "      <td>1</td>\n",
       "      <td>2021-04-22</td>\n",
       "      <td>CABA</td>\n",
       "      <td>0</td>\n",
       "      <td>NaN</td>\n",
       "    </tr>\n",
       "    <tr>\n",
       "      <th>2548020</th>\n",
       "      <td>1</td>\n",
       "      <td>2021-04-22</td>\n",
       "      <td>Mendoza</td>\n",
       "      <td>0</td>\n",
       "      <td>NaN</td>\n",
       "    </tr>\n",
       "  </tbody>\n",
       "</table>\n",
       "<p>4094 rows × 5 columns</p>\n",
       "</div>"
      ],
      "text/plain": [
       "         clasificacion_resumen fecha_diagnostico  ... fallecido  fecha_fallecimiento\n",
       "0                            1        2020-03-03  ...         0                  NaN\n",
       "1                            1        2020-03-06  ...         0                  NaN\n",
       "2                            1        2020-03-06  ...         0                  NaN\n",
       "3                            1        2020-03-06  ...         0                  NaN\n",
       "4                            1        2020-03-06  ...         0                  NaN\n",
       "...                        ...               ...  ...       ...                  ...\n",
       "2548016                      1        2021-04-22  ...         0                  NaN\n",
       "2548017                      1        2021-04-22  ...         0                  NaN\n",
       "2548018                      1        2021-04-22  ...         0                  NaN\n",
       "2548019                      1        2021-04-22  ...         0                  NaN\n",
       "2548020                      1        2021-04-22  ...         0                  NaN\n",
       "\n",
       "[4094 rows x 5 columns]"
      ]
     },
     "execution_count": 71,
     "metadata": {
      "tags": []
     },
     "output_type": "execute_result"
    }
   ],
   "source": [
    "confirmgroup.head(10)"
   ]
  },
  {
   "cell_type": "code",
   "execution_count": null,
   "metadata": {
    "colab": {
     "base_uri": "https://localhost:8080/",
     "height": 881
    },
    "executionInfo": {
     "elapsed": 1877,
     "status": "ok",
     "timestamp": 1619444489576,
     "user": {
      "displayName": "Gianni Bevilacqua",
      "photoUrl": "",
      "userId": "02828618652131278541"
     },
     "user_tz": 180
    },
    "id": "eGknivsPdHIV",
    "outputId": "5766ccec-af21-4b10-8c67-8a85036894c4"
   },
   "outputs": [
    {
     "data": {
      "image/png": "[encoded data removed]",
      "text/plain": [
       "<Figure size 1800x1152 with 1 Axes>"
      ]
     },
     "metadata": {
      "needs_background": "light",
      "tags": []
     },
     "output_type": "display_data"
    }
   ],
   "source": [
    "confirmgroup.sum().plot(kind=\"line\",y=\"clasificacion_resumen\", figsize=(25,16), marker= \"o\")\n",
    "#linestyle\"--\"\"\n",
    "plt.xlabel(\"Fecha\")\n",
    "plt.title(\"CANTIDAD DE CASOS POR FECHA\")\n",
    "plt.tick_params('x', colors='blue')\n",
    "plt.ylabel(\"Confirmados\")\n",
    "plt.show()"
   ]
  },
  {
   "cell_type": "code",
   "execution_count": null,
   "metadata": {
    "id": "Oh8EA86LdHIW"
   },
   "outputs": [],
   "source": [
    "fall = pd.DataFrame()\n",
    "fall[\"fallecido\"] = confirmados[\"fallecido\"]\n",
    "fall[\"fecha_fallecimiento\"] = confirmados[\"fecha_fallecimiento\"]\n",
    "fall[\"provincia\"] = confirmados[\"residencia_provincia_nombre\"]\n",
    "fall = fall[fall[\"fallecido\"]==1]"
   ]
  },
  {
   "cell_type": "code",
   "execution_count": null,
   "metadata": {
    "id": "XmaeZDV7bApV"
   },
   "outputs": [],
   "source": [
    "fall_provincia = pd.DataFrame(fall.groupby(\"provincia\").sum())\n",
    "fall_provincia = fall_provincia.reset_index()\n",
    "#fall_provincia = fall_provincia.drop(labels=\"index\", axis=1)"
   ]
  },
  {
   "cell_type": "code",
   "execution_count": null,
   "metadata": {
    "colab": {
     "base_uri": "https://localhost:8080/",
     "height": 198
    },
    "executionInfo": {
     "elapsed": 839,
     "status": "ok",
     "timestamp": 1619445058717,
     "user": {
      "displayName": "Gianni Bevilacqua",
      "photoUrl": "",
      "userId": "02828618652131278541"
     },
     "user_tz": 180
    },
    "id": "JaxJI7wcb8eW",
    "outputId": "004e206b-0302-43cc-86cc-2bf21479f467"
   },
   "outputs": [
    {
     "data": {
      "text/html": [
       "<div>\n",
       "<style scoped>\n",
       "    .dataframe tbody tr th:only-of-type {\n",
       "        vertical-align: middle;\n",
       "    }\n",
       "\n",
       "    .dataframe tbody tr th {\n",
       "        vertical-align: top;\n",
       "    }\n",
       "\n",
       "    .dataframe thead th {\n",
       "        text-align: right;\n",
       "    }\n",
       "</style>\n",
       "<table border=\"1\" class=\"dataframe\">\n",
       "  <thead>\n",
       "    <tr style=\"text-align: right;\">\n",
       "      <th></th>\n",
       "      <th>provincia</th>\n",
       "      <th>fallecido</th>\n",
       "    </tr>\n",
       "  </thead>\n",
       "  <tbody>\n",
       "    <tr>\n",
       "      <th>0</th>\n",
       "      <td>Buenos Aires</td>\n",
       "      <td>30746</td>\n",
       "    </tr>\n",
       "    <tr>\n",
       "      <th>1</th>\n",
       "      <td>CABA</td>\n",
       "      <td>7390</td>\n",
       "    </tr>\n",
       "    <tr>\n",
       "      <th>2</th>\n",
       "      <td>Catamarca</td>\n",
       "      <td>19</td>\n",
       "    </tr>\n",
       "    <tr>\n",
       "      <th>3</th>\n",
       "      <td>Chaco</td>\n",
       "      <td>1003</td>\n",
       "    </tr>\n",
       "    <tr>\n",
       "      <th>4</th>\n",
       "      <td>Chubut</td>\n",
       "      <td>801</td>\n",
       "    </tr>\n",
       "  </tbody>\n",
       "</table>\n",
       "</div>"
      ],
      "text/plain": [
       "      provincia  fallecido\n",
       "0  Buenos Aires      30746\n",
       "1          CABA       7390\n",
       "2     Catamarca         19\n",
       "3         Chaco       1003\n",
       "4        Chubut        801"
      ]
     },
     "execution_count": 127,
     "metadata": {
      "tags": []
     },
     "output_type": "execute_result"
    }
   ],
   "source": [
    "fall_provincia.head()"
   ]
  },
  {
   "cell_type": "code",
   "execution_count": null,
   "metadata": {
    "colab": {
     "base_uri": "https://localhost:8080/",
     "height": 480
    },
    "executionInfo": {
     "elapsed": 1386,
     "status": "ok",
     "timestamp": 1619445121617,
     "user": {
      "displayName": "Gianni Bevilacqua",
      "photoUrl": "",
      "userId": "02828618652131278541"
     },
     "user_tz": 180
    },
    "id": "IXkvVx5hbq5u",
    "outputId": "e96d0092-7bac-4952-9482-ddd99cc12a0f"
   },
   "outputs": [
    {
     "data": {
      "image/png": "[encoded data removed]",
      "text/plain": [
       "<Figure size 2160x576 with 1 Axes>"
      ]
     },
     "metadata": {
      "needs_background": "light",
      "tags": []
     },
     "output_type": "display_data"
    }
   ],
   "source": [
    "f, ax = plt.subplots(figsize=(30,8))\n",
    "plt.bar(\"provincia\", \"fallecido\", width=1, data=fall_provincia.sort_values(\"fallecido\",ascending=False), color=\"r\")\n",
    "plt.xlabel(\"Provincia\")\n",
    "plt.ylabel(\"Fallecidos\")\n",
    "plt.title(\"Histograma de distribucion de fallecidos por provincia\")\n",
    "plt.show()"
   ]
  },
  {
   "cell_type": "code",
   "execution_count": null,
   "metadata": {
    "colab": {
     "base_uri": "https://localhost:8080/",
     "height": 228
    },
    "executionInfo": {
     "elapsed": 1139,
     "status": "ok",
     "timestamp": 1619446841454,
     "user": {
      "displayName": "Gianni Bevilacqua",
      "photoUrl": "",
      "userId": "02828618652131278541"
     },
     "user_tz": 180
    },
    "id": "wK1VtwLbaxSx",
    "outputId": "2e710529-6a35-49a1-ec9a-35fe52a826fc"
   },
   "outputs": [
    {
     "data": {
      "text/html": [
       "<div>\n",
       "<style scoped>\n",
       "    .dataframe tbody tr th:only-of-type {\n",
       "        vertical-align: middle;\n",
       "    }\n",
       "\n",
       "    .dataframe tbody tr th {\n",
       "        vertical-align: top;\n",
       "    }\n",
       "\n",
       "    .dataframe thead th {\n",
       "        text-align: right;\n",
       "    }\n",
       "</style>\n",
       "<table border=\"1\" class=\"dataframe\">\n",
       "  <thead>\n",
       "    <tr style=\"text-align: right;\">\n",
       "      <th></th>\n",
       "      <th>fallecido</th>\n",
       "    </tr>\n",
       "    <tr>\n",
       "      <th>fecha_fallecimiento</th>\n",
       "      <th></th>\n",
       "    </tr>\n",
       "  </thead>\n",
       "  <tbody>\n",
       "    <tr>\n",
       "      <th>2021-04-18</th>\n",
       "      <td>122</td>\n",
       "    </tr>\n",
       "    <tr>\n",
       "      <th>2021-04-19</th>\n",
       "      <td>133</td>\n",
       "    </tr>\n",
       "    <tr>\n",
       "      <th>2021-04-20</th>\n",
       "      <td>98</td>\n",
       "    </tr>\n",
       "    <tr>\n",
       "      <th>2021-04-21</th>\n",
       "      <td>103</td>\n",
       "    </tr>\n",
       "    <tr>\n",
       "      <th>2021-04-22</th>\n",
       "      <td>20</td>\n",
       "    </tr>\n",
       "  </tbody>\n",
       "</table>\n",
       "</div>"
      ],
      "text/plain": [
       "                     fallecido\n",
       "fecha_fallecimiento           \n",
       "2021-04-18                 122\n",
       "2021-04-19                 133\n",
       "2021-04-20                  98\n",
       "2021-04-21                 103\n",
       "2021-04-22                  20"
      ]
     },
     "execution_count": 173,
     "metadata": {
      "tags": []
     },
     "output_type": "execute_result"
    }
   ],
   "source": [
    "fallgroup = fall.groupby(\"fecha_fallecimiento\")\n",
    "fallgroup.sum().tail()"
   ]
  },
  {
   "cell_type": "code",
   "execution_count": null,
   "metadata": {
    "colab": {
     "base_uri": "https://localhost:8080/",
     "height": 948
    },
    "executionInfo": {
     "elapsed": 2202,
     "status": "ok",
     "timestamp": 1619444582616,
     "user": {
      "displayName": "Gianni Bevilacqua",
      "photoUrl": "",
      "userId": "02828618652131278541"
     },
     "user_tz": 180
    },
    "id": "EfDFLimLdHIW",
    "outputId": "c6bac4f6-5f22-4523-eb05-8f4f5b696750"
   },
   "outputs": [
    {
     "data": {
      "image/png": "[encoded data removed]",
      "text/plain": [
       "<Figure size 1800x1152 with 1 Axes>"
      ]
     },
     "metadata": {
      "needs_background": "light",
      "tags": []
     },
     "output_type": "display_data"
    }
   ],
   "source": [
    "fallgroup.sum().plot(kind=\"line\",y=\"fallecido\", figsize=(25,16), marker= \"o\", color=\"r\")\n",
    "#linestyle\"--\"\"\n",
    "plt.xlabel(\"Fecha\")\n",
    "plt.title(\"CANTIDAD DE FALLECIDOS POR FECHA\")\n",
    "plt.tick_params('x', colors='blue')\n",
    "plt.ylabel(\"Confirmados\")\n",
    "plt.show()"
   ]
  },
  {
   "cell_type": "code",
   "execution_count": null,
   "metadata": {
    "colab": {
     "base_uri": "https://localhost:8080/",
     "height": 407
    },
    "executionInfo": {
     "elapsed": 1260,
     "status": "ok",
     "timestamp": 1619443847525,
     "user": {
      "displayName": "Gianni Bevilacqua",
      "photoUrl": "",
      "userId": "02828618652131278541"
     },
     "user_tz": 180
    },
    "id": "tsI704krdHIX",
    "outputId": "b63b3352-1ee7-4c31-fd83-162efb33dfa4"
   },
   "outputs": [
    {
     "data": {
      "text/html": [
       "<div>\n",
       "<style scoped>\n",
       "    .dataframe tbody tr th:only-of-type {\n",
       "        vertical-align: middle;\n",
       "    }\n",
       "\n",
       "    .dataframe tbody tr th {\n",
       "        vertical-align: top;\n",
       "    }\n",
       "\n",
       "    .dataframe thead th {\n",
       "        text-align: right;\n",
       "    }\n",
       "</style>\n",
       "<table border=\"1\" class=\"dataframe\">\n",
       "  <thead>\n",
       "    <tr style=\"text-align: right;\">\n",
       "      <th></th>\n",
       "      <th>clasificacion_resumen</th>\n",
       "      <th>fecha_diagnostico</th>\n",
       "      <th>residencia_provincia_nombre</th>\n",
       "      <th>fallecido</th>\n",
       "      <th>fecha_fallecimiento</th>\n",
       "    </tr>\n",
       "  </thead>\n",
       "  <tbody>\n",
       "    <tr>\n",
       "      <th>0</th>\n",
       "      <td>1</td>\n",
       "      <td>2020-03-03</td>\n",
       "      <td>CABA</td>\n",
       "      <td>0</td>\n",
       "      <td>NaN</td>\n",
       "    </tr>\n",
       "    <tr>\n",
       "      <th>1</th>\n",
       "      <td>1</td>\n",
       "      <td>2020-03-06</td>\n",
       "      <td>Córdoba</td>\n",
       "      <td>0</td>\n",
       "      <td>NaN</td>\n",
       "    </tr>\n",
       "    <tr>\n",
       "      <th>2</th>\n",
       "      <td>1</td>\n",
       "      <td>2020-03-06</td>\n",
       "      <td>Buenos Aires</td>\n",
       "      <td>0</td>\n",
       "      <td>NaN</td>\n",
       "    </tr>\n",
       "    <tr>\n",
       "      <th>3</th>\n",
       "      <td>1</td>\n",
       "      <td>2020-03-06</td>\n",
       "      <td>CABA</td>\n",
       "      <td>0</td>\n",
       "      <td>NaN</td>\n",
       "    </tr>\n",
       "    <tr>\n",
       "      <th>4</th>\n",
       "      <td>1</td>\n",
       "      <td>2020-03-06</td>\n",
       "      <td>CABA</td>\n",
       "      <td>0</td>\n",
       "      <td>NaN</td>\n",
       "    </tr>\n",
       "    <tr>\n",
       "      <th>...</th>\n",
       "      <td>...</td>\n",
       "      <td>...</td>\n",
       "      <td>...</td>\n",
       "      <td>...</td>\n",
       "      <td>...</td>\n",
       "    </tr>\n",
       "    <tr>\n",
       "      <th>2548011</th>\n",
       "      <td>1</td>\n",
       "      <td>2021-04-22</td>\n",
       "      <td>Buenos Aires</td>\n",
       "      <td>0</td>\n",
       "      <td>NaN</td>\n",
       "    </tr>\n",
       "    <tr>\n",
       "      <th>2548012</th>\n",
       "      <td>1</td>\n",
       "      <td>2021-04-22</td>\n",
       "      <td>Buenos Aires</td>\n",
       "      <td>0</td>\n",
       "      <td>NaN</td>\n",
       "    </tr>\n",
       "    <tr>\n",
       "      <th>2548013</th>\n",
       "      <td>1</td>\n",
       "      <td>2021-04-22</td>\n",
       "      <td>Río Negro</td>\n",
       "      <td>0</td>\n",
       "      <td>NaN</td>\n",
       "    </tr>\n",
       "    <tr>\n",
       "      <th>2548014</th>\n",
       "      <td>1</td>\n",
       "      <td>2021-04-22</td>\n",
       "      <td>Buenos Aires</td>\n",
       "      <td>0</td>\n",
       "      <td>NaN</td>\n",
       "    </tr>\n",
       "    <tr>\n",
       "      <th>2548015</th>\n",
       "      <td>1</td>\n",
       "      <td>2021-04-22</td>\n",
       "      <td>Buenos Aires</td>\n",
       "      <td>0</td>\n",
       "      <td>NaN</td>\n",
       "    </tr>\n",
       "  </tbody>\n",
       "</table>\n",
       "<p>2058 rows × 5 columns</p>\n",
       "</div>"
      ],
      "text/plain": [
       "         clasificacion_resumen fecha_diagnostico  ... fallecido  fecha_fallecimiento\n",
       "0                            1        2020-03-03  ...         0                  NaN\n",
       "1                            1        2020-03-06  ...         0                  NaN\n",
       "2                            1        2020-03-06  ...         0                  NaN\n",
       "3                            1        2020-03-06  ...         0                  NaN\n",
       "4                            1        2020-03-06  ...         0                  NaN\n",
       "...                        ...               ...  ...       ...                  ...\n",
       "2548011                      1        2021-04-22  ...         0                  NaN\n",
       "2548012                      1        2021-04-22  ...         0                  NaN\n",
       "2548013                      1        2021-04-22  ...         0                  NaN\n",
       "2548014                      1        2021-04-22  ...         0                  NaN\n",
       "2548015                      1        2021-04-22  ...         0                  NaN\n",
       "\n",
       "[2058 rows x 5 columns]"
      ]
     },
     "execution_count": 75,
     "metadata": {
      "tags": []
     },
     "output_type": "execute_result"
    }
   ],
   "source": [
    "confirmgroup.head()"
   ]
  },
  {
   "cell_type": "code",
   "execution_count": null,
   "metadata": {
    "colab": {
     "base_uri": "https://localhost:8080/"
    },
    "executionInfo": {
     "elapsed": 730,
     "status": "ok",
     "timestamp": 1619443852281,
     "user": {
      "displayName": "Gianni Bevilacqua",
      "photoUrl": "",
      "userId": "02828618652131278541"
     },
     "user_tz": 180
    },
    "id": "wW_1jbdViEZU",
    "outputId": "29db6a18-2e02-4780-b151-5238de51e5bc"
   },
   "outputs": [
    {
     "data": {
      "text/plain": [
       "fecha_diagnostico\n",
       "2020-03-03        1\n",
       "2020-03-06        7\n",
       "2020-03-07        1\n",
       "2020-03-08        2\n",
       "2020-03-09        6\n",
       "              ...  \n",
       "2021-04-18    10623\n",
       "2021-04-19    23132\n",
       "2021-04-20    22834\n",
       "2021-04-21    17644\n",
       "2021-04-22     4295\n",
       "Name: clasificacion_resumen, Length: 414, dtype: int64"
      ]
     },
     "execution_count": 76,
     "metadata": {
      "tags": []
     },
     "output_type": "execute_result"
    }
   ],
   "source": [
    "confirmgroup[\"clasificacion_resumen\"].sum()"
   ]
  },
  {
   "cell_type": "code",
   "execution_count": null,
   "metadata": {
    "colab": {
     "base_uri": "https://localhost:8080/"
    },
    "executionInfo": {
     "elapsed": 991,
     "status": "ok",
     "timestamp": 1619445741120,
     "user": {
      "displayName": "Gianni Bevilacqua",
      "photoUrl": "",
      "userId": "02828618652131278541"
     },
     "user_tz": 180
    },
    "id": "DBZHkbZkdgC3",
    "outputId": "87fa603c-d494-4c4e-c9eb-70dbd6caf2e8"
   },
   "outputs": [
    {
     "name": "stderr",
     "output_type": "stream",
     "text": [
      "/usr/local/lib/python3.7/dist-packages/ipykernel_launcher.py:6: SettingWithCopyWarning: \n",
      "A value is trying to be set on a copy of a slice from a DataFrame\n",
      "\n",
      "See the caveats in the documentation: https://pandas.pydata.org/pandas-docs/stable/user_guide/indexing.html#returning-a-view-versus-a-copy\n",
      "  \n"
     ]
    }
   ],
   "source": [
    "cont = 1\n",
    "dataregresion = pd.DataFrame(confirmgroup.sum())\n",
    "dataregresion[\"dia\"] = 1\n",
    "dataregresion = dataregresion.reset_index()\n",
    "for i in range (len(dataregresion)):\n",
    "    dataregresion[\"dia\"][i] = cont\n",
    "    cont = cont + 1"
   ]
  },
  {
   "cell_type": "code",
   "execution_count": null,
   "metadata": {
    "colab": {
     "base_uri": "https://localhost:8080/",
     "height": 198
    },
    "executionInfo": {
     "elapsed": 909,
     "status": "ok",
     "timestamp": 1619445744348,
     "user": {
      "displayName": "Gianni Bevilacqua",
      "photoUrl": "",
      "userId": "02828618652131278541"
     },
     "user_tz": 180
    },
    "id": "6AkCZXbXdro-",
    "outputId": "f8c0cb11-ca7f-4ea5-8de1-149cbe65e255"
   },
   "outputs": [
    {
     "data": {
      "text/html": [
       "<div>\n",
       "<style scoped>\n",
       "    .dataframe tbody tr th:only-of-type {\n",
       "        vertical-align: middle;\n",
       "    }\n",
       "\n",
       "    .dataframe tbody tr th {\n",
       "        vertical-align: top;\n",
       "    }\n",
       "\n",
       "    .dataframe thead th {\n",
       "        text-align: right;\n",
       "    }\n",
       "</style>\n",
       "<table border=\"1\" class=\"dataframe\">\n",
       "  <thead>\n",
       "    <tr style=\"text-align: right;\">\n",
       "      <th></th>\n",
       "      <th>fecha_diagnostico</th>\n",
       "      <th>clasificacion_resumen</th>\n",
       "      <th>fallecido</th>\n",
       "      <th>dia</th>\n",
       "    </tr>\n",
       "  </thead>\n",
       "  <tbody>\n",
       "    <tr>\n",
       "      <th>409</th>\n",
       "      <td>2021-04-18</td>\n",
       "      <td>10623</td>\n",
       "      <td>16</td>\n",
       "      <td>410</td>\n",
       "    </tr>\n",
       "    <tr>\n",
       "      <th>410</th>\n",
       "      <td>2021-04-19</td>\n",
       "      <td>23132</td>\n",
       "      <td>41</td>\n",
       "      <td>411</td>\n",
       "    </tr>\n",
       "    <tr>\n",
       "      <th>411</th>\n",
       "      <td>2021-04-20</td>\n",
       "      <td>22834</td>\n",
       "      <td>15</td>\n",
       "      <td>412</td>\n",
       "    </tr>\n",
       "    <tr>\n",
       "      <th>412</th>\n",
       "      <td>2021-04-21</td>\n",
       "      <td>17644</td>\n",
       "      <td>22</td>\n",
       "      <td>413</td>\n",
       "    </tr>\n",
       "    <tr>\n",
       "      <th>413</th>\n",
       "      <td>2021-04-22</td>\n",
       "      <td>4295</td>\n",
       "      <td>8</td>\n",
       "      <td>414</td>\n",
       "    </tr>\n",
       "  </tbody>\n",
       "</table>\n",
       "</div>"
      ],
      "text/plain": [
       "    fecha_diagnostico  clasificacion_resumen  fallecido  dia\n",
       "409        2021-04-18                  10623         16  410\n",
       "410        2021-04-19                  23132         41  411\n",
       "411        2021-04-20                  22834         15  412\n",
       "412        2021-04-21                  17644         22  413\n",
       "413        2021-04-22                   4295          8  414"
      ]
     },
     "execution_count": 154,
     "metadata": {
      "tags": []
     },
     "output_type": "execute_result"
    }
   ],
   "source": [
    "dataregresion.tail()"
   ]
  },
  {
   "cell_type": "code",
   "execution_count": null,
   "metadata": {
    "colab": {
     "base_uri": "https://localhost:8080/"
    },
    "executionInfo": {
     "elapsed": 964,
     "status": "ok",
     "timestamp": 1619443852764,
     "user": {
      "displayName": "Gianni Bevilacqua",
      "photoUrl": "",
      "userId": "02828618652131278541"
     },
     "user_tz": 180
    },
    "id": "ANAvPUuwdHIY",
    "outputId": "56713923-6ed5-46c6-af85-f952c31cfe70"
   },
   "outputs": [
    {
     "name": "stderr",
     "output_type": "stream",
     "text": [
      "/usr/local/lib/python3.7/dist-packages/numpy/core/_asarray.py:83: VisibleDeprecationWarning: Creating an ndarray from ragged nested sequences (which is a list-or-tuple of lists-or-tuples-or ndarrays with different lengths or shapes) is deprecated. If you meant to do this, you must specify 'dtype=object' when creating the ndarray\n",
      "  return array(a, dtype, copy=False, order=order)\n",
      "/usr/local/lib/python3.7/dist-packages/ipykernel_launcher.py:8: SettingWithCopyWarning: \n",
      "A value is trying to be set on a copy of a slice from a DataFrame\n",
      "\n",
      "See the caveats in the documentation: https://pandas.pydata.org/pandas-docs/stable/user_guide/indexing.html#returning-a-view-versus-a-copy\n",
      "  \n"
     ]
    }
   ],
   "source": [
    "#cont = 1\n",
    "#dataregresion = pd.DataFrame(columns=[\"Fecha\", \"Positivos\", \"Dia\"])\n",
    "#dataregresion[\"Positivos\"] = confirmgroup[\"clasificacion_resumen\"].sum()\n",
    "#dataregresion[\"Fecha\"] = confirmgroup[\"fecha_diagnostico\"]\n",
    "#dataregresion = dataregresion.reset_index()\n",
    "#dataregresion = dataregresion.drop(labels=\"index\", axis=1)\n",
    "#for i in range (len(dataregresion)):\n",
    " #   dataregresion[\"Dia\"][i] = cont\n",
    " #   cont = cont + 1"
   ]
  },
  {
   "cell_type": "code",
   "execution_count": null,
   "metadata": {
    "colab": {
     "base_uri": "https://localhost:8080/",
     "height": 198
    },
    "executionInfo": {
     "elapsed": 955,
     "status": "ok",
     "timestamp": 1619445792463,
     "user": {
      "displayName": "Gianni Bevilacqua",
      "photoUrl": "",
      "userId": "02828618652131278541"
     },
     "user_tz": 180
    },
    "id": "ym5GxyQudHIY",
    "outputId": "5973404e-3f87-4a9d-f9ce-1632951b9b1b"
   },
   "outputs": [
    {
     "data": {
      "text/html": [
       "<div>\n",
       "<style scoped>\n",
       "    .dataframe tbody tr th:only-of-type {\n",
       "        vertical-align: middle;\n",
       "    }\n",
       "\n",
       "    .dataframe tbody tr th {\n",
       "        vertical-align: top;\n",
       "    }\n",
       "\n",
       "    .dataframe thead th {\n",
       "        text-align: right;\n",
       "    }\n",
       "</style>\n",
       "<table border=\"1\" class=\"dataframe\">\n",
       "  <thead>\n",
       "    <tr style=\"text-align: right;\">\n",
       "      <th></th>\n",
       "      <th>fecha_diagnostico</th>\n",
       "      <th>clasificacion_resumen</th>\n",
       "      <th>fallecido</th>\n",
       "      <th>dia</th>\n",
       "    </tr>\n",
       "  </thead>\n",
       "  <tbody>\n",
       "    <tr>\n",
       "      <th>0</th>\n",
       "      <td>2020-03-03</td>\n",
       "      <td>1</td>\n",
       "      <td>0</td>\n",
       "      <td>1</td>\n",
       "    </tr>\n",
       "    <tr>\n",
       "      <th>1</th>\n",
       "      <td>2020-03-06</td>\n",
       "      <td>7</td>\n",
       "      <td>0</td>\n",
       "      <td>2</td>\n",
       "    </tr>\n",
       "    <tr>\n",
       "      <th>2</th>\n",
       "      <td>2020-03-07</td>\n",
       "      <td>1</td>\n",
       "      <td>1</td>\n",
       "      <td>3</td>\n",
       "    </tr>\n",
       "    <tr>\n",
       "      <th>3</th>\n",
       "      <td>2020-03-08</td>\n",
       "      <td>2</td>\n",
       "      <td>0</td>\n",
       "      <td>4</td>\n",
       "    </tr>\n",
       "    <tr>\n",
       "      <th>4</th>\n",
       "      <td>2020-03-09</td>\n",
       "      <td>6</td>\n",
       "      <td>0</td>\n",
       "      <td>5</td>\n",
       "    </tr>\n",
       "  </tbody>\n",
       "</table>\n",
       "</div>"
      ],
      "text/plain": [
       "  fecha_diagnostico  clasificacion_resumen  fallecido  dia\n",
       "0        2020-03-03                      1          0    1\n",
       "1        2020-03-06                      7          0    2\n",
       "2        2020-03-07                      1          1    3\n",
       "3        2020-03-08                      2          0    4\n",
       "4        2020-03-09                      6          0    5"
      ]
     },
     "execution_count": 155,
     "metadata": {
      "tags": []
     },
     "output_type": "execute_result"
    }
   ],
   "source": [
    "dataregresion.head()"
   ]
  },
  {
   "cell_type": "code",
   "execution_count": null,
   "metadata": {
    "id": "WzaN7lg9dHIZ"
   },
   "outputs": [],
   "source": [
    "from sklearn.linear_model import LinearRegression"
   ]
  },
  {
   "cell_type": "code",
   "execution_count": null,
   "metadata": {
    "colab": {
     "base_uri": "https://localhost:8080/"
    },
    "executionInfo": {
     "elapsed": 813,
     "status": "ok",
     "timestamp": 1619445851855,
     "user": {
      "displayName": "Gianni Bevilacqua",
      "photoUrl": "",
      "userId": "02828618652131278541"
     },
     "user_tz": 180
    },
    "id": "VCrlK_ocdHIa",
    "outputId": "4182254b-f74f-49ea-8391-5a3c10b117f0"
   },
   "outputs": [
    {
     "name": "stderr",
     "output_type": "stream",
     "text": [
      "/usr/local/lib/python3.7/dist-packages/ipykernel_launcher.py:2: FutureWarning: Support for multi-dimensional indexing (e.g. `obj[:, None]`) is deprecated and will be removed in a future version.  Convert to a numpy array before indexing instead.\n",
      "  \n"
     ]
    }
   ],
   "source": [
    "X_pred = dataregresion[\"dia\"]\n",
    "X_pred = X_pred[:,np.newaxis]\n",
    "Y = dataregresion[\"clasificacion_resumen\"]"
   ]
  },
  {
   "cell_type": "code",
   "execution_count": null,
   "metadata": {
    "colab": {
     "base_uri": "https://localhost:8080/"
    },
    "executionInfo": {
     "elapsed": 1135,
     "status": "ok",
     "timestamp": 1619445888378,
     "user": {
      "displayName": "Gianni Bevilacqua",
      "photoUrl": "",
      "userId": "02828618652131278541"
     },
     "user_tz": 180
    },
    "id": "ttTdpbGldHIa",
    "outputId": "e27c2940-1dd9-4c25-e0cd-23237267a1fb"
   },
   "outputs": [
    {
     "data": {
      "text/plain": [
       "LinearRegression(copy_X=True, fit_intercept=True, n_jobs=None, normalize=False)"
      ]
     },
     "execution_count": 162,
     "metadata": {
      "tags": []
     },
     "output_type": "execute_result"
    }
   ],
   "source": [
    "lm = LinearRegression()\n",
    "lm.fit(X_pred, Y)"
   ]
  },
  {
   "cell_type": "code",
   "execution_count": null,
   "metadata": {
    "colab": {
     "base_uri": "https://localhost:8080/"
    },
    "executionInfo": {
     "elapsed": 959,
     "status": "ok",
     "timestamp": 1619445901737,
     "user": {
      "displayName": "Gianni Bevilacqua",
      "photoUrl": "",
      "userId": "02828618652131278541"
     },
     "user_tz": 180
    },
    "id": "JLuLGT21dHIb",
    "outputId": "15657e7d-ef22-4170-90a5-33b906f7695d"
   },
   "outputs": [
    {
     "data": {
      "text/plain": [
       "276.23506567942877"
      ]
     },
     "execution_count": 166,
     "metadata": {
      "tags": []
     },
     "output_type": "execute_result"
    }
   ],
   "source": [
    "lm.intercept_\n"
   ]
  },
  {
   "cell_type": "code",
   "execution_count": null,
   "metadata": {
    "colab": {
     "base_uri": "https://localhost:8080/"
    },
    "executionInfo": {
     "elapsed": 1263,
     "status": "ok",
     "timestamp": 1619445902387,
     "user": {
      "displayName": "Gianni Bevilacqua",
      "photoUrl": "",
      "userId": "02828618652131278541"
     },
     "user_tz": 180
    },
    "id": "v094SMpxdHIb",
    "outputId": "b3299827-20d8-407b-f805-ac33e89c404c"
   },
   "outputs": [
    {
     "data": {
      "text/plain": [
       "array([28.37954348])"
      ]
     },
     "execution_count": 167,
     "metadata": {
      "tags": []
     },
     "output_type": "execute_result"
    }
   ],
   "source": [
    "lm.coef_"
   ]
  },
  {
   "cell_type": "code",
   "execution_count": null,
   "metadata": {
    "colab": {
     "base_uri": "https://localhost:8080/"
    },
    "executionInfo": {
     "elapsed": 1350,
     "status": "ok",
     "timestamp": 1619445902729,
     "user": {
      "displayName": "Gianni Bevilacqua",
      "photoUrl": "",
      "userId": "02828618652131278541"
     },
     "user_tz": 180
    },
    "id": "L68MmMridHIc",
    "outputId": "6e07cf9b-7bdb-4d32-96d6-032012d0ac67"
   },
   "outputs": [
    {
     "data": {
      "text/plain": [
       "0.4330706550784228"
      ]
     },
     "execution_count": 168,
     "metadata": {
      "tags": []
     },
     "output_type": "execute_result"
    }
   ],
   "source": [
    "lm.score(X_pred, Y)"
   ]
  },
  {
   "cell_type": "markdown",
   "metadata": {
    "id": "K34767SndHIc"
   },
   "source": [
    "#### y = 276.235066 + 28.3796 * dia"
   ]
  },
  {
   "cell_type": "code",
   "execution_count": null,
   "metadata": {
    "colab": {
     "base_uri": "https://localhost:8080/",
     "height": 283
    },
    "executionInfo": {
     "elapsed": 867,
     "status": "ok",
     "timestamp": 1619446264979,
     "user": {
      "displayName": "Gianni Bevilacqua",
      "photoUrl": "",
      "userId": "02828618652131278541"
     },
     "user_tz": 180
    },
    "id": "a4s9ALrpdHId",
    "outputId": "3f6dba8e-ac86-42d2-9e0a-85e9ce1be810"
   },
   "outputs": [
    {
     "data": {
      "text/plain": [
       "[<matplotlib.lines.Line2D at 0x7f39dfb25090>]"
      ]
     },
     "execution_count": 170,
     "metadata": {
      "tags": []
     },
     "output_type": "execute_result"
    },
    {
     "data": {
      "image/png": "[encoded data removed]",
      "text/plain": [
       "<Figure size 432x288 with 1 Axes>"
      ]
     },
     "metadata": {
      "needs_background": "light",
      "tags": []
     },
     "output_type": "display_data"
    }
   ],
   "source": [
    "%matplotlib inline\n",
    "plt.plot(X_pred,Y, \"ro\")\n",
    "plt.plot(X_pred, lm.predict(X_pred), color=\"blue\")"
   ]
  },
  {
   "cell_type": "code",
   "execution_count": null,
   "metadata": {
    "colab": {
     "base_uri": "https://localhost:8080/"
    },
    "executionInfo": {
     "elapsed": 964,
     "status": "ok",
     "timestamp": 1619446265315,
     "user": {
      "displayName": "Gianni Bevilacqua",
      "photoUrl": "",
      "userId": "02828618652131278541"
     },
     "user_tz": 180
    },
    "id": "DpoDW7yvdHId",
    "outputId": "7e3267b2-2db2-478a-b56c-ad053d7e67c8"
   },
   "outputs": [
    {
     "data": {
      "text/plain": [
       "(6234451256.700005, 3885.295821938267, 6164.990338164252, 63.02192880800509)"
      ]
     },
     "execution_count": 171,
     "metadata": {
      "tags": []
     },
     "output_type": "execute_result"
    }
   ],
   "source": [
    "SSD = np.sum((Y - lm.predict(X_pred))**2)\n",
    "RSE = np.sqrt(SSD/(len(X_pred)-1))\n",
    "y_mean = np.mean(Y)\n",
    "error = RSE/y_mean\n",
    "SSD, RSE, y_mean, error*100"
   ]
  },
  {
   "cell_type": "markdown",
   "metadata": {
    "id": "Pj_zMbOMdHIe"
   },
   "source": [
    "#### intentando una cuadratica"
   ]
  },
  {
   "cell_type": "code",
   "execution_count": null,
   "metadata": {
    "id": "xIk3H067dHIe",
    "outputId": "a668f74f-a4d0-45ab-d5f8-aa7bad12a736"
   },
   "outputs": [
    {
     "data": {
      "text/plain": [
       "0.3414886440378395"
      ]
     },
     "execution_count": 92,
     "metadata": {
      "tags": []
     },
     "output_type": "execute_result"
    }
   ],
   "source": [
    "X_data = dataregresion[\"Dia\"]**2\n",
    "X_data = np.asarray(X_data)\n",
    "X_data = X_data[:,np.newaxis]\n",
    "lm = LinearRegression()\n",
    "lm.fit(X_data, Y)\n",
    "lm.score(X_data, Y)"
   ]
  },
  {
   "cell_type": "code",
   "execution_count": null,
   "metadata": {
    "id": "bf8o14RYdHIf",
    "outputId": "61a89685-75f6-489f-fb0a-84eddba3fae2",
    "scrolled": true
   },
   "outputs": [
    {
     "data": {
      "text/html": [
       "<div>\n",
       "<style scoped>\n",
       "    .dataframe tbody tr th:only-of-type {\n",
       "        vertical-align: middle;\n",
       "    }\n",
       "\n",
       "    .dataframe tbody tr th {\n",
       "        vertical-align: top;\n",
       "    }\n",
       "\n",
       "    .dataframe thead th {\n",
       "        text-align: right;\n",
       "    }\n",
       "</style>\n",
       "<table border=\"1\" class=\"dataframe\">\n",
       "  <thead>\n",
       "    <tr style=\"text-align: right;\">\n",
       "      <th></th>\n",
       "      <th>Fecha</th>\n",
       "      <th>Positivos</th>\n",
       "      <th>Dia</th>\n",
       "    </tr>\n",
       "  </thead>\n",
       "  <tbody>\n",
       "    <tr>\n",
       "      <th>407</th>\n",
       "      <td>2021-04-16</td>\n",
       "      <td>22491</td>\n",
       "      <td>408</td>\n",
       "    </tr>\n",
       "    <tr>\n",
       "      <th>408</th>\n",
       "      <td>2021-04-17</td>\n",
       "      <td>14724</td>\n",
       "      <td>409</td>\n",
       "    </tr>\n",
       "    <tr>\n",
       "      <th>409</th>\n",
       "      <td>2021-04-18</td>\n",
       "      <td>9899</td>\n",
       "      <td>410</td>\n",
       "    </tr>\n",
       "    <tr>\n",
       "      <th>410</th>\n",
       "      <td>2021-04-19</td>\n",
       "      <td>18932</td>\n",
       "      <td>411</td>\n",
       "    </tr>\n",
       "    <tr>\n",
       "      <th>411</th>\n",
       "      <td>2021-04-20</td>\n",
       "      <td>5884</td>\n",
       "      <td>412</td>\n",
       "    </tr>\n",
       "  </tbody>\n",
       "</table>\n",
       "</div>"
      ],
      "text/plain": [
       "         Fecha  Positivos  Dia\n",
       "407 2021-04-16      22491  408\n",
       "408 2021-04-17      14724  409\n",
       "409 2021-04-18       9899  410\n",
       "410 2021-04-19      18932  411\n",
       "411 2021-04-20       5884  412"
      ]
     },
     "execution_count": 93,
     "metadata": {
      "tags": []
     },
     "output_type": "execute_result"
    }
   ],
   "source": [
    "dataregresion.tail()"
   ]
  },
  {
   "cell_type": "code",
   "execution_count": null,
   "metadata": {
    "id": "4LGZf0TAdHIf"
   },
   "outputs": [],
   "source": [
    "dataregresion_corto = dataregresion[(dataregresion[\"Fecha\"]>\"2021-03-18\") & (dataregresion[\"Fecha\"]<\"2021-04-20\")]"
   ]
  },
  {
   "cell_type": "code",
   "execution_count": null,
   "metadata": {
    "id": "EWiW721cdHIg",
    "outputId": "c4ae28d9-01d3-4160-d516-919935ff6157"
   },
   "outputs": [
    {
     "data": {
      "text/html": [
       "<div>\n",
       "<style scoped>\n",
       "    .dataframe tbody tr th:only-of-type {\n",
       "        vertical-align: middle;\n",
       "    }\n",
       "\n",
       "    .dataframe tbody tr th {\n",
       "        vertical-align: top;\n",
       "    }\n",
       "\n",
       "    .dataframe thead th {\n",
       "        text-align: right;\n",
       "    }\n",
       "</style>\n",
       "<table border=\"1\" class=\"dataframe\">\n",
       "  <thead>\n",
       "    <tr style=\"text-align: right;\">\n",
       "      <th></th>\n",
       "      <th>Fecha</th>\n",
       "      <th>Positivos</th>\n",
       "      <th>Dia</th>\n",
       "    </tr>\n",
       "  </thead>\n",
       "  <tbody>\n",
       "    <tr>\n",
       "      <th>406</th>\n",
       "      <td>2021-04-15</td>\n",
       "      <td>21191</td>\n",
       "      <td>407</td>\n",
       "    </tr>\n",
       "    <tr>\n",
       "      <th>407</th>\n",
       "      <td>2021-04-16</td>\n",
       "      <td>22491</td>\n",
       "      <td>408</td>\n",
       "    </tr>\n",
       "    <tr>\n",
       "      <th>408</th>\n",
       "      <td>2021-04-17</td>\n",
       "      <td>14724</td>\n",
       "      <td>409</td>\n",
       "    </tr>\n",
       "    <tr>\n",
       "      <th>409</th>\n",
       "      <td>2021-04-18</td>\n",
       "      <td>9899</td>\n",
       "      <td>410</td>\n",
       "    </tr>\n",
       "    <tr>\n",
       "      <th>410</th>\n",
       "      <td>2021-04-19</td>\n",
       "      <td>18932</td>\n",
       "      <td>411</td>\n",
       "    </tr>\n",
       "  </tbody>\n",
       "</table>\n",
       "</div>"
      ],
      "text/plain": [
       "         Fecha  Positivos  Dia\n",
       "406 2021-04-15      21191  407\n",
       "407 2021-04-16      22491  408\n",
       "408 2021-04-17      14724  409\n",
       "409 2021-04-18       9899  410\n",
       "410 2021-04-19      18932  411"
      ]
     },
     "execution_count": 95,
     "metadata": {
      "tags": []
     },
     "output_type": "execute_result"
    }
   ],
   "source": [
    "dataregresion_corto.tail()"
   ]
  },
  {
   "cell_type": "code",
   "execution_count": null,
   "metadata": {
    "id": "vmcgvvUwdHIg",
    "outputId": "b851086b-7f56-4027-9379-14ce5370b1f9"
   },
   "outputs": [
    {
     "data": {
      "text/plain": [
       "(6806145122.383106, 4069.3935422147056, 6078.228155339806, 66.95032562474128)"
      ]
     },
     "execution_count": 96,
     "metadata": {
      "tags": []
     },
     "output_type": "execute_result"
    }
   ],
   "source": [
    "SSD = np.sum((Y - lm.predict(X_data))**2)\n",
    "RSE = np.sqrt(SSD/(len(X_data)-1))\n",
    "y_mean = np.mean(Y)\n",
    "error = RSE/y_mean\n",
    "SSD, RSE, y_mean, error*100"
   ]
  },
  {
   "cell_type": "code",
   "execution_count": null,
   "metadata": {
    "id": "lK9kwZZLdHIh",
    "outputId": "b5cec83e-6866-486f-eb4d-60ab87e9cf15"
   },
   "outputs": [
    {
     "data": {
      "text/plain": [
       "(2801.371173511617, array([0.05770384]), 0.3414886440378395)"
      ]
     },
     "execution_count": 97,
     "metadata": {
      "tags": []
     },
     "output_type": "execute_result"
    }
   ],
   "source": [
    "lm.intercept_, lm.coef_ , lm.score(X_data, Y), "
   ]
  },
  {
   "cell_type": "code",
   "execution_count": null,
   "metadata": {
    "id": "bPYoRcBRdHIh"
   },
   "outputs": [],
   "source": [
    "dataregresion_corto = dataregresion_corto.reset_index()"
   ]
  },
  {
   "cell_type": "code",
   "execution_count": null,
   "metadata": {
    "id": "VEM2B6_9dHIi"
   },
   "outputs": [],
   "source": [
    "dataregresion_corto = dataregresion_corto.drop(labels=\"index\", axis=1)"
   ]
  },
  {
   "cell_type": "code",
   "execution_count": null,
   "metadata": {
    "id": "nprZ8Iw8dHIi"
   },
   "outputs": [],
   "source": [
    "#X_data = dataregresion_corto[\"Dia\"]\n",
    "X_data =np.arange(0,len(dataregresion_corto))\n",
    "X_data = X_data[:,np.newaxis]\n",
    "Y = dataregresion_corto[\"Positivos\"]"
   ]
  },
  {
   "cell_type": "code",
   "execution_count": null,
   "metadata": {
    "id": "r0Oe5uBNdHIi",
    "outputId": "a4055816-3ba6-4e71-bae8-036acda2adfc"
   },
   "outputs": [
    {
     "data": {
      "text/plain": [
       "LinearRegression(copy_X=True, fit_intercept=True, n_jobs=None,\n",
       "         normalize=False)"
      ]
     },
     "execution_count": 126,
     "metadata": {
      "tags": []
     },
     "output_type": "execute_result"
    }
   ],
   "source": [
    "lm = LinearRegression()\n",
    "lm.fit(X_data, Y)"
   ]
  },
  {
   "cell_type": "code",
   "execution_count": null,
   "metadata": {
    "id": "G7Q18ilhdHIj",
    "outputId": "376da9bc-e8b2-46a1-983c-ac1d55d2405c"
   },
   "outputs": [
    {
     "data": {
      "text/plain": [
       "(6871.28307692308, array([728.55307692]), 0.6839909027898381)"
      ]
     },
     "execution_count": 127,
     "metadata": {
      "tags": []
     },
     "output_type": "execute_result"
    }
   ],
   "source": [
    "lm.intercept_, lm.coef_ , lm.score(X_data, Y), "
   ]
  },
  {
   "cell_type": "markdown",
   "metadata": {
    "id": "HLBPDSeidHIj"
   },
   "source": [
    "#### Funcion y= 6871.283077 + 728.553077*Dia Numero"
   ]
  },
  {
   "cell_type": "code",
   "execution_count": null,
   "metadata": {
    "id": "7DKmNFkIdHIs",
    "outputId": "5b13f9f6-5a91-4cc6-f1ab-4cf885ea2d42"
   },
   "outputs": [
    {
     "data": {
      "text/plain": [
       "(318797572.1776922, 3644.616876171007, 15613.92, 23.342100357700097)"
      ]
     },
     "execution_count": 128,
     "metadata": {
      "tags": []
     },
     "output_type": "execute_result"
    }
   ],
   "source": [
    "SSD = np.sum((Y - lm.predict(X_data))**2)\n",
    "RSE = np.sqrt(SSD/(len(X_data)-1))\n",
    "y_mean = np.mean(Y)\n",
    "error = RSE/y_mean\n",
    "SSD, RSE, y_mean, error*100"
   ]
  },
  {
   "cell_type": "code",
   "execution_count": null,
   "metadata": {
    "id": "UimaxW8XdHIs",
    "outputId": "51442a60-8f68-4967-ce31-b46743bfa646"
   },
   "outputs": [
    {
     "data": {
      "text/plain": [
       "307763.70387800003"
      ]
     },
     "execution_count": 129,
     "metadata": {
      "tags": []
     },
     "output_type": "execute_result"
    }
   ],
   "source": [
    "6871.283077 + (728.553077*413)"
   ]
  },
  {
   "cell_type": "code",
   "execution_count": null,
   "metadata": {
    "id": "1DrJ10ftdHIt",
    "outputId": "11c667f5-52c9-4fe9-905a-35a5066dba6f"
   },
   "outputs": [
    {
     "data": {
      "text/html": [
       "<div>\n",
       "<style scoped>\n",
       "    .dataframe tbody tr th:only-of-type {\n",
       "        vertical-align: middle;\n",
       "    }\n",
       "\n",
       "    .dataframe tbody tr th {\n",
       "        vertical-align: top;\n",
       "    }\n",
       "\n",
       "    .dataframe thead th {\n",
       "        text-align: right;\n",
       "    }\n",
       "</style>\n",
       "<table border=\"1\" class=\"dataframe\">\n",
       "  <thead>\n",
       "    <tr style=\"text-align: right;\">\n",
       "      <th></th>\n",
       "      <th>Fecha</th>\n",
       "      <th>Positivos</th>\n",
       "      <th>Dia</th>\n",
       "    </tr>\n",
       "  </thead>\n",
       "  <tbody>\n",
       "    <tr>\n",
       "      <th>0</th>\n",
       "      <td>2021-03-19</td>\n",
       "      <td>7494</td>\n",
       "      <td>380</td>\n",
       "    </tr>\n",
       "    <tr>\n",
       "      <th>1</th>\n",
       "      <td>2021-03-20</td>\n",
       "      <td>5350</td>\n",
       "      <td>381</td>\n",
       "    </tr>\n",
       "    <tr>\n",
       "      <th>2</th>\n",
       "      <td>2021-03-21</td>\n",
       "      <td>2900</td>\n",
       "      <td>382</td>\n",
       "    </tr>\n",
       "    <tr>\n",
       "      <th>3</th>\n",
       "      <td>2021-03-22</td>\n",
       "      <td>8845</td>\n",
       "      <td>383</td>\n",
       "    </tr>\n",
       "    <tr>\n",
       "      <th>4</th>\n",
       "      <td>2021-03-23</td>\n",
       "      <td>9590</td>\n",
       "      <td>384</td>\n",
       "    </tr>\n",
       "  </tbody>\n",
       "</table>\n",
       "</div>"
      ],
      "text/plain": [
       "       Fecha  Positivos  Dia\n",
       "0 2021-03-19       7494  380\n",
       "1 2021-03-20       5350  381\n",
       "2 2021-03-21       2900  382\n",
       "3 2021-03-22       8845  383\n",
       "4 2021-03-23       9590  384"
      ]
     },
     "execution_count": 130,
     "metadata": {
      "tags": []
     },
     "output_type": "execute_result"
    }
   ],
   "source": [
    "dataregresion_corto.head()"
   ]
  },
  {
   "cell_type": "code",
   "execution_count": null,
   "metadata": {
    "id": "Lt9vvhDLdHIt",
    "outputId": "e4fe3935-4607-42a1-9de0-e585e8eda4db"
   },
   "outputs": [
    {
     "data": {
      "text/plain": [
       "[<matplotlib.lines.Line2D at 0x1df47ce52b0>]"
      ]
     },
     "execution_count": 131,
     "metadata": {
      "tags": []
     },
     "output_type": "execute_result"
    },
    {
     "data": {
      "image/png": "[encoded data removed]",
      "text/plain": [
       "<matplotlib.figure.Figure at 0x1df47ce5908>"
      ]
     },
     "metadata": {
      "needs_background": "light",
      "tags": []
     },
     "output_type": "display_data"
    }
   ],
   "source": [
    "%matplotlib inline\n",
    "plt.plot(X_data,Y, \"ro\")\n",
    "plt.plot(X_data, lm.predict(X_data), color=\"blue\")"
   ]
  },
  {
   "cell_type": "code",
   "execution_count": null,
   "metadata": {
    "id": "LDXKXAg0dHIu",
    "outputId": "44a31126-3777-4bb0-80c1-619a0da9695b"
   },
   "outputs": [
    {
     "data": {
      "text/html": [
       "<div>\n",
       "<style scoped>\n",
       "    .dataframe tbody tr th:only-of-type {\n",
       "        vertical-align: middle;\n",
       "    }\n",
       "\n",
       "    .dataframe tbody tr th {\n",
       "        vertical-align: top;\n",
       "    }\n",
       "\n",
       "    .dataframe thead th {\n",
       "        text-align: right;\n",
       "    }\n",
       "</style>\n",
       "<table border=\"1\" class=\"dataframe\">\n",
       "  <thead>\n",
       "    <tr style=\"text-align: right;\">\n",
       "      <th></th>\n",
       "      <th>Fecha</th>\n",
       "      <th>Positivos</th>\n",
       "      <th>Dia</th>\n",
       "    </tr>\n",
       "  </thead>\n",
       "  <tbody>\n",
       "  </tbody>\n",
       "</table>\n",
       "</div>"
      ],
      "text/plain": [
       "Empty DataFrame\n",
       "Columns: [Fecha, Positivos, Dia]\n",
       "Index: []"
      ]
     },
     "execution_count": 110,
     "metadata": {
      "tags": []
     },
     "output_type": "execute_result"
    }
   ],
   "source": [
    "dataregresion_corto[(dataregresion_corto[\"Dia\"] > 387) & (dataregresion_corto[\"Positivos\"] < 12000) ]"
   ]
  },
  {
   "cell_type": "code",
   "execution_count": null,
   "metadata": {
    "id": "laxL-yVndHIu"
   },
   "outputs": [],
   "source": [
    "#dataregresion_corto = dataregresion_corto.drop([8, 9, 16, 23, 30, 14 ,15]) #LIMPIANDO OUTLIERS"
   ]
  },
  {
   "cell_type": "code",
   "execution_count": null,
   "metadata": {
    "id": "v_2Ux4CgdHIv"
   },
   "outputs": [],
   "source": []
  },
  {
   "cell_type": "code",
   "execution_count": null,
   "metadata": {
    "id": "zfsFw5WsdHIv"
   },
   "outputs": [],
   "source": []
  }
 ],
 "metadata": {
  "colab": {
   "collapsed_sections": [
    "K34767SndHIc",
    "Pj_zMbOMdHIe",
    "HLBPDSeidHIj"
   ],
   "name": "Virus Chino.ipynb",
   "provenance": []
  },
  "kernelspec": {
   "display_name": "Python 3",
   "language": "python",
   "name": "python3"
  },
  "language_info": {
   "codemirror_mode": {
    "name": "ipython",
    "version": 3
   },
   "file_extension": ".py",
   "mimetype": "text/x-python",
   "name": "python",
   "nbconvert_exporter": "python",
   "pygments_lexer": "ipython3",
   "version": "3.5.5"
  }
 },
 "nbformat": 4,
 "nbformat_minor": 1
}
