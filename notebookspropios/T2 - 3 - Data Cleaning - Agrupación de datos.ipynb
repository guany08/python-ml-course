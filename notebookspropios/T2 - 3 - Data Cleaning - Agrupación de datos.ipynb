{
 "cells": [
  {
   "cell_type": "markdown",
   "metadata": {
    "colab_type": "text",
    "id": "view-in-github"
   },
   "source": [
    "<a href=\"https://colab.research.google.com/github/joanby/python-ml-course/blob/Collab---v-3.8/notebooks/T2%20-%203%20-%20Data%20Cleaning%20-%20Agrupaci%C3%B3n%20de%20datos.ipynb\" target=\"_parent\"><img src=\"https://colab.research.google.com/assets/colab-badge.svg\" alt=\"Open In Colab\"/></a>"
   ]
  },
  {
   "cell_type": "markdown",
   "metadata": {
    "colab_type": "text",
    "id": "K2teubACAkRb"
   },
   "source": [
    "# Agregación de datos por categoría"
   ]
  },
  {
   "cell_type": "code",
   "execution_count": 0,
   "metadata": {
    "colab": {},
    "colab_type": "code",
    "id": "VDV8LPSJA61J"
   },
   "outputs": [],
   "source": [
    "from google.colab import drive\n",
    "drive.mount('/content/drive')"
   ]
  },
  {
   "cell_type": "code",
   "execution_count": 3,
   "metadata": {
    "colab": {},
    "colab_type": "code",
    "id": "zwuY-TMgAkRc"
   },
   "outputs": [],
   "source": [
    "import numpy as np\n",
    "import pandas as pd"
   ]
  },
  {
   "cell_type": "code",
   "execution_count": 5,
   "metadata": {
    "colab": {},
    "colab_type": "code",
    "id": "0r6-BV-FAkRi"
   },
   "outputs": [],
   "source": [
    "gender = [\"Male\", \"Female\"]\n",
    "income = [\"Poor\", \"Middle Class\", \"Rich\"]"
   ]
  },
  {
   "cell_type": "code",
   "execution_count": 6,
   "metadata": {
    "colab": {},
    "colab_type": "code",
    "id": "dUOu8paRAkRl"
   },
   "outputs": [],
   "source": [
    "n = 500\n",
    "\n",
    "gender_data = []\n",
    "income_data = []\n",
    "\n",
    "for i in range(0,500):\n",
    "    gender_data.append(np.random.choice(gender))\n",
    "    income_data.append(np.random.choice(income))"
   ]
  },
  {
   "cell_type": "code",
   "execution_count": 12,
   "metadata": {
    "colab": {
     "base_uri": "https://localhost:8080/",
     "height": 170
    },
    "colab_type": "code",
    "id": "wz2m3fpuAkRo",
    "outputId": "fe626221-e112-4cdd-cfb3-6d68a36045b8"
   },
   "outputs": [
    {
     "data": {
      "text/plain": [
       "['Female',\n",
       " 'Male',\n",
       " 'Female',\n",
       " 'Male',\n",
       " 'Female',\n",
       " 'Female',\n",
       " 'Female',\n",
       " 'Male',\n",
       " 'Male']"
      ]
     },
     "execution_count": 12,
     "metadata": {},
     "output_type": "execute_result"
    }
   ],
   "source": [
    "gender_data[0:9]"
   ]
  },
  {
   "cell_type": "code",
   "execution_count": 11,
   "metadata": {
    "colab": {
     "base_uri": "https://localhost:8080/",
     "height": 170
    },
    "colab_type": "code",
    "id": "CafW2UzYAkRr",
    "outputId": "748ee054-8376-4ff8-c445-9d4734231046"
   },
   "outputs": [
    {
     "data": {
      "text/plain": [
       "['Middle Class',\n",
       " 'Poor',\n",
       " 'Middle Class',\n",
       " 'Middle Class',\n",
       " 'Poor',\n",
       " 'Middle Class',\n",
       " 'Rich',\n",
       " 'Middle Class',\n",
       " 'Middle Class']"
      ]
     },
     "execution_count": 11,
     "metadata": {},
     "output_type": "execute_result"
    }
   ],
   "source": [
    "income_data[0:9]"
   ]
  },
  {
   "cell_type": "code",
   "execution_count": 15,
   "metadata": {
    "colab": {},
    "colab_type": "code",
    "id": "Q53rIw03AkRu"
   },
   "outputs": [],
   "source": [
    "#Z -> N(0,1)\n",
    "#N(m, s) -> m + s * Z\n",
    "height = 160 + 30 * np.random.randn(n)\n",
    "weight = 65 + 25 * np.random.randn(n)\n",
    "age = 30 + 12 * np.random.randn(n)\n",
    "income = 18000 + 3500 * np.random.randn(n)"
   ]
  },
  {
   "cell_type": "code",
   "execution_count": 17,
   "metadata": {
    "colab": {},
    "colab_type": "code",
    "id": "tUaeOrqrAkRv"
   },
   "outputs": [],
   "source": [
    "data = pd.DataFrame(\n",
    "    {\n",
    "        \"Gender\" : gender_data,\n",
    "        \"Economic Status\" : income_data,\n",
    "        \"Height\" : height,\n",
    "        \"Weight\" : weight,\n",
    "        \"Age\" : age,\n",
    "        \"Income\" : income\n",
    "    }\n",
    ")"
   ]
  },
  {
   "cell_type": "code",
   "execution_count": 18,
   "metadata": {
    "colab": {
     "base_uri": "https://localhost:8080/",
     "height": 204
    },
    "colab_type": "code",
    "id": "MXeeNF_YAkRx",
    "outputId": "885503b1-4c71-4dea-f6cf-0aefe3c893e6"
   },
   "outputs": [
    {
     "data": {
      "text/html": [
       "<div>\n",
       "<style scoped>\n",
       "    .dataframe tbody tr th:only-of-type {\n",
       "        vertical-align: middle;\n",
       "    }\n",
       "\n",
       "    .dataframe tbody tr th {\n",
       "        vertical-align: top;\n",
       "    }\n",
       "\n",
       "    .dataframe thead th {\n",
       "        text-align: right;\n",
       "    }\n",
       "</style>\n",
       "<table border=\"1\" class=\"dataframe\">\n",
       "  <thead>\n",
       "    <tr style=\"text-align: right;\">\n",
       "      <th></th>\n",
       "      <th>Age</th>\n",
       "      <th>Economic Status</th>\n",
       "      <th>Gender</th>\n",
       "      <th>Height</th>\n",
       "      <th>Income</th>\n",
       "      <th>Weight</th>\n",
       "    </tr>\n",
       "  </thead>\n",
       "  <tbody>\n",
       "    <tr>\n",
       "      <th>0</th>\n",
       "      <td>30.903084</td>\n",
       "      <td>Middle Class</td>\n",
       "      <td>Female</td>\n",
       "      <td>141.465244</td>\n",
       "      <td>23679.755818</td>\n",
       "      <td>35.692638</td>\n",
       "    </tr>\n",
       "    <tr>\n",
       "      <th>1</th>\n",
       "      <td>20.190859</td>\n",
       "      <td>Poor</td>\n",
       "      <td>Male</td>\n",
       "      <td>127.965563</td>\n",
       "      <td>10063.472469</td>\n",
       "      <td>65.160956</td>\n",
       "    </tr>\n",
       "    <tr>\n",
       "      <th>2</th>\n",
       "      <td>15.056650</td>\n",
       "      <td>Middle Class</td>\n",
       "      <td>Female</td>\n",
       "      <td>171.438803</td>\n",
       "      <td>9958.532654</td>\n",
       "      <td>87.296548</td>\n",
       "    </tr>\n",
       "    <tr>\n",
       "      <th>3</th>\n",
       "      <td>26.246600</td>\n",
       "      <td>Middle Class</td>\n",
       "      <td>Male</td>\n",
       "      <td>157.562560</td>\n",
       "      <td>18124.225638</td>\n",
       "      <td>53.621600</td>\n",
       "    </tr>\n",
       "    <tr>\n",
       "      <th>4</th>\n",
       "      <td>25.886810</td>\n",
       "      <td>Poor</td>\n",
       "      <td>Female</td>\n",
       "      <td>149.171742</td>\n",
       "      <td>18366.643927</td>\n",
       "      <td>91.805779</td>\n",
       "    </tr>\n",
       "  </tbody>\n",
       "</table>\n",
       "</div>"
      ],
      "text/plain": [
       "         Age Economic Status  Gender      Height        Income     Weight\n",
       "0  30.903084    Middle Class  Female  141.465244  23679.755818  35.692638\n",
       "1  20.190859            Poor    Male  127.965563  10063.472469  65.160956\n",
       "2  15.056650    Middle Class  Female  171.438803   9958.532654  87.296548\n",
       "3  26.246600    Middle Class    Male  157.562560  18124.225638  53.621600\n",
       "4  25.886810            Poor  Female  149.171742  18366.643927  91.805779"
      ]
     },
     "execution_count": 18,
     "metadata": {},
     "output_type": "execute_result"
    }
   ],
   "source": [
    "data.head()"
   ]
  },
  {
   "cell_type": "markdown",
   "metadata": {
    "colab_type": "text",
    "id": "lcIDvGCfAkRy"
   },
   "source": [
    "## Agrupación de datos"
   ]
  },
  {
   "cell_type": "code",
   "execution_count": 19,
   "metadata": {
    "colab": {},
    "colab_type": "code",
    "id": "b0ejXt6rAkRz"
   },
   "outputs": [],
   "source": [
    "grouped_gender = data.groupby(\"Gender\")"
   ]
  },
  {
   "cell_type": "code",
   "execution_count": 23,
   "metadata": {
    "colab": {
     "base_uri": "https://localhost:8080/",
     "height": 153
    },
    "colab_type": "code",
    "id": "aEiG5AFrAkR0",
    "outputId": "474eeb1c-4efa-4ecf-ba8e-1622a786f9cc"
   },
   "outputs": [
    {
     "data": {
      "text/plain": [
       "{'Female': Int64Index([  0,   2,   4,   5,   6,  10,  11,  12,  14,  15,\n",
       "             ...\n",
       "             481, 483, 485, 486, 488, 490, 491, 492, 493, 495],\n",
       "            dtype='int64', length=246),\n",
       " 'Male': Int64Index([  1,   3,   7,   8,   9,  13,  16,  18,  19,  20,\n",
       "             ...\n",
       "             480, 482, 484, 487, 489, 494, 496, 497, 498, 499],\n",
       "            dtype='int64', length=254)}"
      ]
     },
     "execution_count": 23,
     "metadata": {},
     "output_type": "execute_result"
    }
   ],
   "source": [
    "grouped_gender.groups"
   ]
  },
  {
   "cell_type": "code",
   "execution_count": 27,
   "metadata": {},
   "outputs": [
    {
     "data": {
      "text/plain": [
       "pandas.core.groupby.groupby.DataFrameGroupBy"
      ]
     },
     "execution_count": 27,
     "metadata": {},
     "output_type": "execute_result"
    }
   ],
   "source": [
    "type(grouped_gender)"
   ]
  },
  {
   "cell_type": "markdown",
   "metadata": {},
   "source": [
    "## mostrar los resutados"
   ]
  },
  {
   "cell_type": "code",
   "execution_count": 24,
   "metadata": {
    "colab": {
     "base_uri": "https://localhost:8080/",
     "height": 527
    },
    "colab_type": "code",
    "id": "gSVmrowTAkR2",
    "outputId": "95eea914-8b1e-4c3f-ba12-3d28e821ff4b"
   },
   "outputs": [
    {
     "name": "stdout",
     "output_type": "stream",
     "text": [
      "Female\n",
      "           Age Economic Status  Gender      Height        Income      Weight\n",
      "0    30.903084    Middle Class  Female  141.465244  23679.755818   35.692638\n",
      "2    15.056650    Middle Class  Female  171.438803   9958.532654   87.296548\n",
      "4    25.886810            Poor  Female  149.171742  18366.643927   91.805779\n",
      "5    36.694405    Middle Class  Female  143.631074  21546.238063   78.904701\n",
      "6    17.369410            Rich  Female  127.918133  16242.153793   66.001086\n",
      "10   36.777331            Rich  Female  173.652941  14956.660451   46.048797\n",
      "11   30.961012    Middle Class  Female  158.443473  19271.176535  106.174818\n",
      "12   28.617735            Poor  Female  151.804529  18211.780250   35.830223\n",
      "14   47.589447    Middle Class  Female  133.616626  13353.407825   93.443678\n",
      "15   42.938911            Rich  Female  167.849238  19629.668999   34.004393\n",
      "17   14.311743            Poor  Female  144.715563  19022.986457   48.856327\n",
      "22   33.370533    Middle Class  Female  167.762415  20798.687895   87.517532\n",
      "25   31.427475            Rich  Female  162.549078  15508.741458   39.341555\n",
      "27   20.892956            Rich  Female  160.997039  19911.751195   65.584740\n",
      "29   11.548562            Poor  Female  158.151748  20463.797828   49.611140\n",
      "30   25.893200            Poor  Female  174.343092  15153.935575   61.643991\n",
      "34   20.662041            Poor  Female  118.242374  13722.834814   88.460444\n",
      "37   31.377169            Poor  Female  175.791673  18244.127983   55.518049\n",
      "39   42.807228            Rich  Female  152.493071  15173.361084   64.734424\n",
      "41   18.232586    Middle Class  Female  132.239820  15080.023714   43.661044\n",
      "45   48.371623    Middle Class  Female  180.228780  18950.820943   55.354394\n",
      "47   38.424953            Poor  Female  126.319447  19374.345055  102.841835\n",
      "48   22.635514            Rich  Female  168.413232  16412.192274   57.822079\n",
      "49   51.839015            Rich  Female  160.444643  19859.035920   65.876117\n",
      "50    8.081095    Middle Class  Female   72.998960  18000.417508   82.458453\n",
      "51   24.422181    Middle Class  Female  168.435124  20136.992732   48.288011\n",
      "55   41.114701            Poor  Female  180.752823  15237.926797   56.208900\n",
      "56   22.566766            Poor  Female  149.306285  14423.522591   64.331112\n",
      "57   47.868682            Rich  Female  176.878762  15544.235320   92.947232\n",
      "59   40.267291            Poor  Female  141.690408  17811.633414   99.682164\n",
      "..         ...             ...     ...         ...           ...         ...\n",
      "444  39.285709            Rich  Female  155.766022  23281.029358  103.502789\n",
      "445  10.632660            Poor  Female  163.696577  14936.780179   54.624040\n",
      "448  26.367739            Rich  Female  180.823588  13206.241921   15.211546\n",
      "451  22.823032    Middle Class  Female  196.116488  17486.936663   55.861471\n",
      "452  14.992337            Poor  Female  141.148695  21473.085770   87.405590\n",
      "453  11.718609            Rich  Female  119.392453  18989.188590   59.841223\n",
      "454  64.060642            Poor  Female  175.812798  17410.139268   69.725122\n",
      "455  11.333547            Rich  Female  146.555127  11637.013384   95.469851\n",
      "456  16.537206            Poor  Female  158.520351  11900.126071   82.107748\n",
      "457  30.189068            Rich  Female  168.956110  19267.666416   62.722019\n",
      "460  57.403077            Rich  Female  152.282069  18519.425012   18.422235\n",
      "463  31.336128    Middle Class  Female  155.244020  18151.726811   45.928524\n",
      "464  40.598063            Poor  Female  136.557668  14940.663707   89.347218\n",
      "466  20.002881            Rich  Female  136.333208  18685.302852   39.587585\n",
      "467  41.466161    Middle Class  Female  100.349163  11540.258675  109.286765\n",
      "469  39.392777            Poor  Female  162.746255  20052.696525   75.565834\n",
      "472  49.881693            Rich  Female  181.260595  13196.889864   71.022826\n",
      "473  23.735200            Poor  Female  147.708370  18130.335295   35.357857\n",
      "474  33.559775            Rich  Female  154.627632  16609.842911   52.447095\n",
      "476  27.912170            Poor  Female  140.561555  17015.151055   87.365427\n",
      "481  36.011130    Middle Class  Female  140.901564  21148.489614   53.758731\n",
      "483  25.762096    Middle Class  Female  157.277177  16006.581507   69.679532\n",
      "485  20.386604            Poor  Female  201.285564  21250.129154   76.331849\n",
      "486  19.613222            Poor  Female  141.356000  18032.310494  107.767886\n",
      "488  24.468752            Rich  Female  163.011061  15842.915822   74.244804\n",
      "490  50.795882    Middle Class  Female  127.039921  20937.460926   17.550643\n",
      "491  46.982217    Middle Class  Female  124.000097  14867.100509   19.336688\n",
      "492  18.040725    Middle Class  Female  172.786103  20142.525113   46.346506\n",
      "493  40.283945            Rich  Female  186.250708  17828.591161   42.778045\n",
      "495   6.079786    Middle Class  Female  175.714408  17550.251894   59.509549\n",
      "\n",
      "[246 rows x 6 columns]\n",
      "Male\n",
      "           Age Economic Status Gender      Height        Income      Weight\n",
      "1    20.190859            Poor   Male  127.965563  10063.472469   65.160956\n",
      "3    26.246600    Middle Class   Male  157.562560  18124.225638   53.621600\n",
      "7    23.613499    Middle Class   Male  131.697480  19838.391434   38.032205\n",
      "8    41.354503    Middle Class   Male  150.961720  19802.296435   79.407300\n",
      "9    42.310570    Middle Class   Male  145.397497  20589.356667    1.469958\n",
      "13   21.328020    Middle Class   Male  192.022942  23835.478808   53.715387\n",
      "16   37.231273            Poor   Male   86.470169  14585.642008   26.075060\n",
      "18   37.288013            Poor   Male  168.866917  21087.983748   71.321178\n",
      "19   19.087692    Middle Class   Male   98.137720  20973.832111   81.976925\n",
      "20   35.009036            Poor   Male  120.249906  13888.392421   34.501218\n",
      "21   36.628506    Middle Class   Male  166.764187  17210.243515   46.023904\n",
      "23   30.673108            Poor   Male  143.545659  16131.105992   43.710498\n",
      "24   31.598653            Rich   Male  169.315494  26605.215209   46.072138\n",
      "26   27.354184            Poor   Male  123.139372  17327.044695   45.085601\n",
      "28   37.325029            Poor   Male  167.814286  23291.969254   60.544166\n",
      "31    4.395793    Middle Class   Male   95.688368  22457.608556   18.915936\n",
      "32   31.615016    Middle Class   Male  113.790378  12374.592012   29.529362\n",
      "33   43.806995            Rich   Male  158.700440  19754.275621   43.206564\n",
      "35   38.014596            Rich   Male  114.519121  21568.137512   69.412278\n",
      "36   47.748193            Poor   Male  165.489087  13548.325391   76.003265\n",
      "38   18.103633            Poor   Male  116.099678  20666.376517   61.198064\n",
      "40   32.772406    Middle Class   Male  174.415640  13985.450671   77.376986\n",
      "42   35.662145    Middle Class   Male  155.200649  16482.314249   66.649931\n",
      "43   14.762025            Rich   Male  152.285897  16833.460582   71.988942\n",
      "44   41.752510    Middle Class   Male  210.252520  17224.258105   22.494266\n",
      "46   47.032190    Middle Class   Male  174.367413   9823.453237   37.453467\n",
      "52   32.003927    Middle Class   Male  153.416183  20452.823996   20.637326\n",
      "53   33.035152            Rich   Male  199.269010  21099.173555   52.137383\n",
      "54   35.084268            Poor   Male  153.866779  22720.567628   72.663573\n",
      "58   23.954558    Middle Class   Male  148.826126  18906.403506    5.135808\n",
      "..         ...             ...    ...         ...           ...         ...\n",
      "438  38.943088            Poor   Male  200.921829  15205.736711    8.373606\n",
      "439  17.195200            Poor   Male  177.847309  16216.392793  101.606489\n",
      "440  17.519773            Rich   Male  122.923284  20027.707812   42.273775\n",
      "443  58.423021            Rich   Male  186.746887  20734.038152   68.032188\n",
      "446   9.588470            Poor   Male  231.201615  15458.862873   90.398616\n",
      "447  27.921953    Middle Class   Male  186.070485  17865.031100   46.258713\n",
      "449  41.273182            Poor   Male  188.041643  23571.435189   58.450391\n",
      "450  31.730262    Middle Class   Male  101.068376  19380.426066   70.303862\n",
      "458  39.560872    Middle Class   Male  164.236477  19974.309556  124.451359\n",
      "459  50.225090            Rich   Male  175.621029  20102.491013   81.219464\n",
      "461  40.782887            Rich   Male  184.396095  18436.095977   59.565584\n",
      "462  27.604953            Poor   Male  161.897614  27057.044777   72.376658\n",
      "465  19.139595    Middle Class   Male  161.093670  17424.077352   62.424339\n",
      "468  27.662392            Poor   Male  156.200825  17140.374764   52.500690\n",
      "470   8.900557    Middle Class   Male  164.994833  19434.427396   40.101898\n",
      "471  20.689320            Poor   Male  139.425192  18245.818549   67.001473\n",
      "475  27.149918            Poor   Male  137.942948  19290.787382  114.298622\n",
      "477  -4.505775            Poor   Male  156.774283  17306.846968   68.826887\n",
      "478  33.374703            Poor   Male  130.957152  17921.393819   43.940857\n",
      "479  35.245831            Poor   Male  140.944683  13291.161111   78.465772\n",
      "480  11.903514    Middle Class   Male  165.196718  11758.987476  109.775165\n",
      "482  16.420921            Rich   Male  112.205897  17191.656474   73.484013\n",
      "484  31.582952            Poor   Male  125.775510  16866.505267   60.690964\n",
      "487  35.045757            Poor   Male  175.778314  17140.567983   74.276851\n",
      "489  22.760608    Middle Class   Male  198.023030  10878.258225   98.940893\n",
      "494  22.177985            Poor   Male  160.614353  18559.939438   45.836277\n",
      "496  50.800778            Poor   Male  185.475701  25724.984566   74.705733\n",
      "497  10.129887    Middle Class   Male  174.688337  17294.994405   82.466585\n",
      "498  30.577699            Rich   Male   83.142688  17148.577634  124.356970\n",
      "499  32.018608            Poor   Male  130.478502  17503.504915   97.414823\n",
      "\n",
      "[254 rows x 6 columns]\n"
     ]
    }
   ],
   "source": [
    "for names, groups in grouped_gender:\n",
    "    print(names)\n",
    "    print(groups)"
   ]
  },
  {
   "cell_type": "markdown",
   "metadata": {},
   "source": [
    "## Solo pedir uno de los grupos"
   ]
  },
  {
   "cell_type": "code",
   "execution_count": 28,
   "metadata": {
    "colab": {
     "base_uri": "https://localhost:8080/",
     "height": 419
    },
    "colab_type": "code",
    "id": "-eV8DVorAkR3",
    "outputId": "19c4888f-1ffc-47aa-9550-99fc166a5a93"
   },
   "outputs": [
    {
     "data": {
      "text/html": [
       "<div>\n",
       "<style scoped>\n",
       "    .dataframe tbody tr th:only-of-type {\n",
       "        vertical-align: middle;\n",
       "    }\n",
       "\n",
       "    .dataframe tbody tr th {\n",
       "        vertical-align: top;\n",
       "    }\n",
       "\n",
       "    .dataframe thead th {\n",
       "        text-align: right;\n",
       "    }\n",
       "</style>\n",
       "<table border=\"1\" class=\"dataframe\">\n",
       "  <thead>\n",
       "    <tr style=\"text-align: right;\">\n",
       "      <th></th>\n",
       "      <th>Age</th>\n",
       "      <th>Economic Status</th>\n",
       "      <th>Gender</th>\n",
       "      <th>Height</th>\n",
       "      <th>Income</th>\n",
       "      <th>Weight</th>\n",
       "    </tr>\n",
       "  </thead>\n",
       "  <tbody>\n",
       "    <tr>\n",
       "      <th>0</th>\n",
       "      <td>30.903084</td>\n",
       "      <td>Middle Class</td>\n",
       "      <td>Female</td>\n",
       "      <td>141.465244</td>\n",
       "      <td>23679.755818</td>\n",
       "      <td>35.692638</td>\n",
       "    </tr>\n",
       "    <tr>\n",
       "      <th>2</th>\n",
       "      <td>15.056650</td>\n",
       "      <td>Middle Class</td>\n",
       "      <td>Female</td>\n",
       "      <td>171.438803</td>\n",
       "      <td>9958.532654</td>\n",
       "      <td>87.296548</td>\n",
       "    </tr>\n",
       "    <tr>\n",
       "      <th>4</th>\n",
       "      <td>25.886810</td>\n",
       "      <td>Poor</td>\n",
       "      <td>Female</td>\n",
       "      <td>149.171742</td>\n",
       "      <td>18366.643927</td>\n",
       "      <td>91.805779</td>\n",
       "    </tr>\n",
       "    <tr>\n",
       "      <th>5</th>\n",
       "      <td>36.694405</td>\n",
       "      <td>Middle Class</td>\n",
       "      <td>Female</td>\n",
       "      <td>143.631074</td>\n",
       "      <td>21546.238063</td>\n",
       "      <td>78.904701</td>\n",
       "    </tr>\n",
       "    <tr>\n",
       "      <th>6</th>\n",
       "      <td>17.369410</td>\n",
       "      <td>Rich</td>\n",
       "      <td>Female</td>\n",
       "      <td>127.918133</td>\n",
       "      <td>16242.153793</td>\n",
       "      <td>66.001086</td>\n",
       "    </tr>\n",
       "    <tr>\n",
       "      <th>10</th>\n",
       "      <td>36.777331</td>\n",
       "      <td>Rich</td>\n",
       "      <td>Female</td>\n",
       "      <td>173.652941</td>\n",
       "      <td>14956.660451</td>\n",
       "      <td>46.048797</td>\n",
       "    </tr>\n",
       "    <tr>\n",
       "      <th>11</th>\n",
       "      <td>30.961012</td>\n",
       "      <td>Middle Class</td>\n",
       "      <td>Female</td>\n",
       "      <td>158.443473</td>\n",
       "      <td>19271.176535</td>\n",
       "      <td>106.174818</td>\n",
       "    </tr>\n",
       "    <tr>\n",
       "      <th>12</th>\n",
       "      <td>28.617735</td>\n",
       "      <td>Poor</td>\n",
       "      <td>Female</td>\n",
       "      <td>151.804529</td>\n",
       "      <td>18211.780250</td>\n",
       "      <td>35.830223</td>\n",
       "    </tr>\n",
       "    <tr>\n",
       "      <th>14</th>\n",
       "      <td>47.589447</td>\n",
       "      <td>Middle Class</td>\n",
       "      <td>Female</td>\n",
       "      <td>133.616626</td>\n",
       "      <td>13353.407825</td>\n",
       "      <td>93.443678</td>\n",
       "    </tr>\n",
       "    <tr>\n",
       "      <th>15</th>\n",
       "      <td>42.938911</td>\n",
       "      <td>Rich</td>\n",
       "      <td>Female</td>\n",
       "      <td>167.849238</td>\n",
       "      <td>19629.668999</td>\n",
       "      <td>34.004393</td>\n",
       "    </tr>\n",
       "    <tr>\n",
       "      <th>17</th>\n",
       "      <td>14.311743</td>\n",
       "      <td>Poor</td>\n",
       "      <td>Female</td>\n",
       "      <td>144.715563</td>\n",
       "      <td>19022.986457</td>\n",
       "      <td>48.856327</td>\n",
       "    </tr>\n",
       "    <tr>\n",
       "      <th>22</th>\n",
       "      <td>33.370533</td>\n",
       "      <td>Middle Class</td>\n",
       "      <td>Female</td>\n",
       "      <td>167.762415</td>\n",
       "      <td>20798.687895</td>\n",
       "      <td>87.517532</td>\n",
       "    </tr>\n",
       "    <tr>\n",
       "      <th>25</th>\n",
       "      <td>31.427475</td>\n",
       "      <td>Rich</td>\n",
       "      <td>Female</td>\n",
       "      <td>162.549078</td>\n",
       "      <td>15508.741458</td>\n",
       "      <td>39.341555</td>\n",
       "    </tr>\n",
       "    <tr>\n",
       "      <th>27</th>\n",
       "      <td>20.892956</td>\n",
       "      <td>Rich</td>\n",
       "      <td>Female</td>\n",
       "      <td>160.997039</td>\n",
       "      <td>19911.751195</td>\n",
       "      <td>65.584740</td>\n",
       "    </tr>\n",
       "    <tr>\n",
       "      <th>29</th>\n",
       "      <td>11.548562</td>\n",
       "      <td>Poor</td>\n",
       "      <td>Female</td>\n",
       "      <td>158.151748</td>\n",
       "      <td>20463.797828</td>\n",
       "      <td>49.611140</td>\n",
       "    </tr>\n",
       "    <tr>\n",
       "      <th>30</th>\n",
       "      <td>25.893200</td>\n",
       "      <td>Poor</td>\n",
       "      <td>Female</td>\n",
       "      <td>174.343092</td>\n",
       "      <td>15153.935575</td>\n",
       "      <td>61.643991</td>\n",
       "    </tr>\n",
       "    <tr>\n",
       "      <th>34</th>\n",
       "      <td>20.662041</td>\n",
       "      <td>Poor</td>\n",
       "      <td>Female</td>\n",
       "      <td>118.242374</td>\n",
       "      <td>13722.834814</td>\n",
       "      <td>88.460444</td>\n",
       "    </tr>\n",
       "    <tr>\n",
       "      <th>37</th>\n",
       "      <td>31.377169</td>\n",
       "      <td>Poor</td>\n",
       "      <td>Female</td>\n",
       "      <td>175.791673</td>\n",
       "      <td>18244.127983</td>\n",
       "      <td>55.518049</td>\n",
       "    </tr>\n",
       "    <tr>\n",
       "      <th>39</th>\n",
       "      <td>42.807228</td>\n",
       "      <td>Rich</td>\n",
       "      <td>Female</td>\n",
       "      <td>152.493071</td>\n",
       "      <td>15173.361084</td>\n",
       "      <td>64.734424</td>\n",
       "    </tr>\n",
       "    <tr>\n",
       "      <th>41</th>\n",
       "      <td>18.232586</td>\n",
       "      <td>Middle Class</td>\n",
       "      <td>Female</td>\n",
       "      <td>132.239820</td>\n",
       "      <td>15080.023714</td>\n",
       "      <td>43.661044</td>\n",
       "    </tr>\n",
       "    <tr>\n",
       "      <th>45</th>\n",
       "      <td>48.371623</td>\n",
       "      <td>Middle Class</td>\n",
       "      <td>Female</td>\n",
       "      <td>180.228780</td>\n",
       "      <td>18950.820943</td>\n",
       "      <td>55.354394</td>\n",
       "    </tr>\n",
       "    <tr>\n",
       "      <th>47</th>\n",
       "      <td>38.424953</td>\n",
       "      <td>Poor</td>\n",
       "      <td>Female</td>\n",
       "      <td>126.319447</td>\n",
       "      <td>19374.345055</td>\n",
       "      <td>102.841835</td>\n",
       "    </tr>\n",
       "    <tr>\n",
       "      <th>48</th>\n",
       "      <td>22.635514</td>\n",
       "      <td>Rich</td>\n",
       "      <td>Female</td>\n",
       "      <td>168.413232</td>\n",
       "      <td>16412.192274</td>\n",
       "      <td>57.822079</td>\n",
       "    </tr>\n",
       "    <tr>\n",
       "      <th>49</th>\n",
       "      <td>51.839015</td>\n",
       "      <td>Rich</td>\n",
       "      <td>Female</td>\n",
       "      <td>160.444643</td>\n",
       "      <td>19859.035920</td>\n",
       "      <td>65.876117</td>\n",
       "    </tr>\n",
       "    <tr>\n",
       "      <th>50</th>\n",
       "      <td>8.081095</td>\n",
       "      <td>Middle Class</td>\n",
       "      <td>Female</td>\n",
       "      <td>72.998960</td>\n",
       "      <td>18000.417508</td>\n",
       "      <td>82.458453</td>\n",
       "    </tr>\n",
       "    <tr>\n",
       "      <th>51</th>\n",
       "      <td>24.422181</td>\n",
       "      <td>Middle Class</td>\n",
       "      <td>Female</td>\n",
       "      <td>168.435124</td>\n",
       "      <td>20136.992732</td>\n",
       "      <td>48.288011</td>\n",
       "    </tr>\n",
       "    <tr>\n",
       "      <th>55</th>\n",
       "      <td>41.114701</td>\n",
       "      <td>Poor</td>\n",
       "      <td>Female</td>\n",
       "      <td>180.752823</td>\n",
       "      <td>15237.926797</td>\n",
       "      <td>56.208900</td>\n",
       "    </tr>\n",
       "    <tr>\n",
       "      <th>56</th>\n",
       "      <td>22.566766</td>\n",
       "      <td>Poor</td>\n",
       "      <td>Female</td>\n",
       "      <td>149.306285</td>\n",
       "      <td>14423.522591</td>\n",
       "      <td>64.331112</td>\n",
       "    </tr>\n",
       "    <tr>\n",
       "      <th>57</th>\n",
       "      <td>47.868682</td>\n",
       "      <td>Rich</td>\n",
       "      <td>Female</td>\n",
       "      <td>176.878762</td>\n",
       "      <td>15544.235320</td>\n",
       "      <td>92.947232</td>\n",
       "    </tr>\n",
       "    <tr>\n",
       "      <th>59</th>\n",
       "      <td>40.267291</td>\n",
       "      <td>Poor</td>\n",
       "      <td>Female</td>\n",
       "      <td>141.690408</td>\n",
       "      <td>17811.633414</td>\n",
       "      <td>99.682164</td>\n",
       "    </tr>\n",
       "    <tr>\n",
       "      <th>...</th>\n",
       "      <td>...</td>\n",
       "      <td>...</td>\n",
       "      <td>...</td>\n",
       "      <td>...</td>\n",
       "      <td>...</td>\n",
       "      <td>...</td>\n",
       "    </tr>\n",
       "    <tr>\n",
       "      <th>444</th>\n",
       "      <td>39.285709</td>\n",
       "      <td>Rich</td>\n",
       "      <td>Female</td>\n",
       "      <td>155.766022</td>\n",
       "      <td>23281.029358</td>\n",
       "      <td>103.502789</td>\n",
       "    </tr>\n",
       "    <tr>\n",
       "      <th>445</th>\n",
       "      <td>10.632660</td>\n",
       "      <td>Poor</td>\n",
       "      <td>Female</td>\n",
       "      <td>163.696577</td>\n",
       "      <td>14936.780179</td>\n",
       "      <td>54.624040</td>\n",
       "    </tr>\n",
       "    <tr>\n",
       "      <th>448</th>\n",
       "      <td>26.367739</td>\n",
       "      <td>Rich</td>\n",
       "      <td>Female</td>\n",
       "      <td>180.823588</td>\n",
       "      <td>13206.241921</td>\n",
       "      <td>15.211546</td>\n",
       "    </tr>\n",
       "    <tr>\n",
       "      <th>451</th>\n",
       "      <td>22.823032</td>\n",
       "      <td>Middle Class</td>\n",
       "      <td>Female</td>\n",
       "      <td>196.116488</td>\n",
       "      <td>17486.936663</td>\n",
       "      <td>55.861471</td>\n",
       "    </tr>\n",
       "    <tr>\n",
       "      <th>452</th>\n",
       "      <td>14.992337</td>\n",
       "      <td>Poor</td>\n",
       "      <td>Female</td>\n",
       "      <td>141.148695</td>\n",
       "      <td>21473.085770</td>\n",
       "      <td>87.405590</td>\n",
       "    </tr>\n",
       "    <tr>\n",
       "      <th>453</th>\n",
       "      <td>11.718609</td>\n",
       "      <td>Rich</td>\n",
       "      <td>Female</td>\n",
       "      <td>119.392453</td>\n",
       "      <td>18989.188590</td>\n",
       "      <td>59.841223</td>\n",
       "    </tr>\n",
       "    <tr>\n",
       "      <th>454</th>\n",
       "      <td>64.060642</td>\n",
       "      <td>Poor</td>\n",
       "      <td>Female</td>\n",
       "      <td>175.812798</td>\n",
       "      <td>17410.139268</td>\n",
       "      <td>69.725122</td>\n",
       "    </tr>\n",
       "    <tr>\n",
       "      <th>455</th>\n",
       "      <td>11.333547</td>\n",
       "      <td>Rich</td>\n",
       "      <td>Female</td>\n",
       "      <td>146.555127</td>\n",
       "      <td>11637.013384</td>\n",
       "      <td>95.469851</td>\n",
       "    </tr>\n",
       "    <tr>\n",
       "      <th>456</th>\n",
       "      <td>16.537206</td>\n",
       "      <td>Poor</td>\n",
       "      <td>Female</td>\n",
       "      <td>158.520351</td>\n",
       "      <td>11900.126071</td>\n",
       "      <td>82.107748</td>\n",
       "    </tr>\n",
       "    <tr>\n",
       "      <th>457</th>\n",
       "      <td>30.189068</td>\n",
       "      <td>Rich</td>\n",
       "      <td>Female</td>\n",
       "      <td>168.956110</td>\n",
       "      <td>19267.666416</td>\n",
       "      <td>62.722019</td>\n",
       "    </tr>\n",
       "    <tr>\n",
       "      <th>460</th>\n",
       "      <td>57.403077</td>\n",
       "      <td>Rich</td>\n",
       "      <td>Female</td>\n",
       "      <td>152.282069</td>\n",
       "      <td>18519.425012</td>\n",
       "      <td>18.422235</td>\n",
       "    </tr>\n",
       "    <tr>\n",
       "      <th>463</th>\n",
       "      <td>31.336128</td>\n",
       "      <td>Middle Class</td>\n",
       "      <td>Female</td>\n",
       "      <td>155.244020</td>\n",
       "      <td>18151.726811</td>\n",
       "      <td>45.928524</td>\n",
       "    </tr>\n",
       "    <tr>\n",
       "      <th>464</th>\n",
       "      <td>40.598063</td>\n",
       "      <td>Poor</td>\n",
       "      <td>Female</td>\n",
       "      <td>136.557668</td>\n",
       "      <td>14940.663707</td>\n",
       "      <td>89.347218</td>\n",
       "    </tr>\n",
       "    <tr>\n",
       "      <th>466</th>\n",
       "      <td>20.002881</td>\n",
       "      <td>Rich</td>\n",
       "      <td>Female</td>\n",
       "      <td>136.333208</td>\n",
       "      <td>18685.302852</td>\n",
       "      <td>39.587585</td>\n",
       "    </tr>\n",
       "    <tr>\n",
       "      <th>467</th>\n",
       "      <td>41.466161</td>\n",
       "      <td>Middle Class</td>\n",
       "      <td>Female</td>\n",
       "      <td>100.349163</td>\n",
       "      <td>11540.258675</td>\n",
       "      <td>109.286765</td>\n",
       "    </tr>\n",
       "    <tr>\n",
       "      <th>469</th>\n",
       "      <td>39.392777</td>\n",
       "      <td>Poor</td>\n",
       "      <td>Female</td>\n",
       "      <td>162.746255</td>\n",
       "      <td>20052.696525</td>\n",
       "      <td>75.565834</td>\n",
       "    </tr>\n",
       "    <tr>\n",
       "      <th>472</th>\n",
       "      <td>49.881693</td>\n",
       "      <td>Rich</td>\n",
       "      <td>Female</td>\n",
       "      <td>181.260595</td>\n",
       "      <td>13196.889864</td>\n",
       "      <td>71.022826</td>\n",
       "    </tr>\n",
       "    <tr>\n",
       "      <th>473</th>\n",
       "      <td>23.735200</td>\n",
       "      <td>Poor</td>\n",
       "      <td>Female</td>\n",
       "      <td>147.708370</td>\n",
       "      <td>18130.335295</td>\n",
       "      <td>35.357857</td>\n",
       "    </tr>\n",
       "    <tr>\n",
       "      <th>474</th>\n",
       "      <td>33.559775</td>\n",
       "      <td>Rich</td>\n",
       "      <td>Female</td>\n",
       "      <td>154.627632</td>\n",
       "      <td>16609.842911</td>\n",
       "      <td>52.447095</td>\n",
       "    </tr>\n",
       "    <tr>\n",
       "      <th>476</th>\n",
       "      <td>27.912170</td>\n",
       "      <td>Poor</td>\n",
       "      <td>Female</td>\n",
       "      <td>140.561555</td>\n",
       "      <td>17015.151055</td>\n",
       "      <td>87.365427</td>\n",
       "    </tr>\n",
       "    <tr>\n",
       "      <th>481</th>\n",
       "      <td>36.011130</td>\n",
       "      <td>Middle Class</td>\n",
       "      <td>Female</td>\n",
       "      <td>140.901564</td>\n",
       "      <td>21148.489614</td>\n",
       "      <td>53.758731</td>\n",
       "    </tr>\n",
       "    <tr>\n",
       "      <th>483</th>\n",
       "      <td>25.762096</td>\n",
       "      <td>Middle Class</td>\n",
       "      <td>Female</td>\n",
       "      <td>157.277177</td>\n",
       "      <td>16006.581507</td>\n",
       "      <td>69.679532</td>\n",
       "    </tr>\n",
       "    <tr>\n",
       "      <th>485</th>\n",
       "      <td>20.386604</td>\n",
       "      <td>Poor</td>\n",
       "      <td>Female</td>\n",
       "      <td>201.285564</td>\n",
       "      <td>21250.129154</td>\n",
       "      <td>76.331849</td>\n",
       "    </tr>\n",
       "    <tr>\n",
       "      <th>486</th>\n",
       "      <td>19.613222</td>\n",
       "      <td>Poor</td>\n",
       "      <td>Female</td>\n",
       "      <td>141.356000</td>\n",
       "      <td>18032.310494</td>\n",
       "      <td>107.767886</td>\n",
       "    </tr>\n",
       "    <tr>\n",
       "      <th>488</th>\n",
       "      <td>24.468752</td>\n",
       "      <td>Rich</td>\n",
       "      <td>Female</td>\n",
       "      <td>163.011061</td>\n",
       "      <td>15842.915822</td>\n",
       "      <td>74.244804</td>\n",
       "    </tr>\n",
       "    <tr>\n",
       "      <th>490</th>\n",
       "      <td>50.795882</td>\n",
       "      <td>Middle Class</td>\n",
       "      <td>Female</td>\n",
       "      <td>127.039921</td>\n",
       "      <td>20937.460926</td>\n",
       "      <td>17.550643</td>\n",
       "    </tr>\n",
       "    <tr>\n",
       "      <th>491</th>\n",
       "      <td>46.982217</td>\n",
       "      <td>Middle Class</td>\n",
       "      <td>Female</td>\n",
       "      <td>124.000097</td>\n",
       "      <td>14867.100509</td>\n",
       "      <td>19.336688</td>\n",
       "    </tr>\n",
       "    <tr>\n",
       "      <th>492</th>\n",
       "      <td>18.040725</td>\n",
       "      <td>Middle Class</td>\n",
       "      <td>Female</td>\n",
       "      <td>172.786103</td>\n",
       "      <td>20142.525113</td>\n",
       "      <td>46.346506</td>\n",
       "    </tr>\n",
       "    <tr>\n",
       "      <th>493</th>\n",
       "      <td>40.283945</td>\n",
       "      <td>Rich</td>\n",
       "      <td>Female</td>\n",
       "      <td>186.250708</td>\n",
       "      <td>17828.591161</td>\n",
       "      <td>42.778045</td>\n",
       "    </tr>\n",
       "    <tr>\n",
       "      <th>495</th>\n",
       "      <td>6.079786</td>\n",
       "      <td>Middle Class</td>\n",
       "      <td>Female</td>\n",
       "      <td>175.714408</td>\n",
       "      <td>17550.251894</td>\n",
       "      <td>59.509549</td>\n",
       "    </tr>\n",
       "  </tbody>\n",
       "</table>\n",
       "<p>246 rows × 6 columns</p>\n",
       "</div>"
      ],
      "text/plain": [
       "           Age Economic Status  Gender      Height        Income      Weight\n",
       "0    30.903084    Middle Class  Female  141.465244  23679.755818   35.692638\n",
       "2    15.056650    Middle Class  Female  171.438803   9958.532654   87.296548\n",
       "4    25.886810            Poor  Female  149.171742  18366.643927   91.805779\n",
       "5    36.694405    Middle Class  Female  143.631074  21546.238063   78.904701\n",
       "6    17.369410            Rich  Female  127.918133  16242.153793   66.001086\n",
       "10   36.777331            Rich  Female  173.652941  14956.660451   46.048797\n",
       "11   30.961012    Middle Class  Female  158.443473  19271.176535  106.174818\n",
       "12   28.617735            Poor  Female  151.804529  18211.780250   35.830223\n",
       "14   47.589447    Middle Class  Female  133.616626  13353.407825   93.443678\n",
       "15   42.938911            Rich  Female  167.849238  19629.668999   34.004393\n",
       "17   14.311743            Poor  Female  144.715563  19022.986457   48.856327\n",
       "22   33.370533    Middle Class  Female  167.762415  20798.687895   87.517532\n",
       "25   31.427475            Rich  Female  162.549078  15508.741458   39.341555\n",
       "27   20.892956            Rich  Female  160.997039  19911.751195   65.584740\n",
       "29   11.548562            Poor  Female  158.151748  20463.797828   49.611140\n",
       "30   25.893200            Poor  Female  174.343092  15153.935575   61.643991\n",
       "34   20.662041            Poor  Female  118.242374  13722.834814   88.460444\n",
       "37   31.377169            Poor  Female  175.791673  18244.127983   55.518049\n",
       "39   42.807228            Rich  Female  152.493071  15173.361084   64.734424\n",
       "41   18.232586    Middle Class  Female  132.239820  15080.023714   43.661044\n",
       "45   48.371623    Middle Class  Female  180.228780  18950.820943   55.354394\n",
       "47   38.424953            Poor  Female  126.319447  19374.345055  102.841835\n",
       "48   22.635514            Rich  Female  168.413232  16412.192274   57.822079\n",
       "49   51.839015            Rich  Female  160.444643  19859.035920   65.876117\n",
       "50    8.081095    Middle Class  Female   72.998960  18000.417508   82.458453\n",
       "51   24.422181    Middle Class  Female  168.435124  20136.992732   48.288011\n",
       "55   41.114701            Poor  Female  180.752823  15237.926797   56.208900\n",
       "56   22.566766            Poor  Female  149.306285  14423.522591   64.331112\n",
       "57   47.868682            Rich  Female  176.878762  15544.235320   92.947232\n",
       "59   40.267291            Poor  Female  141.690408  17811.633414   99.682164\n",
       "..         ...             ...     ...         ...           ...         ...\n",
       "444  39.285709            Rich  Female  155.766022  23281.029358  103.502789\n",
       "445  10.632660            Poor  Female  163.696577  14936.780179   54.624040\n",
       "448  26.367739            Rich  Female  180.823588  13206.241921   15.211546\n",
       "451  22.823032    Middle Class  Female  196.116488  17486.936663   55.861471\n",
       "452  14.992337            Poor  Female  141.148695  21473.085770   87.405590\n",
       "453  11.718609            Rich  Female  119.392453  18989.188590   59.841223\n",
       "454  64.060642            Poor  Female  175.812798  17410.139268   69.725122\n",
       "455  11.333547            Rich  Female  146.555127  11637.013384   95.469851\n",
       "456  16.537206            Poor  Female  158.520351  11900.126071   82.107748\n",
       "457  30.189068            Rich  Female  168.956110  19267.666416   62.722019\n",
       "460  57.403077            Rich  Female  152.282069  18519.425012   18.422235\n",
       "463  31.336128    Middle Class  Female  155.244020  18151.726811   45.928524\n",
       "464  40.598063            Poor  Female  136.557668  14940.663707   89.347218\n",
       "466  20.002881            Rich  Female  136.333208  18685.302852   39.587585\n",
       "467  41.466161    Middle Class  Female  100.349163  11540.258675  109.286765\n",
       "469  39.392777            Poor  Female  162.746255  20052.696525   75.565834\n",
       "472  49.881693            Rich  Female  181.260595  13196.889864   71.022826\n",
       "473  23.735200            Poor  Female  147.708370  18130.335295   35.357857\n",
       "474  33.559775            Rich  Female  154.627632  16609.842911   52.447095\n",
       "476  27.912170            Poor  Female  140.561555  17015.151055   87.365427\n",
       "481  36.011130    Middle Class  Female  140.901564  21148.489614   53.758731\n",
       "483  25.762096    Middle Class  Female  157.277177  16006.581507   69.679532\n",
       "485  20.386604            Poor  Female  201.285564  21250.129154   76.331849\n",
       "486  19.613222            Poor  Female  141.356000  18032.310494  107.767886\n",
       "488  24.468752            Rich  Female  163.011061  15842.915822   74.244804\n",
       "490  50.795882    Middle Class  Female  127.039921  20937.460926   17.550643\n",
       "491  46.982217    Middle Class  Female  124.000097  14867.100509   19.336688\n",
       "492  18.040725    Middle Class  Female  172.786103  20142.525113   46.346506\n",
       "493  40.283945            Rich  Female  186.250708  17828.591161   42.778045\n",
       "495   6.079786    Middle Class  Female  175.714408  17550.251894   59.509549\n",
       "\n",
       "[246 rows x 6 columns]"
      ]
     },
     "execution_count": 28,
     "metadata": {},
     "output_type": "execute_result"
    }
   ],
   "source": [
    "grouped_gender.get_group(\"Female\")"
   ]
  },
  {
   "cell_type": "markdown",
   "metadata": {},
   "source": [
    "## Ordenar por dos grupos"
   ]
  },
  {
   "cell_type": "code",
   "execution_count": 31,
   "metadata": {
    "colab": {},
    "colab_type": "code",
    "id": "cSzGIkkTAkR4"
   },
   "outputs": [],
   "source": [
    "double_group = data.groupby([\"Gender\", \"Economic Status\"])"
   ]
  },
  {
   "cell_type": "code",
   "execution_count": 32,
   "metadata": {
    "colab": {
     "base_uri": "https://localhost:8080/",
     "height": 34
    },
    "colab_type": "code",
    "id": "ZQLuFUejAkR6",
    "outputId": "d42b8dad-d4aa-4be4-ee8c-71e6f15568f2"
   },
   "outputs": [
    {
     "data": {
      "text/plain": [
       "6"
      ]
     },
     "execution_count": 32,
     "metadata": {},
     "output_type": "execute_result"
    }
   ],
   "source": [
    "len(double_group)"
   ]
  },
  {
   "cell_type": "code",
   "execution_count": 33,
   "metadata": {
    "colab": {
     "base_uri": "https://localhost:8080/",
     "height": 1000
    },
    "colab_type": "code",
    "id": "Eho6KDzUAkR7",
    "outputId": "a641a83c-cdcd-49d2-8c9b-c7f333a246d1"
   },
   "outputs": [
    {
     "name": "stdout",
     "output_type": "stream",
     "text": [
      "('Female', 'Middle Class')\n",
      "           Age Economic Status  Gender      Height        Income      Weight\n",
      "0    30.903084    Middle Class  Female  141.465244  23679.755818   35.692638\n",
      "2    15.056650    Middle Class  Female  171.438803   9958.532654   87.296548\n",
      "5    36.694405    Middle Class  Female  143.631074  21546.238063   78.904701\n",
      "11   30.961012    Middle Class  Female  158.443473  19271.176535  106.174818\n",
      "14   47.589447    Middle Class  Female  133.616626  13353.407825   93.443678\n",
      "22   33.370533    Middle Class  Female  167.762415  20798.687895   87.517532\n",
      "41   18.232586    Middle Class  Female  132.239820  15080.023714   43.661044\n",
      "45   48.371623    Middle Class  Female  180.228780  18950.820943   55.354394\n",
      "50    8.081095    Middle Class  Female   72.998960  18000.417508   82.458453\n",
      "51   24.422181    Middle Class  Female  168.435124  20136.992732   48.288011\n",
      "73   46.914337    Middle Class  Female  188.577682  17791.312359   72.537511\n",
      "76   37.591240    Middle Class  Female  127.452929  13548.096528   46.759927\n",
      "79   20.923794    Middle Class  Female  166.938318  21193.332298   78.107662\n",
      "86   22.654284    Middle Class  Female  159.337428  11860.090458   48.436931\n",
      "93   31.318944    Middle Class  Female  142.846232  16287.587229   63.641576\n",
      "94   28.219052    Middle Class  Female  103.511150  15533.701958   73.729756\n",
      "97   27.553555    Middle Class  Female  138.298645  12663.729303   97.121501\n",
      "103  26.298917    Middle Class  Female  199.907426  20652.327425   51.542194\n",
      "104  32.317376    Middle Class  Female  234.567272  18379.697459   56.418455\n",
      "112  32.378989    Middle Class  Female  169.792069  18933.206717   52.543674\n",
      "120  25.708030    Middle Class  Female  185.594008  13151.446814   44.381356\n",
      "123  26.023865    Middle Class  Female  110.931885  14944.139518   60.814006\n",
      "136  32.556895    Middle Class  Female  154.699309  22739.492696   75.837068\n",
      "143  34.519401    Middle Class  Female  117.660303  22863.644132  108.748203\n",
      "144   9.604979    Middle Class  Female  171.060224  24937.838512   80.196589\n",
      "150  46.032007    Middle Class  Female  183.908754  21337.453519  101.486822\n",
      "154  11.550076    Middle Class  Female  129.879771  12069.132259   63.950724\n",
      "157  56.921030    Middle Class  Female  143.969374  17816.492643   27.113857\n",
      "162  53.483440    Middle Class  Female  176.914899  18305.704681   79.303701\n",
      "165  59.902866    Middle Class  Female  155.002974  22678.257839   24.128305\n",
      "..         ...             ...     ...         ...           ...         ...\n",
      "334  20.726316    Middle Class  Female  106.081517  19964.273366   70.780948\n",
      "336  25.879010    Middle Class  Female  119.496229  16713.525065   68.881434\n",
      "339  41.464851    Middle Class  Female  172.028357  29906.510716   59.634168\n",
      "341  29.382943    Middle Class  Female  145.269430  19114.538120   78.196564\n",
      "343  30.567928    Middle Class  Female  182.232852  19111.248543   56.968705\n",
      "347  31.603355    Middle Class  Female  186.926705  23549.590760   25.319606\n",
      "353  18.430546    Middle Class  Female  199.768627  12190.699266   58.033669\n",
      "354  21.560828    Middle Class  Female  156.332012  14464.796265   45.769036\n",
      "364  29.473270    Middle Class  Female  147.731603  20159.726890   56.152895\n",
      "365  34.011934    Middle Class  Female  164.391717  12652.211208   79.159068\n",
      "371  25.520782    Middle Class  Female  106.510761  14202.528878   57.532987\n",
      "381  29.195194    Middle Class  Female  183.141144  17559.036892   13.586608\n",
      "392  45.669720    Middle Class  Female  153.734840  19785.621374   57.610541\n",
      "394  25.616894    Middle Class  Female  114.679106  12682.047076  100.387098\n",
      "396   8.360208    Middle Class  Female  219.356894  15446.976720   60.845281\n",
      "412  17.107782    Middle Class  Female  201.362414  24225.025583   86.920873\n",
      "413  58.260633    Middle Class  Female  171.871392  22284.391176   62.287359\n",
      "418  34.018963    Middle Class  Female  175.256371  15387.437617   72.172807\n",
      "423   2.995145    Middle Class  Female  166.927785  16624.451849  101.360337\n",
      "434  41.096342    Middle Class  Female  121.609250  16988.072552  101.030088\n",
      "442  38.402458    Middle Class  Female  179.626457  21619.527122    3.659378\n",
      "451  22.823032    Middle Class  Female  196.116488  17486.936663   55.861471\n",
      "463  31.336128    Middle Class  Female  155.244020  18151.726811   45.928524\n",
      "467  41.466161    Middle Class  Female  100.349163  11540.258675  109.286765\n",
      "481  36.011130    Middle Class  Female  140.901564  21148.489614   53.758731\n",
      "483  25.762096    Middle Class  Female  157.277177  16006.581507   69.679532\n",
      "490  50.795882    Middle Class  Female  127.039921  20937.460926   17.550643\n",
      "491  46.982217    Middle Class  Female  124.000097  14867.100509   19.336688\n",
      "492  18.040725    Middle Class  Female  172.786103  20142.525113   46.346506\n",
      "495   6.079786    Middle Class  Female  175.714408  17550.251894   59.509549\n",
      "\n",
      "[93 rows x 6 columns]\n",
      "('Female', 'Poor')\n",
      "           Age Economic Status  Gender      Height        Income      Weight\n",
      "4    25.886810            Poor  Female  149.171742  18366.643927   91.805779\n",
      "12   28.617735            Poor  Female  151.804529  18211.780250   35.830223\n",
      "17   14.311743            Poor  Female  144.715563  19022.986457   48.856327\n",
      "29   11.548562            Poor  Female  158.151748  20463.797828   49.611140\n",
      "30   25.893200            Poor  Female  174.343092  15153.935575   61.643991\n",
      "34   20.662041            Poor  Female  118.242374  13722.834814   88.460444\n",
      "37   31.377169            Poor  Female  175.791673  18244.127983   55.518049\n",
      "47   38.424953            Poor  Female  126.319447  19374.345055  102.841835\n",
      "55   41.114701            Poor  Female  180.752823  15237.926797   56.208900\n",
      "56   22.566766            Poor  Female  149.306285  14423.522591   64.331112\n",
      "59   40.267291            Poor  Female  141.690408  17811.633414   99.682164\n",
      "64   17.671694            Poor  Female  106.737826  17112.490772   63.567805\n",
      "67   35.950503            Poor  Female  176.796470  17144.569847   54.380869\n",
      "71   11.114093            Poor  Female  149.977190  15534.065858   56.440935\n",
      "81   34.225905            Poor  Female  173.044065  16914.550467   40.620531\n",
      "82   17.573649            Poor  Female  159.602772  17373.297116   64.128799\n",
      "95   51.532868            Poor  Female  128.202017  15130.231817   77.981737\n",
      "100  21.779249            Poor  Female  158.953104  23415.085072   37.551092\n",
      "101  49.280871            Poor  Female  162.047987  14048.889334   79.519440\n",
      "105  18.766826            Poor  Female  136.535563  23015.978989   33.243565\n",
      "114  37.765033            Poor  Female  227.369136  22061.572167   77.593157\n",
      "115  35.355218            Poor  Female  167.835968  17107.825304   69.127540\n",
      "134  14.746087            Poor  Female   97.943537  23161.594236   67.079441\n",
      "138  25.304778            Poor  Female  146.399139  23374.340809   38.378876\n",
      "142  28.246037            Poor  Female  181.952993  19595.908852   81.902191\n",
      "147  34.840587            Poor  Female  197.832193  14865.319976   54.553958\n",
      "149  30.533909            Poor  Female  162.962065  15226.112100  100.161555\n",
      "153  30.379478            Poor  Female  168.141807  18265.717044   82.893109\n",
      "166  26.079151            Poor  Female  193.768464  18424.133838   67.709872\n",
      "179  15.463590            Poor  Female  151.886183  14353.326853   87.756641\n",
      "..         ...             ...     ...         ...           ...         ...\n",
      "288  62.197485            Poor  Female  181.237751  13390.016481   71.046002\n",
      "294  47.610050            Poor  Female  216.300395  14570.568442  103.917019\n",
      "305  58.369317            Poor  Female  207.671928  20416.831998   20.075878\n",
      "313  17.829692            Poor  Female  117.226903  19429.144820   66.336185\n",
      "322  24.372982            Poor  Female  180.302216  19585.802077   66.521836\n",
      "330  32.036898            Poor  Female   92.129331  17664.519379   93.935483\n",
      "338  20.840929            Poor  Female  193.886081  18983.873474   55.155062\n",
      "344  45.812209            Poor  Female  141.812032  20635.899589   84.334648\n",
      "352  19.993469            Poor  Female  158.491783  24074.573774   76.986938\n",
      "361  27.477875            Poor  Female  170.845686  22264.532230   73.939970\n",
      "368  21.833744            Poor  Female  128.925553  13540.866425   80.594191\n",
      "370  42.883743            Poor  Female  187.260273  17014.668112   35.458146\n",
      "376  38.516017            Poor  Female  185.380625  28866.928767   80.663554\n",
      "390  41.135922            Poor  Female  137.305862  20099.869520   83.078042\n",
      "408  32.991275            Poor  Female  138.438423  19870.022602   94.422881\n",
      "410  50.599012            Poor  Female  150.897657  24887.848872   92.663319\n",
      "425  25.486202            Poor  Female  135.480488  16905.868933   40.168017\n",
      "431   4.297265            Poor  Female  206.297246  18785.209145   33.221627\n",
      "432  46.541080            Poor  Female  129.824550  17671.527015   88.087089\n",
      "441   5.977295            Poor  Female  157.870677  25297.938412    8.932692\n",
      "445  10.632660            Poor  Female  163.696577  14936.780179   54.624040\n",
      "452  14.992337            Poor  Female  141.148695  21473.085770   87.405590\n",
      "454  64.060642            Poor  Female  175.812798  17410.139268   69.725122\n",
      "456  16.537206            Poor  Female  158.520351  11900.126071   82.107748\n",
      "464  40.598063            Poor  Female  136.557668  14940.663707   89.347218\n",
      "469  39.392777            Poor  Female  162.746255  20052.696525   75.565834\n",
      "473  23.735200            Poor  Female  147.708370  18130.335295   35.357857\n",
      "476  27.912170            Poor  Female  140.561555  17015.151055   87.365427\n",
      "485  20.386604            Poor  Female  201.285564  21250.129154   76.331849\n",
      "486  19.613222            Poor  Female  141.356000  18032.310494  107.767886\n",
      "\n",
      "[78 rows x 6 columns]\n",
      "('Female', 'Rich')\n",
      "           Age Economic Status  Gender      Height        Income      Weight\n",
      "6    17.369410            Rich  Female  127.918133  16242.153793   66.001086\n",
      "10   36.777331            Rich  Female  173.652941  14956.660451   46.048797\n",
      "15   42.938911            Rich  Female  167.849238  19629.668999   34.004393\n",
      "25   31.427475            Rich  Female  162.549078  15508.741458   39.341555\n",
      "27   20.892956            Rich  Female  160.997039  19911.751195   65.584740\n",
      "39   42.807228            Rich  Female  152.493071  15173.361084   64.734424\n",
      "48   22.635514            Rich  Female  168.413232  16412.192274   57.822079\n",
      "49   51.839015            Rich  Female  160.444643  19859.035920   65.876117\n",
      "57   47.868682            Rich  Female  176.878762  15544.235320   92.947232\n",
      "60    0.739595            Rich  Female  193.517779  21090.807639   69.732702\n",
      "62    9.253408            Rich  Female  153.775094  17909.792982   21.056495\n",
      "65   39.199193            Rich  Female  170.537183  17126.012380   41.908261\n",
      "69   22.704662            Rich  Female  149.030261  13474.105092   15.420177\n",
      "99   45.399309            Rich  Female  151.600182  18719.340808   61.728112\n",
      "108  30.606810            Rich  Female  188.973005  25311.563397   20.926748\n",
      "109  44.274522            Rich  Female  171.776350  16043.024110   57.951948\n",
      "118  32.667066            Rich  Female  139.752517  15961.108183   61.701131\n",
      "122  37.501118            Rich  Female  161.540820  21790.738370   66.784734\n",
      "129  28.620543            Rich  Female  182.123469  17787.893570   36.471190\n",
      "145  45.664924            Rich  Female  152.040714  15585.427496   39.756847\n",
      "152  30.668935            Rich  Female  164.761999  15191.796668   23.047524\n",
      "155  18.719986            Rich  Female  229.349088  21489.614881   37.198240\n",
      "158  29.244058            Rich  Female  167.071562  22807.390010   62.825646\n",
      "159  38.495170            Rich  Female  198.475717  19966.406692   89.528157\n",
      "178  26.973859            Rich  Female  162.734692  16413.062706   99.638296\n",
      "185  24.606589            Rich  Female  161.862958  22643.414345   34.594983\n",
      "189  43.301484            Rich  Female  148.469280  25008.565510   30.058184\n",
      "198  32.496322            Rich  Female  178.995918  18814.305959   69.112266\n",
      "211  40.189220            Rich  Female  180.648856  17160.120100   83.775291\n",
      "219  15.698772            Rich  Female  138.196936  13270.870420   65.156827\n",
      "..         ...             ...     ...         ...           ...         ...\n",
      "342  11.980921            Rich  Female  155.399882  19142.593794   32.100867\n",
      "349  38.628020            Rich  Female  146.009303  19711.790314   42.460462\n",
      "356  39.930573            Rich  Female  186.292718  16848.411104   82.296877\n",
      "360  18.160709            Rich  Female  119.524233  15912.194836   97.437587\n",
      "366  45.006041            Rich  Female  117.474332  18531.422151   62.775726\n",
      "372  18.315236            Rich  Female  175.447072  18648.949817   75.669665\n",
      "373  16.187815            Rich  Female  184.342796  17069.921958   49.540824\n",
      "379  25.374697            Rich  Female  176.032219  16171.134513   65.644940\n",
      "386   6.253595            Rich  Female  179.976643  15865.403583   57.087971\n",
      "399  22.138066            Rich  Female  162.669849  16424.231226   52.130928\n",
      "415  16.603319            Rich  Female  140.857570  19506.267056   50.801724\n",
      "416  30.414527            Rich  Female  141.062640  25653.166015   70.534572\n",
      "417  22.403720            Rich  Female  130.663980  17735.972717  109.261295\n",
      "420  11.121786            Rich  Female  144.134094  23008.703829   54.966831\n",
      "426  35.479608            Rich  Female  151.678925  18769.436552   65.286040\n",
      "430  50.571585            Rich  Female  139.400840  16405.593544  130.612707\n",
      "433  17.132118            Rich  Female  182.209223  16952.962802   52.587026\n",
      "435  23.062817            Rich  Female   60.566489  18267.976706   49.309194\n",
      "437  17.154361            Rich  Female  180.837746  26950.163335   98.535724\n",
      "444  39.285709            Rich  Female  155.766022  23281.029358  103.502789\n",
      "448  26.367739            Rich  Female  180.823588  13206.241921   15.211546\n",
      "453  11.718609            Rich  Female  119.392453  18989.188590   59.841223\n",
      "455  11.333547            Rich  Female  146.555127  11637.013384   95.469851\n",
      "457  30.189068            Rich  Female  168.956110  19267.666416   62.722019\n",
      "460  57.403077            Rich  Female  152.282069  18519.425012   18.422235\n",
      "466  20.002881            Rich  Female  136.333208  18685.302852   39.587585\n",
      "472  49.881693            Rich  Female  181.260595  13196.889864   71.022826\n",
      "474  33.559775            Rich  Female  154.627632  16609.842911   52.447095\n",
      "488  24.468752            Rich  Female  163.011061  15842.915822   74.244804\n",
      "493  40.283945            Rich  Female  186.250708  17828.591161   42.778045\n",
      "\n",
      "[75 rows x 6 columns]\n",
      "('Male', 'Middle Class')\n",
      "           Age Economic Status Gender      Height        Income      Weight\n",
      "3    26.246600    Middle Class   Male  157.562560  18124.225638   53.621600\n",
      "7    23.613499    Middle Class   Male  131.697480  19838.391434   38.032205\n",
      "8    41.354503    Middle Class   Male  150.961720  19802.296435   79.407300\n",
      "9    42.310570    Middle Class   Male  145.397497  20589.356667    1.469958\n",
      "13   21.328020    Middle Class   Male  192.022942  23835.478808   53.715387\n",
      "19   19.087692    Middle Class   Male   98.137720  20973.832111   81.976925\n",
      "21   36.628506    Middle Class   Male  166.764187  17210.243515   46.023904\n",
      "31    4.395793    Middle Class   Male   95.688368  22457.608556   18.915936\n",
      "32   31.615016    Middle Class   Male  113.790378  12374.592012   29.529362\n",
      "40   32.772406    Middle Class   Male  174.415640  13985.450671   77.376986\n",
      "42   35.662145    Middle Class   Male  155.200649  16482.314249   66.649931\n",
      "44   41.752510    Middle Class   Male  210.252520  17224.258105   22.494266\n",
      "46   47.032190    Middle Class   Male  174.367413   9823.453237   37.453467\n",
      "52   32.003927    Middle Class   Male  153.416183  20452.823996   20.637326\n",
      "58   23.954558    Middle Class   Male  148.826126  18906.403506    5.135808\n",
      "61   34.822776    Middle Class   Male  164.713080  17036.242796   27.563782\n",
      "70   24.551565    Middle Class   Male  122.727242  17044.204711   61.600756\n",
      "72   29.103050    Middle Class   Male  173.282973  18994.305476   65.813256\n",
      "75   31.689157    Middle Class   Male  216.739385  21284.557957   23.397668\n",
      "83   26.927359    Middle Class   Male  208.829484  16753.348196   20.474183\n",
      "87   26.109034    Middle Class   Male  131.635186  18342.686247   91.651279\n",
      "91   15.380355    Middle Class   Male  174.736840  17173.813721   32.767006\n",
      "96   29.271931    Middle Class   Male  146.523855  12780.855096   64.649021\n",
      "98    9.993645    Middle Class   Male  122.446394  12710.766185   96.674518\n",
      "110  -5.603892    Middle Class   Male  170.689052  16073.504277   69.780925\n",
      "116  44.046624    Middle Class   Male  157.551035  26741.110072  104.893227\n",
      "119  27.044444    Middle Class   Male  148.891570  15791.867732   61.573214\n",
      "127  30.883882    Middle Class   Male  133.859560  15370.881844   91.666832\n",
      "131  11.972458    Middle Class   Male  178.306045  23723.448759   51.813099\n",
      "132   9.181866    Middle Class   Male   87.042630  25425.487702  107.622072\n",
      "..         ...             ...    ...         ...           ...         ...\n",
      "318  33.111322    Middle Class   Male  154.947330  18979.800248   67.917674\n",
      "320  22.819849    Middle Class   Male  151.573323  13520.788701   73.612767\n",
      "323  18.167730    Middle Class   Male  200.889408  20675.162276   60.454186\n",
      "328  25.141561    Middle Class   Male  118.474325  17890.553160   44.205964\n",
      "333  21.476124    Middle Class   Male  162.255768  12219.562390   89.825374\n",
      "348  32.750640    Middle Class   Male  158.053765  22723.314376   93.106221\n",
      "350  27.830541    Middle Class   Male  113.447598  17560.073695   62.387929\n",
      "359  34.388924    Middle Class   Male  132.419497  19823.651333   70.516704\n",
      "362  43.827530    Middle Class   Male  153.295625  16349.653156   54.714803\n",
      "363  25.829475    Middle Class   Male  179.500671  15981.813372   55.429410\n",
      "375  24.491116    Middle Class   Male  166.427138  18123.169925   47.590900\n",
      "378  24.409952    Middle Class   Male   84.249983  16114.014426   26.313163\n",
      "383  49.753404    Middle Class   Male  154.324496  24395.748603   55.670369\n",
      "391  25.634050    Middle Class   Male  161.460860  13884.701495   47.483018\n",
      "393  32.582729    Middle Class   Male  208.104567  19278.203734   85.245869\n",
      "398  15.462800    Middle Class   Male  135.148309  23950.900550  114.385916\n",
      "402  15.809832    Middle Class   Male  197.046890  20844.964436   91.468225\n",
      "406  12.531305    Middle Class   Male  150.995302  15030.052792   26.899178\n",
      "414  29.640317    Middle Class   Male  172.770933  23185.376389   34.986840\n",
      "421  25.924716    Middle Class   Male  191.708309  18977.042722   16.806344\n",
      "428  25.046244    Middle Class   Male  222.403968  18233.395369   46.222749\n",
      "429  21.780088    Middle Class   Male  191.404242  22558.088980   63.188707\n",
      "447  27.921953    Middle Class   Male  186.070485  17865.031100   46.258713\n",
      "450  31.730262    Middle Class   Male  101.068376  19380.426066   70.303862\n",
      "458  39.560872    Middle Class   Male  164.236477  19974.309556  124.451359\n",
      "465  19.139595    Middle Class   Male  161.093670  17424.077352   62.424339\n",
      "470   8.900557    Middle Class   Male  164.994833  19434.427396   40.101898\n",
      "480  11.903514    Middle Class   Male  165.196718  11758.987476  109.775165\n",
      "489  22.760608    Middle Class   Male  198.023030  10878.258225   98.940893\n",
      "497  10.129887    Middle Class   Male  174.688337  17294.994405   82.466585\n",
      "\n",
      "[94 rows x 6 columns]\n",
      "('Male', 'Poor')\n",
      "           Age Economic Status Gender      Height        Income      Weight\n",
      "1    20.190859            Poor   Male  127.965563  10063.472469   65.160956\n",
      "16   37.231273            Poor   Male   86.470169  14585.642008   26.075060\n",
      "18   37.288013            Poor   Male  168.866917  21087.983748   71.321178\n",
      "20   35.009036            Poor   Male  120.249906  13888.392421   34.501218\n",
      "23   30.673108            Poor   Male  143.545659  16131.105992   43.710498\n",
      "26   27.354184            Poor   Male  123.139372  17327.044695   45.085601\n",
      "28   37.325029            Poor   Male  167.814286  23291.969254   60.544166\n",
      "36   47.748193            Poor   Male  165.489087  13548.325391   76.003265\n",
      "38   18.103633            Poor   Male  116.099678  20666.376517   61.198064\n",
      "54   35.084268            Poor   Male  153.866779  22720.567628   72.663573\n",
      "66   36.322049            Poor   Male  146.958226  21189.535766   29.048388\n",
      "68   28.247853            Poor   Male  199.263604  19276.122142   65.322516\n",
      "77   31.259451            Poor   Male  110.750245  18379.922818   28.732386\n",
      "80   15.472068            Poor   Male  118.317285  16131.422548   32.820687\n",
      "85   14.131675            Poor   Male  197.590294  20391.659864   27.873837\n",
      "102  36.830649            Poor   Male  155.716493  21016.108527   54.297059\n",
      "111  55.095003            Poor   Male  181.255005  20531.314556   82.903462\n",
      "113  26.751387            Poor   Male  162.824475  14374.692324   81.416934\n",
      "117  20.686001            Poor   Male  123.325202  25120.145901   43.704838\n",
      "121  28.686880            Poor   Male  175.236062  16548.462814   37.746637\n",
      "126  28.090300            Poor   Male  112.503799  23437.254918   64.152868\n",
      "160  37.125897            Poor   Male  155.220315  23636.910537   58.798417\n",
      "163   6.826925            Poor   Male  157.027215  18897.670827   14.713387\n",
      "173  27.380012            Poor   Male  135.959892  18056.710125   96.820512\n",
      "174  32.913014            Poor   Male  164.779427  13605.382279   73.268114\n",
      "175  36.351122            Poor   Male  166.806669  18202.456570   23.541817\n",
      "180  22.563280            Poor   Male  161.747101  18621.824588   71.033263\n",
      "200  25.778789            Poor   Male  199.182282  19772.133447   81.157973\n",
      "201  40.888798            Poor   Male  162.724084  17323.067340   61.572490\n",
      "214  27.083244            Poor   Male  178.504250  18489.418887   76.532549\n",
      "..         ...             ...    ...         ...           ...         ...\n",
      "367  40.182759            Poor   Male  170.209597  15788.060470   37.324724\n",
      "369  39.325276            Poor   Male  144.102632  14300.475411   55.374757\n",
      "377  31.932691            Poor   Male  141.658291  18996.646443   83.385268\n",
      "380  35.596883            Poor   Male  171.269962  21003.764944  108.477561\n",
      "384   7.748692            Poor   Male  158.441943  22752.718501   50.333733\n",
      "387  31.300566            Poor   Male  202.424045  18757.675022   35.812852\n",
      "388  30.706177            Poor   Male  128.009967  13554.642200   75.566081\n",
      "401  28.774003            Poor   Male  190.448677  17043.972050   -5.768262\n",
      "403  17.459811            Poor   Male  135.148966  16308.321455   46.168151\n",
      "404  33.971220            Poor   Male  188.593342  16135.138064   64.486874\n",
      "407  35.821688            Poor   Male  165.581664  17157.296036   78.101096\n",
      "411  15.674932            Poor   Male  251.563890  14309.150919   57.205823\n",
      "422  38.518351            Poor   Male  143.653377  18100.595459   57.165146\n",
      "436  38.309825            Poor   Male  157.421095  19030.070218   12.513624\n",
      "438  38.943088            Poor   Male  200.921829  15205.736711    8.373606\n",
      "439  17.195200            Poor   Male  177.847309  16216.392793  101.606489\n",
      "446   9.588470            Poor   Male  231.201615  15458.862873   90.398616\n",
      "449  41.273182            Poor   Male  188.041643  23571.435189   58.450391\n",
      "462  27.604953            Poor   Male  161.897614  27057.044777   72.376658\n",
      "468  27.662392            Poor   Male  156.200825  17140.374764   52.500690\n",
      "471  20.689320            Poor   Male  139.425192  18245.818549   67.001473\n",
      "475  27.149918            Poor   Male  137.942948  19290.787382  114.298622\n",
      "477  -4.505775            Poor   Male  156.774283  17306.846968   68.826887\n",
      "478  33.374703            Poor   Male  130.957152  17921.393819   43.940857\n",
      "479  35.245831            Poor   Male  140.944683  13291.161111   78.465772\n",
      "484  31.582952            Poor   Male  125.775510  16866.505267   60.690964\n",
      "487  35.045757            Poor   Male  175.778314  17140.567983   74.276851\n",
      "494  22.177985            Poor   Male  160.614353  18559.939438   45.836277\n",
      "496  50.800778            Poor   Male  185.475701  25724.984566   74.705733\n",
      "499  32.018608            Poor   Male  130.478502  17503.504915   97.414823\n",
      "\n",
      "[81 rows x 6 columns]\n",
      "('Male', 'Rich')\n",
      "           Age Economic Status Gender      Height        Income      Weight\n",
      "24   31.598653            Rich   Male  169.315494  26605.215209   46.072138\n",
      "33   43.806995            Rich   Male  158.700440  19754.275621   43.206564\n",
      "35   38.014596            Rich   Male  114.519121  21568.137512   69.412278\n",
      "43   14.762025            Rich   Male  152.285897  16833.460582   71.988942\n",
      "53   33.035152            Rich   Male  199.269010  21099.173555   52.137383\n",
      "63   19.961521            Rich   Male  146.548803  21404.044541   84.163476\n",
      "74   45.994964            Rich   Male  177.934781  16222.887051   65.573480\n",
      "78    7.736858            Rich   Male  137.783246  21105.827055   53.766289\n",
      "84   29.044880            Rich   Male  223.861157  17260.968781   88.940508\n",
      "88   25.899966            Rich   Male  124.924039  24307.051040   45.377090\n",
      "89   51.641787            Rich   Male  109.324334  16254.138459   18.544641\n",
      "90   22.293021            Rich   Male   91.179771  18258.316746   63.723299\n",
      "92   29.867094            Rich   Male  165.820666  21652.896533   96.619013\n",
      "106  28.613085            Rich   Male  252.562764  11275.102063   41.728289\n",
      "107  26.115458            Rich   Male  161.318530  24453.436296   48.819956\n",
      "124  39.196863            Rich   Male  196.779878  15353.402237   75.007048\n",
      "125  48.503479            Rich   Male   92.601075  19302.808939   49.973090\n",
      "128  29.103422            Rich   Male  145.979933  18502.641496  110.423356\n",
      "130  46.270720            Rich   Male  154.098459  18711.745124   52.251815\n",
      "133  11.631820            Rich   Male   95.163604  19299.515127   72.897700\n",
      "135  45.522432            Rich   Male  104.152736  23088.773624   60.970089\n",
      "141  29.202237            Rich   Male  136.897408  15044.391713   61.579306\n",
      "146  17.574558            Rich   Male  174.664198  17793.141062   56.978893\n",
      "148  40.155243            Rich   Male  178.225752  17500.468019   47.292906\n",
      "151   6.553446            Rich   Male  167.328684  19811.342467   58.992769\n",
      "164  17.589786            Rich   Male  137.465761  21974.742427   64.364755\n",
      "167  12.404012            Rich   Male  174.139817  13220.073734   56.057186\n",
      "168  30.532557            Rich   Male  178.998577  19763.607570   49.021637\n",
      "176  22.445105            Rich   Male  166.882149  17566.388893   75.132652\n",
      "182  33.032624            Rich   Male  142.687447  21752.048028   39.691070\n",
      "..         ...             ...    ...         ...           ...         ...\n",
      "291  23.259565            Rich   Male  144.725012  18021.188237   87.642694\n",
      "296  25.914992            Rich   Male  137.798739  14575.836255   66.333605\n",
      "297  27.500426            Rich   Male  133.338118  23854.326781  104.298132\n",
      "300  16.254120            Rich   Male  176.005726  16281.848323   65.717830\n",
      "319  35.567289            Rich   Male  220.905456  20328.891897   42.779651\n",
      "321  31.210885            Rich   Male  139.113933  19186.171232   60.847847\n",
      "324  21.907842            Rich   Male  161.283702  20263.807300   25.572868\n",
      "325  34.143819            Rich   Male  145.023262  16065.061960   49.454992\n",
      "345  14.645160            Rich   Male  184.006031  15839.533525   84.906072\n",
      "346  30.531917            Rich   Male  184.313590  16824.164338   60.083236\n",
      "351  25.213236            Rich   Male  136.451644  21633.733362  104.216085\n",
      "357  30.217836            Rich   Male  177.553388  15679.125847   76.470370\n",
      "374  29.533732            Rich   Male  160.866859  24296.110947   80.235384\n",
      "382  35.999728            Rich   Male  175.447134  10980.311952   80.051743\n",
      "385  24.250879            Rich   Male  163.449046  14885.041849   77.436066\n",
      "389  14.766093            Rich   Male   97.916224  19679.601263   56.480849\n",
      "395  32.518945            Rich   Male  148.551499  19427.080613   41.758206\n",
      "397  37.819245            Rich   Male  160.504392  14657.856467   71.880780\n",
      "400  21.633771            Rich   Male  175.780466  21334.376210  114.676947\n",
      "405  19.734083            Rich   Male  147.811344  15167.418909   47.136834\n",
      "409  20.240829            Rich   Male  171.862608  17273.539791   36.709311\n",
      "419  18.526298            Rich   Male  130.849033   7822.628763   83.561415\n",
      "424  30.214996            Rich   Male  132.116175  17989.168147   88.342502\n",
      "427  13.270620            Rich   Male  126.285204  12052.643258   98.718250\n",
      "440  17.519773            Rich   Male  122.923284  20027.707812   42.273775\n",
      "443  58.423021            Rich   Male  186.746887  20734.038152   68.032188\n",
      "459  50.225090            Rich   Male  175.621029  20102.491013   81.219464\n",
      "461  40.782887            Rich   Male  184.396095  18436.095977   59.565584\n",
      "482  16.420921            Rich   Male  112.205897  17191.656474   73.484013\n",
      "498  30.577699            Rich   Male   83.142688  17148.577634  124.356970\n",
      "\n",
      "[79 rows x 6 columns]\n"
     ]
    }
   ],
   "source": [
    "for names, groups in double_group:\n",
    "    print(names)\n",
    "    print(groups)"
   ]
  },
  {
   "cell_type": "markdown",
   "metadata": {
    "colab_type": "text",
    "id": "bt-jzYaOAkR8"
   },
   "source": [
    "## Operaciones sobre datos agrupados"
   ]
  },
  {
   "cell_type": "code",
   "execution_count": 16,
   "metadata": {
    "colab": {
     "base_uri": "https://localhost:8080/",
     "height": 266
    },
    "colab_type": "code",
    "id": "IALClhg8AkR8",
    "outputId": "6f13982b-30f8-46c1-84c0-f7d82500c562"
   },
   "outputs": [
    {
     "data": {
      "text/html": [
       "<div>\n",
       "<style scoped>\n",
       "    .dataframe tbody tr th:only-of-type {\n",
       "        vertical-align: middle;\n",
       "    }\n",
       "\n",
       "    .dataframe tbody tr th {\n",
       "        vertical-align: top;\n",
       "    }\n",
       "\n",
       "    .dataframe thead th {\n",
       "        text-align: right;\n",
       "    }\n",
       "</style>\n",
       "<table border=\"1\" class=\"dataframe\">\n",
       "  <thead>\n",
       "    <tr style=\"text-align: right;\">\n",
       "      <th></th>\n",
       "      <th></th>\n",
       "      <th>Height</th>\n",
       "      <th>Weight</th>\n",
       "      <th>Age</th>\n",
       "      <th>Income</th>\n",
       "    </tr>\n",
       "    <tr>\n",
       "      <th>Gender</th>\n",
       "      <th>Economic Status</th>\n",
       "      <th></th>\n",
       "      <th></th>\n",
       "      <th></th>\n",
       "      <th></th>\n",
       "    </tr>\n",
       "  </thead>\n",
       "  <tbody>\n",
       "    <tr>\n",
       "      <th rowspan=\"3\" valign=\"top\">Female</th>\n",
       "      <th>Middle Class</th>\n",
       "      <td>13109.758475</td>\n",
       "      <td>5114.396788</td>\n",
       "      <td>2443.013144</td>\n",
       "      <td>1.609475e+06</td>\n",
       "    </tr>\n",
       "    <tr>\n",
       "      <th>Poor</th>\n",
       "      <td>12105.710834</td>\n",
       "      <td>5027.709669</td>\n",
       "      <td>2197.896111</td>\n",
       "      <td>1.477014e+06</td>\n",
       "    </tr>\n",
       "    <tr>\n",
       "      <th>Rich</th>\n",
       "      <td>12213.117719</td>\n",
       "      <td>5000.741333</td>\n",
       "      <td>2327.382814</td>\n",
       "      <td>1.521338e+06</td>\n",
       "    </tr>\n",
       "    <tr>\n",
       "      <th rowspan=\"3\" valign=\"top\">Male</th>\n",
       "      <th>Middle Class</th>\n",
       "      <td>12761.733997</td>\n",
       "      <td>4959.605170</td>\n",
       "      <td>2198.240962</td>\n",
       "      <td>1.512304e+06</td>\n",
       "    </tr>\n",
       "    <tr>\n",
       "      <th>Poor</th>\n",
       "      <td>15301.173067</td>\n",
       "      <td>5726.156969</td>\n",
       "      <td>2669.090332</td>\n",
       "      <td>1.847747e+06</td>\n",
       "    </tr>\n",
       "    <tr>\n",
       "      <th>Rich</th>\n",
       "      <td>15092.221858</td>\n",
       "      <td>6539.546423</td>\n",
       "      <td>2925.118149</td>\n",
       "      <td>1.906379e+06</td>\n",
       "    </tr>\n",
       "  </tbody>\n",
       "</table>\n",
       "</div>"
      ],
      "text/plain": [
       "                              Height       Weight          Age        Income\n",
       "Gender Economic Status                                                      \n",
       "Female Middle Class     13109.758475  5114.396788  2443.013144  1.609475e+06\n",
       "       Poor             12105.710834  5027.709669  2197.896111  1.477014e+06\n",
       "       Rich             12213.117719  5000.741333  2327.382814  1.521338e+06\n",
       "Male   Middle Class     12761.733997  4959.605170  2198.240962  1.512304e+06\n",
       "       Poor             15301.173067  5726.156969  2669.090332  1.847747e+06\n",
       "       Rich             15092.221858  6539.546423  2925.118149  1.906379e+06"
      ]
     },
     "execution_count": 16,
     "metadata": {
      "tags": []
     },
     "output_type": "execute_result"
    }
   ],
   "source": [
    "double_group.sum()"
   ]
  },
  {
   "cell_type": "code",
   "execution_count": 17,
   "metadata": {
    "colab": {
     "base_uri": "https://localhost:8080/",
     "height": 266
    },
    "colab_type": "code",
    "id": "XIG-ViIKAkR-",
    "outputId": "daa9cbd7-3175-49a8-ff93-92d29ca6f55b"
   },
   "outputs": [
    {
     "data": {
      "text/html": [
       "<div>\n",
       "<style scoped>\n",
       "    .dataframe tbody tr th:only-of-type {\n",
       "        vertical-align: middle;\n",
       "    }\n",
       "\n",
       "    .dataframe tbody tr th {\n",
       "        vertical-align: top;\n",
       "    }\n",
       "\n",
       "    .dataframe thead th {\n",
       "        text-align: right;\n",
       "    }\n",
       "</style>\n",
       "<table border=\"1\" class=\"dataframe\">\n",
       "  <thead>\n",
       "    <tr style=\"text-align: right;\">\n",
       "      <th></th>\n",
       "      <th></th>\n",
       "      <th>Height</th>\n",
       "      <th>Weight</th>\n",
       "      <th>Age</th>\n",
       "      <th>Income</th>\n",
       "    </tr>\n",
       "    <tr>\n",
       "      <th>Gender</th>\n",
       "      <th>Economic Status</th>\n",
       "      <th></th>\n",
       "      <th></th>\n",
       "      <th></th>\n",
       "      <th></th>\n",
       "    </tr>\n",
       "  </thead>\n",
       "  <tbody>\n",
       "    <tr>\n",
       "      <th rowspan=\"3\" valign=\"top\">Female</th>\n",
       "      <th>Middle Class</th>\n",
       "      <td>159.875103</td>\n",
       "      <td>62.370693</td>\n",
       "      <td>29.792843</td>\n",
       "      <td>19627.745015</td>\n",
       "    </tr>\n",
       "    <tr>\n",
       "      <th>Poor</th>\n",
       "      <td>161.409478</td>\n",
       "      <td>67.036129</td>\n",
       "      <td>29.305281</td>\n",
       "      <td>19693.513975</td>\n",
       "    </tr>\n",
       "    <tr>\n",
       "      <th>Rich</th>\n",
       "      <td>158.611918</td>\n",
       "      <td>64.944693</td>\n",
       "      <td>30.225751</td>\n",
       "      <td>19757.636531</td>\n",
       "    </tr>\n",
       "    <tr>\n",
       "      <th rowspan=\"3\" valign=\"top\">Male</th>\n",
       "      <th>Middle Class</th>\n",
       "      <td>165.736805</td>\n",
       "      <td>64.410457</td>\n",
       "      <td>28.548584</td>\n",
       "      <td>19640.313086</td>\n",
       "    </tr>\n",
       "    <tr>\n",
       "      <th>Poor</th>\n",
       "      <td>164.528743</td>\n",
       "      <td>61.571580</td>\n",
       "      <td>28.699896</td>\n",
       "      <td>19868.250726</td>\n",
       "    </tr>\n",
       "    <tr>\n",
       "      <th>Rich</th>\n",
       "      <td>157.210644</td>\n",
       "      <td>68.120275</td>\n",
       "      <td>30.469981</td>\n",
       "      <td>19858.115811</td>\n",
       "    </tr>\n",
       "  </tbody>\n",
       "</table>\n",
       "</div>"
      ],
      "text/plain": [
       "                            Height     Weight        Age        Income\n",
       "Gender Economic Status                                                \n",
       "Female Middle Class     159.875103  62.370693  29.792843  19627.745015\n",
       "       Poor             161.409478  67.036129  29.305281  19693.513975\n",
       "       Rich             158.611918  64.944693  30.225751  19757.636531\n",
       "Male   Middle Class     165.736805  64.410457  28.548584  19640.313086\n",
       "       Poor             164.528743  61.571580  28.699896  19868.250726\n",
       "       Rich             157.210644  68.120275  30.469981  19858.115811"
      ]
     },
     "execution_count": 17,
     "metadata": {
      "tags": []
     },
     "output_type": "execute_result"
    }
   ],
   "source": [
    "double_group.mean()"
   ]
  },
  {
   "cell_type": "code",
   "execution_count": 18,
   "metadata": {
    "colab": {
     "base_uri": "https://localhost:8080/",
     "height": 153
    },
    "colab_type": "code",
    "id": "Dp6clyJuAkR_",
    "outputId": "c43dbc59-2358-4e5e-a662-7ffad3e3b1a0"
   },
   "outputs": [
    {
     "data": {
      "text/plain": [
       "Gender  Economic Status\n",
       "Female  Middle Class       82\n",
       "        Poor               75\n",
       "        Rich               77\n",
       "Male    Middle Class       77\n",
       "        Poor               93\n",
       "        Rich               96\n",
       "dtype: int64"
      ]
     },
     "execution_count": 18,
     "metadata": {
      "tags": []
     },
     "output_type": "execute_result"
    }
   ],
   "source": [
    "double_group.size()"
   ]
  },
  {
   "cell_type": "code",
   "execution_count": 19,
   "metadata": {
    "colab": {
     "base_uri": "https://localhost:8080/",
     "height": 368
    },
    "colab_type": "code",
    "id": "MVRQed0CAkSA",
    "outputId": "9d2c6adf-a3c6-41d6-b728-3a9fbcc5902a"
   },
   "outputs": [
    {
     "data": {
      "text/html": [
       "<div>\n",
       "<style scoped>\n",
       "    .dataframe tbody tr th:only-of-type {\n",
       "        vertical-align: middle;\n",
       "    }\n",
       "\n",
       "    .dataframe tbody tr th {\n",
       "        vertical-align: top;\n",
       "    }\n",
       "\n",
       "    .dataframe thead tr th {\n",
       "        text-align: left;\n",
       "    }\n",
       "\n",
       "    .dataframe thead tr:last-of-type th {\n",
       "        text-align: right;\n",
       "    }\n",
       "</style>\n",
       "<table border=\"1\" class=\"dataframe\">\n",
       "  <thead>\n",
       "    <tr>\n",
       "      <th></th>\n",
       "      <th></th>\n",
       "      <th colspan=\"8\" halign=\"left\">Height</th>\n",
       "      <th colspan=\"8\" halign=\"left\">Weight</th>\n",
       "      <th colspan=\"8\" halign=\"left\">Age</th>\n",
       "      <th colspan=\"8\" halign=\"left\">Income</th>\n",
       "    </tr>\n",
       "    <tr>\n",
       "      <th></th>\n",
       "      <th></th>\n",
       "      <th>count</th>\n",
       "      <th>mean</th>\n",
       "      <th>std</th>\n",
       "      <th>min</th>\n",
       "      <th>25%</th>\n",
       "      <th>50%</th>\n",
       "      <th>75%</th>\n",
       "      <th>max</th>\n",
       "      <th>count</th>\n",
       "      <th>mean</th>\n",
       "      <th>std</th>\n",
       "      <th>min</th>\n",
       "      <th>25%</th>\n",
       "      <th>50%</th>\n",
       "      <th>75%</th>\n",
       "      <th>max</th>\n",
       "      <th>count</th>\n",
       "      <th>mean</th>\n",
       "      <th>std</th>\n",
       "      <th>min</th>\n",
       "      <th>25%</th>\n",
       "      <th>50%</th>\n",
       "      <th>75%</th>\n",
       "      <th>max</th>\n",
       "      <th>count</th>\n",
       "      <th>mean</th>\n",
       "      <th>std</th>\n",
       "      <th>min</th>\n",
       "      <th>25%</th>\n",
       "      <th>50%</th>\n",
       "      <th>75%</th>\n",
       "      <th>max</th>\n",
       "    </tr>\n",
       "    <tr>\n",
       "      <th>Gender</th>\n",
       "      <th>Economic Status</th>\n",
       "      <th></th>\n",
       "      <th></th>\n",
       "      <th></th>\n",
       "      <th></th>\n",
       "      <th></th>\n",
       "      <th></th>\n",
       "      <th></th>\n",
       "      <th></th>\n",
       "      <th></th>\n",
       "      <th></th>\n",
       "      <th></th>\n",
       "      <th></th>\n",
       "      <th></th>\n",
       "      <th></th>\n",
       "      <th></th>\n",
       "      <th></th>\n",
       "      <th></th>\n",
       "      <th></th>\n",
       "      <th></th>\n",
       "      <th></th>\n",
       "      <th></th>\n",
       "      <th></th>\n",
       "      <th></th>\n",
       "      <th></th>\n",
       "      <th></th>\n",
       "      <th></th>\n",
       "      <th></th>\n",
       "      <th></th>\n",
       "      <th></th>\n",
       "      <th></th>\n",
       "      <th></th>\n",
       "      <th></th>\n",
       "    </tr>\n",
       "  </thead>\n",
       "  <tbody>\n",
       "    <tr>\n",
       "      <th rowspan=\"3\" valign=\"top\">Female</th>\n",
       "      <th>Middle Class</th>\n",
       "      <td>82.0</td>\n",
       "      <td>159.875103</td>\n",
       "      <td>30.373012</td>\n",
       "      <td>80.236149</td>\n",
       "      <td>135.913928</td>\n",
       "      <td>160.514160</td>\n",
       "      <td>180.560591</td>\n",
       "      <td>228.409064</td>\n",
       "      <td>82.0</td>\n",
       "      <td>62.370693</td>\n",
       "      <td>23.546737</td>\n",
       "      <td>6.792281</td>\n",
       "      <td>47.414308</td>\n",
       "      <td>62.017350</td>\n",
       "      <td>77.201058</td>\n",
       "      <td>120.122674</td>\n",
       "      <td>82.0</td>\n",
       "      <td>29.792843</td>\n",
       "      <td>12.587559</td>\n",
       "      <td>-3.010737</td>\n",
       "      <td>22.525387</td>\n",
       "      <td>28.594280</td>\n",
       "      <td>40.046598</td>\n",
       "      <td>64.993034</td>\n",
       "      <td>82.0</td>\n",
       "      <td>19627.745015</td>\n",
       "      <td>994.118644</td>\n",
       "      <td>18040.895955</td>\n",
       "      <td>18793.937121</td>\n",
       "      <td>19615.513639</td>\n",
       "      <td>20359.835287</td>\n",
       "      <td>21488.883196</td>\n",
       "    </tr>\n",
       "    <tr>\n",
       "      <th>Poor</th>\n",
       "      <td>75.0</td>\n",
       "      <td>161.409478</td>\n",
       "      <td>31.477731</td>\n",
       "      <td>97.008895</td>\n",
       "      <td>140.289352</td>\n",
       "      <td>158.853184</td>\n",
       "      <td>178.470317</td>\n",
       "      <td>237.863120</td>\n",
       "      <td>75.0</td>\n",
       "      <td>67.036129</td>\n",
       "      <td>25.069293</td>\n",
       "      <td>1.907216</td>\n",
       "      <td>51.231780</td>\n",
       "      <td>66.089235</td>\n",
       "      <td>83.931587</td>\n",
       "      <td>119.492809</td>\n",
       "      <td>75.0</td>\n",
       "      <td>29.305281</td>\n",
       "      <td>12.185900</td>\n",
       "      <td>-3.837400</td>\n",
       "      <td>20.324882</td>\n",
       "      <td>28.187599</td>\n",
       "      <td>38.071412</td>\n",
       "      <td>58.123572</td>\n",
       "      <td>75.0</td>\n",
       "      <td>19693.513975</td>\n",
       "      <td>940.946942</td>\n",
       "      <td>18034.166483</td>\n",
       "      <td>19049.037827</td>\n",
       "      <td>19617.861260</td>\n",
       "      <td>20303.299142</td>\n",
       "      <td>21489.193581</td>\n",
       "    </tr>\n",
       "    <tr>\n",
       "      <th>Rich</th>\n",
       "      <td>77.0</td>\n",
       "      <td>158.611918</td>\n",
       "      <td>28.634846</td>\n",
       "      <td>90.772317</td>\n",
       "      <td>142.867855</td>\n",
       "      <td>157.166704</td>\n",
       "      <td>172.490364</td>\n",
       "      <td>240.729697</td>\n",
       "      <td>77.0</td>\n",
       "      <td>64.944693</td>\n",
       "      <td>26.263248</td>\n",
       "      <td>23.419552</td>\n",
       "      <td>44.661807</td>\n",
       "      <td>61.909200</td>\n",
       "      <td>79.491705</td>\n",
       "      <td>155.874851</td>\n",
       "      <td>77.0</td>\n",
       "      <td>30.225751</td>\n",
       "      <td>11.323115</td>\n",
       "      <td>-2.860013</td>\n",
       "      <td>22.581370</td>\n",
       "      <td>30.800982</td>\n",
       "      <td>37.451463</td>\n",
       "      <td>60.056761</td>\n",
       "      <td>77.0</td>\n",
       "      <td>19757.636531</td>\n",
       "      <td>1019.800743</td>\n",
       "      <td>18023.726084</td>\n",
       "      <td>18952.149135</td>\n",
       "      <td>19633.547998</td>\n",
       "      <td>20665.291519</td>\n",
       "      <td>21492.614880</td>\n",
       "    </tr>\n",
       "    <tr>\n",
       "      <th rowspan=\"3\" valign=\"top\">Male</th>\n",
       "      <th>Middle Class</th>\n",
       "      <td>77.0</td>\n",
       "      <td>165.736805</td>\n",
       "      <td>29.776044</td>\n",
       "      <td>112.820013</td>\n",
       "      <td>146.685426</td>\n",
       "      <td>161.936648</td>\n",
       "      <td>184.058166</td>\n",
       "      <td>256.194530</td>\n",
       "      <td>77.0</td>\n",
       "      <td>64.410457</td>\n",
       "      <td>28.036595</td>\n",
       "      <td>-7.328773</td>\n",
       "      <td>46.696287</td>\n",
       "      <td>65.738645</td>\n",
       "      <td>83.679865</td>\n",
       "      <td>139.494219</td>\n",
       "      <td>77.0</td>\n",
       "      <td>28.548584</td>\n",
       "      <td>10.917398</td>\n",
       "      <td>4.067120</td>\n",
       "      <td>21.499777</td>\n",
       "      <td>29.746838</td>\n",
       "      <td>35.230100</td>\n",
       "      <td>55.429845</td>\n",
       "      <td>77.0</td>\n",
       "      <td>19640.313086</td>\n",
       "      <td>995.486333</td>\n",
       "      <td>18019.519401</td>\n",
       "      <td>18745.929082</td>\n",
       "      <td>19643.106107</td>\n",
       "      <td>20363.599172</td>\n",
       "      <td>21453.931293</td>\n",
       "    </tr>\n",
       "    <tr>\n",
       "      <th>Poor</th>\n",
       "      <td>93.0</td>\n",
       "      <td>164.528743</td>\n",
       "      <td>27.822572</td>\n",
       "      <td>94.173624</td>\n",
       "      <td>142.346484</td>\n",
       "      <td>166.335510</td>\n",
       "      <td>184.756847</td>\n",
       "      <td>227.539516</td>\n",
       "      <td>93.0</td>\n",
       "      <td>61.571580</td>\n",
       "      <td>24.315991</td>\n",
       "      <td>-2.040686</td>\n",
       "      <td>48.078668</td>\n",
       "      <td>61.613466</td>\n",
       "      <td>75.239205</td>\n",
       "      <td>116.038660</td>\n",
       "      <td>93.0</td>\n",
       "      <td>28.699896</td>\n",
       "      <td>11.980531</td>\n",
       "      <td>-1.181704</td>\n",
       "      <td>21.141014</td>\n",
       "      <td>27.091806</td>\n",
       "      <td>38.711063</td>\n",
       "      <td>59.082634</td>\n",
       "      <td>93.0</td>\n",
       "      <td>19868.250726</td>\n",
       "      <td>1052.295893</td>\n",
       "      <td>18015.391664</td>\n",
       "      <td>18998.283089</td>\n",
       "      <td>19853.349989</td>\n",
       "      <td>20851.226702</td>\n",
       "      <td>21492.894772</td>\n",
       "    </tr>\n",
       "    <tr>\n",
       "      <th>Rich</th>\n",
       "      <td>96.0</td>\n",
       "      <td>157.210644</td>\n",
       "      <td>30.459835</td>\n",
       "      <td>71.472304</td>\n",
       "      <td>133.824171</td>\n",
       "      <td>160.216203</td>\n",
       "      <td>179.105247</td>\n",
       "      <td>214.449386</td>\n",
       "      <td>96.0</td>\n",
       "      <td>68.120275</td>\n",
       "      <td>25.263629</td>\n",
       "      <td>-2.789199</td>\n",
       "      <td>48.383348</td>\n",
       "      <td>65.760364</td>\n",
       "      <td>86.934608</td>\n",
       "      <td>130.364826</td>\n",
       "      <td>96.0</td>\n",
       "      <td>30.469981</td>\n",
       "      <td>11.385701</td>\n",
       "      <td>3.368029</td>\n",
       "      <td>22.619632</td>\n",
       "      <td>30.073195</td>\n",
       "      <td>38.002390</td>\n",
       "      <td>58.030748</td>\n",
       "      <td>96.0</td>\n",
       "      <td>19858.115811</td>\n",
       "      <td>978.823389</td>\n",
       "      <td>18006.577638</td>\n",
       "      <td>19040.921083</td>\n",
       "      <td>19804.216243</td>\n",
       "      <td>20686.405907</td>\n",
       "      <td>21497.428517</td>\n",
       "    </tr>\n",
       "  </tbody>\n",
       "</table>\n",
       "</div>"
      ],
      "text/plain": [
       "                       Height              ...        Income              \n",
       "                        count        mean  ...           75%           max\n",
       "Gender Economic Status                     ...                            \n",
       "Female Middle Class      82.0  159.875103  ...  20359.835287  21488.883196\n",
       "       Poor              75.0  161.409478  ...  20303.299142  21489.193581\n",
       "       Rich              77.0  158.611918  ...  20665.291519  21492.614880\n",
       "Male   Middle Class      77.0  165.736805  ...  20363.599172  21453.931293\n",
       "       Poor              93.0  164.528743  ...  20851.226702  21492.894772\n",
       "       Rich              96.0  157.210644  ...  20686.405907  21497.428517\n",
       "\n",
       "[6 rows x 32 columns]"
      ]
     },
     "execution_count": 19,
     "metadata": {
      "tags": []
     },
     "output_type": "execute_result"
    }
   ],
   "source": [
    "double_group.describe()"
   ]
  },
  {
   "cell_type": "code",
   "execution_count": 0,
   "metadata": {
    "colab": {},
    "colab_type": "code",
    "id": "m0tze5dCAkSB"
   },
   "outputs": [],
   "source": [
    "grouped_income = double_group[\"Income\"]"
   ]
  },
  {
   "cell_type": "code",
   "execution_count": 21,
   "metadata": {
    "colab": {
     "base_uri": "https://localhost:8080/",
     "height": 266
    },
    "colab_type": "code",
    "id": "GnO4smZWAkSC",
    "outputId": "d6a8c7d5-a0fd-4dbd-c1a3-252531f0dde2"
   },
   "outputs": [
    {
     "data": {
      "text/html": [
       "<div>\n",
       "<style scoped>\n",
       "    .dataframe tbody tr th:only-of-type {\n",
       "        vertical-align: middle;\n",
       "    }\n",
       "\n",
       "    .dataframe tbody tr th {\n",
       "        vertical-align: top;\n",
       "    }\n",
       "\n",
       "    .dataframe thead th {\n",
       "        text-align: right;\n",
       "    }\n",
       "</style>\n",
       "<table border=\"1\" class=\"dataframe\">\n",
       "  <thead>\n",
       "    <tr style=\"text-align: right;\">\n",
       "      <th></th>\n",
       "      <th></th>\n",
       "      <th>count</th>\n",
       "      <th>mean</th>\n",
       "      <th>std</th>\n",
       "      <th>min</th>\n",
       "      <th>25%</th>\n",
       "      <th>50%</th>\n",
       "      <th>75%</th>\n",
       "      <th>max</th>\n",
       "    </tr>\n",
       "    <tr>\n",
       "      <th>Gender</th>\n",
       "      <th>Economic Status</th>\n",
       "      <th></th>\n",
       "      <th></th>\n",
       "      <th></th>\n",
       "      <th></th>\n",
       "      <th></th>\n",
       "      <th></th>\n",
       "      <th></th>\n",
       "      <th></th>\n",
       "    </tr>\n",
       "  </thead>\n",
       "  <tbody>\n",
       "    <tr>\n",
       "      <th rowspan=\"3\" valign=\"top\">Female</th>\n",
       "      <th>Middle Class</th>\n",
       "      <td>82.0</td>\n",
       "      <td>19627.745015</td>\n",
       "      <td>994.118644</td>\n",
       "      <td>18040.895955</td>\n",
       "      <td>18793.937121</td>\n",
       "      <td>19615.513639</td>\n",
       "      <td>20359.835287</td>\n",
       "      <td>21488.883196</td>\n",
       "    </tr>\n",
       "    <tr>\n",
       "      <th>Poor</th>\n",
       "      <td>75.0</td>\n",
       "      <td>19693.513975</td>\n",
       "      <td>940.946942</td>\n",
       "      <td>18034.166483</td>\n",
       "      <td>19049.037827</td>\n",
       "      <td>19617.861260</td>\n",
       "      <td>20303.299142</td>\n",
       "      <td>21489.193581</td>\n",
       "    </tr>\n",
       "    <tr>\n",
       "      <th>Rich</th>\n",
       "      <td>77.0</td>\n",
       "      <td>19757.636531</td>\n",
       "      <td>1019.800743</td>\n",
       "      <td>18023.726084</td>\n",
       "      <td>18952.149135</td>\n",
       "      <td>19633.547998</td>\n",
       "      <td>20665.291519</td>\n",
       "      <td>21492.614880</td>\n",
       "    </tr>\n",
       "    <tr>\n",
       "      <th rowspan=\"3\" valign=\"top\">Male</th>\n",
       "      <th>Middle Class</th>\n",
       "      <td>77.0</td>\n",
       "      <td>19640.313086</td>\n",
       "      <td>995.486333</td>\n",
       "      <td>18019.519401</td>\n",
       "      <td>18745.929082</td>\n",
       "      <td>19643.106107</td>\n",
       "      <td>20363.599172</td>\n",
       "      <td>21453.931293</td>\n",
       "    </tr>\n",
       "    <tr>\n",
       "      <th>Poor</th>\n",
       "      <td>93.0</td>\n",
       "      <td>19868.250726</td>\n",
       "      <td>1052.295893</td>\n",
       "      <td>18015.391664</td>\n",
       "      <td>18998.283089</td>\n",
       "      <td>19853.349989</td>\n",
       "      <td>20851.226702</td>\n",
       "      <td>21492.894772</td>\n",
       "    </tr>\n",
       "    <tr>\n",
       "      <th>Rich</th>\n",
       "      <td>96.0</td>\n",
       "      <td>19858.115811</td>\n",
       "      <td>978.823389</td>\n",
       "      <td>18006.577638</td>\n",
       "      <td>19040.921083</td>\n",
       "      <td>19804.216243</td>\n",
       "      <td>20686.405907</td>\n",
       "      <td>21497.428517</td>\n",
       "    </tr>\n",
       "  </tbody>\n",
       "</table>\n",
       "</div>"
      ],
      "text/plain": [
       "                        count          mean  ...           75%           max\n",
       "Gender Economic Status                       ...                            \n",
       "Female Middle Class      82.0  19627.745015  ...  20359.835287  21488.883196\n",
       "       Poor              75.0  19693.513975  ...  20303.299142  21489.193581\n",
       "       Rich              77.0  19757.636531  ...  20665.291519  21492.614880\n",
       "Male   Middle Class      77.0  19640.313086  ...  20363.599172  21453.931293\n",
       "       Poor              93.0  19868.250726  ...  20851.226702  21492.894772\n",
       "       Rich              96.0  19858.115811  ...  20686.405907  21497.428517\n",
       "\n",
       "[6 rows x 8 columns]"
      ]
     },
     "execution_count": 21,
     "metadata": {
      "tags": []
     },
     "output_type": "execute_result"
    }
   ],
   "source": [
    "grouped_income.describe()"
   ]
  },
  {
   "cell_type": "code",
   "execution_count": 22,
   "metadata": {
    "colab": {
     "base_uri": "https://localhost:8080/",
     "height": 266
    },
    "colab_type": "code",
    "id": "kc8V5PfaAkSD",
    "outputId": "82aef21c-a5f8-4c6b-f7a8-fb80786af5bd"
   },
   "outputs": [
    {
     "data": {
      "text/html": [
       "<div>\n",
       "<style scoped>\n",
       "    .dataframe tbody tr th:only-of-type {\n",
       "        vertical-align: middle;\n",
       "    }\n",
       "\n",
       "    .dataframe tbody tr th {\n",
       "        vertical-align: top;\n",
       "    }\n",
       "\n",
       "    .dataframe thead th {\n",
       "        text-align: right;\n",
       "    }\n",
       "</style>\n",
       "<table border=\"1\" class=\"dataframe\">\n",
       "  <thead>\n",
       "    <tr style=\"text-align: right;\">\n",
       "      <th></th>\n",
       "      <th></th>\n",
       "      <th>Income</th>\n",
       "      <th>Age</th>\n",
       "      <th>Height</th>\n",
       "    </tr>\n",
       "    <tr>\n",
       "      <th>Gender</th>\n",
       "      <th>Economic Status</th>\n",
       "      <th></th>\n",
       "      <th></th>\n",
       "      <th></th>\n",
       "    </tr>\n",
       "  </thead>\n",
       "  <tbody>\n",
       "    <tr>\n",
       "      <th rowspan=\"3\" valign=\"top\">Female</th>\n",
       "      <th>Middle Class</th>\n",
       "      <td>1.609475e+06</td>\n",
       "      <td>29.792843</td>\n",
       "      <td>30.373012</td>\n",
       "    </tr>\n",
       "    <tr>\n",
       "      <th>Poor</th>\n",
       "      <td>1.477014e+06</td>\n",
       "      <td>29.305281</td>\n",
       "      <td>31.477731</td>\n",
       "    </tr>\n",
       "    <tr>\n",
       "      <th>Rich</th>\n",
       "      <td>1.521338e+06</td>\n",
       "      <td>30.225751</td>\n",
       "      <td>28.634846</td>\n",
       "    </tr>\n",
       "    <tr>\n",
       "      <th rowspan=\"3\" valign=\"top\">Male</th>\n",
       "      <th>Middle Class</th>\n",
       "      <td>1.512304e+06</td>\n",
       "      <td>28.548584</td>\n",
       "      <td>29.776044</td>\n",
       "    </tr>\n",
       "    <tr>\n",
       "      <th>Poor</th>\n",
       "      <td>1.847747e+06</td>\n",
       "      <td>28.699896</td>\n",
       "      <td>27.822572</td>\n",
       "    </tr>\n",
       "    <tr>\n",
       "      <th>Rich</th>\n",
       "      <td>1.906379e+06</td>\n",
       "      <td>30.469981</td>\n",
       "      <td>30.459835</td>\n",
       "    </tr>\n",
       "  </tbody>\n",
       "</table>\n",
       "</div>"
      ],
      "text/plain": [
       "                              Income        Age     Height\n",
       "Gender Economic Status                                    \n",
       "Female Middle Class     1.609475e+06  29.792843  30.373012\n",
       "       Poor             1.477014e+06  29.305281  31.477731\n",
       "       Rich             1.521338e+06  30.225751  28.634846\n",
       "Male   Middle Class     1.512304e+06  28.548584  29.776044\n",
       "       Poor             1.847747e+06  28.699896  27.822572\n",
       "       Rich             1.906379e+06  30.469981  30.459835"
      ]
     },
     "execution_count": 22,
     "metadata": {
      "tags": []
     },
     "output_type": "execute_result"
    }
   ],
   "source": [
    "double_group.aggregate(\n",
    "    {\n",
    "        \"Income\": np.sum,\n",
    "        \"Age\" : np.mean,\n",
    "        \"Height\" : np.std\n",
    "    }\n",
    ")"
   ]
  },
  {
   "cell_type": "code",
   "execution_count": 23,
   "metadata": {
    "colab": {
     "base_uri": "https://localhost:8080/",
     "height": 266
    },
    "colab_type": "code",
    "id": "hjThnV4yAkSE",
    "outputId": "c70ed120-8fc1-4f01-ca77-fe33e8518a11"
   },
   "outputs": [
    {
     "data": {
      "text/html": [
       "<div>\n",
       "<style scoped>\n",
       "    .dataframe tbody tr th:only-of-type {\n",
       "        vertical-align: middle;\n",
       "    }\n",
       "\n",
       "    .dataframe tbody tr th {\n",
       "        vertical-align: top;\n",
       "    }\n",
       "\n",
       "    .dataframe thead th {\n",
       "        text-align: right;\n",
       "    }\n",
       "</style>\n",
       "<table border=\"1\" class=\"dataframe\">\n",
       "  <thead>\n",
       "    <tr style=\"text-align: right;\">\n",
       "      <th></th>\n",
       "      <th></th>\n",
       "      <th>Age</th>\n",
       "      <th>Height</th>\n",
       "    </tr>\n",
       "    <tr>\n",
       "      <th>Gender</th>\n",
       "      <th>Economic Status</th>\n",
       "      <th></th>\n",
       "      <th></th>\n",
       "    </tr>\n",
       "  </thead>\n",
       "  <tbody>\n",
       "    <tr>\n",
       "      <th rowspan=\"3\" valign=\"top\">Female</th>\n",
       "      <th>Middle Class</th>\n",
       "      <td>29.792843</td>\n",
       "      <td>5.296115</td>\n",
       "    </tr>\n",
       "    <tr>\n",
       "      <th>Poor</th>\n",
       "      <td>29.305281</td>\n",
       "      <td>5.162266</td>\n",
       "    </tr>\n",
       "    <tr>\n",
       "      <th>Rich</th>\n",
       "      <td>30.225751</td>\n",
       "      <td>5.575445</td>\n",
       "    </tr>\n",
       "    <tr>\n",
       "      <th rowspan=\"3\" valign=\"top\">Male</th>\n",
       "      <th>Middle Class</th>\n",
       "      <td>28.548584</td>\n",
       "      <td>5.602612</td>\n",
       "    </tr>\n",
       "    <tr>\n",
       "      <th>Poor</th>\n",
       "      <td>28.699896</td>\n",
       "      <td>5.945550</td>\n",
       "    </tr>\n",
       "    <tr>\n",
       "      <th>Rich</th>\n",
       "      <td>30.469981</td>\n",
       "      <td>5.188337</td>\n",
       "    </tr>\n",
       "  </tbody>\n",
       "</table>\n",
       "</div>"
      ],
      "text/plain": [
       "                              Age    Height\n",
       "Gender Economic Status                     \n",
       "Female Middle Class     29.792843  5.296115\n",
       "       Poor             29.305281  5.162266\n",
       "       Rich             30.225751  5.575445\n",
       "Male   Middle Class     28.548584  5.602612\n",
       "       Poor             28.699896  5.945550\n",
       "       Rich             30.469981  5.188337"
      ]
     },
     "execution_count": 23,
     "metadata": {
      "tags": []
     },
     "output_type": "execute_result"
    }
   ],
   "source": [
    "double_group.aggregate(\n",
    "    {\n",
    "        \"Age\" : np.mean,\n",
    "        \"Height\" : lambda h:(np.mean(h))/np.std(h)\n",
    "    }\n",
    ")"
   ]
  },
  {
   "cell_type": "code",
   "execution_count": 24,
   "metadata": {
    "colab": {
     "base_uri": "https://localhost:8080/",
     "height": 297
    },
    "colab_type": "code",
    "id": "SGx9EOlFAkSF",
    "outputId": "46b278df-a199-4cd5-bb95-aff120b6ac43"
   },
   "outputs": [
    {
     "data": {
      "text/html": [
       "<div>\n",
       "<style scoped>\n",
       "    .dataframe tbody tr th:only-of-type {\n",
       "        vertical-align: middle;\n",
       "    }\n",
       "\n",
       "    .dataframe tbody tr th {\n",
       "        vertical-align: top;\n",
       "    }\n",
       "\n",
       "    .dataframe thead tr th {\n",
       "        text-align: left;\n",
       "    }\n",
       "\n",
       "    .dataframe thead tr:last-of-type th {\n",
       "        text-align: right;\n",
       "    }\n",
       "</style>\n",
       "<table border=\"1\" class=\"dataframe\">\n",
       "  <thead>\n",
       "    <tr>\n",
       "      <th></th>\n",
       "      <th></th>\n",
       "      <th colspan=\"3\" halign=\"left\">Height</th>\n",
       "      <th colspan=\"3\" halign=\"left\">Weight</th>\n",
       "      <th colspan=\"3\" halign=\"left\">Age</th>\n",
       "      <th colspan=\"3\" halign=\"left\">Income</th>\n",
       "    </tr>\n",
       "    <tr>\n",
       "      <th></th>\n",
       "      <th></th>\n",
       "      <th>sum</th>\n",
       "      <th>mean</th>\n",
       "      <th>std</th>\n",
       "      <th>sum</th>\n",
       "      <th>mean</th>\n",
       "      <th>std</th>\n",
       "      <th>sum</th>\n",
       "      <th>mean</th>\n",
       "      <th>std</th>\n",
       "      <th>sum</th>\n",
       "      <th>mean</th>\n",
       "      <th>std</th>\n",
       "    </tr>\n",
       "    <tr>\n",
       "      <th>Gender</th>\n",
       "      <th>Economic Status</th>\n",
       "      <th></th>\n",
       "      <th></th>\n",
       "      <th></th>\n",
       "      <th></th>\n",
       "      <th></th>\n",
       "      <th></th>\n",
       "      <th></th>\n",
       "      <th></th>\n",
       "      <th></th>\n",
       "      <th></th>\n",
       "      <th></th>\n",
       "      <th></th>\n",
       "    </tr>\n",
       "  </thead>\n",
       "  <tbody>\n",
       "    <tr>\n",
       "      <th rowspan=\"3\" valign=\"top\">Female</th>\n",
       "      <th>Middle Class</th>\n",
       "      <td>13109.758475</td>\n",
       "      <td>159.875103</td>\n",
       "      <td>30.373012</td>\n",
       "      <td>5114.396788</td>\n",
       "      <td>62.370693</td>\n",
       "      <td>23.546737</td>\n",
       "      <td>2443.013144</td>\n",
       "      <td>29.792843</td>\n",
       "      <td>12.587559</td>\n",
       "      <td>1.609475e+06</td>\n",
       "      <td>19627.745015</td>\n",
       "      <td>994.118644</td>\n",
       "    </tr>\n",
       "    <tr>\n",
       "      <th>Poor</th>\n",
       "      <td>12105.710834</td>\n",
       "      <td>161.409478</td>\n",
       "      <td>31.477731</td>\n",
       "      <td>5027.709669</td>\n",
       "      <td>67.036129</td>\n",
       "      <td>25.069293</td>\n",
       "      <td>2197.896111</td>\n",
       "      <td>29.305281</td>\n",
       "      <td>12.185900</td>\n",
       "      <td>1.477014e+06</td>\n",
       "      <td>19693.513975</td>\n",
       "      <td>940.946942</td>\n",
       "    </tr>\n",
       "    <tr>\n",
       "      <th>Rich</th>\n",
       "      <td>12213.117719</td>\n",
       "      <td>158.611918</td>\n",
       "      <td>28.634846</td>\n",
       "      <td>5000.741333</td>\n",
       "      <td>64.944693</td>\n",
       "      <td>26.263248</td>\n",
       "      <td>2327.382814</td>\n",
       "      <td>30.225751</td>\n",
       "      <td>11.323115</td>\n",
       "      <td>1.521338e+06</td>\n",
       "      <td>19757.636531</td>\n",
       "      <td>1019.800743</td>\n",
       "    </tr>\n",
       "    <tr>\n",
       "      <th rowspan=\"3\" valign=\"top\">Male</th>\n",
       "      <th>Middle Class</th>\n",
       "      <td>12761.733997</td>\n",
       "      <td>165.736805</td>\n",
       "      <td>29.776044</td>\n",
       "      <td>4959.605170</td>\n",
       "      <td>64.410457</td>\n",
       "      <td>28.036595</td>\n",
       "      <td>2198.240962</td>\n",
       "      <td>28.548584</td>\n",
       "      <td>10.917398</td>\n",
       "      <td>1.512304e+06</td>\n",
       "      <td>19640.313086</td>\n",
       "      <td>995.486333</td>\n",
       "    </tr>\n",
       "    <tr>\n",
       "      <th>Poor</th>\n",
       "      <td>15301.173067</td>\n",
       "      <td>164.528743</td>\n",
       "      <td>27.822572</td>\n",
       "      <td>5726.156969</td>\n",
       "      <td>61.571580</td>\n",
       "      <td>24.315991</td>\n",
       "      <td>2669.090332</td>\n",
       "      <td>28.699896</td>\n",
       "      <td>11.980531</td>\n",
       "      <td>1.847747e+06</td>\n",
       "      <td>19868.250726</td>\n",
       "      <td>1052.295893</td>\n",
       "    </tr>\n",
       "    <tr>\n",
       "      <th>Rich</th>\n",
       "      <td>15092.221858</td>\n",
       "      <td>157.210644</td>\n",
       "      <td>30.459835</td>\n",
       "      <td>6539.546423</td>\n",
       "      <td>68.120275</td>\n",
       "      <td>25.263629</td>\n",
       "      <td>2925.118149</td>\n",
       "      <td>30.469981</td>\n",
       "      <td>11.385701</td>\n",
       "      <td>1.906379e+06</td>\n",
       "      <td>19858.115811</td>\n",
       "      <td>978.823389</td>\n",
       "    </tr>\n",
       "  </tbody>\n",
       "</table>\n",
       "</div>"
      ],
      "text/plain": [
       "                              Height              ...        Income             \n",
       "                                 sum        mean  ...          mean          std\n",
       "Gender Economic Status                            ...                           \n",
       "Female Middle Class     13109.758475  159.875103  ...  19627.745015   994.118644\n",
       "       Poor             12105.710834  161.409478  ...  19693.513975   940.946942\n",
       "       Rich             12213.117719  158.611918  ...  19757.636531  1019.800743\n",
       "Male   Middle Class     12761.733997  165.736805  ...  19640.313086   995.486333\n",
       "       Poor             15301.173067  164.528743  ...  19868.250726  1052.295893\n",
       "       Rich             15092.221858  157.210644  ...  19858.115811   978.823389\n",
       "\n",
       "[6 rows x 12 columns]"
      ]
     },
     "execution_count": 24,
     "metadata": {
      "tags": []
     },
     "output_type": "execute_result"
    }
   ],
   "source": [
    "double_group.aggregate([np.sum, np.mean, np.std])"
   ]
  },
  {
   "cell_type": "code",
   "execution_count": 25,
   "metadata": {
    "colab": {
     "base_uri": "https://localhost:8080/",
     "height": 297
    },
    "colab_type": "code",
    "id": "UkktjSkgAkSG",
    "outputId": "649b4150-ed5f-434c-aba1-fd463463fa25"
   },
   "outputs": [
    {
     "data": {
      "text/html": [
       "<div>\n",
       "<style scoped>\n",
       "    .dataframe tbody tr th:only-of-type {\n",
       "        vertical-align: middle;\n",
       "    }\n",
       "\n",
       "    .dataframe tbody tr th {\n",
       "        vertical-align: top;\n",
       "    }\n",
       "\n",
       "    .dataframe thead tr th {\n",
       "        text-align: left;\n",
       "    }\n",
       "\n",
       "    .dataframe thead tr:last-of-type th {\n",
       "        text-align: right;\n",
       "    }\n",
       "</style>\n",
       "<table border=\"1\" class=\"dataframe\">\n",
       "  <thead>\n",
       "    <tr>\n",
       "      <th></th>\n",
       "      <th></th>\n",
       "      <th>Height</th>\n",
       "      <th>Weight</th>\n",
       "      <th>Age</th>\n",
       "      <th>Income</th>\n",
       "    </tr>\n",
       "    <tr>\n",
       "      <th></th>\n",
       "      <th></th>\n",
       "      <th>&lt;lambda&gt;</th>\n",
       "      <th>&lt;lambda&gt;</th>\n",
       "      <th>&lt;lambda&gt;</th>\n",
       "      <th>&lt;lambda&gt;</th>\n",
       "    </tr>\n",
       "    <tr>\n",
       "      <th>Gender</th>\n",
       "      <th>Economic Status</th>\n",
       "      <th></th>\n",
       "      <th></th>\n",
       "      <th></th>\n",
       "      <th></th>\n",
       "    </tr>\n",
       "  </thead>\n",
       "  <tbody>\n",
       "    <tr>\n",
       "      <th rowspan=\"3\" valign=\"top\">Female</th>\n",
       "      <th>Middle Class</th>\n",
       "      <td>5.296115</td>\n",
       "      <td>2.665104</td>\n",
       "      <td>2.381414</td>\n",
       "      <td>19.865368</td>\n",
       "    </tr>\n",
       "    <tr>\n",
       "      <th>Poor</th>\n",
       "      <td>5.162266</td>\n",
       "      <td>2.692041</td>\n",
       "      <td>2.421046</td>\n",
       "      <td>21.070403</td>\n",
       "    </tr>\n",
       "    <tr>\n",
       "      <th>Rich</th>\n",
       "      <td>5.575445</td>\n",
       "      <td>2.489051</td>\n",
       "      <td>2.686889</td>\n",
       "      <td>19.501061</td>\n",
       "    </tr>\n",
       "    <tr>\n",
       "      <th rowspan=\"3\" valign=\"top\">Male</th>\n",
       "      <th>Middle Class</th>\n",
       "      <td>5.602612</td>\n",
       "      <td>2.312436</td>\n",
       "      <td>2.632110</td>\n",
       "      <td>19.858739</td>\n",
       "    </tr>\n",
       "    <tr>\n",
       "      <th>Poor</th>\n",
       "      <td>5.945550</td>\n",
       "      <td>2.545868</td>\n",
       "      <td>2.408529</td>\n",
       "      <td>18.983195</td>\n",
       "    </tr>\n",
       "    <tr>\n",
       "      <th>Rich</th>\n",
       "      <td>5.188337</td>\n",
       "      <td>2.710532</td>\n",
       "      <td>2.690210</td>\n",
       "      <td>20.394239</td>\n",
       "    </tr>\n",
       "  </tbody>\n",
       "</table>\n",
       "</div>"
      ],
      "text/plain": [
       "                          Height    Weight       Age     Income\n",
       "                        <lambda>  <lambda>  <lambda>   <lambda>\n",
       "Gender Economic Status                                         \n",
       "Female Middle Class     5.296115  2.665104  2.381414  19.865368\n",
       "       Poor             5.162266  2.692041  2.421046  21.070403\n",
       "       Rich             5.575445  2.489051  2.686889  19.501061\n",
       "Male   Middle Class     5.602612  2.312436  2.632110  19.858739\n",
       "       Poor             5.945550  2.545868  2.408529  18.983195\n",
       "       Rich             5.188337  2.710532  2.690210  20.394239"
      ]
     },
     "execution_count": 25,
     "metadata": {
      "tags": []
     },
     "output_type": "execute_result"
    }
   ],
   "source": [
    "double_group.aggregate([lambda x: np.mean(x) / np.std(x)])"
   ]
  },
  {
   "cell_type": "markdown",
   "metadata": {
    "colab_type": "text",
    "id": "YqDrlXlFAkSH"
   },
   "source": [
    "## Filtrado de datos"
   ]
  },
  {
   "cell_type": "code",
   "execution_count": 26,
   "metadata": {
    "colab": {
     "base_uri": "https://localhost:8080/",
     "height": 221
    },
    "colab_type": "code",
    "id": "dD7rfKxSAkSH",
    "outputId": "324de0e9-e7f3-4d0a-f627-4502bf988198"
   },
   "outputs": [
    {
     "data": {
      "text/plain": [
       "3      34.192437\n",
       "4      32.501684\n",
       "7      19.958657\n",
       "8      31.228420\n",
       "10     38.757674\n",
       "         ...    \n",
       "492    64.993034\n",
       "494    31.240249\n",
       "495    17.900334\n",
       "496    27.617103\n",
       "498    35.257657\n",
       "Name: Age, Length: 271, dtype: float64"
      ]
     },
     "execution_count": 26,
     "metadata": {
      "tags": []
     },
     "output_type": "execute_result"
    }
   ],
   "source": [
    "double_group[\"Age\"].filter(lambda x: x.sum()>2400)"
   ]
  },
  {
   "cell_type": "markdown",
   "metadata": {
    "colab_type": "text",
    "id": "K8WuegM0AkSI"
   },
   "source": [
    "## Transformación de variables"
   ]
  },
  {
   "cell_type": "code",
   "execution_count": 0,
   "metadata": {
    "colab": {},
    "colab_type": "code",
    "id": "_3lvmdbVAkSI"
   },
   "outputs": [],
   "source": [
    "zscore = lambda x : (x - x.mean())/x.std()"
   ]
  },
  {
   "cell_type": "code",
   "execution_count": 0,
   "metadata": {
    "colab": {},
    "colab_type": "code",
    "id": "fLCs7OEOAkSJ"
   },
   "outputs": [],
   "source": [
    "z_group = double_group.transform(zscore)"
   ]
  },
  {
   "cell_type": "code",
   "execution_count": 0,
   "metadata": {
    "colab": {},
    "colab_type": "code",
    "id": "1_3gMroqAkSK"
   },
   "outputs": [],
   "source": [
    "import matplotlib.pyplot as plt"
   ]
  },
  {
   "cell_type": "code",
   "execution_count": 30,
   "metadata": {
    "colab": {
     "base_uri": "https://localhost:8080/",
     "height": 350
    },
    "colab_type": "code",
    "id": "CRgESBjmAkSL",
    "outputId": "3f2055ac-0d7e-4787-ab2a-aa6045c585db"
   },
   "outputs": [
    {
     "data": {
      "text/plain": [
       "(array([  6.,  10.,  38.,  80., 111., 104.,  80.,  47.,  15.,   9.]),\n",
       " array([-2.92196658, -2.35012721, -1.77828785, -1.20644848, -0.63460912,\n",
       "        -0.06276976,  0.50906961,  1.08090897,  1.65274833,  2.2245877 ,\n",
       "         2.79642706]),\n",
       " <a list of 10 Patch objects>)"
      ]
     },
     "execution_count": 30,
     "metadata": {
      "tags": []
     },
     "output_type": "execute_result"
    },
    {
     "data": {
      "image/png": "[encoded data removed]",
      "text/plain": [
       "<Figure size 432x288 with 1 Axes>"
      ]
     },
     "metadata": {
      "needs_background": "light",
      "tags": []
     },
     "output_type": "display_data"
    }
   ],
   "source": [
    "plt.hist(z_group[\"Age\"])"
   ]
  },
  {
   "cell_type": "code",
   "execution_count": 0,
   "metadata": {
    "colab": {},
    "colab_type": "code",
    "id": "V5OjiQoAAkSM"
   },
   "outputs": [],
   "source": [
    "fill_na_mean = lambda x : x.fillna(x.mean())"
   ]
  },
  {
   "cell_type": "code",
   "execution_count": 32,
   "metadata": {
    "colab": {
     "base_uri": "https://localhost:8080/",
     "height": 419
    },
    "colab_type": "code",
    "id": "Jt30Dhi7AkSN",
    "outputId": "ca1ea0dc-e6fe-4fbc-a412-9629628408b4"
   },
   "outputs": [
    {
     "data": {
      "text/html": [
       "<div>\n",
       "<style scoped>\n",
       "    .dataframe tbody tr th:only-of-type {\n",
       "        vertical-align: middle;\n",
       "    }\n",
       "\n",
       "    .dataframe tbody tr th {\n",
       "        vertical-align: top;\n",
       "    }\n",
       "\n",
       "    .dataframe thead th {\n",
       "        text-align: right;\n",
       "    }\n",
       "</style>\n",
       "<table border=\"1\" class=\"dataframe\">\n",
       "  <thead>\n",
       "    <tr style=\"text-align: right;\">\n",
       "      <th></th>\n",
       "      <th>Height</th>\n",
       "      <th>Weight</th>\n",
       "      <th>Age</th>\n",
       "      <th>Income</th>\n",
       "    </tr>\n",
       "  </thead>\n",
       "  <tbody>\n",
       "    <tr>\n",
       "      <th>0</th>\n",
       "      <td>196.343940</td>\n",
       "      <td>60.909064</td>\n",
       "      <td>40.451221</td>\n",
       "      <td>21385.958772</td>\n",
       "    </tr>\n",
       "    <tr>\n",
       "      <th>1</th>\n",
       "      <td>153.697110</td>\n",
       "      <td>48.005164</td>\n",
       "      <td>48.163870</td>\n",
       "      <td>19757.653998</td>\n",
       "    </tr>\n",
       "    <tr>\n",
       "      <th>2</th>\n",
       "      <td>146.713926</td>\n",
       "      <td>53.476714</td>\n",
       "      <td>31.144568</td>\n",
       "      <td>20279.476735</td>\n",
       "    </tr>\n",
       "    <tr>\n",
       "      <th>3</th>\n",
       "      <td>183.988501</td>\n",
       "      <td>71.785466</td>\n",
       "      <td>34.192437</td>\n",
       "      <td>19778.532678</td>\n",
       "    </tr>\n",
       "    <tr>\n",
       "      <th>4</th>\n",
       "      <td>179.805582</td>\n",
       "      <td>58.547234</td>\n",
       "      <td>32.501684</td>\n",
       "      <td>19346.337986</td>\n",
       "    </tr>\n",
       "    <tr>\n",
       "      <th>...</th>\n",
       "      <td>...</td>\n",
       "      <td>...</td>\n",
       "      <td>...</td>\n",
       "      <td>...</td>\n",
       "    </tr>\n",
       "    <tr>\n",
       "      <th>495</th>\n",
       "      <td>180.672252</td>\n",
       "      <td>51.029436</td>\n",
       "      <td>17.900334</td>\n",
       "      <td>20043.401932</td>\n",
       "    </tr>\n",
       "    <tr>\n",
       "      <th>496</th>\n",
       "      <td>151.602650</td>\n",
       "      <td>43.765061</td>\n",
       "      <td>27.617103</td>\n",
       "      <td>20241.297735</td>\n",
       "    </tr>\n",
       "    <tr>\n",
       "      <th>497</th>\n",
       "      <td>149.973149</td>\n",
       "      <td>67.190925</td>\n",
       "      <td>36.479521</td>\n",
       "      <td>19335.750899</td>\n",
       "    </tr>\n",
       "    <tr>\n",
       "      <th>498</th>\n",
       "      <td>163.669365</td>\n",
       "      <td>98.571932</td>\n",
       "      <td>35.257657</td>\n",
       "      <td>18888.280373</td>\n",
       "    </tr>\n",
       "    <tr>\n",
       "      <th>499</th>\n",
       "      <td>148.236420</td>\n",
       "      <td>90.327894</td>\n",
       "      <td>13.374767</td>\n",
       "      <td>19467.309309</td>\n",
       "    </tr>\n",
       "  </tbody>\n",
       "</table>\n",
       "<p>500 rows × 4 columns</p>\n",
       "</div>"
      ],
      "text/plain": [
       "         Height     Weight        Age        Income\n",
       "0    196.343940  60.909064  40.451221  21385.958772\n",
       "1    153.697110  48.005164  48.163870  19757.653998\n",
       "2    146.713926  53.476714  31.144568  20279.476735\n",
       "3    183.988501  71.785466  34.192437  19778.532678\n",
       "4    179.805582  58.547234  32.501684  19346.337986\n",
       "..          ...        ...        ...           ...\n",
       "495  180.672252  51.029436  17.900334  20043.401932\n",
       "496  151.602650  43.765061  27.617103  20241.297735\n",
       "497  149.973149  67.190925  36.479521  19335.750899\n",
       "498  163.669365  98.571932  35.257657  18888.280373\n",
       "499  148.236420  90.327894  13.374767  19467.309309\n",
       "\n",
       "[500 rows x 4 columns]"
      ]
     },
     "execution_count": 32,
     "metadata": {
      "tags": []
     },
     "output_type": "execute_result"
    }
   ],
   "source": [
    "double_group.transform(fill_na_mean)"
   ]
  },
  {
   "cell_type": "markdown",
   "metadata": {
    "colab_type": "text",
    "id": "REgLbwFpAkSO"
   },
   "source": [
    "## Operaciones diversas muy útiles"
   ]
  },
  {
   "cell_type": "code",
   "execution_count": 33,
   "metadata": {
    "colab": {
     "base_uri": "https://localhost:8080/",
     "height": 235
    },
    "colab_type": "code",
    "id": "Onxbpf_5AkSO",
    "outputId": "ec3f40b7-5e5e-4674-b0a8-01963860af19"
   },
   "outputs": [
    {
     "data": {
      "text/html": [
       "<div>\n",
       "<style scoped>\n",
       "    .dataframe tbody tr th:only-of-type {\n",
       "        vertical-align: middle;\n",
       "    }\n",
       "\n",
       "    .dataframe tbody tr th {\n",
       "        vertical-align: top;\n",
       "    }\n",
       "\n",
       "    .dataframe thead th {\n",
       "        text-align: right;\n",
       "    }\n",
       "</style>\n",
       "<table border=\"1\" class=\"dataframe\">\n",
       "  <thead>\n",
       "    <tr style=\"text-align: right;\">\n",
       "      <th></th>\n",
       "      <th>Gender</th>\n",
       "      <th>Economic Status</th>\n",
       "      <th>Height</th>\n",
       "      <th>Weight</th>\n",
       "      <th>Age</th>\n",
       "      <th>Income</th>\n",
       "    </tr>\n",
       "  </thead>\n",
       "  <tbody>\n",
       "    <tr>\n",
       "      <th>0</th>\n",
       "      <td>Female</td>\n",
       "      <td>Rich</td>\n",
       "      <td>196.343940</td>\n",
       "      <td>60.909064</td>\n",
       "      <td>40.451221</td>\n",
       "      <td>21385.958772</td>\n",
       "    </tr>\n",
       "    <tr>\n",
       "      <th>1</th>\n",
       "      <td>Male</td>\n",
       "      <td>Middle Class</td>\n",
       "      <td>153.697110</td>\n",
       "      <td>48.005164</td>\n",
       "      <td>48.163870</td>\n",
       "      <td>19757.653998</td>\n",
       "    </tr>\n",
       "    <tr>\n",
       "      <th>3</th>\n",
       "      <td>Male</td>\n",
       "      <td>Rich</td>\n",
       "      <td>183.988501</td>\n",
       "      <td>71.785466</td>\n",
       "      <td>34.192437</td>\n",
       "      <td>19778.532678</td>\n",
       "    </tr>\n",
       "    <tr>\n",
       "      <th>4</th>\n",
       "      <td>Male</td>\n",
       "      <td>Poor</td>\n",
       "      <td>179.805582</td>\n",
       "      <td>58.547234</td>\n",
       "      <td>32.501684</td>\n",
       "      <td>19346.337986</td>\n",
       "    </tr>\n",
       "    <tr>\n",
       "      <th>5</th>\n",
       "      <td>Female</td>\n",
       "      <td>Poor</td>\n",
       "      <td>172.074560</td>\n",
       "      <td>28.192775</td>\n",
       "      <td>42.997942</td>\n",
       "      <td>21277.967078</td>\n",
       "    </tr>\n",
       "    <tr>\n",
       "      <th>7</th>\n",
       "      <td>Female</td>\n",
       "      <td>Middle Class</td>\n",
       "      <td>166.360472</td>\n",
       "      <td>33.332115</td>\n",
       "      <td>19.958657</td>\n",
       "      <td>19611.989916</td>\n",
       "    </tr>\n",
       "  </tbody>\n",
       "</table>\n",
       "</div>"
      ],
      "text/plain": [
       "   Gender Economic Status      Height     Weight        Age        Income\n",
       "0  Female            Rich  196.343940  60.909064  40.451221  21385.958772\n",
       "1    Male    Middle Class  153.697110  48.005164  48.163870  19757.653998\n",
       "3    Male            Rich  183.988501  71.785466  34.192437  19778.532678\n",
       "4    Male            Poor  179.805582  58.547234  32.501684  19346.337986\n",
       "5  Female            Poor  172.074560  28.192775  42.997942  21277.967078\n",
       "7  Female    Middle Class  166.360472  33.332115  19.958657  19611.989916"
      ]
     },
     "execution_count": 33,
     "metadata": {
      "tags": []
     },
     "output_type": "execute_result"
    }
   ],
   "source": [
    "double_group.head(1)"
   ]
  },
  {
   "cell_type": "code",
   "execution_count": 34,
   "metadata": {
    "colab": {
     "base_uri": "https://localhost:8080/",
     "height": 235
    },
    "colab_type": "code",
    "id": "srDlzkTjAkSP",
    "outputId": "7c3e78ed-0525-4c24-d3e5-ffd788897744"
   },
   "outputs": [
    {
     "data": {
      "text/html": [
       "<div>\n",
       "<style scoped>\n",
       "    .dataframe tbody tr th:only-of-type {\n",
       "        vertical-align: middle;\n",
       "    }\n",
       "\n",
       "    .dataframe tbody tr th {\n",
       "        vertical-align: top;\n",
       "    }\n",
       "\n",
       "    .dataframe thead th {\n",
       "        text-align: right;\n",
       "    }\n",
       "</style>\n",
       "<table border=\"1\" class=\"dataframe\">\n",
       "  <thead>\n",
       "    <tr style=\"text-align: right;\">\n",
       "      <th></th>\n",
       "      <th>Gender</th>\n",
       "      <th>Economic Status</th>\n",
       "      <th>Height</th>\n",
       "      <th>Weight</th>\n",
       "      <th>Age</th>\n",
       "      <th>Income</th>\n",
       "    </tr>\n",
       "  </thead>\n",
       "  <tbody>\n",
       "    <tr>\n",
       "      <th>484</th>\n",
       "      <td>Female</td>\n",
       "      <td>Poor</td>\n",
       "      <td>237.863120</td>\n",
       "      <td>19.951759</td>\n",
       "      <td>49.066417</td>\n",
       "      <td>19810.325445</td>\n",
       "    </tr>\n",
       "    <tr>\n",
       "      <th>487</th>\n",
       "      <td>Male</td>\n",
       "      <td>Poor</td>\n",
       "      <td>227.539516</td>\n",
       "      <td>57.374036</td>\n",
       "      <td>25.997146</td>\n",
       "      <td>19157.948395</td>\n",
       "    </tr>\n",
       "    <tr>\n",
       "      <th>493</th>\n",
       "      <td>Female</td>\n",
       "      <td>Rich</td>\n",
       "      <td>169.567790</td>\n",
       "      <td>63.484671</td>\n",
       "      <td>29.763336</td>\n",
       "      <td>20821.406697</td>\n",
       "    </tr>\n",
       "    <tr>\n",
       "      <th>495</th>\n",
       "      <td>Female</td>\n",
       "      <td>Middle Class</td>\n",
       "      <td>180.672252</td>\n",
       "      <td>51.029436</td>\n",
       "      <td>17.900334</td>\n",
       "      <td>20043.401932</td>\n",
       "    </tr>\n",
       "    <tr>\n",
       "      <th>498</th>\n",
       "      <td>Male</td>\n",
       "      <td>Rich</td>\n",
       "      <td>163.669365</td>\n",
       "      <td>98.571932</td>\n",
       "      <td>35.257657</td>\n",
       "      <td>18888.280373</td>\n",
       "    </tr>\n",
       "    <tr>\n",
       "      <th>499</th>\n",
       "      <td>Male</td>\n",
       "      <td>Middle Class</td>\n",
       "      <td>148.236420</td>\n",
       "      <td>90.327894</td>\n",
       "      <td>13.374767</td>\n",
       "      <td>19467.309309</td>\n",
       "    </tr>\n",
       "  </tbody>\n",
       "</table>\n",
       "</div>"
      ],
      "text/plain": [
       "     Gender Economic Status      Height     Weight        Age        Income\n",
       "484  Female            Poor  237.863120  19.951759  49.066417  19810.325445\n",
       "487    Male            Poor  227.539516  57.374036  25.997146  19157.948395\n",
       "493  Female            Rich  169.567790  63.484671  29.763336  20821.406697\n",
       "495  Female    Middle Class  180.672252  51.029436  17.900334  20043.401932\n",
       "498    Male            Rich  163.669365  98.571932  35.257657  18888.280373\n",
       "499    Male    Middle Class  148.236420  90.327894  13.374767  19467.309309"
      ]
     },
     "execution_count": 34,
     "metadata": {
      "tags": []
     },
     "output_type": "execute_result"
    }
   ],
   "source": [
    "double_group.tail(1)"
   ]
  },
  {
   "cell_type": "code",
   "execution_count": 35,
   "metadata": {
    "colab": {
     "base_uri": "https://localhost:8080/",
     "height": 266
    },
    "colab_type": "code",
    "id": "PUzcau-IAkSQ",
    "outputId": "b6414924-5c52-4957-ca75-e482fa6bb218"
   },
   "outputs": [
    {
     "data": {
      "text/html": [
       "<div>\n",
       "<style scoped>\n",
       "    .dataframe tbody tr th:only-of-type {\n",
       "        vertical-align: middle;\n",
       "    }\n",
       "\n",
       "    .dataframe tbody tr th {\n",
       "        vertical-align: top;\n",
       "    }\n",
       "\n",
       "    .dataframe thead th {\n",
       "        text-align: right;\n",
       "    }\n",
       "</style>\n",
       "<table border=\"1\" class=\"dataframe\">\n",
       "  <thead>\n",
       "    <tr style=\"text-align: right;\">\n",
       "      <th></th>\n",
       "      <th></th>\n",
       "      <th>Height</th>\n",
       "      <th>Weight</th>\n",
       "      <th>Age</th>\n",
       "      <th>Income</th>\n",
       "    </tr>\n",
       "    <tr>\n",
       "      <th>Gender</th>\n",
       "      <th>Economic Status</th>\n",
       "      <th></th>\n",
       "      <th></th>\n",
       "      <th></th>\n",
       "      <th></th>\n",
       "    </tr>\n",
       "  </thead>\n",
       "  <tbody>\n",
       "    <tr>\n",
       "      <th rowspan=\"3\" valign=\"top\">Female</th>\n",
       "      <th>Middle Class</th>\n",
       "      <td>110.180551</td>\n",
       "      <td>68.190065</td>\n",
       "      <td>49.949398</td>\n",
       "      <td>19487.156361</td>\n",
       "    </tr>\n",
       "    <tr>\n",
       "      <th>Poor</th>\n",
       "      <td>158.853184</td>\n",
       "      <td>63.085928</td>\n",
       "      <td>25.005120</td>\n",
       "      <td>20216.239204</td>\n",
       "    </tr>\n",
       "    <tr>\n",
       "      <th>Rich</th>\n",
       "      <td>162.750233</td>\n",
       "      <td>65.951638</td>\n",
       "      <td>40.062883</td>\n",
       "      <td>18023.726084</td>\n",
       "    </tr>\n",
       "    <tr>\n",
       "      <th rowspan=\"3\" valign=\"top\">Male</th>\n",
       "      <th>Middle Class</th>\n",
       "      <td>161.936648</td>\n",
       "      <td>70.117613</td>\n",
       "      <td>4.067120</td>\n",
       "      <td>19697.088560</td>\n",
       "    </tr>\n",
       "    <tr>\n",
       "      <th>Poor</th>\n",
       "      <td>158.631750</td>\n",
       "      <td>52.472696</td>\n",
       "      <td>24.187545</td>\n",
       "      <td>19964.779021</td>\n",
       "    </tr>\n",
       "    <tr>\n",
       "      <th>Rich</th>\n",
       "      <td>171.473068</td>\n",
       "      <td>45.510527</td>\n",
       "      <td>47.831414</td>\n",
       "      <td>20692.308396</td>\n",
       "    </tr>\n",
       "  </tbody>\n",
       "</table>\n",
       "</div>"
      ],
      "text/plain": [
       "                            Height     Weight        Age        Income\n",
       "Gender Economic Status                                                \n",
       "Female Middle Class     110.180551  68.190065  49.949398  19487.156361\n",
       "       Poor             158.853184  63.085928  25.005120  20216.239204\n",
       "       Rich             162.750233  65.951638  40.062883  18023.726084\n",
       "Male   Middle Class     161.936648  70.117613   4.067120  19697.088560\n",
       "       Poor             158.631750  52.472696  24.187545  19964.779021\n",
       "       Rich             171.473068  45.510527  47.831414  20692.308396"
      ]
     },
     "execution_count": 35,
     "metadata": {
      "tags": []
     },
     "output_type": "execute_result"
    }
   ],
   "source": [
    "double_group.nth(32)"
   ]
  },
  {
   "cell_type": "code",
   "execution_count": 36,
   "metadata": {
    "colab": {
     "base_uri": "https://localhost:8080/",
     "height": 142
    },
    "colab_type": "code",
    "id": "TLvuUCwlAkSR",
    "outputId": "f4db7972-2a76-4a61-9040-8b0ea79773f0"
   },
   "outputs": [
    {
     "data": {
      "text/html": [
       "<div>\n",
       "<style scoped>\n",
       "    .dataframe tbody tr th:only-of-type {\n",
       "        vertical-align: middle;\n",
       "    }\n",
       "\n",
       "    .dataframe tbody tr th {\n",
       "        vertical-align: top;\n",
       "    }\n",
       "\n",
       "    .dataframe thead th {\n",
       "        text-align: right;\n",
       "    }\n",
       "</style>\n",
       "<table border=\"1\" class=\"dataframe\">\n",
       "  <thead>\n",
       "    <tr style=\"text-align: right;\">\n",
       "      <th></th>\n",
       "      <th></th>\n",
       "      <th>Height</th>\n",
       "      <th>Weight</th>\n",
       "      <th>Age</th>\n",
       "      <th>Income</th>\n",
       "    </tr>\n",
       "    <tr>\n",
       "      <th>Gender</th>\n",
       "      <th>Economic Status</th>\n",
       "      <th></th>\n",
       "      <th></th>\n",
       "      <th></th>\n",
       "      <th></th>\n",
       "    </tr>\n",
       "  </thead>\n",
       "  <tbody>\n",
       "    <tr>\n",
       "      <th rowspan=\"2\" valign=\"top\">Male</th>\n",
       "      <th>Poor</th>\n",
       "      <td>179.93339</td>\n",
       "      <td>76.802942</td>\n",
       "      <td>21.885402</td>\n",
       "      <td>20715.359892</td>\n",
       "    </tr>\n",
       "    <tr>\n",
       "      <th>Rich</th>\n",
       "      <td>164.70270</td>\n",
       "      <td>86.880958</td>\n",
       "      <td>26.744570</td>\n",
       "      <td>19193.082787</td>\n",
       "    </tr>\n",
       "  </tbody>\n",
       "</table>\n",
       "</div>"
      ],
      "text/plain": [
       "                           Height     Weight        Age        Income\n",
       "Gender Economic Status                                               \n",
       "Male   Poor             179.93339  76.802942  21.885402  20715.359892\n",
       "       Rich             164.70270  86.880958  26.744570  19193.082787"
      ]
     },
     "execution_count": 36,
     "metadata": {
      "tags": []
     },
     "output_type": "execute_result"
    }
   ],
   "source": [
    "double_group.nth(82)"
   ]
  },
  {
   "cell_type": "code",
   "execution_count": 0,
   "metadata": {
    "colab": {},
    "colab_type": "code",
    "id": "Lm1IS7UeAkSS"
   },
   "outputs": [],
   "source": [
    "data_sorted = data.sort_values([\"Age\", \"Income\"])"
   ]
  },
  {
   "cell_type": "code",
   "execution_count": 38,
   "metadata": {
    "colab": {
     "base_uri": "https://localhost:8080/",
     "height": 359
    },
    "colab_type": "code",
    "id": "_E618lUBAkST",
    "outputId": "bb9cd800-a233-4f86-b033-cfb085b09f2d"
   },
   "outputs": [
    {
     "data": {
      "text/html": [
       "<div>\n",
       "<style scoped>\n",
       "    .dataframe tbody tr th:only-of-type {\n",
       "        vertical-align: middle;\n",
       "    }\n",
       "\n",
       "    .dataframe tbody tr th {\n",
       "        vertical-align: top;\n",
       "    }\n",
       "\n",
       "    .dataframe thead th {\n",
       "        text-align: right;\n",
       "    }\n",
       "</style>\n",
       "<table border=\"1\" class=\"dataframe\">\n",
       "  <thead>\n",
       "    <tr style=\"text-align: right;\">\n",
       "      <th></th>\n",
       "      <th>Gender</th>\n",
       "      <th>Economic Status</th>\n",
       "      <th>Height</th>\n",
       "      <th>Weight</th>\n",
       "      <th>Age</th>\n",
       "      <th>Income</th>\n",
       "    </tr>\n",
       "  </thead>\n",
       "  <tbody>\n",
       "    <tr>\n",
       "      <th>59</th>\n",
       "      <td>Female</td>\n",
       "      <td>Poor</td>\n",
       "      <td>219.118989</td>\n",
       "      <td>106.348681</td>\n",
       "      <td>-3.837400</td>\n",
       "      <td>21298.802624</td>\n",
       "    </tr>\n",
       "    <tr>\n",
       "      <th>148</th>\n",
       "      <td>Female</td>\n",
       "      <td>Middle Class</td>\n",
       "      <td>140.433589</td>\n",
       "      <td>88.161987</td>\n",
       "      <td>-3.010737</td>\n",
       "      <td>19892.145392</td>\n",
       "    </tr>\n",
       "    <tr>\n",
       "      <th>22</th>\n",
       "      <td>Female</td>\n",
       "      <td>Rich</td>\n",
       "      <td>220.042892</td>\n",
       "      <td>66.970892</td>\n",
       "      <td>-2.860013</td>\n",
       "      <td>18189.632418</td>\n",
       "    </tr>\n",
       "    <tr>\n",
       "      <th>154</th>\n",
       "      <td>Female</td>\n",
       "      <td>Middle Class</td>\n",
       "      <td>101.836328</td>\n",
       "      <td>78.121454</td>\n",
       "      <td>-2.139509</td>\n",
       "      <td>19793.479229</td>\n",
       "    </tr>\n",
       "    <tr>\n",
       "      <th>89</th>\n",
       "      <td>Male</td>\n",
       "      <td>Poor</td>\n",
       "      <td>193.682572</td>\n",
       "      <td>79.271949</td>\n",
       "      <td>-1.181704</td>\n",
       "      <td>21008.166187</td>\n",
       "    </tr>\n",
       "    <tr>\n",
       "      <th>259</th>\n",
       "      <td>Male</td>\n",
       "      <td>Rich</td>\n",
       "      <td>142.594132</td>\n",
       "      <td>67.007006</td>\n",
       "      <td>3.368029</td>\n",
       "      <td>20693.817605</td>\n",
       "    </tr>\n",
       "    <tr>\n",
       "      <th>209</th>\n",
       "      <td>Male</td>\n",
       "      <td>Middle Class</td>\n",
       "      <td>161.936648</td>\n",
       "      <td>70.117613</td>\n",
       "      <td>4.067120</td>\n",
       "      <td>19697.088560</td>\n",
       "    </tr>\n",
       "    <tr>\n",
       "      <th>299</th>\n",
       "      <td>Male</td>\n",
       "      <td>Poor</td>\n",
       "      <td>194.034042</td>\n",
       "      <td>52.824096</td>\n",
       "      <td>5.591800</td>\n",
       "      <td>21409.162676</td>\n",
       "    </tr>\n",
       "    <tr>\n",
       "      <th>402</th>\n",
       "      <td>Male</td>\n",
       "      <td>Middle Class</td>\n",
       "      <td>149.062605</td>\n",
       "      <td>52.035421</td>\n",
       "      <td>6.173861</td>\n",
       "      <td>21435.420795</td>\n",
       "    </tr>\n",
       "    <tr>\n",
       "      <th>354</th>\n",
       "      <td>Male</td>\n",
       "      <td>Poor</td>\n",
       "      <td>189.448738</td>\n",
       "      <td>78.337713</td>\n",
       "      <td>6.195454</td>\n",
       "      <td>21369.689456</td>\n",
       "    </tr>\n",
       "  </tbody>\n",
       "</table>\n",
       "</div>"
      ],
      "text/plain": [
       "     Gender Economic Status      Height      Weight       Age        Income\n",
       "59   Female            Poor  219.118989  106.348681 -3.837400  21298.802624\n",
       "148  Female    Middle Class  140.433589   88.161987 -3.010737  19892.145392\n",
       "22   Female            Rich  220.042892   66.970892 -2.860013  18189.632418\n",
       "154  Female    Middle Class  101.836328   78.121454 -2.139509  19793.479229\n",
       "89     Male            Poor  193.682572   79.271949 -1.181704  21008.166187\n",
       "259    Male            Rich  142.594132   67.007006  3.368029  20693.817605\n",
       "209    Male    Middle Class  161.936648   70.117613  4.067120  19697.088560\n",
       "299    Male            Poor  194.034042   52.824096  5.591800  21409.162676\n",
       "402    Male    Middle Class  149.062605   52.035421  6.173861  21435.420795\n",
       "354    Male            Poor  189.448738   78.337713  6.195454  21369.689456"
      ]
     },
     "execution_count": 38,
     "metadata": {
      "tags": []
     },
     "output_type": "execute_result"
    }
   ],
   "source": [
    "data_sorted.head(10)"
   ]
  },
  {
   "cell_type": "code",
   "execution_count": 0,
   "metadata": {
    "colab": {},
    "colab_type": "code",
    "id": "p7TM9sRqAkSU"
   },
   "outputs": [],
   "source": [
    "age_grouped = data_sorted.groupby(\"Gender\")"
   ]
  },
  {
   "cell_type": "code",
   "execution_count": 40,
   "metadata": {
    "colab": {
     "base_uri": "https://localhost:8080/",
     "height": 111
    },
    "colab_type": "code",
    "id": "xilQDYDuAkSU",
    "outputId": "9d8dba61-abc3-470f-d137-38706f7ddd56"
   },
   "outputs": [
    {
     "data": {
      "text/html": [
       "<div>\n",
       "<style scoped>\n",
       "    .dataframe tbody tr th:only-of-type {\n",
       "        vertical-align: middle;\n",
       "    }\n",
       "\n",
       "    .dataframe tbody tr th {\n",
       "        vertical-align: top;\n",
       "    }\n",
       "\n",
       "    .dataframe thead th {\n",
       "        text-align: right;\n",
       "    }\n",
       "</style>\n",
       "<table border=\"1\" class=\"dataframe\">\n",
       "  <thead>\n",
       "    <tr style=\"text-align: right;\">\n",
       "      <th></th>\n",
       "      <th>Gender</th>\n",
       "      <th>Economic Status</th>\n",
       "      <th>Height</th>\n",
       "      <th>Weight</th>\n",
       "      <th>Age</th>\n",
       "      <th>Income</th>\n",
       "    </tr>\n",
       "  </thead>\n",
       "  <tbody>\n",
       "    <tr>\n",
       "      <th>59</th>\n",
       "      <td>Female</td>\n",
       "      <td>Poor</td>\n",
       "      <td>219.118989</td>\n",
       "      <td>106.348681</td>\n",
       "      <td>-3.837400</td>\n",
       "      <td>21298.802624</td>\n",
       "    </tr>\n",
       "    <tr>\n",
       "      <th>89</th>\n",
       "      <td>Male</td>\n",
       "      <td>Poor</td>\n",
       "      <td>193.682572</td>\n",
       "      <td>79.271949</td>\n",
       "      <td>-1.181704</td>\n",
       "      <td>21008.166187</td>\n",
       "    </tr>\n",
       "  </tbody>\n",
       "</table>\n",
       "</div>"
      ],
      "text/plain": [
       "    Gender Economic Status      Height      Weight       Age        Income\n",
       "59  Female            Poor  219.118989  106.348681 -3.837400  21298.802624\n",
       "89    Male            Poor  193.682572   79.271949 -1.181704  21008.166187"
      ]
     },
     "execution_count": 40,
     "metadata": {
      "tags": []
     },
     "output_type": "execute_result"
    }
   ],
   "source": [
    "age_grouped.head(1)"
   ]
  },
  {
   "cell_type": "code",
   "execution_count": 41,
   "metadata": {
    "colab": {
     "base_uri": "https://localhost:8080/",
     "height": 111
    },
    "colab_type": "code",
    "id": "-f2hp-tVAkSV",
    "outputId": "12df5949-b1ab-444b-dfbe-5e86694ce039"
   },
   "outputs": [
    {
     "data": {
      "text/html": [
       "<div>\n",
       "<style scoped>\n",
       "    .dataframe tbody tr th:only-of-type {\n",
       "        vertical-align: middle;\n",
       "    }\n",
       "\n",
       "    .dataframe tbody tr th {\n",
       "        vertical-align: top;\n",
       "    }\n",
       "\n",
       "    .dataframe thead th {\n",
       "        text-align: right;\n",
       "    }\n",
       "</style>\n",
       "<table border=\"1\" class=\"dataframe\">\n",
       "  <thead>\n",
       "    <tr style=\"text-align: right;\">\n",
       "      <th></th>\n",
       "      <th>Gender</th>\n",
       "      <th>Economic Status</th>\n",
       "      <th>Height</th>\n",
       "      <th>Weight</th>\n",
       "      <th>Age</th>\n",
       "      <th>Income</th>\n",
       "    </tr>\n",
       "  </thead>\n",
       "  <tbody>\n",
       "    <tr>\n",
       "      <th>423</th>\n",
       "      <td>Male</td>\n",
       "      <td>Poor</td>\n",
       "      <td>165.152608</td>\n",
       "      <td>61.613466</td>\n",
       "      <td>59.082634</td>\n",
       "      <td>20577.920332</td>\n",
       "    </tr>\n",
       "    <tr>\n",
       "      <th>492</th>\n",
       "      <td>Female</td>\n",
       "      <td>Middle Class</td>\n",
       "      <td>173.475638</td>\n",
       "      <td>52.248953</td>\n",
       "      <td>64.993034</td>\n",
       "      <td>20516.979828</td>\n",
       "    </tr>\n",
       "  </tbody>\n",
       "</table>\n",
       "</div>"
      ],
      "text/plain": [
       "     Gender Economic Status      Height     Weight        Age        Income\n",
       "423    Male            Poor  165.152608  61.613466  59.082634  20577.920332\n",
       "492  Female    Middle Class  173.475638  52.248953  64.993034  20516.979828"
      ]
     },
     "execution_count": 41,
     "metadata": {
      "tags": []
     },
     "output_type": "execute_result"
    }
   ],
   "source": [
    "age_grouped.tail(1)"
   ]
  },
  {
   "cell_type": "markdown",
   "metadata": {
    "colab_type": "text",
    "id": "m6-5J5PaAkSW"
   },
   "source": [
    "# Conjunto de entrenamiento y conjunto de testing"
   ]
  },
  {
   "cell_type": "code",
   "execution_count": 0,
   "metadata": {
    "colab": {},
    "colab_type": "code",
    "id": "TsLsKm4RAkSW"
   },
   "outputs": [],
   "source": [
    "import pandas as pd"
   ]
  },
  {
   "cell_type": "code",
   "execution_count": 0,
   "metadata": {
    "colab": {},
    "colab_type": "code",
    "id": "nUwo03aqAkSX"
   },
   "outputs": [],
   "source": [
    "data = pd.read_csv(\"/content/drive/My Drive/Curso Machine Learning con Python/datasets/customer-churn-model/Customer Churn Model.txt\")"
   ]
  },
  {
   "cell_type": "code",
   "execution_count": 0,
   "metadata": {
    "colab": {},
    "colab_type": "code",
    "id": "4JGk0tOCAkSY",
    "outputId": "b20a3f6f-635d-47d9-9218-1ee8391ba6bf"
   },
   "outputs": [
    {
     "data": {
      "text/plain": [
       "3333"
      ]
     },
     "execution_count": 59,
     "metadata": {
      "tags": []
     },
     "output_type": "execute_result"
    }
   ],
   "source": [
    "len(data)"
   ]
  },
  {
   "cell_type": "markdown",
   "metadata": {
    "colab_type": "text",
    "id": "xyYlgyXNAkSZ"
   },
   "source": [
    "## Dividir utilizando la distribución normal"
   ]
  },
  {
   "cell_type": "code",
   "execution_count": 0,
   "metadata": {
    "colab": {},
    "colab_type": "code",
    "id": "0USP9bsAAkSZ"
   },
   "outputs": [],
   "source": [
    "a = np.random.randn(len(data))"
   ]
  },
  {
   "cell_type": "code",
   "execution_count": 43,
   "metadata": {
    "colab": {
     "base_uri": "https://localhost:8080/",
     "height": 350
    },
    "colab_type": "code",
    "id": "t3Tdw4SAAkSa",
    "outputId": "68053f0c-2a9a-4b87-905d-7eef21808580"
   },
   "outputs": [
    {
     "data": {
      "text/plain": [
       "(array([  1.,  14.,  29.,  84., 111., 123.,  85.,  36.,   9.,   8.]),\n",
       " array([-3.19536083, -2.56704791, -1.93873498, -1.31042206, -0.68210914,\n",
       "        -0.05379622,  0.5745167 ,  1.20282963,  1.83114255,  2.45945547,\n",
       "         3.08776839]),\n",
       " <a list of 10 Patch objects>)"
      ]
     },
     "execution_count": 43,
     "metadata": {
      "tags": []
     },
     "output_type": "execute_result"
    },
    {
     "data": {
      "image/png": "[encoded data removed]",
      "text/plain": [
       "<Figure size 432x288 with 1 Axes>"
      ]
     },
     "metadata": {
      "needs_background": "light",
      "tags": []
     },
     "output_type": "display_data"
    }
   ],
   "source": [
    "plt.hist(a)"
   ]
  },
  {
   "cell_type": "code",
   "execution_count": 0,
   "metadata": {
    "colab": {},
    "colab_type": "code",
    "id": "ZOjx59etAkSa"
   },
   "outputs": [],
   "source": [
    "check = (a<0.75) # No es el 75% de los datos, son los números que son < 0.75!!! "
   ]
  },
  {
   "cell_type": "code",
   "execution_count": 45,
   "metadata": {
    "colab": {
     "base_uri": "https://localhost:8080/",
     "height": 969
    },
    "colab_type": "code",
    "id": "LAVp0N0JAkSb",
    "outputId": "ea86ea28-0907-405d-c41e-292975e12ad2"
   },
   "outputs": [
    {
     "data": {
      "text/plain": [
       "array([False,  True,  True,  True,  True,  True,  True, False,  True,\n",
       "        True, False,  True,  True, False,  True,  True,  True,  True,\n",
       "       False, False,  True,  True,  True,  True,  True,  True,  True,\n",
       "        True,  True,  True,  True,  True, False, False,  True,  True,\n",
       "        True,  True,  True,  True, False, False,  True,  True,  True,\n",
       "       False,  True,  True,  True,  True,  True,  True,  True,  True,\n",
       "        True,  True, False,  True, False,  True, False,  True,  True,\n",
       "        True,  True, False,  True,  True,  True,  True,  True,  True,\n",
       "       False,  True, False,  True,  True,  True,  True,  True, False,\n",
       "        True,  True,  True, False, False,  True,  True,  True,  True,\n",
       "        True,  True,  True,  True,  True,  True,  True,  True,  True,\n",
       "        True,  True, False,  True,  True,  True,  True,  True, False,\n",
       "       False, False,  True, False,  True,  True, False, False,  True,\n",
       "       False,  True,  True,  True,  True,  True,  True,  True,  True,\n",
       "        True,  True, False,  True,  True,  True,  True,  True,  True,\n",
       "        True, False, False,  True,  True,  True,  True, False,  True,\n",
       "        True, False,  True,  True,  True,  True,  True,  True,  True,\n",
       "        True,  True,  True, False,  True,  True,  True,  True,  True,\n",
       "        True,  True,  True,  True, False,  True, False,  True,  True,\n",
       "        True,  True, False,  True, False,  True,  True,  True,  True,\n",
       "       False,  True,  True, False,  True,  True,  True,  True,  True,\n",
       "        True, False,  True, False,  True,  True,  True, False, False,\n",
       "        True,  True,  True,  True,  True,  True, False,  True, False,\n",
       "        True,  True,  True, False,  True,  True, False, False,  True,\n",
       "       False,  True,  True,  True,  True,  True, False,  True,  True,\n",
       "        True,  True,  True,  True,  True, False, False,  True, False,\n",
       "        True,  True,  True, False,  True,  True,  True,  True,  True,\n",
       "        True, False,  True,  True,  True,  True,  True,  True, False,\n",
       "        True, False,  True,  True,  True,  True,  True,  True,  True,\n",
       "        True,  True,  True,  True,  True, False, False,  True,  True,\n",
       "        True,  True,  True,  True,  True, False,  True,  True, False,\n",
       "        True,  True,  True,  True,  True,  True,  True,  True, False,\n",
       "        True,  True,  True,  True, False,  True,  True,  True,  True,\n",
       "        True, False,  True,  True,  True,  True, False,  True,  True,\n",
       "        True, False, False, False,  True,  True,  True,  True,  True,\n",
       "        True,  True,  True,  True, False,  True,  True, False,  True,\n",
       "        True, False,  True, False,  True,  True,  True,  True,  True,\n",
       "        True,  True,  True, False,  True,  True,  True,  True, False,\n",
       "       False,  True,  True, False,  True,  True,  True, False,  True,\n",
       "        True,  True, False,  True, False,  True,  True,  True,  True,\n",
       "        True, False,  True,  True,  True,  True,  True, False,  True,\n",
       "        True, False, False, False,  True,  True,  True,  True,  True,\n",
       "        True, False,  True,  True,  True, False,  True,  True,  True,\n",
       "        True, False, False,  True,  True, False,  True,  True,  True,\n",
       "       False,  True,  True,  True,  True,  True,  True, False,  True,\n",
       "        True,  True, False,  True, False, False, False,  True,  True,\n",
       "        True,  True,  True,  True, False,  True,  True, False,  True,\n",
       "        True,  True,  True,  True,  True,  True,  True,  True,  True,\n",
       "        True,  True,  True,  True,  True,  True,  True,  True,  True,\n",
       "       False,  True,  True,  True,  True,  True,  True,  True, False,\n",
       "        True, False,  True,  True,  True,  True,  True,  True,  True,\n",
       "        True,  True,  True,  True,  True,  True, False, False,  True,\n",
       "        True,  True, False,  True,  True, False,  True,  True,  True,\n",
       "        True,  True,  True,  True,  True,  True,  True,  True,  True,\n",
       "        True,  True,  True,  True,  True,  True, False, False,  True,\n",
       "        True,  True, False,  True,  True])"
      ]
     },
     "execution_count": 45,
     "metadata": {
      "tags": []
     },
     "output_type": "execute_result"
    }
   ],
   "source": [
    "check"
   ]
  },
  {
   "cell_type": "code",
   "execution_count": 47,
   "metadata": {
    "colab": {
     "base_uri": "https://localhost:8080/",
     "height": 316
    },
    "colab_type": "code",
    "id": "iWhUObc0AkSc",
    "outputId": "241296c4-8812-4e44-b70f-f01e4b7deb9b"
   },
   "outputs": [
    {
     "data": {
      "text/plain": [
       "(array([108.,   0.,   0.,   0.,   0.,   0.,   0.,   0.,   0., 392.]),\n",
       " array([0. , 0.1, 0.2, 0.3, 0.4, 0.5, 0.6, 0.7, 0.8, 0.9, 1. ]),\n",
       " <a list of 10 Patch objects>)"
      ]
     },
     "execution_count": 47,
     "metadata": {
      "tags": []
     },
     "output_type": "execute_result"
    },
    {
     "data": {
      "image/png": "[encoded data removed]",
      "text/plain": [
       "<Figure size 432x288 with 1 Axes>"
      ]
     },
     "metadata": {
      "needs_background": "light",
      "tags": []
     },
     "output_type": "display_data"
    }
   ],
   "source": [
    "plt.hist(check.astype(int))#Ha cambiado en la versión 3.7 de python y necesita hacer un cast de bool a entero"
   ]
  },
  {
   "cell_type": "code",
   "execution_count": 0,
   "metadata": {
    "colab": {},
    "colab_type": "code",
    "id": "GRqOOoG2AkSc"
   },
   "outputs": [],
   "source": [
    "training = data[check]\n",
    "testing = data[~check]"
   ]
  },
  {
   "cell_type": "code",
   "execution_count": 49,
   "metadata": {
    "colab": {
     "base_uri": "https://localhost:8080/",
     "height": 34
    },
    "colab_type": "code",
    "id": "Ribx2PC1AkSd",
    "outputId": "6233c63b-3442-463d-9e2b-b9d68bd000a0"
   },
   "outputs": [
    {
     "data": {
      "text/plain": [
       "392"
      ]
     },
     "execution_count": 49,
     "metadata": {
      "tags": []
     },
     "output_type": "execute_result"
    }
   ],
   "source": [
    "len(training)"
   ]
  },
  {
   "cell_type": "code",
   "execution_count": 50,
   "metadata": {
    "colab": {
     "base_uri": "https://localhost:8080/",
     "height": 34
    },
    "colab_type": "code",
    "id": "0UnqiUWOAkSe",
    "outputId": "b08d645a-01c5-40fc-9bcd-e13cff80bb71"
   },
   "outputs": [
    {
     "data": {
      "text/plain": [
       "108"
      ]
     },
     "execution_count": 50,
     "metadata": {
      "tags": []
     },
     "output_type": "execute_result"
    }
   ],
   "source": [
    "len(testing)"
   ]
  },
  {
   "cell_type": "markdown",
   "metadata": {
    "colab_type": "text",
    "id": "1f2ToslqAkSf"
   },
   "source": [
    "## Con la libreria sklearn"
   ]
  },
  {
   "cell_type": "code",
   "execution_count": 0,
   "metadata": {
    "colab": {},
    "colab_type": "code",
    "id": "26zoqG7RAkSf"
   },
   "outputs": [],
   "source": [
    "from sklearn.model_selection import train_test_split# Ha cambiado en la 3.7 de Python"
   ]
  },
  {
   "cell_type": "code",
   "execution_count": 0,
   "metadata": {
    "colab": {},
    "colab_type": "code",
    "id": "aVojsIWeAkSg"
   },
   "outputs": [],
   "source": [
    "train, test = train_test_split(data, test_size = 0.2)"
   ]
  },
  {
   "cell_type": "code",
   "execution_count": 54,
   "metadata": {
    "colab": {
     "base_uri": "https://localhost:8080/",
     "height": 34
    },
    "colab_type": "code",
    "id": "60Cjk1ifAkSg",
    "outputId": "127bd786-c53b-4382-973a-90f1b3bf0244"
   },
   "outputs": [
    {
     "data": {
      "text/plain": [
       "400"
      ]
     },
     "execution_count": 54,
     "metadata": {
      "tags": []
     },
     "output_type": "execute_result"
    }
   ],
   "source": [
    "len(train)"
   ]
  },
  {
   "cell_type": "code",
   "execution_count": 55,
   "metadata": {
    "colab": {
     "base_uri": "https://localhost:8080/",
     "height": 34
    },
    "colab_type": "code",
    "id": "xWfmYLTNAkSn",
    "outputId": "ed19bc2b-5dbc-40fd-dcf3-0c4a816838ba"
   },
   "outputs": [
    {
     "data": {
      "text/plain": [
       "100"
      ]
     },
     "execution_count": 55,
     "metadata": {
      "tags": []
     },
     "output_type": "execute_result"
    }
   ],
   "source": [
    "len(test)"
   ]
  },
  {
   "cell_type": "markdown",
   "metadata": {
    "colab_type": "text",
    "id": "9l8-cogRAkSo"
   },
   "source": [
    "## Usando una función de shuffle"
   ]
  },
  {
   "cell_type": "code",
   "execution_count": 0,
   "metadata": {
    "colab": {},
    "colab_type": "code",
    "id": "QLvByZ3PAkSo"
   },
   "outputs": [],
   "source": [
    "import numpy as np"
   ]
  },
  {
   "cell_type": "code",
   "execution_count": 58,
   "metadata": {
    "colab": {
     "base_uri": "https://localhost:8080/",
     "height": 204
    },
    "colab_type": "code",
    "id": "hAwmSuggAkSp",
    "outputId": "68556d22-1833-44a7-8093-a88587991b76"
   },
   "outputs": [
    {
     "data": {
      "text/html": [
       "<div>\n",
       "<style scoped>\n",
       "    .dataframe tbody tr th:only-of-type {\n",
       "        vertical-align: middle;\n",
       "    }\n",
       "\n",
       "    .dataframe tbody tr th {\n",
       "        vertical-align: top;\n",
       "    }\n",
       "\n",
       "    .dataframe thead th {\n",
       "        text-align: right;\n",
       "    }\n",
       "</style>\n",
       "<table border=\"1\" class=\"dataframe\">\n",
       "  <thead>\n",
       "    <tr style=\"text-align: right;\">\n",
       "      <th></th>\n",
       "      <th>Gender</th>\n",
       "      <th>Economic Status</th>\n",
       "      <th>Height</th>\n",
       "      <th>Weight</th>\n",
       "      <th>Age</th>\n",
       "      <th>Income</th>\n",
       "    </tr>\n",
       "  </thead>\n",
       "  <tbody>\n",
       "    <tr>\n",
       "      <th>0</th>\n",
       "      <td>Female</td>\n",
       "      <td>Rich</td>\n",
       "      <td>196.343940</td>\n",
       "      <td>60.909064</td>\n",
       "      <td>40.451221</td>\n",
       "      <td>21385.958772</td>\n",
       "    </tr>\n",
       "    <tr>\n",
       "      <th>1</th>\n",
       "      <td>Male</td>\n",
       "      <td>Middle Class</td>\n",
       "      <td>153.697110</td>\n",
       "      <td>48.005164</td>\n",
       "      <td>48.163870</td>\n",
       "      <td>19757.653998</td>\n",
       "    </tr>\n",
       "    <tr>\n",
       "      <th>2</th>\n",
       "      <td>Female</td>\n",
       "      <td>Rich</td>\n",
       "      <td>146.713926</td>\n",
       "      <td>53.476714</td>\n",
       "      <td>31.144568</td>\n",
       "      <td>20279.476735</td>\n",
       "    </tr>\n",
       "    <tr>\n",
       "      <th>3</th>\n",
       "      <td>Male</td>\n",
       "      <td>Rich</td>\n",
       "      <td>183.988501</td>\n",
       "      <td>71.785466</td>\n",
       "      <td>34.192437</td>\n",
       "      <td>19778.532678</td>\n",
       "    </tr>\n",
       "    <tr>\n",
       "      <th>4</th>\n",
       "      <td>Male</td>\n",
       "      <td>Poor</td>\n",
       "      <td>179.805582</td>\n",
       "      <td>58.547234</td>\n",
       "      <td>32.501684</td>\n",
       "      <td>19346.337986</td>\n",
       "    </tr>\n",
       "  </tbody>\n",
       "</table>\n",
       "</div>"
      ],
      "text/plain": [
       "   Gender Economic Status      Height     Weight        Age        Income\n",
       "0  Female            Rich  196.343940  60.909064  40.451221  21385.958772\n",
       "1    Male    Middle Class  153.697110  48.005164  48.163870  19757.653998\n",
       "2  Female            Rich  146.713926  53.476714  31.144568  20279.476735\n",
       "3    Male            Rich  183.988501  71.785466  34.192437  19778.532678\n",
       "4    Male            Poor  179.805582  58.547234  32.501684  19346.337986"
      ]
     },
     "execution_count": 58,
     "metadata": {
      "tags": []
     },
     "output_type": "execute_result"
    }
   ],
   "source": [
    "data.head()"
   ]
  },
  {
   "cell_type": "code",
   "execution_count": 0,
   "metadata": {
    "colab": {},
    "colab_type": "code",
    "id": "qa0z_ZJ6AkSp"
   },
   "outputs": [],
   "source": [
    "import sklearn"
   ]
  },
  {
   "cell_type": "code",
   "execution_count": 0,
   "metadata": {
    "colab": {},
    "colab_type": "code",
    "id": "yBX-tSSCAkSq"
   },
   "outputs": [],
   "source": [
    "data = sklearn.utils.shuffle(data)"
   ]
  },
  {
   "cell_type": "code",
   "execution_count": 0,
   "metadata": {
    "colab": {},
    "colab_type": "code",
    "id": "lkwfCbmSAkSr"
   },
   "outputs": [],
   "source": [
    "cut_id = int(0.75*len(data))\n",
    "train_data = data[:cut_id]\n",
    "test_data = data[cut_id+1:]"
   ]
  },
  {
   "cell_type": "code",
   "execution_count": 62,
   "metadata": {
    "colab": {
     "base_uri": "https://localhost:8080/",
     "height": 34
    },
    "colab_type": "code",
    "id": "NuJVmGovAkSr",
    "outputId": "6fb2bfaf-e9c0-4de0-a154-f135f4823089"
   },
   "outputs": [
    {
     "data": {
      "text/plain": [
       "375"
      ]
     },
     "execution_count": 62,
     "metadata": {
      "tags": []
     },
     "output_type": "execute_result"
    }
   ],
   "source": [
    "len(train_data)"
   ]
  },
  {
   "cell_type": "code",
   "execution_count": 63,
   "metadata": {
    "colab": {
     "base_uri": "https://localhost:8080/",
     "height": 34
    },
    "colab_type": "code",
    "id": "ztoaBbOeAkSs",
    "outputId": "b3c609f2-fedc-4670-add3-51ca09418772"
   },
   "outputs": [
    {
     "data": {
      "text/plain": [
       "124"
      ]
     },
     "execution_count": 63,
     "metadata": {
      "tags": []
     },
     "output_type": "execute_result"
    }
   ],
   "source": [
    "len(test_data)"
   ]
  },
  {
   "cell_type": "code",
   "execution_count": 0,
   "metadata": {
    "colab": {},
    "colab_type": "code",
    "id": "wgEx951WBsB-"
   },
   "outputs": [],
   "source": []
  }
 ],
 "metadata": {
  "colab": {
   "include_colab_link": true,
   "name": "T2 - 3 - Data Cleaning - Agrupación de datos.ipynb",
   "provenance": []
  },
  "kernelspec": {
   "display_name": "Python 3",
   "language": "python",
   "name": "python3"
  },
  "language_info": {
   "codemirror_mode": {
    "name": "ipython",
    "version": 3
   },
   "file_extension": ".py",
   "mimetype": "text/x-python",
   "name": "python",
   "nbconvert_exporter": "python",
   "pygments_lexer": "ipython3",
   "version": "3.5.5"
  }
 },
 "nbformat": 4,
 "nbformat_minor": 1
}
