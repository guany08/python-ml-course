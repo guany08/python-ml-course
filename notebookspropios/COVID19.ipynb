{
 "cells": [
  {
   "cell_type": "code",
   "execution_count": 70,
   "metadata": {},
   "outputs": [],
   "source": [
    "import pandas as pd\n",
    "import numpy as np\n",
    "import matplotlib.pyplot as plt\n",
    "import os"
   ]
  },
  {
   "cell_type": "code",
   "execution_count": 71,
   "metadata": {},
   "outputs": [],
   "source": [
    "mainpath = \"C:/Users/Guany/Documents/\"\n",
    "filename = \"Covid19.csv\"\n",
    "fullpath = os.path.join(mainpath,filename)"
   ]
  },
  {
   "cell_type": "code",
   "execution_count": 72,
   "metadata": {},
   "outputs": [],
   "source": [
    "data = pd.read_csv(fullpath)"
   ]
  },
  {
   "cell_type": "code",
   "execution_count": 73,
   "metadata": {},
   "outputs": [
    {
     "data": {
      "text/html": [
       "<div>\n",
       "<style scoped>\n",
       "    .dataframe tbody tr th:only-of-type {\n",
       "        vertical-align: middle;\n",
       "    }\n",
       "\n",
       "    .dataframe tbody tr th {\n",
       "        vertical-align: top;\n",
       "    }\n",
       "\n",
       "    .dataframe thead th {\n",
       "        text-align: right;\n",
       "    }\n",
       "</style>\n",
       "<table border=\"1\" class=\"dataframe\">\n",
       "  <thead>\n",
       "    <tr style=\"text-align: right;\">\n",
       "      <th></th>\n",
       "      <th>id_evento_caso</th>\n",
       "      <th>sexo</th>\n",
       "      <th>edad</th>\n",
       "      <th>edad_años_meses</th>\n",
       "      <th>residencia_pais_nombre</th>\n",
       "      <th>residencia_provincia_nombre</th>\n",
       "      <th>residencia_departamento_nombre</th>\n",
       "      <th>carga_provincia_nombre</th>\n",
       "      <th>fecha_inicio_sintomas</th>\n",
       "      <th>fecha_apertura</th>\n",
       "      <th>...</th>\n",
       "      <th>fecha_fallecimiento</th>\n",
       "      <th>asistencia_respiratoria_mecanica</th>\n",
       "      <th>carga_provincia_id</th>\n",
       "      <th>origen_financiamiento</th>\n",
       "      <th>clasificacion</th>\n",
       "      <th>clasificacion_resumen</th>\n",
       "      <th>residencia_provincia_id</th>\n",
       "      <th>fecha_diagnostico</th>\n",
       "      <th>residencia_departamento_id</th>\n",
       "      <th>ultima_actualizacion</th>\n",
       "    </tr>\n",
       "  </thead>\n",
       "  <tbody>\n",
       "    <tr>\n",
       "      <th>2468514</th>\n",
       "      <td>999994</td>\n",
       "      <td>M</td>\n",
       "      <td>39.0</td>\n",
       "      <td>Años</td>\n",
       "      <td>Argentina</td>\n",
       "      <td>Tierra del Fuego</td>\n",
       "      <td>Río Grande</td>\n",
       "      <td>Tierra del Fuego</td>\n",
       "      <td>NaN</td>\n",
       "      <td>2020-06-01</td>\n",
       "      <td>...</td>\n",
       "      <td>NaN</td>\n",
       "      <td>NO</td>\n",
       "      <td>94</td>\n",
       "      <td>Público</td>\n",
       "      <td>Caso Descartado</td>\n",
       "      <td>Descartado</td>\n",
       "      <td>94</td>\n",
       "      <td>2020-06-01</td>\n",
       "      <td>7</td>\n",
       "      <td>2020-10-19</td>\n",
       "    </tr>\n",
       "    <tr>\n",
       "      <th>2468515</th>\n",
       "      <td>999995</td>\n",
       "      <td>M</td>\n",
       "      <td>33.0</td>\n",
       "      <td>Años</td>\n",
       "      <td>Argentina</td>\n",
       "      <td>Formosa</td>\n",
       "      <td>Pilcomayo</td>\n",
       "      <td>Formosa</td>\n",
       "      <td>NaN</td>\n",
       "      <td>2020-06-01</td>\n",
       "      <td>...</td>\n",
       "      <td>NaN</td>\n",
       "      <td>NO</td>\n",
       "      <td>34</td>\n",
       "      <td>Público</td>\n",
       "      <td>Caso confirmado por laboratorio - No Activo po...</td>\n",
       "      <td>Confirmado</td>\n",
       "      <td>34</td>\n",
       "      <td>2020-06-12</td>\n",
       "      <td>49</td>\n",
       "      <td>2020-10-19</td>\n",
       "    </tr>\n",
       "    <tr>\n",
       "      <th>2468516</th>\n",
       "      <td>999996</td>\n",
       "      <td>M</td>\n",
       "      <td>42.0</td>\n",
       "      <td>Años</td>\n",
       "      <td>Argentina</td>\n",
       "      <td>CABA</td>\n",
       "      <td>SIN ESPECIFICAR</td>\n",
       "      <td>CABA</td>\n",
       "      <td>NaN</td>\n",
       "      <td>2020-06-01</td>\n",
       "      <td>...</td>\n",
       "      <td>NaN</td>\n",
       "      <td>NO</td>\n",
       "      <td>2</td>\n",
       "      <td>Privado</td>\n",
       "      <td>Caso Descartado</td>\n",
       "      <td>Descartado</td>\n",
       "      <td>2</td>\n",
       "      <td>2020-06-01</td>\n",
       "      <td>0</td>\n",
       "      <td>2020-10-19</td>\n",
       "    </tr>\n",
       "    <tr>\n",
       "      <th>2468517</th>\n",
       "      <td>999997</td>\n",
       "      <td>F</td>\n",
       "      <td>30.0</td>\n",
       "      <td>Años</td>\n",
       "      <td>Argentina</td>\n",
       "      <td>CABA</td>\n",
       "      <td>SIN ESPECIFICAR</td>\n",
       "      <td>Córdoba</td>\n",
       "      <td>NaN</td>\n",
       "      <td>2020-06-01</td>\n",
       "      <td>...</td>\n",
       "      <td>NaN</td>\n",
       "      <td>NO</td>\n",
       "      <td>14</td>\n",
       "      <td>Público</td>\n",
       "      <td>Caso Descartado</td>\n",
       "      <td>Descartado</td>\n",
       "      <td>2</td>\n",
       "      <td>2020-06-02</td>\n",
       "      <td>0</td>\n",
       "      <td>2020-10-19</td>\n",
       "    </tr>\n",
       "    <tr>\n",
       "      <th>2468518</th>\n",
       "      <td>999999</td>\n",
       "      <td>F</td>\n",
       "      <td>57.0</td>\n",
       "      <td>Años</td>\n",
       "      <td>Argentina</td>\n",
       "      <td>Buenos Aires</td>\n",
       "      <td>General San Martín</td>\n",
       "      <td>Buenos Aires</td>\n",
       "      <td>2020-05-29</td>\n",
       "      <td>2020-06-01</td>\n",
       "      <td>...</td>\n",
       "      <td>NaN</td>\n",
       "      <td>NO</td>\n",
       "      <td>6</td>\n",
       "      <td>Público</td>\n",
       "      <td>Caso Descartado</td>\n",
       "      <td>Descartado</td>\n",
       "      <td>6</td>\n",
       "      <td>2020-06-02</td>\n",
       "      <td>371</td>\n",
       "      <td>2020-10-19</td>\n",
       "    </tr>\n",
       "  </tbody>\n",
       "</table>\n",
       "<p>5 rows × 25 columns</p>\n",
       "</div>"
      ],
      "text/plain": [
       "         id_evento_caso sexo  edad edad_años_meses residencia_pais_nombre  \\\n",
       "2468514          999994    M  39.0            Años              Argentina   \n",
       "2468515          999995    M  33.0            Años              Argentina   \n",
       "2468516          999996    M  42.0            Años              Argentina   \n",
       "2468517          999997    F  30.0            Años              Argentina   \n",
       "2468518          999999    F  57.0            Años              Argentina   \n",
       "\n",
       "        residencia_provincia_nombre residencia_departamento_nombre  \\\n",
       "2468514            Tierra del Fuego                     Río Grande   \n",
       "2468515                     Formosa                      Pilcomayo   \n",
       "2468516                        CABA                SIN ESPECIFICAR   \n",
       "2468517                        CABA                SIN ESPECIFICAR   \n",
       "2468518                Buenos Aires             General San Martín   \n",
       "\n",
       "        carga_provincia_nombre fecha_inicio_sintomas fecha_apertura  \\\n",
       "2468514       Tierra del Fuego                   NaN     2020-06-01   \n",
       "2468515                Formosa                   NaN     2020-06-01   \n",
       "2468516                   CABA                   NaN     2020-06-01   \n",
       "2468517                Córdoba                   NaN     2020-06-01   \n",
       "2468518           Buenos Aires            2020-05-29     2020-06-01   \n",
       "\n",
       "                ...           fecha_fallecimiento  \\\n",
       "2468514         ...                           NaN   \n",
       "2468515         ...                           NaN   \n",
       "2468516         ...                           NaN   \n",
       "2468517         ...                           NaN   \n",
       "2468518         ...                           NaN   \n",
       "\n",
       "        asistencia_respiratoria_mecanica carga_provincia_id  \\\n",
       "2468514                               NO                 94   \n",
       "2468515                               NO                 34   \n",
       "2468516                               NO                  2   \n",
       "2468517                               NO                 14   \n",
       "2468518                               NO                  6   \n",
       "\n",
       "        origen_financiamiento  \\\n",
       "2468514               Público   \n",
       "2468515               Público   \n",
       "2468516               Privado   \n",
       "2468517               Público   \n",
       "2468518               Público   \n",
       "\n",
       "                                             clasificacion  \\\n",
       "2468514                                    Caso Descartado   \n",
       "2468515  Caso confirmado por laboratorio - No Activo po...   \n",
       "2468516                                    Caso Descartado   \n",
       "2468517                                    Caso Descartado   \n",
       "2468518                                    Caso Descartado   \n",
       "\n",
       "        clasificacion_resumen residencia_provincia_id  fecha_diagnostico  \\\n",
       "2468514            Descartado                      94         2020-06-01   \n",
       "2468515            Confirmado                      34         2020-06-12   \n",
       "2468516            Descartado                       2         2020-06-01   \n",
       "2468517            Descartado                       2         2020-06-02   \n",
       "2468518            Descartado                       6         2020-06-02   \n",
       "\n",
       "        residencia_departamento_id ultima_actualizacion  \n",
       "2468514                          7           2020-10-19  \n",
       "2468515                         49           2020-10-19  \n",
       "2468516                          0           2020-10-19  \n",
       "2468517                          0           2020-10-19  \n",
       "2468518                        371           2020-10-19  \n",
       "\n",
       "[5 rows x 25 columns]"
      ]
     },
     "execution_count": 73,
     "metadata": {},
     "output_type": "execute_result"
    }
   ],
   "source": [
    "data.tail()"
   ]
  },
  {
   "cell_type": "code",
   "execution_count": 74,
   "metadata": {},
   "outputs": [
    {
     "data": {
      "text/plain": [
       "array(['Años', 'Meses'], dtype=object)"
      ]
     },
     "execution_count": 74,
     "metadata": {},
     "output_type": "execute_result"
    }
   ],
   "source": [
    "data[\"edad_años_meses\"].unique()"
   ]
  },
  {
   "cell_type": "code",
   "execution_count": 75,
   "metadata": {},
   "outputs": [
    {
     "data": {
      "text/plain": [
       "0"
      ]
     },
     "execution_count": 75,
     "metadata": {},
     "output_type": "execute_result"
    }
   ],
   "source": [
    "pd.isnull(data[\"edad_años_meses\"]).values.ravel().sum()"
   ]
  },
  {
   "cell_type": "code",
   "execution_count": 78,
   "metadata": {},
   "outputs": [
    {
     "data": {
      "text/plain": [
       "0"
      ]
     },
     "execution_count": 78,
     "metadata": {},
     "output_type": "execute_result"
    }
   ],
   "source": [
    "pd.isnull(data[\"edad\"]).values.ravel().sum()"
   ]
  },
  {
   "cell_type": "code",
   "execution_count": 77,
   "metadata": {},
   "outputs": [],
   "source": [
    "data[\"edad\"] = data[\"edad\"].fillna(int(data[\"edad\"].mean()))"
   ]
  },
  {
   "cell_type": "code",
   "execution_count": 22,
   "metadata": {},
   "outputs": [
    {
     "data": {
      "text/plain": [
       "count    2.468519e+06\n",
       "mean     3.964013e+01\n",
       "std      1.881870e+01\n",
       "min      0.000000e+00\n",
       "25%      2.700000e+01\n",
       "50%      3.700000e+01\n",
       "75%      5.100000e+01\n",
       "max      1.944000e+03\n",
       "Name: edad, dtype: float64"
      ]
     },
     "execution_count": 22,
     "metadata": {},
     "output_type": "execute_result"
    }
   ],
   "source": [
    "data[\"edad\"].describe()"
   ]
  },
  {
   "cell_type": "code",
   "execution_count": 85,
   "metadata": {},
   "outputs": [],
   "source": [
    "df = data[data['edad'] > 105]\n",
    "data.drop(data[data.edad>=105].index, inplace = True)"
   ]
  },
  {
   "cell_type": "code",
   "execution_count": 108,
   "metadata": {},
   "outputs": [],
   "source": [
    "df.edad.replace((119,110,112,118,109,220,1024,1944,131), (37,37,37,37,37,37,37,37,37), inplace=True)"
   ]
  },
  {
   "cell_type": "code",
   "execution_count": 109,
   "metadata": {},
   "outputs": [
    {
     "data": {
      "text/plain": [
       "37.0    238\n",
       "Name: edad, dtype: int64"
      ]
     },
     "execution_count": 109,
     "metadata": {},
     "output_type": "execute_result"
    }
   ],
   "source": [
    "df[\"edad\"].value_counts()"
   ]
  },
  {
   "cell_type": "code",
   "execution_count": 69,
   "metadata": {},
   "outputs": [
    {
     "name": "stderr",
     "output_type": "stream",
     "text": [
      "C:\\Users\\Guany\\.conda\\envs\\python-ml-2020\\lib\\site-packages\\ipykernel_launcher.py:3: SettingWithCopyWarning: \n",
      "A value is trying to be set on a copy of a slice from a DataFrame\n",
      "\n",
      "See the caveats in the documentation: http://pandas.pydata.org/pandas-docs/stable/indexing.html#indexing-view-versus-copy\n",
      "  This is separate from the ipykernel package so we can avoid doing imports until\n"
     ]
    },
    {
     "ename": "KeyboardInterrupt",
     "evalue": "",
     "output_type": "error",
     "traceback": [
      "\u001b[1;31m---------------------------------------------------------------------------\u001b[0m",
      "\u001b[1;31mKeyboardInterrupt\u001b[0m                         Traceback (most recent call last)",
      "\u001b[1;32m<ipython-input-69-55070daeaf95>\u001b[0m in \u001b[0;36m<module>\u001b[1;34m\u001b[0m\n\u001b[0;32m      1\u001b[0m \u001b[1;32mfor\u001b[0m \u001b[0mi\u001b[0m \u001b[1;32min\u001b[0m \u001b[0mrange\u001b[0m\u001b[1;33m(\u001b[0m\u001b[0mlen\u001b[0m\u001b[1;33m(\u001b[0m\u001b[0mdata\u001b[0m\u001b[1;33m[\u001b[0m\u001b[1;34m\"edad\"\u001b[0m\u001b[1;33m]\u001b[0m\u001b[1;33m)\u001b[0m\u001b[1;33m)\u001b[0m\u001b[1;33m:\u001b[0m\u001b[1;33m\u001b[0m\u001b[0m\n\u001b[0;32m      2\u001b[0m         \u001b[1;32mif\u001b[0m \u001b[1;33m(\u001b[0m\u001b[0mdata\u001b[0m\u001b[1;33m[\u001b[0m\u001b[1;34m\"edad_años_meses\"\u001b[0m\u001b[1;33m]\u001b[0m\u001b[1;33m[\u001b[0m\u001b[0mi\u001b[0m\u001b[1;33m]\u001b[0m\u001b[1;33m)\u001b[0m \u001b[1;33m==\u001b[0m \u001b[1;33m(\u001b[0m\u001b[1;34m\"Meses\"\u001b[0m\u001b[1;33m)\u001b[0m\u001b[1;33m:\u001b[0m\u001b[1;33m\u001b[0m\u001b[0m\n\u001b[1;32m----> 3\u001b[1;33m             \u001b[0mdata\u001b[0m\u001b[1;33m[\u001b[0m\u001b[1;34m\"edad\"\u001b[0m\u001b[1;33m]\u001b[0m\u001b[1;33m[\u001b[0m\u001b[0mi\u001b[0m\u001b[1;33m]\u001b[0m \u001b[1;33m=\u001b[0m \u001b[1;36m1\u001b[0m\u001b[1;33m\u001b[0m\u001b[0m\n\u001b[0m\u001b[0;32m      4\u001b[0m         \u001b[1;31m#if (data[\"edad_años_meses\"][i] == \"Años\") & (data[\"edad\"][i] > 105):\u001b[0m\u001b[1;33m\u001b[0m\u001b[1;33m\u001b[0m\u001b[0m\n\u001b[0;32m      5\u001b[0m          \u001b[1;31m#   data[\"edad\"][i] = [0]\u001b[0m\u001b[1;33m\u001b[0m\u001b[1;33m\u001b[0m\u001b[0m\n",
      "\u001b[1;32m~\\.conda\\envs\\python-ml-2020\\lib\\site-packages\\pandas\\core\\series.py\u001b[0m in \u001b[0;36m__setitem__\u001b[1;34m(self, key, value)\u001b[0m\n\u001b[0;32m    936\u001b[0m \u001b[1;33m\u001b[0m\u001b[0m\n\u001b[0;32m    937\u001b[0m         \u001b[1;31m# do the setitem\u001b[0m\u001b[1;33m\u001b[0m\u001b[1;33m\u001b[0m\u001b[0m\n\u001b[1;32m--> 938\u001b[1;33m         \u001b[0mcacher_needs_updating\u001b[0m \u001b[1;33m=\u001b[0m \u001b[0mself\u001b[0m\u001b[1;33m.\u001b[0m\u001b[0m_check_is_chained_assignment_possible\u001b[0m\u001b[1;33m(\u001b[0m\u001b[1;33m)\u001b[0m\u001b[1;33m\u001b[0m\u001b[0m\n\u001b[0m\u001b[0;32m    939\u001b[0m         \u001b[0msetitem\u001b[0m\u001b[1;33m(\u001b[0m\u001b[0mkey\u001b[0m\u001b[1;33m,\u001b[0m \u001b[0mvalue\u001b[0m\u001b[1;33m)\u001b[0m\u001b[1;33m\u001b[0m\u001b[0m\n\u001b[0;32m    940\u001b[0m         \u001b[1;32mif\u001b[0m \u001b[0mcacher_needs_updating\u001b[0m\u001b[1;33m:\u001b[0m\u001b[1;33m\u001b[0m\u001b[0m\n",
      "\u001b[1;32m~\\.conda\\envs\\python-ml-2020\\lib\\site-packages\\pandas\\core\\generic.py\u001b[0m in \u001b[0;36m_check_is_chained_assignment_possible\u001b[1;34m(self)\u001b[0m\n\u001b[0;32m   2625\u001b[0m             \u001b[1;32mif\u001b[0m \u001b[0mref\u001b[0m \u001b[1;32mis\u001b[0m \u001b[1;32mnot\u001b[0m \u001b[1;32mNone\u001b[0m \u001b[1;32mand\u001b[0m \u001b[0mref\u001b[0m\u001b[1;33m.\u001b[0m\u001b[0m_is_mixed_type\u001b[0m\u001b[1;33m:\u001b[0m\u001b[1;33m\u001b[0m\u001b[0m\n\u001b[0;32m   2626\u001b[0m                 self._check_setitem_copy(stacklevel=4, t='referant',\n\u001b[1;32m-> 2627\u001b[1;33m                                          force=True)\n\u001b[0m\u001b[0;32m   2628\u001b[0m             \u001b[1;32mreturn\u001b[0m \u001b[1;32mTrue\u001b[0m\u001b[1;33m\u001b[0m\u001b[0m\n\u001b[0;32m   2629\u001b[0m         \u001b[1;32melif\u001b[0m \u001b[0mself\u001b[0m\u001b[1;33m.\u001b[0m\u001b[0m_is_copy\u001b[0m\u001b[1;33m:\u001b[0m\u001b[1;33m\u001b[0m\u001b[0m\n",
      "\u001b[1;32m~\\.conda\\envs\\python-ml-2020\\lib\\site-packages\\pandas\\core\\generic.py\u001b[0m in \u001b[0;36m_check_setitem_copy\u001b[1;34m(self, stacklevel, t, force)\u001b[0m\n\u001b[0;32m   2672\u001b[0m             \u001b[1;32mtry\u001b[0m\u001b[1;33m:\u001b[0m\u001b[1;33m\u001b[0m\u001b[0m\n\u001b[0;32m   2673\u001b[0m                 \u001b[0mgc\u001b[0m\u001b[1;33m.\u001b[0m\u001b[0mcollect\u001b[0m\u001b[1;33m(\u001b[0m\u001b[1;36m2\u001b[0m\u001b[1;33m)\u001b[0m\u001b[1;33m\u001b[0m\u001b[0m\n\u001b[1;32m-> 2674\u001b[1;33m                 \u001b[1;32mif\u001b[0m \u001b[1;32mnot\u001b[0m \u001b[0mgc\u001b[0m\u001b[1;33m.\u001b[0m\u001b[0mget_referents\u001b[0m\u001b[1;33m(\u001b[0m\u001b[0mself\u001b[0m\u001b[1;33m.\u001b[0m\u001b[0m_is_copy\u001b[0m\u001b[1;33m(\u001b[0m\u001b[1;33m)\u001b[0m\u001b[1;33m)\u001b[0m\u001b[1;33m:\u001b[0m\u001b[1;33m\u001b[0m\u001b[0m\n\u001b[0m\u001b[0;32m   2675\u001b[0m                     \u001b[0mself\u001b[0m\u001b[1;33m.\u001b[0m\u001b[0m_is_copy\u001b[0m \u001b[1;33m=\u001b[0m \u001b[1;32mNone\u001b[0m\u001b[1;33m\u001b[0m\u001b[0m\n\u001b[0;32m   2676\u001b[0m                     \u001b[1;32mreturn\u001b[0m\u001b[1;33m\u001b[0m\u001b[0m\n",
      "\u001b[1;31mKeyboardInterrupt\u001b[0m: "
     ]
    }
   ],
   "source": [
    "for i in range(len(data[\"edad\"])):\n",
    "        if (data[\"edad_años_meses\"][i]) == (\"Meses\"):\n",
    "            data[\"edad\"][i] = 1\n",
    "        #if (data[\"edad_años_meses\"][i] == \"Años\") & (data[\"edad\"][i] > 105):\n",
    "         #   data[\"edad\"][i] = [0]"
   ]
  },
  {
   "cell_type": "code",
   "execution_count": null,
   "metadata": {},
   "outputs": [],
   "source": []
  },
  {
   "cell_type": "code",
   "execution_count": null,
   "metadata": {},
   "outputs": [],
   "source": []
  },
  {
   "cell_type": "code",
   "execution_count": 42,
   "metadata": {},
   "outputs": [
    {
     "data": {
      "text/plain": [
       "Argentina               2369488\n",
       "SIN ESPECIFICAR           98599\n",
       "Paraguay                    112\n",
       "Bolivia                      96\n",
       "Brasil                       51\n",
       "Chile                        48\n",
       "Uruguay                      33\n",
       "Italia                       14\n",
       "Perú                         12\n",
       "España                        9\n",
       "Alemania                      9\n",
       "Francia                       8\n",
       "Venezuela                     7\n",
       "China                         5\n",
       "Australia                     3\n",
       "EE.UU.                        3\n",
       "Reino Unido                   3\n",
       "Malasia                       2\n",
       "Ecuador                       2\n",
       "Austria                       2\n",
       "Colombia                      2\n",
       "República Dominicana          1\n",
       "Panamá                        1\n",
       "Bélgica                       1\n",
       "Ucrania                       1\n",
       "Canadá                        1\n",
       "Líbano                        1\n",
       "Irlanda                       1\n",
       "Países Bajos                  1\n",
       "Portugal                      1\n",
       "Polonia                       1\n",
       "Filipinas                     1\n",
       "Name: residencia_pais_nombre, dtype: int64"
      ]
     },
     "execution_count": 42,
     "metadata": {},
     "output_type": "execute_result"
    }
   ],
   "source": [
    "data[\"residencia_pais_nombre\"].value_counts()"
   ]
  },
  {
   "cell_type": "code",
   "execution_count": 37,
   "metadata": {},
   "outputs": [
    {
     "data": {
      "text/plain": [
       "2468519"
      ]
     },
     "execution_count": 37,
     "metadata": {},
     "output_type": "execute_result"
    }
   ],
   "source": [
    "len(data[\"edad\"])"
   ]
  },
  {
   "cell_type": "code",
   "execution_count": 48,
   "metadata": {},
   "outputs": [
    {
     "data": {
      "text/plain": [
       "numpy.float64"
      ]
     },
     "execution_count": 48,
     "metadata": {},
     "output_type": "execute_result"
    }
   ],
   "source": [
    "type(data[\"edad\"])"
   ]
  },
  {
   "cell_type": "code",
   "execution_count": 55,
   "metadata": {},
   "outputs": [
    {
     "data": {
      "text/plain": [
       "2468519"
      ]
     },
     "execution_count": 55,
     "metadata": {},
     "output_type": "execute_result"
    }
   ],
   "source": [
    "len(data[\"edad\"])"
   ]
  },
  {
   "cell_type": "code",
   "execution_count": 74,
   "metadata": {},
   "outputs": [
    {
     "data": {
      "text/plain": [
       "0"
      ]
     },
     "execution_count": 74,
     "metadata": {},
     "output_type": "execute_result"
    }
   ],
   "source": [
    "cont = 0\n",
    "for i in range(len(data[\"edad\"])):\n",
    "    a = data[\"edad\"][i]\n",
    "    b = int(data[\"edad\"][i])\n",
    "    if (a-b) > 0:\n",
    "                            cont += 1\n",
    "cont                    "
   ]
  },
  {
   "cell_type": "code",
   "execution_count": 75,
   "metadata": {},
   "outputs": [
    {
     "name": "stdout",
     "output_type": "stream",
     "text": [
      "0\n"
     ]
    }
   ],
   "source": [
    "print(cont)"
   ]
  },
  {
   "cell_type": "code",
   "execution_count": null,
   "metadata": {},
   "outputs": [],
   "source": [
    "for i in range(len(data[\"edad\"])):\n",
    "    (data[\"edad\"][i]) = int(data[\"edad\"][i])"
   ]
  },
  {
   "cell_type": "code",
   "execution_count": 12,
   "metadata": {},
   "outputs": [
    {
     "data": {
      "text/plain": [
       "(2468519, 25)"
      ]
     },
     "execution_count": 12,
     "metadata": {},
     "output_type": "execute_result"
    }
   ],
   "source": [
    "data.shape"
   ]
  },
  {
   "cell_type": "code",
   "execution_count": 6,
   "metadata": {},
   "outputs": [
    {
     "data": {
      "text/plain": [
       "Index(['id_evento_caso', 'sexo', 'edad', 'edad_años_meses',\n",
       "       'residencia_pais_nombre', 'residencia_provincia_nombre',\n",
       "       'residencia_departamento_nombre', 'carga_provincia_nombre',\n",
       "       'fecha_inicio_sintomas', 'fecha_apertura', 'sepi_apertura',\n",
       "       'fecha_internacion', 'cuidado_intensivo', 'fecha_cui_intensivo',\n",
       "       'fallecido', 'fecha_fallecimiento', 'asistencia_respiratoria_mecanica',\n",
       "       'carga_provincia_id', 'origen_financiamiento', 'clasificacion',\n",
       "       'clasificacion_resumen', 'residencia_provincia_id', 'fecha_diagnostico',\n",
       "       'residencia_departamento_id', 'ultima_actualizacion'],\n",
       "      dtype='object')"
      ]
     },
     "execution_count": 6,
     "metadata": {},
     "output_type": "execute_result"
    }
   ],
   "source": [
    "data.columns"
   ]
  },
  {
   "cell_type": "code",
   "execution_count": 39,
   "metadata": {},
   "outputs": [
    {
     "data": {
      "text/html": [
       "<div>\n",
       "<style scoped>\n",
       "    .dataframe tbody tr th:only-of-type {\n",
       "        vertical-align: middle;\n",
       "    }\n",
       "\n",
       "    .dataframe tbody tr th {\n",
       "        vertical-align: top;\n",
       "    }\n",
       "\n",
       "    .dataframe thead th {\n",
       "        text-align: right;\n",
       "    }\n",
       "</style>\n",
       "<table border=\"1\" class=\"dataframe\">\n",
       "  <thead>\n",
       "    <tr style=\"text-align: right;\">\n",
       "      <th></th>\n",
       "      <th>id_evento_caso</th>\n",
       "      <th>edad</th>\n",
       "      <th>sepi_apertura</th>\n",
       "      <th>carga_provincia_id</th>\n",
       "      <th>residencia_provincia_id</th>\n",
       "      <th>residencia_departamento_id</th>\n",
       "    </tr>\n",
       "  </thead>\n",
       "  <tbody>\n",
       "    <tr>\n",
       "      <th>count</th>\n",
       "      <td>2.468519e+06</td>\n",
       "      <td>2.466226e+06</td>\n",
       "      <td>2.468519e+06</td>\n",
       "      <td>2.468519e+06</td>\n",
       "      <td>2.468519e+06</td>\n",
       "      <td>2.468519e+06</td>\n",
       "    </tr>\n",
       "    <tr>\n",
       "      <th>mean</th>\n",
       "      <td>2.225209e+06</td>\n",
       "      <td>3.964073e+01</td>\n",
       "      <td>3.435215e+01</td>\n",
       "      <td>2.090618e+01</td>\n",
       "      <td>2.165322e+01</td>\n",
       "      <td>2.431117e+02</td>\n",
       "    </tr>\n",
       "    <tr>\n",
       "      <th>std</th>\n",
       "      <td>7.906795e+05</td>\n",
       "      <td>1.882743e+01</td>\n",
       "      <td>6.324782e+00</td>\n",
       "      <td>2.827136e+01</td>\n",
       "      <td>2.830506e+01</td>\n",
       "      <td>2.650229e+02</td>\n",
       "    </tr>\n",
       "    <tr>\n",
       "      <th>min</th>\n",
       "      <td>6.720640e+05</td>\n",
       "      <td>0.000000e+00</td>\n",
       "      <td>5.000000e+00</td>\n",
       "      <td>2.000000e+00</td>\n",
       "      <td>2.000000e+00</td>\n",
       "      <td>0.000000e+00</td>\n",
       "    </tr>\n",
       "    <tr>\n",
       "      <th>25%</th>\n",
       "      <td>1.547910e+06</td>\n",
       "      <td>2.700000e+01</td>\n",
       "      <td>3.100000e+01</td>\n",
       "      <td>2.000000e+00</td>\n",
       "      <td>6.000000e+00</td>\n",
       "      <td>2.100000e+01</td>\n",
       "    </tr>\n",
       "    <tr>\n",
       "      <th>50%</th>\n",
       "      <td>2.242387e+06</td>\n",
       "      <td>3.700000e+01</td>\n",
       "      <td>3.600000e+01</td>\n",
       "      <td>6.000000e+00</td>\n",
       "      <td>6.000000e+00</td>\n",
       "      <td>9.100000e+01</td>\n",
       "    </tr>\n",
       "    <tr>\n",
       "      <th>75%</th>\n",
       "      <td>2.909662e+06</td>\n",
       "      <td>5.100000e+01</td>\n",
       "      <td>3.900000e+01</td>\n",
       "      <td>2.600000e+01</td>\n",
       "      <td>2.600000e+01</td>\n",
       "      <td>4.340000e+02</td>\n",
       "    </tr>\n",
       "    <tr>\n",
       "      <th>max</th>\n",
       "      <td>3.567796e+06</td>\n",
       "      <td>1.944000e+03</td>\n",
       "      <td>4.400000e+01</td>\n",
       "      <td>9.400000e+01</td>\n",
       "      <td>9.900000e+01</td>\n",
       "      <td>8.820000e+02</td>\n",
       "    </tr>\n",
       "  </tbody>\n",
       "</table>\n",
       "</div>"
      ],
      "text/plain": [
       "       id_evento_caso          edad  sepi_apertura  carga_provincia_id  \\\n",
       "count    2.468519e+06  2.466226e+06   2.468519e+06        2.468519e+06   \n",
       "mean     2.225209e+06  3.964073e+01   3.435215e+01        2.090618e+01   \n",
       "std      7.906795e+05  1.882743e+01   6.324782e+00        2.827136e+01   \n",
       "min      6.720640e+05  0.000000e+00   5.000000e+00        2.000000e+00   \n",
       "25%      1.547910e+06  2.700000e+01   3.100000e+01        2.000000e+00   \n",
       "50%      2.242387e+06  3.700000e+01   3.600000e+01        6.000000e+00   \n",
       "75%      2.909662e+06  5.100000e+01   3.900000e+01        2.600000e+01   \n",
       "max      3.567796e+06  1.944000e+03   4.400000e+01        9.400000e+01   \n",
       "\n",
       "       residencia_provincia_id  residencia_departamento_id  \n",
       "count             2.468519e+06                2.468519e+06  \n",
       "mean              2.165322e+01                2.431117e+02  \n",
       "std               2.830506e+01                2.650229e+02  \n",
       "min               2.000000e+00                0.000000e+00  \n",
       "25%               6.000000e+00                2.100000e+01  \n",
       "50%               6.000000e+00                9.100000e+01  \n",
       "75%               2.600000e+01                4.340000e+02  \n",
       "max               9.900000e+01                8.820000e+02  "
      ]
     },
     "execution_count": 39,
     "metadata": {},
     "output_type": "execute_result"
    }
   ],
   "source": [
    "data.describe()"
   ]
  },
  {
   "cell_type": "code",
   "execution_count": 10,
   "metadata": {},
   "outputs": [
    {
     "data": {
      "text/plain": [
       "id_evento_caso                        int64\n",
       "sexo                                 object\n",
       "edad                                float64\n",
       "edad_años_meses                      object\n",
       "residencia_pais_nombre               object\n",
       "residencia_provincia_nombre          object\n",
       "residencia_departamento_nombre       object\n",
       "carga_provincia_nombre               object\n",
       "fecha_inicio_sintomas                object\n",
       "fecha_apertura                       object\n",
       "sepi_apertura                         int64\n",
       "fecha_internacion                    object\n",
       "cuidado_intensivo                    object\n",
       "fecha_cui_intensivo                  object\n",
       "fallecido                            object\n",
       "fecha_fallecimiento                  object\n",
       "asistencia_respiratoria_mecanica     object\n",
       "carga_provincia_id                    int64\n",
       "origen_financiamiento                object\n",
       "clasificacion                        object\n",
       "clasificacion_resumen                object\n",
       "residencia_provincia_id               int64\n",
       "fecha_diagnostico                    object\n",
       "residencia_departamento_id            int64\n",
       "ultima_actualizacion                 object\n",
       "dtype: object"
      ]
     },
     "execution_count": 10,
     "metadata": {},
     "output_type": "execute_result"
    }
   ],
   "source": [
    "data.dtypes"
   ]
  },
  {
   "cell_type": "code",
   "execution_count": 14,
   "metadata": {},
   "outputs": [
    {
     "data": {
      "text/plain": [
       "array(['M', 'F', 'NR'], dtype=object)"
      ]
     },
     "execution_count": 14,
     "metadata": {},
     "output_type": "execute_result"
    }
   ],
   "source": [
    "data[\"sexo\"].unique()"
   ]
  },
  {
   "cell_type": "code",
   "execution_count": 18,
   "metadata": {},
   "outputs": [
    {
     "data": {
      "text/plain": [
       "0"
      ]
     },
     "execution_count": 18,
     "metadata": {},
     "output_type": "execute_result"
    }
   ],
   "source": [
    "pd.isnull(data[\"sexo\"]).values.ravel().sum()"
   ]
  },
  {
   "cell_type": "code",
   "execution_count": 19,
   "metadata": {},
   "outputs": [
    {
     "data": {
      "text/plain": [
       "358929"
      ]
     },
     "execution_count": 19,
     "metadata": {},
     "output_type": "execute_result"
    }
   ],
   "source": [
    "pd.isnull(data[\"fecha_diagnostico\"]).values.ravel().sum()"
   ]
  },
  {
   "cell_type": "code",
   "execution_count": 25,
   "metadata": {},
   "outputs": [
    {
     "data": {
      "text/plain": [
       "str"
      ]
     },
     "execution_count": 25,
     "metadata": {},
     "output_type": "execute_result"
    }
   ],
   "source": [
    "type(data[\"fecha_diagnostico\"][1])"
   ]
  },
  {
   "cell_type": "code",
   "execution_count": 26,
   "metadata": {},
   "outputs": [
    {
     "data": {
      "text/plain": [
       "2468519"
      ]
     },
     "execution_count": 26,
     "metadata": {},
     "output_type": "execute_result"
    }
   ],
   "source": [
    "len(data[\"fecha_diagnostico\"])"
   ]
  },
  {
   "cell_type": "code",
   "execution_count": 49,
   "metadata": {},
   "outputs": [
    {
     "data": {
      "text/plain": [
       "2468519"
      ]
     },
     "execution_count": 49,
     "metadata": {},
     "output_type": "execute_result"
    }
   ],
   "source": [
    "len(data[\"edad\"])"
   ]
  },
  {
   "cell_type": "code",
   "execution_count": 27,
   "metadata": {},
   "outputs": [],
   "source": [
    "datafechas = data"
   ]
  },
  {
   "cell_type": "code",
   "execution_count": 31,
   "metadata": {},
   "outputs": [],
   "source": [
    "datafechas[\"fecha_diagnostico\"] = datafechas[\"fecha_diagnostico\"].fillna(method=\"ffill\")"
   ]
  },
  {
   "cell_type": "code",
   "execution_count": 32,
   "metadata": {},
   "outputs": [
    {
     "data": {
      "text/plain": [
       "2468519"
      ]
     },
     "execution_count": 32,
     "metadata": {},
     "output_type": "execute_result"
    }
   ],
   "source": [
    "len(datafechas[\"fecha_diagnostico\"])"
   ]
  },
  {
   "cell_type": "code",
   "execution_count": 45,
   "metadata": {},
   "outputs": [
    {
     "data": {
      "text/plain": [
       "0"
      ]
     },
     "execution_count": 45,
     "metadata": {},
     "output_type": "execute_result"
    }
   ],
   "source": [
    "pd.isnull(datafechas[\"fecha_diagnostico\"]).values.ravel().sum()"
   ]
  },
  {
   "cell_type": "code",
   "execution_count": 42,
   "metadata": {},
   "outputs": [],
   "source": [
    "datafechas[\"fecha_diagnostico\"]= pd.to_datetime(datafechas[\"fecha_diagnostico\"])"
   ]
  },
  {
   "cell_type": "code",
   "execution_count": 43,
   "metadata": {},
   "outputs": [
    {
     "data": {
      "text/plain": [
       "id_evento_caso                               int64\n",
       "sexo                                        object\n",
       "edad                                       float64\n",
       "edad_años_meses                             object\n",
       "residencia_pais_nombre                      object\n",
       "residencia_provincia_nombre                 object\n",
       "residencia_departamento_nombre              object\n",
       "carga_provincia_nombre                      object\n",
       "fecha_inicio_sintomas                       object\n",
       "fecha_apertura                              object\n",
       "sepi_apertura                                int64\n",
       "fecha_internacion                           object\n",
       "cuidado_intensivo                           object\n",
       "fecha_cui_intensivo                         object\n",
       "fallecido                                   object\n",
       "fecha_fallecimiento                         object\n",
       "asistencia_respiratoria_mecanica            object\n",
       "carga_provincia_id                           int64\n",
       "origen_financiamiento                       object\n",
       "clasificacion                               object\n",
       "clasificacion_resumen                       object\n",
       "residencia_provincia_id                      int64\n",
       "fecha_diagnostico                   datetime64[ns]\n",
       "residencia_departamento_id                   int64\n",
       "ultima_actualizacion                        object\n",
       "dtype: object"
      ]
     },
     "execution_count": 43,
     "metadata": {},
     "output_type": "execute_result"
    }
   ],
   "source": [
    "datafechas.dtypes"
   ]
  },
  {
   "cell_type": "code",
   "execution_count": 44,
   "metadata": {},
   "outputs": [
    {
     "data": {
      "text/plain": [
       "pandas._libs.tslibs.timestamps.Timestamp"
      ]
     },
     "execution_count": 44,
     "metadata": {},
     "output_type": "execute_result"
    }
   ],
   "source": [
    "type(datafechas[\"fecha_diagnostico\"][1])"
   ]
  },
  {
   "cell_type": "code",
   "execution_count": 18,
   "metadata": {},
   "outputs": [
    {
     "data": {
      "text/plain": [
       "Público    1522449\n",
       "Privado     946070\n",
       "Name: origen_financiamiento, dtype: int64"
      ]
     },
     "execution_count": 18,
     "metadata": {},
     "output_type": "execute_result"
    }
   ],
   "source": [
    "data[\"origen_financiamiento\"].value_counts()"
   ]
  },
  {
   "cell_type": "code",
   "execution_count": 21,
   "metadata": {},
   "outputs": [
    {
     "data": {
      "text/plain": [
       "Text(0.5,1,'Histograma de distribucion de pacientes covid')"
      ]
     },
     "execution_count": 21,
     "metadata": {},
     "output_type": "execute_result"
    },
    {
     "data": {
      "image/png": "[encoded data removed]",
      "text/plain": [
       "<matplotlib.figure.Figure at 0x18498343da0>"
      ]
     },
     "metadata": {
      "needs_background": "light"
     },
     "output_type": "display_data"
    }
   ],
   "source": [
    "plt.hist(data[\"origen_financiamiento\"])\n",
    "# k= int(np.ceil(1+np.log2(3333))) \n",
    "#3333 es la cantidad de filas que tiene el dataframe, \"Regla de Sturges\"\n",
    "#plt.hist(data[\"Day Calls\"], bins=1+lnp.log2(3333))\n",
    "plt.xlabel(\"Servicio\")\n",
    "plt.ylabel(\"Cantidad de pacientes\")\n",
    "plt.title(\"Histograma de distribucion de pacientes covid\")"
   ]
  },
  {
   "cell_type": "code",
   "execution_count": 101,
   "metadata": {},
   "outputs": [
    {
     "data": {
      "text/plain": [
       "Text(0.5,1,'Histograma de distribucion de pacientes covid')"
      ]
     },
     "execution_count": 101,
     "metadata": {},
     "output_type": "execute_result"
    },
    {
     "data": {
      "image/png": "[encoded data removed]",
      "text/plain": [
       "<matplotlib.figure.Figure at 0x28ddbce2ef0>"
      ]
     },
     "metadata": {
      "needs_background": "light"
     },
     "output_type": "display_data"
    }
   ],
   "source": [
    "plt.hist(data[\"edad\"], bins= 200)\n",
    "# k= int(np.ceil(1+np.log2(3333))) \n",
    "#3333 es la cantidad de filas que tiene el dataframe, \"Regla de Sturges\"\n",
    "#plt.hist(data[\"Day Calls\"], bins=1+lnp.log2(3333))\n",
    "plt.xlabel(\"Servicio\")\n",
    "plt.ylabel(\"Cantidad de pacientes\")\n",
    "plt.title(\"Histograma de distribucion de pacientes covid\")"
   ]
  },
  {
   "cell_type": "code",
   "execution_count": 92,
   "metadata": {},
   "outputs": [
    {
     "data": {
      "text/plain": [
       "Text(0.5,1,'Boxplot de las llamadas diarias')"
      ]
     },
     "execution_count": 92,
     "metadata": {},
     "output_type": "execute_result"
    },
    {
     "data": {
      "image/png": "[encoded data removed]",
      "text/plain": [
       "<matplotlib.figure.Figure at 0x28ddba0cfd0>"
      ]
     },
     "metadata": {
      "needs_background": "light"
     },
     "output_type": "display_data"
    }
   ],
   "source": [
    "plt.boxplot(data[\"edad\"])\n",
    "plt.ylabel(\"Numero de llamadas Diarias\")\n",
    "plt.title(\"Boxplot de las llamadas diarias\")"
   ]
  },
  {
   "cell_type": "code",
   "execution_count": 95,
   "metadata": {},
   "outputs": [
    {
     "data": {
      "text/plain": [
       "count    2.468263e+06\n",
       "mean     3.958940e+01\n",
       "std      1.883033e+01\n",
       "min      1.000000e+00\n",
       "25%      2.700000e+01\n",
       "50%      3.700000e+01\n",
       "75%      5.100000e+01\n",
       "max      1.040000e+02\n",
       "Name: edad, dtype: float64"
      ]
     },
     "execution_count": 95,
     "metadata": {},
     "output_type": "execute_result"
    }
   ],
   "source": [
    "data[\"edad\"].describe()"
   ]
  },
  {
   "cell_type": "code",
   "execution_count": 96,
   "metadata": {},
   "outputs": [
    {
     "data": {
      "text/plain": [
       "0    29.0\n",
       "dtype: float64"
      ]
     },
     "execution_count": 96,
     "metadata": {},
     "output_type": "execute_result"
    }
   ],
   "source": [
    "data[\"edad\"].mode()"
   ]
  },
  {
   "cell_type": "code",
   "execution_count": 98,
   "metadata": {},
   "outputs": [
    {
     "data": {
      "text/plain": [
       "29.0     63922\n",
       "30.0     62058\n",
       "28.0     61723\n",
       "32.0     61091\n",
       "31.0     60981\n",
       "33.0     60384\n",
       "34.0     59776\n",
       "27.0     58297\n",
       "39.0     56949\n",
       "38.0     56751\n",
       "35.0     56329\n",
       "26.0     55604\n",
       "36.0     54914\n",
       "40.0     54782\n",
       "25.0     54422\n",
       "37.0     54228\n",
       "41.0     53816\n",
       "42.0     51050\n",
       "24.0     50981\n",
       "43.0     49897\n",
       "44.0     45671\n",
       "23.0     45503\n",
       "45.0     44370\n",
       "46.0     41199\n",
       "22.0     40693\n",
       "47.0     40664\n",
       "1.0      40433\n",
       "48.0     39734\n",
       "49.0     38936\n",
       "50.0     36693\n",
       "         ...  \n",
       "76.0      9157\n",
       "9.0       9141\n",
       "77.0      8735\n",
       "78.0      8257\n",
       "80.0      7975\n",
       "79.0      7890\n",
       "81.0      7393\n",
       "83.0      6898\n",
       "82.0      6835\n",
       "84.0      6588\n",
       "85.0      6468\n",
       "86.0      6051\n",
       "87.0      5745\n",
       "88.0      5655\n",
       "89.0      5380\n",
       "90.0      4741\n",
       "91.0      4112\n",
       "92.0      3515\n",
       "93.0      3087\n",
       "94.0      2450\n",
       "95.0      1897\n",
       "96.0      1521\n",
       "97.0      1128\n",
       "98.0       801\n",
       "99.0       512\n",
       "100.0      344\n",
       "101.0      150\n",
       "102.0      100\n",
       "103.0       50\n",
       "104.0       32\n",
       "Name: edad, Length: 104, dtype: int64"
      ]
     },
     "execution_count": 98,
     "metadata": {},
     "output_type": "execute_result"
    }
   ],
   "source": [
    "data[\"edad\"].value_counts()"
   ]
  },
  {
   "cell_type": "code",
   "execution_count": null,
   "metadata": {},
   "outputs": [],
   "source": []
  }
 ],
 "metadata": {
  "kernelspec": {
   "display_name": "Python 3",
   "language": "python",
   "name": "python3"
  },
  "language_info": {
   "codemirror_mode": {
    "name": "ipython",
    "version": 3
   },
   "file_extension": ".py",
   "mimetype": "text/x-python",
   "name": "python",
   "nbconvert_exporter": "python",
   "pygments_lexer": "ipython3",
   "version": "3.5.5"
  }
 },
 "nbformat": 4,
 "nbformat_minor": 5
}
