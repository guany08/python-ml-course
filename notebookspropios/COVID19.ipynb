{
 "cells": [
  {
   "cell_type": "code",
   "execution_count": 5,
   "id": "phantom-landing",
   "metadata": {},
   "outputs": [],
   "source": [
    "import pandas as pd\n",
    "import numpy as np\n",
    "import matplotlib.pyplot as plt\n",
    "import os"
   ]
  },
  {
   "cell_type": "code",
   "execution_count": 8,
   "id": "historical-blair",
   "metadata": {},
   "outputs": [],
   "source": [
    "mainpath = \"C:/Users/Guany/Documents/\"\n",
    "filename = \"Covid19.csv\"\n",
    "fullpath = os.path.join(mainpath,filename)"
   ]
  },
  {
   "cell_type": "code",
   "execution_count": null,
   "id": "following-breathing",
   "metadata": {},
   "outputs": [],
   "source": [
    "data = pd.read_csv(fullpath)"
   ]
  },
  {
   "cell_type": "code",
   "execution_count": null,
   "id": "searching-truth",
   "metadata": {},
   "outputs": [],
   "source": [
    "data.head()"
   ]
  },
  {
   "cell_type": "code",
   "execution_count": 46,
   "id": "authentic-fields",
   "metadata": {},
   "outputs": [
    {
     "data": {
      "text/plain": [
       "array(['Años', 'Meses'], dtype=object)"
      ]
     },
     "execution_count": 46,
     "metadata": {},
     "output_type": "execute_result"
    }
   ],
   "source": [
    "data[\"edad_años_meses\"].unique()"
   ]
  },
  {
   "cell_type": "code",
   "execution_count": 72,
   "id": "light-mother",
   "metadata": {},
   "outputs": [
    {
     "data": {
      "text/plain": [
       "0"
      ]
     },
     "execution_count": 72,
     "metadata": {},
     "output_type": "execute_result"
    }
   ],
   "source": [
    "pd.isnull(data[\"edad\"]).values.ravel().sum()"
   ]
  },
  {
   "cell_type": "code",
   "execution_count": 71,
   "id": "domestic-reunion",
   "metadata": {},
   "outputs": [],
   "source": [
    "data[\"edad\"] = data[\"edad\"].fillna(int(data[\"edad\"].mean()))"
   ]
  },
  {
   "cell_type": "code",
   "execution_count": 64,
   "id": "short-dancing",
   "metadata": {},
   "outputs": [
    {
     "ename": "TypeError",
     "evalue": "int() argument must be a string, a bytes-like object or a number, not 'method'",
     "output_type": "error",
     "traceback": [
      "\u001b[1;31m---------------------------------------------------------------------------\u001b[0m",
      "\u001b[1;31mTypeError\u001b[0m                                 Traceback (most recent call last)",
      "\u001b[1;32m<ipython-input-64-42942e1c9eef>\u001b[0m in \u001b[0;36m<module>\u001b[1;34m\u001b[0m\n\u001b[1;32m----> 1\u001b[1;33m \u001b[0mint\u001b[0m\u001b[1;33m(\u001b[0m\u001b[0mdata\u001b[0m\u001b[1;33m[\u001b[0m\u001b[1;34m\"edad\"\u001b[0m\u001b[1;33m]\u001b[0m\u001b[1;33m.\u001b[0m\u001b[0mmean\u001b[0m\u001b[1;33m)\u001b[0m\u001b[1;33m\u001b[0m\u001b[0m\n\u001b[0m",
      "\u001b[1;31mTypeError\u001b[0m: int() argument must be a string, a bytes-like object or a number, not 'method'"
     ]
    }
   ],
   "source": []
  },
  {
   "cell_type": "code",
   "execution_count": 48,
   "id": "religious-framework",
   "metadata": {},
   "outputs": [
    {
     "data": {
      "text/plain": [
       "numpy.float64"
      ]
     },
     "execution_count": 48,
     "metadata": {},
     "output_type": "execute_result"
    }
   ],
   "source": [
    "type(data[\"edad\"])"
   ]
  },
  {
   "cell_type": "code",
   "execution_count": 55,
   "id": "minus-shadow",
   "metadata": {},
   "outputs": [
    {
     "data": {
      "text/plain": [
       "2468519"
      ]
     },
     "execution_count": 55,
     "metadata": {},
     "output_type": "execute_result"
    }
   ],
   "source": [
    "len(data[\"edad\"])"
   ]
  },
  {
   "cell_type": "code",
   "execution_count": 74,
   "id": "critical-partnership",
   "metadata": {},
   "outputs": [
    {
     "data": {
      "text/plain": [
       "0"
      ]
     },
     "execution_count": 74,
     "metadata": {},
     "output_type": "execute_result"
    }
   ],
   "source": [
    "cont = 0\n",
    "for i in range(len(data[\"edad\"])):\n",
    "    a = data[\"edad\"][i]\n",
    "    b = int(data[\"edad\"][i])\n",
    "    if (a-b) > 0:\n",
    "                            cont += 1\n",
    "cont                    "
   ]
  },
  {
   "cell_type": "code",
   "execution_count": 75,
   "id": "loving-playback",
   "metadata": {},
   "outputs": [
    {
     "name": "stdout",
     "output_type": "stream",
     "text": [
      "0\n"
     ]
    }
   ],
   "source": [
    "print(cont)"
   ]
  },
  {
   "cell_type": "code",
   "execution_count": null,
   "id": "upper-dealer",
   "metadata": {},
   "outputs": [],
   "source": [
    "for i in range(len(data[\"edad\"])):\n",
    "    (data[\"edad\"][i]) = int(data[\"edad\"][i])"
   ]
  },
  {
   "cell_type": "code",
   "execution_count": 5,
   "id": "proof-slide",
   "metadata": {},
   "outputs": [
    {
     "data": {
      "text/plain": [
       "(2468519, 25)"
      ]
     },
     "execution_count": 5,
     "metadata": {},
     "output_type": "execute_result"
    }
   ],
   "source": [
    "data.shape"
   ]
  },
  {
   "cell_type": "code",
   "execution_count": 6,
   "id": "closed-context",
   "metadata": {},
   "outputs": [
    {
     "data": {
      "text/plain": [
       "Index(['id_evento_caso', 'sexo', 'edad', 'edad_años_meses',\n",
       "       'residencia_pais_nombre', 'residencia_provincia_nombre',\n",
       "       'residencia_departamento_nombre', 'carga_provincia_nombre',\n",
       "       'fecha_inicio_sintomas', 'fecha_apertura', 'sepi_apertura',\n",
       "       'fecha_internacion', 'cuidado_intensivo', 'fecha_cui_intensivo',\n",
       "       'fallecido', 'fecha_fallecimiento', 'asistencia_respiratoria_mecanica',\n",
       "       'carga_provincia_id', 'origen_financiamiento', 'clasificacion',\n",
       "       'clasificacion_resumen', 'residencia_provincia_id', 'fecha_diagnostico',\n",
       "       'residencia_departamento_id', 'ultima_actualizacion'],\n",
       "      dtype='object')"
      ]
     },
     "execution_count": 6,
     "metadata": {},
     "output_type": "execute_result"
    }
   ],
   "source": [
    "data.columns"
   ]
  },
  {
   "cell_type": "code",
   "execution_count": 39,
   "id": "aerial-refrigerator",
   "metadata": {},
   "outputs": [
    {
     "data": {
      "text/html": [
       "<div>\n",
       "<style scoped>\n",
       "    .dataframe tbody tr th:only-of-type {\n",
       "        vertical-align: middle;\n",
       "    }\n",
       "\n",
       "    .dataframe tbody tr th {\n",
       "        vertical-align: top;\n",
       "    }\n",
       "\n",
       "    .dataframe thead th {\n",
       "        text-align: right;\n",
       "    }\n",
       "</style>\n",
       "<table border=\"1\" class=\"dataframe\">\n",
       "  <thead>\n",
       "    <tr style=\"text-align: right;\">\n",
       "      <th></th>\n",
       "      <th>id_evento_caso</th>\n",
       "      <th>edad</th>\n",
       "      <th>sepi_apertura</th>\n",
       "      <th>carga_provincia_id</th>\n",
       "      <th>residencia_provincia_id</th>\n",
       "      <th>residencia_departamento_id</th>\n",
       "    </tr>\n",
       "  </thead>\n",
       "  <tbody>\n",
       "    <tr>\n",
       "      <th>count</th>\n",
       "      <td>2.468519e+06</td>\n",
       "      <td>2.466226e+06</td>\n",
       "      <td>2.468519e+06</td>\n",
       "      <td>2.468519e+06</td>\n",
       "      <td>2.468519e+06</td>\n",
       "      <td>2.468519e+06</td>\n",
       "    </tr>\n",
       "    <tr>\n",
       "      <th>mean</th>\n",
       "      <td>2.225209e+06</td>\n",
       "      <td>3.964073e+01</td>\n",
       "      <td>3.435215e+01</td>\n",
       "      <td>2.090618e+01</td>\n",
       "      <td>2.165322e+01</td>\n",
       "      <td>2.431117e+02</td>\n",
       "    </tr>\n",
       "    <tr>\n",
       "      <th>std</th>\n",
       "      <td>7.906795e+05</td>\n",
       "      <td>1.882743e+01</td>\n",
       "      <td>6.324782e+00</td>\n",
       "      <td>2.827136e+01</td>\n",
       "      <td>2.830506e+01</td>\n",
       "      <td>2.650229e+02</td>\n",
       "    </tr>\n",
       "    <tr>\n",
       "      <th>min</th>\n",
       "      <td>6.720640e+05</td>\n",
       "      <td>0.000000e+00</td>\n",
       "      <td>5.000000e+00</td>\n",
       "      <td>2.000000e+00</td>\n",
       "      <td>2.000000e+00</td>\n",
       "      <td>0.000000e+00</td>\n",
       "    </tr>\n",
       "    <tr>\n",
       "      <th>25%</th>\n",
       "      <td>1.547910e+06</td>\n",
       "      <td>2.700000e+01</td>\n",
       "      <td>3.100000e+01</td>\n",
       "      <td>2.000000e+00</td>\n",
       "      <td>6.000000e+00</td>\n",
       "      <td>2.100000e+01</td>\n",
       "    </tr>\n",
       "    <tr>\n",
       "      <th>50%</th>\n",
       "      <td>2.242387e+06</td>\n",
       "      <td>3.700000e+01</td>\n",
       "      <td>3.600000e+01</td>\n",
       "      <td>6.000000e+00</td>\n",
       "      <td>6.000000e+00</td>\n",
       "      <td>9.100000e+01</td>\n",
       "    </tr>\n",
       "    <tr>\n",
       "      <th>75%</th>\n",
       "      <td>2.909662e+06</td>\n",
       "      <td>5.100000e+01</td>\n",
       "      <td>3.900000e+01</td>\n",
       "      <td>2.600000e+01</td>\n",
       "      <td>2.600000e+01</td>\n",
       "      <td>4.340000e+02</td>\n",
       "    </tr>\n",
       "    <tr>\n",
       "      <th>max</th>\n",
       "      <td>3.567796e+06</td>\n",
       "      <td>1.944000e+03</td>\n",
       "      <td>4.400000e+01</td>\n",
       "      <td>9.400000e+01</td>\n",
       "      <td>9.900000e+01</td>\n",
       "      <td>8.820000e+02</td>\n",
       "    </tr>\n",
       "  </tbody>\n",
       "</table>\n",
       "</div>"
      ],
      "text/plain": [
       "       id_evento_caso          edad  sepi_apertura  carga_provincia_id  \\\n",
       "count    2.468519e+06  2.466226e+06   2.468519e+06        2.468519e+06   \n",
       "mean     2.225209e+06  3.964073e+01   3.435215e+01        2.090618e+01   \n",
       "std      7.906795e+05  1.882743e+01   6.324782e+00        2.827136e+01   \n",
       "min      6.720640e+05  0.000000e+00   5.000000e+00        2.000000e+00   \n",
       "25%      1.547910e+06  2.700000e+01   3.100000e+01        2.000000e+00   \n",
       "50%      2.242387e+06  3.700000e+01   3.600000e+01        6.000000e+00   \n",
       "75%      2.909662e+06  5.100000e+01   3.900000e+01        2.600000e+01   \n",
       "max      3.567796e+06  1.944000e+03   4.400000e+01        9.400000e+01   \n",
       "\n",
       "       residencia_provincia_id  residencia_departamento_id  \n",
       "count             2.468519e+06                2.468519e+06  \n",
       "mean              2.165322e+01                2.431117e+02  \n",
       "std               2.830506e+01                2.650229e+02  \n",
       "min               2.000000e+00                0.000000e+00  \n",
       "25%               6.000000e+00                2.100000e+01  \n",
       "50%               6.000000e+00                9.100000e+01  \n",
       "75%               2.600000e+01                4.340000e+02  \n",
       "max               9.900000e+01                8.820000e+02  "
      ]
     },
     "execution_count": 39,
     "metadata": {},
     "output_type": "execute_result"
    }
   ],
   "source": [
    "data.describe()"
   ]
  },
  {
   "cell_type": "code",
   "execution_count": 10,
   "id": "noticed-directive",
   "metadata": {},
   "outputs": [
    {
     "data": {
      "text/plain": [
       "id_evento_caso                        int64\n",
       "sexo                                 object\n",
       "edad                                float64\n",
       "edad_años_meses                      object\n",
       "residencia_pais_nombre               object\n",
       "residencia_provincia_nombre          object\n",
       "residencia_departamento_nombre       object\n",
       "carga_provincia_nombre               object\n",
       "fecha_inicio_sintomas                object\n",
       "fecha_apertura                       object\n",
       "sepi_apertura                         int64\n",
       "fecha_internacion                    object\n",
       "cuidado_intensivo                    object\n",
       "fecha_cui_intensivo                  object\n",
       "fallecido                            object\n",
       "fecha_fallecimiento                  object\n",
       "asistencia_respiratoria_mecanica     object\n",
       "carga_provincia_id                    int64\n",
       "origen_financiamiento                object\n",
       "clasificacion                        object\n",
       "clasificacion_resumen                object\n",
       "residencia_provincia_id               int64\n",
       "fecha_diagnostico                    object\n",
       "residencia_departamento_id            int64\n",
       "ultima_actualizacion                 object\n",
       "dtype: object"
      ]
     },
     "execution_count": 10,
     "metadata": {},
     "output_type": "execute_result"
    }
   ],
   "source": [
    "data.dtypes"
   ]
  },
  {
   "cell_type": "code",
   "execution_count": 14,
   "id": "arabic-toddler",
   "metadata": {},
   "outputs": [
    {
     "data": {
      "text/plain": [
       "array(['M', 'F', 'NR'], dtype=object)"
      ]
     },
     "execution_count": 14,
     "metadata": {},
     "output_type": "execute_result"
    }
   ],
   "source": [
    "data[\"sexo\"].unique()"
   ]
  },
  {
   "cell_type": "code",
   "execution_count": 18,
   "id": "social-calculation",
   "metadata": {},
   "outputs": [
    {
     "data": {
      "text/plain": [
       "0"
      ]
     },
     "execution_count": 18,
     "metadata": {},
     "output_type": "execute_result"
    }
   ],
   "source": [
    "pd.isnull(data[\"sexo\"]).values.ravel().sum()"
   ]
  },
  {
   "cell_type": "code",
   "execution_count": 19,
   "id": "saved-carolina",
   "metadata": {},
   "outputs": [
    {
     "data": {
      "text/plain": [
       "358929"
      ]
     },
     "execution_count": 19,
     "metadata": {},
     "output_type": "execute_result"
    }
   ],
   "source": [
    "pd.isnull(data[\"fecha_diagnostico\"]).values.ravel().sum()"
   ]
  },
  {
   "cell_type": "code",
   "execution_count": 25,
   "id": "north-vocabulary",
   "metadata": {},
   "outputs": [
    {
     "data": {
      "text/plain": [
       "str"
      ]
     },
     "execution_count": 25,
     "metadata": {},
     "output_type": "execute_result"
    }
   ],
   "source": [
    "type(data[\"fecha_diagnostico\"][1])"
   ]
  },
  {
   "cell_type": "code",
   "execution_count": 26,
   "id": "israeli-burner",
   "metadata": {},
   "outputs": [
    {
     "data": {
      "text/plain": [
       "2468519"
      ]
     },
     "execution_count": 26,
     "metadata": {},
     "output_type": "execute_result"
    }
   ],
   "source": [
    "len(data[\"fecha_diagnostico\"])"
   ]
  },
  {
   "cell_type": "code",
   "execution_count": 49,
   "id": "random-adjustment",
   "metadata": {},
   "outputs": [
    {
     "data": {
      "text/plain": [
       "2468519"
      ]
     },
     "execution_count": 49,
     "metadata": {},
     "output_type": "execute_result"
    }
   ],
   "source": [
    "len(data[\"edad\"])"
   ]
  },
  {
   "cell_type": "code",
   "execution_count": 27,
   "id": "biblical-testimony",
   "metadata": {},
   "outputs": [],
   "source": [
    "datafechas = data"
   ]
  },
  {
   "cell_type": "code",
   "execution_count": 31,
   "id": "everyday-caution",
   "metadata": {},
   "outputs": [],
   "source": [
    "datafechas[\"fecha_diagnostico\"] = datafechas[\"fecha_diagnostico\"].fillna(method=\"ffill\")"
   ]
  },
  {
   "cell_type": "code",
   "execution_count": 32,
   "id": "innocent-purple",
   "metadata": {},
   "outputs": [
    {
     "data": {
      "text/plain": [
       "2468519"
      ]
     },
     "execution_count": 32,
     "metadata": {},
     "output_type": "execute_result"
    }
   ],
   "source": [
    "len(datafechas[\"fecha_diagnostico\"])"
   ]
  },
  {
   "cell_type": "code",
   "execution_count": 45,
   "id": "indirect-point",
   "metadata": {},
   "outputs": [
    {
     "data": {
      "text/plain": [
       "0"
      ]
     },
     "execution_count": 45,
     "metadata": {},
     "output_type": "execute_result"
    }
   ],
   "source": [
    "pd.isnull(datafechas[\"fecha_diagnostico\"]).values.ravel().sum()"
   ]
  },
  {
   "cell_type": "code",
   "execution_count": 42,
   "id": "grand-spotlight",
   "metadata": {},
   "outputs": [],
   "source": [
    "datafechas[\"fecha_diagnostico\"]= pd.to_datetime(datafechas[\"fecha_diagnostico\"])"
   ]
  },
  {
   "cell_type": "code",
   "execution_count": 43,
   "id": "tough-hearing",
   "metadata": {},
   "outputs": [
    {
     "data": {
      "text/plain": [
       "id_evento_caso                               int64\n",
       "sexo                                        object\n",
       "edad                                       float64\n",
       "edad_años_meses                             object\n",
       "residencia_pais_nombre                      object\n",
       "residencia_provincia_nombre                 object\n",
       "residencia_departamento_nombre              object\n",
       "carga_provincia_nombre                      object\n",
       "fecha_inicio_sintomas                       object\n",
       "fecha_apertura                              object\n",
       "sepi_apertura                                int64\n",
       "fecha_internacion                           object\n",
       "cuidado_intensivo                           object\n",
       "fecha_cui_intensivo                         object\n",
       "fallecido                                   object\n",
       "fecha_fallecimiento                         object\n",
       "asistencia_respiratoria_mecanica            object\n",
       "carga_provincia_id                           int64\n",
       "origen_financiamiento                       object\n",
       "clasificacion                               object\n",
       "clasificacion_resumen                       object\n",
       "residencia_provincia_id                      int64\n",
       "fecha_diagnostico                   datetime64[ns]\n",
       "residencia_departamento_id                   int64\n",
       "ultima_actualizacion                        object\n",
       "dtype: object"
      ]
     },
     "execution_count": 43,
     "metadata": {},
     "output_type": "execute_result"
    }
   ],
   "source": [
    "datafechas.dtypes"
   ]
  },
  {
   "cell_type": "code",
   "execution_count": 44,
   "id": "valuable-collapse",
   "metadata": {},
   "outputs": [
    {
     "data": {
      "text/plain": [
       "pandas._libs.tslibs.timestamps.Timestamp"
      ]
     },
     "execution_count": 44,
     "metadata": {},
     "output_type": "execute_result"
    }
   ],
   "source": [
    "type(datafechas[\"fecha_diagnostico\"][1])"
   ]
  },
  {
   "cell_type": "code",
   "execution_count": null,
   "id": "monthly-coordinate",
   "metadata": {},
   "outputs": [],
   "source": []
  }
 ],
 "metadata": {
  "kernelspec": {
   "display_name": "Python 3",
   "language": "python",
   "name": "python3"
  },
  "language_info": {
   "codemirror_mode": {
    "name": "ipython",
    "version": 3
   },
   "file_extension": ".py",
   "mimetype": "text/x-python",
   "name": "python",
   "nbconvert_exporter": "python",
   "pygments_lexer": "ipython3",
   "version": "3.5.5"
  }
 },
 "nbformat": 4,
 "nbformat_minor": 5
}
