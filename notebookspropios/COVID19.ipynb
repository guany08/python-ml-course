{
 "cells": [
  {
   "cell_type": "code",
   "execution_count": 1,
   "id": "naval-antarctica",
   "metadata": {},
   "outputs": [],
   "source": [
    "import pandas as pd\n",
    "import numpy as np\n",
    "import matplotlib.pyplot as plt\n",
    "import os"
   ]
  },
  {
   "cell_type": "code",
   "execution_count": 2,
   "id": "amazing-provider",
   "metadata": {},
   "outputs": [],
   "source": [
    "mainpath = \"C:/Users/Guany/Documents/\"\n",
    "filename = \"Covid19.csv\"\n",
    "fullpath = os.path.join(mainpath,filename)"
   ]
  },
  {
   "cell_type": "code",
   "execution_count": 3,
   "id": "previous-producer",
   "metadata": {},
   "outputs": [],
   "source": [
    "data = pd.read_csv(fullpath)"
   ]
  },
  {
   "cell_type": "code",
   "execution_count": 4,
   "id": "sophisticated-timber",
   "metadata": {},
   "outputs": [
    {
     "data": {
      "text/html": [
       "<div>\n",
       "<style scoped>\n",
       "    .dataframe tbody tr th:only-of-type {\n",
       "        vertical-align: middle;\n",
       "    }\n",
       "\n",
       "    .dataframe tbody tr th {\n",
       "        vertical-align: top;\n",
       "    }\n",
       "\n",
       "    .dataframe thead th {\n",
       "        text-align: right;\n",
       "    }\n",
       "</style>\n",
       "<table border=\"1\" class=\"dataframe\">\n",
       "  <thead>\n",
       "    <tr style=\"text-align: right;\">\n",
       "      <th></th>\n",
       "      <th>id_evento_caso</th>\n",
       "      <th>sexo</th>\n",
       "      <th>edad</th>\n",
       "      <th>edad_años_meses</th>\n",
       "      <th>residencia_pais_nombre</th>\n",
       "      <th>residencia_provincia_nombre</th>\n",
       "      <th>residencia_departamento_nombre</th>\n",
       "      <th>carga_provincia_nombre</th>\n",
       "      <th>fecha_inicio_sintomas</th>\n",
       "      <th>fecha_apertura</th>\n",
       "      <th>...</th>\n",
       "      <th>fecha_fallecimiento</th>\n",
       "      <th>asistencia_respiratoria_mecanica</th>\n",
       "      <th>carga_provincia_id</th>\n",
       "      <th>origen_financiamiento</th>\n",
       "      <th>clasificacion</th>\n",
       "      <th>clasificacion_resumen</th>\n",
       "      <th>residencia_provincia_id</th>\n",
       "      <th>fecha_diagnostico</th>\n",
       "      <th>residencia_departamento_id</th>\n",
       "      <th>ultima_actualizacion</th>\n",
       "    </tr>\n",
       "  </thead>\n",
       "  <tbody>\n",
       "    <tr>\n",
       "      <th>2468514</th>\n",
       "      <td>999994</td>\n",
       "      <td>M</td>\n",
       "      <td>39.0</td>\n",
       "      <td>Años</td>\n",
       "      <td>Argentina</td>\n",
       "      <td>Tierra del Fuego</td>\n",
       "      <td>Río Grande</td>\n",
       "      <td>Tierra del Fuego</td>\n",
       "      <td>NaN</td>\n",
       "      <td>2020-06-01</td>\n",
       "      <td>...</td>\n",
       "      <td>NaN</td>\n",
       "      <td>NO</td>\n",
       "      <td>94</td>\n",
       "      <td>Público</td>\n",
       "      <td>Caso Descartado</td>\n",
       "      <td>Descartado</td>\n",
       "      <td>94</td>\n",
       "      <td>2020-06-01</td>\n",
       "      <td>7</td>\n",
       "      <td>2020-10-19</td>\n",
       "    </tr>\n",
       "    <tr>\n",
       "      <th>2468515</th>\n",
       "      <td>999995</td>\n",
       "      <td>M</td>\n",
       "      <td>33.0</td>\n",
       "      <td>Años</td>\n",
       "      <td>Argentina</td>\n",
       "      <td>Formosa</td>\n",
       "      <td>Pilcomayo</td>\n",
       "      <td>Formosa</td>\n",
       "      <td>NaN</td>\n",
       "      <td>2020-06-01</td>\n",
       "      <td>...</td>\n",
       "      <td>NaN</td>\n",
       "      <td>NO</td>\n",
       "      <td>34</td>\n",
       "      <td>Público</td>\n",
       "      <td>Caso confirmado por laboratorio - No Activo po...</td>\n",
       "      <td>Confirmado</td>\n",
       "      <td>34</td>\n",
       "      <td>2020-06-12</td>\n",
       "      <td>49</td>\n",
       "      <td>2020-10-19</td>\n",
       "    </tr>\n",
       "    <tr>\n",
       "      <th>2468516</th>\n",
       "      <td>999996</td>\n",
       "      <td>M</td>\n",
       "      <td>42.0</td>\n",
       "      <td>Años</td>\n",
       "      <td>Argentina</td>\n",
       "      <td>CABA</td>\n",
       "      <td>SIN ESPECIFICAR</td>\n",
       "      <td>CABA</td>\n",
       "      <td>NaN</td>\n",
       "      <td>2020-06-01</td>\n",
       "      <td>...</td>\n",
       "      <td>NaN</td>\n",
       "      <td>NO</td>\n",
       "      <td>2</td>\n",
       "      <td>Privado</td>\n",
       "      <td>Caso Descartado</td>\n",
       "      <td>Descartado</td>\n",
       "      <td>2</td>\n",
       "      <td>2020-06-01</td>\n",
       "      <td>0</td>\n",
       "      <td>2020-10-19</td>\n",
       "    </tr>\n",
       "    <tr>\n",
       "      <th>2468517</th>\n",
       "      <td>999997</td>\n",
       "      <td>F</td>\n",
       "      <td>30.0</td>\n",
       "      <td>Años</td>\n",
       "      <td>Argentina</td>\n",
       "      <td>CABA</td>\n",
       "      <td>SIN ESPECIFICAR</td>\n",
       "      <td>Córdoba</td>\n",
       "      <td>NaN</td>\n",
       "      <td>2020-06-01</td>\n",
       "      <td>...</td>\n",
       "      <td>NaN</td>\n",
       "      <td>NO</td>\n",
       "      <td>14</td>\n",
       "      <td>Público</td>\n",
       "      <td>Caso Descartado</td>\n",
       "      <td>Descartado</td>\n",
       "      <td>2</td>\n",
       "      <td>2020-06-02</td>\n",
       "      <td>0</td>\n",
       "      <td>2020-10-19</td>\n",
       "    </tr>\n",
       "    <tr>\n",
       "      <th>2468518</th>\n",
       "      <td>999999</td>\n",
       "      <td>F</td>\n",
       "      <td>57.0</td>\n",
       "      <td>Años</td>\n",
       "      <td>Argentina</td>\n",
       "      <td>Buenos Aires</td>\n",
       "      <td>General San Martín</td>\n",
       "      <td>Buenos Aires</td>\n",
       "      <td>2020-05-29</td>\n",
       "      <td>2020-06-01</td>\n",
       "      <td>...</td>\n",
       "      <td>NaN</td>\n",
       "      <td>NO</td>\n",
       "      <td>6</td>\n",
       "      <td>Público</td>\n",
       "      <td>Caso Descartado</td>\n",
       "      <td>Descartado</td>\n",
       "      <td>6</td>\n",
       "      <td>2020-06-02</td>\n",
       "      <td>371</td>\n",
       "      <td>2020-10-19</td>\n",
       "    </tr>\n",
       "  </tbody>\n",
       "</table>\n",
       "<p>5 rows × 25 columns</p>\n",
       "</div>"
      ],
      "text/plain": [
       "         id_evento_caso sexo  edad edad_años_meses residencia_pais_nombre  \\\n",
       "2468514          999994    M  39.0            Años              Argentina   \n",
       "2468515          999995    M  33.0            Años              Argentina   \n",
       "2468516          999996    M  42.0            Años              Argentina   \n",
       "2468517          999997    F  30.0            Años              Argentina   \n",
       "2468518          999999    F  57.0            Años              Argentina   \n",
       "\n",
       "        residencia_provincia_nombre residencia_departamento_nombre  \\\n",
       "2468514            Tierra del Fuego                     Río Grande   \n",
       "2468515                     Formosa                      Pilcomayo   \n",
       "2468516                        CABA                SIN ESPECIFICAR   \n",
       "2468517                        CABA                SIN ESPECIFICAR   \n",
       "2468518                Buenos Aires             General San Martín   \n",
       "\n",
       "        carga_provincia_nombre fecha_inicio_sintomas fecha_apertura  \\\n",
       "2468514       Tierra del Fuego                   NaN     2020-06-01   \n",
       "2468515                Formosa                   NaN     2020-06-01   \n",
       "2468516                   CABA                   NaN     2020-06-01   \n",
       "2468517                Córdoba                   NaN     2020-06-01   \n",
       "2468518           Buenos Aires            2020-05-29     2020-06-01   \n",
       "\n",
       "                ...           fecha_fallecimiento  \\\n",
       "2468514         ...                           NaN   \n",
       "2468515         ...                           NaN   \n",
       "2468516         ...                           NaN   \n",
       "2468517         ...                           NaN   \n",
       "2468518         ...                           NaN   \n",
       "\n",
       "        asistencia_respiratoria_mecanica carga_provincia_id  \\\n",
       "2468514                               NO                 94   \n",
       "2468515                               NO                 34   \n",
       "2468516                               NO                  2   \n",
       "2468517                               NO                 14   \n",
       "2468518                               NO                  6   \n",
       "\n",
       "        origen_financiamiento  \\\n",
       "2468514               Público   \n",
       "2468515               Público   \n",
       "2468516               Privado   \n",
       "2468517               Público   \n",
       "2468518               Público   \n",
       "\n",
       "                                             clasificacion  \\\n",
       "2468514                                    Caso Descartado   \n",
       "2468515  Caso confirmado por laboratorio - No Activo po...   \n",
       "2468516                                    Caso Descartado   \n",
       "2468517                                    Caso Descartado   \n",
       "2468518                                    Caso Descartado   \n",
       "\n",
       "        clasificacion_resumen residencia_provincia_id  fecha_diagnostico  \\\n",
       "2468514            Descartado                      94         2020-06-01   \n",
       "2468515            Confirmado                      34         2020-06-12   \n",
       "2468516            Descartado                       2         2020-06-01   \n",
       "2468517            Descartado                       2         2020-06-02   \n",
       "2468518            Descartado                       6         2020-06-02   \n",
       "\n",
       "        residencia_departamento_id ultima_actualizacion  \n",
       "2468514                          7           2020-10-19  \n",
       "2468515                         49           2020-10-19  \n",
       "2468516                          0           2020-10-19  \n",
       "2468517                          0           2020-10-19  \n",
       "2468518                        371           2020-10-19  \n",
       "\n",
       "[5 rows x 25 columns]"
      ]
     },
     "execution_count": 4,
     "metadata": {},
     "output_type": "execute_result"
    }
   ],
   "source": [
    "data.tail()"
   ]
  },
  {
   "cell_type": "code",
   "execution_count": 5,
   "id": "resident-woman",
   "metadata": {},
   "outputs": [
    {
     "data": {
      "text/plain": [
       "array(['Años', 'Meses'], dtype=object)"
      ]
     },
     "execution_count": 5,
     "metadata": {},
     "output_type": "execute_result"
    }
   ],
   "source": [
    "data[\"edad_años_meses\"].unique()"
   ]
  },
  {
   "cell_type": "code",
   "execution_count": 6,
   "id": "rough-stanley",
   "metadata": {},
   "outputs": [
    {
     "data": {
      "text/plain": [
       "0"
      ]
     },
     "execution_count": 6,
     "metadata": {},
     "output_type": "execute_result"
    }
   ],
   "source": [
    "pd.isnull(data[\"edad_años_meses\"]).values.ravel().sum()"
   ]
  },
  {
   "cell_type": "code",
   "execution_count": 7,
   "id": "architectural-adult",
   "metadata": {},
   "outputs": [
    {
     "data": {
      "text/plain": [
       "2293"
      ]
     },
     "execution_count": 7,
     "metadata": {},
     "output_type": "execute_result"
    }
   ],
   "source": [
    "pd.isnull(data[\"edad\"]).values.ravel().sum()"
   ]
  },
  {
   "cell_type": "code",
   "execution_count": 8,
   "id": "rocky-alliance",
   "metadata": {},
   "outputs": [],
   "source": [
    "data[\"edad\"] = data[\"edad\"].fillna(int(data[\"edad\"].mean()))"
   ]
  },
  {
   "cell_type": "code",
   "execution_count": 9,
   "id": "linear-bangkok",
   "metadata": {},
   "outputs": [
    {
     "data": {
      "text/plain": [
       "count    2.468519e+06\n",
       "mean     3.964013e+01\n",
       "std      1.881870e+01\n",
       "min      0.000000e+00\n",
       "25%      2.700000e+01\n",
       "50%      3.700000e+01\n",
       "75%      5.100000e+01\n",
       "max      1.944000e+03\n",
       "Name: edad, dtype: float64"
      ]
     },
     "execution_count": 9,
     "metadata": {},
     "output_type": "execute_result"
    }
   ],
   "source": [
    "data[\"edad\"].describe()"
   ]
  },
  {
   "cell_type": "code",
   "execution_count": 10,
   "id": "specialized-mumbai",
   "metadata": {},
   "outputs": [],
   "source": [
    "df = data[data['edad'] > 105]\n",
    "data.drop(data[data.edad>=105].index, inplace = True)"
   ]
  },
  {
   "cell_type": "code",
   "execution_count": 11,
   "id": "referenced-thompson",
   "metadata": {},
   "outputs": [
    {
     "name": "stderr",
     "output_type": "stream",
     "text": [
      "C:\\Users\\Guany\\.conda\\envs\\python-ml-2020\\lib\\site-packages\\pandas\\core\\generic.py:5890: SettingWithCopyWarning: \n",
      "A value is trying to be set on a copy of a slice from a DataFrame\n",
      "\n",
      "See the caveats in the documentation: http://pandas.pydata.org/pandas-docs/stable/indexing.html#indexing-view-versus-copy\n",
      "  self._update_inplace(new_data)\n"
     ]
    }
   ],
   "source": [
    "df.edad.replace((119,110,112,118,109,220,1024,1944,131), (37,37,37,37,37,37,37,37,37), inplace=True)"
   ]
  },
  {
   "cell_type": "code",
   "execution_count": 12,
   "id": "activated-overhead",
   "metadata": {},
   "outputs": [
    {
     "data": {
      "text/plain": [
       "120.0    182\n",
       "37.0      33\n",
       "108.0     10\n",
       "107.0      7\n",
       "106.0      6\n",
       "Name: edad, dtype: int64"
      ]
     },
     "execution_count": 12,
     "metadata": {},
     "output_type": "execute_result"
    }
   ],
   "source": [
    "df[\"edad\"].value_counts()"
   ]
  },
  {
   "cell_type": "code",
   "execution_count": null,
   "id": "experienced-conversation",
   "metadata": {},
   "outputs": [],
   "source": []
  },
  {
   "cell_type": "code",
   "execution_count": null,
   "id": "turned-logging",
   "metadata": {},
   "outputs": [],
   "source": []
  },
  {
   "cell_type": "code",
   "execution_count": 13,
   "id": "olive-oriental",
   "metadata": {},
   "outputs": [
    {
     "data": {
      "text/plain": [
       "Argentina               2369241\n",
       "SIN ESPECIFICAR           98590\n",
       "Paraguay                    112\n",
       "Bolivia                      96\n",
       "Brasil                       51\n",
       "Chile                        48\n",
       "Uruguay                      33\n",
       "Italia                       14\n",
       "Perú                         12\n",
       "Alemania                      9\n",
       "España                        9\n",
       "Francia                       8\n",
       "Venezuela                     7\n",
       "China                         5\n",
       "Australia                     3\n",
       "Reino Unido                   3\n",
       "EE.UU.                        3\n",
       "Malasia                       2\n",
       "Austria                       2\n",
       "Colombia                      2\n",
       "Ecuador                       2\n",
       "Irlanda                       1\n",
       "Panamá                        1\n",
       "Canadá                        1\n",
       "Bélgica                       1\n",
       "Filipinas                     1\n",
       "Portugal                      1\n",
       "Líbano                        1\n",
       "Países Bajos                  1\n",
       "Ucrania                       1\n",
       "Polonia                       1\n",
       "República Dominicana          1\n",
       "Name: residencia_pais_nombre, dtype: int64"
      ]
     },
     "execution_count": 13,
     "metadata": {},
     "output_type": "execute_result"
    }
   ],
   "source": [
    "data[\"residencia_pais_nombre\"].value_counts()"
   ]
  },
  {
   "cell_type": "code",
   "execution_count": 14,
   "id": "adolescent-longitude",
   "metadata": {},
   "outputs": [
    {
     "data": {
      "text/plain": [
       "2468263"
      ]
     },
     "execution_count": 14,
     "metadata": {},
     "output_type": "execute_result"
    }
   ],
   "source": [
    "len(data[\"edad\"])"
   ]
  },
  {
   "cell_type": "code",
   "execution_count": 15,
   "id": "democratic-swaziland",
   "metadata": {},
   "outputs": [
    {
     "data": {
      "text/plain": [
       "pandas.core.series.Series"
      ]
     },
     "execution_count": 15,
     "metadata": {},
     "output_type": "execute_result"
    }
   ],
   "source": [
    "type(data[\"edad\"])"
   ]
  },
  {
   "cell_type": "code",
   "execution_count": 16,
   "id": "dried-commerce",
   "metadata": {},
   "outputs": [
    {
     "data": {
      "text/plain": [
       "2468263"
      ]
     },
     "execution_count": 16,
     "metadata": {},
     "output_type": "execute_result"
    }
   ],
   "source": [
    "len(data[\"edad\"])"
   ]
  },
  {
   "cell_type": "code",
   "execution_count": 17,
   "id": "asian-richmond",
   "metadata": {},
   "outputs": [
    {
     "ename": "KeyError",
     "evalue": "2829",
     "output_type": "error",
     "traceback": [
      "\u001b[1;31m---------------------------------------------------------------------------\u001b[0m",
      "\u001b[1;31mKeyError\u001b[0m                                  Traceback (most recent call last)",
      "\u001b[1;32m<ipython-input-17-dd6c19e5b233>\u001b[0m in \u001b[0;36m<module>\u001b[1;34m\u001b[0m\n\u001b[0;32m      1\u001b[0m \u001b[0mcont\u001b[0m \u001b[1;33m=\u001b[0m \u001b[1;36m0\u001b[0m\u001b[1;33m\u001b[0m\u001b[0m\n\u001b[0;32m      2\u001b[0m \u001b[1;32mfor\u001b[0m \u001b[0mi\u001b[0m \u001b[1;32min\u001b[0m \u001b[0mrange\u001b[0m\u001b[1;33m(\u001b[0m\u001b[0mlen\u001b[0m\u001b[1;33m(\u001b[0m\u001b[0mdata\u001b[0m\u001b[1;33m[\u001b[0m\u001b[1;34m\"edad\"\u001b[0m\u001b[1;33m]\u001b[0m\u001b[1;33m)\u001b[0m\u001b[1;33m)\u001b[0m\u001b[1;33m:\u001b[0m\u001b[1;33m\u001b[0m\u001b[0m\n\u001b[1;32m----> 3\u001b[1;33m     \u001b[0ma\u001b[0m \u001b[1;33m=\u001b[0m \u001b[0mdata\u001b[0m\u001b[1;33m[\u001b[0m\u001b[1;34m\"edad\"\u001b[0m\u001b[1;33m]\u001b[0m\u001b[1;33m[\u001b[0m\u001b[0mi\u001b[0m\u001b[1;33m]\u001b[0m\u001b[1;33m\u001b[0m\u001b[0m\n\u001b[0m\u001b[0;32m      4\u001b[0m     \u001b[0mb\u001b[0m \u001b[1;33m=\u001b[0m \u001b[0mint\u001b[0m\u001b[1;33m(\u001b[0m\u001b[0mdata\u001b[0m\u001b[1;33m[\u001b[0m\u001b[1;34m\"edad\"\u001b[0m\u001b[1;33m]\u001b[0m\u001b[1;33m[\u001b[0m\u001b[0mi\u001b[0m\u001b[1;33m]\u001b[0m\u001b[1;33m)\u001b[0m\u001b[1;33m\u001b[0m\u001b[0m\n\u001b[0;32m      5\u001b[0m     \u001b[1;32mif\u001b[0m \u001b[1;33m(\u001b[0m\u001b[0ma\u001b[0m\u001b[1;33m-\u001b[0m\u001b[0mb\u001b[0m\u001b[1;33m)\u001b[0m \u001b[1;33m>\u001b[0m \u001b[1;36m0\u001b[0m\u001b[1;33m:\u001b[0m\u001b[1;33m\u001b[0m\u001b[0m\n",
      "\u001b[1;32m~\\.conda\\envs\\python-ml-2020\\lib\\site-packages\\pandas\\core\\series.py\u001b[0m in \u001b[0;36m__getitem__\u001b[1;34m(self, key)\u001b[0m\n\u001b[0;32m    765\u001b[0m         \u001b[0mkey\u001b[0m \u001b[1;33m=\u001b[0m \u001b[0mcom\u001b[0m\u001b[1;33m.\u001b[0m\u001b[0m_apply_if_callable\u001b[0m\u001b[1;33m(\u001b[0m\u001b[0mkey\u001b[0m\u001b[1;33m,\u001b[0m \u001b[0mself\u001b[0m\u001b[1;33m)\u001b[0m\u001b[1;33m\u001b[0m\u001b[0m\n\u001b[0;32m    766\u001b[0m         \u001b[1;32mtry\u001b[0m\u001b[1;33m:\u001b[0m\u001b[1;33m\u001b[0m\u001b[0m\n\u001b[1;32m--> 767\u001b[1;33m             \u001b[0mresult\u001b[0m \u001b[1;33m=\u001b[0m \u001b[0mself\u001b[0m\u001b[1;33m.\u001b[0m\u001b[0mindex\u001b[0m\u001b[1;33m.\u001b[0m\u001b[0mget_value\u001b[0m\u001b[1;33m(\u001b[0m\u001b[0mself\u001b[0m\u001b[1;33m,\u001b[0m \u001b[0mkey\u001b[0m\u001b[1;33m)\u001b[0m\u001b[1;33m\u001b[0m\u001b[0m\n\u001b[0m\u001b[0;32m    768\u001b[0m \u001b[1;33m\u001b[0m\u001b[0m\n\u001b[0;32m    769\u001b[0m             \u001b[1;32mif\u001b[0m \u001b[1;32mnot\u001b[0m \u001b[0mis_scalar\u001b[0m\u001b[1;33m(\u001b[0m\u001b[0mresult\u001b[0m\u001b[1;33m)\u001b[0m\u001b[1;33m:\u001b[0m\u001b[1;33m\u001b[0m\u001b[0m\n",
      "\u001b[1;32m~\\.conda\\envs\\python-ml-2020\\lib\\site-packages\\pandas\\core\\indexes\\base.py\u001b[0m in \u001b[0;36mget_value\u001b[1;34m(self, series, key)\u001b[0m\n\u001b[0;32m   3116\u001b[0m         \u001b[1;32mtry\u001b[0m\u001b[1;33m:\u001b[0m\u001b[1;33m\u001b[0m\u001b[0m\n\u001b[0;32m   3117\u001b[0m             return self._engine.get_value(s, k,\n\u001b[1;32m-> 3118\u001b[1;33m                                           tz=getattr(series.dtype, 'tz', None))\n\u001b[0m\u001b[0;32m   3119\u001b[0m         \u001b[1;32mexcept\u001b[0m \u001b[0mKeyError\u001b[0m \u001b[1;32mas\u001b[0m \u001b[0me1\u001b[0m\u001b[1;33m:\u001b[0m\u001b[1;33m\u001b[0m\u001b[0m\n\u001b[0;32m   3120\u001b[0m             \u001b[1;32mif\u001b[0m \u001b[0mlen\u001b[0m\u001b[1;33m(\u001b[0m\u001b[0mself\u001b[0m\u001b[1;33m)\u001b[0m \u001b[1;33m>\u001b[0m \u001b[1;36m0\u001b[0m \u001b[1;32mand\u001b[0m \u001b[0mself\u001b[0m\u001b[1;33m.\u001b[0m\u001b[0minferred_type\u001b[0m \u001b[1;32min\u001b[0m \u001b[1;33m[\u001b[0m\u001b[1;34m'integer'\u001b[0m\u001b[1;33m,\u001b[0m \u001b[1;34m'boolean'\u001b[0m\u001b[1;33m]\u001b[0m\u001b[1;33m:\u001b[0m\u001b[1;33m\u001b[0m\u001b[0m\n",
      "\u001b[1;32mpandas/_libs/index.pyx\u001b[0m in \u001b[0;36mpandas._libs.index.IndexEngine.get_value\u001b[1;34m()\u001b[0m\n",
      "\u001b[1;32mpandas/_libs/index.pyx\u001b[0m in \u001b[0;36mpandas._libs.index.IndexEngine.get_value\u001b[1;34m()\u001b[0m\n",
      "\u001b[1;32mpandas/_libs/index.pyx\u001b[0m in \u001b[0;36mpandas._libs.index.IndexEngine.get_loc\u001b[1;34m()\u001b[0m\n",
      "\u001b[1;31mKeyError\u001b[0m: 2829"
     ]
    }
   ],
   "source": [
    "cont = 0\n",
    "for i in range(len(data[\"edad\"])):\n",
    "    a = data[\"edad\"][i]\n",
    "    b = int(data[\"edad\"][i])\n",
    "    if (a-b) > 0:\n",
    "                            cont += 1\n",
    "cont                    "
   ]
  },
  {
   "cell_type": "code",
   "execution_count": null,
   "id": "eleven-insert",
   "metadata": {},
   "outputs": [],
   "source": [
    "print(cont)"
   ]
  },
  {
   "cell_type": "code",
   "execution_count": null,
   "id": "temporal-meditation",
   "metadata": {},
   "outputs": [],
   "source": [
    "for i in range(len(data[\"edad\"])):\n",
    "    (data[\"edad\"][i]) = int(data[\"edad\"][i])"
   ]
  },
  {
   "cell_type": "code",
   "execution_count": null,
   "id": "alpine-samba",
   "metadata": {},
   "outputs": [],
   "source": [
    "data.shape"
   ]
  },
  {
   "cell_type": "code",
   "execution_count": null,
   "id": "flexible-audit",
   "metadata": {},
   "outputs": [],
   "source": [
    "data.columns"
   ]
  },
  {
   "cell_type": "code",
   "execution_count": null,
   "id": "tender-bennett",
   "metadata": {},
   "outputs": [],
   "source": [
    "data.describe()"
   ]
  },
  {
   "cell_type": "code",
   "execution_count": null,
   "id": "global-domestic",
   "metadata": {},
   "outputs": [],
   "source": [
    "data.dtypes"
   ]
  },
  {
   "cell_type": "code",
   "execution_count": null,
   "id": "german-level",
   "metadata": {},
   "outputs": [],
   "source": [
    "data[\"sexo\"].unique()"
   ]
  },
  {
   "cell_type": "code",
   "execution_count": null,
   "id": "knowing-framing",
   "metadata": {},
   "outputs": [],
   "source": [
    "pd.isnull(data[\"sexo\"]).values.ravel().sum()"
   ]
  },
  {
   "cell_type": "code",
   "execution_count": null,
   "id": "exciting-track",
   "metadata": {},
   "outputs": [],
   "source": [
    "pd.isnull(data[\"fecha_diagnostico\"]).values.ravel().sum()"
   ]
  },
  {
   "cell_type": "code",
   "execution_count": null,
   "id": "amended-flash",
   "metadata": {},
   "outputs": [],
   "source": [
    "type(data[\"fecha_diagnostico\"][1])"
   ]
  },
  {
   "cell_type": "code",
   "execution_count": null,
   "id": "strange-calculation",
   "metadata": {},
   "outputs": [],
   "source": [
    "len(data[\"fecha_diagnostico\"])"
   ]
  },
  {
   "cell_type": "code",
   "execution_count": null,
   "id": "charitable-activity",
   "metadata": {},
   "outputs": [],
   "source": [
    "len(data[\"edad\"])"
   ]
  },
  {
   "cell_type": "code",
   "execution_count": null,
   "id": "exact-refrigerator",
   "metadata": {},
   "outputs": [],
   "source": [
    "datafechas = data"
   ]
  },
  {
   "cell_type": "code",
   "execution_count": null,
   "id": "agreed-trade",
   "metadata": {},
   "outputs": [],
   "source": [
    "datafechas[\"fecha_diagnostico\"] = datafechas[\"fecha_diagnostico\"].fillna(method=\"ffill\")"
   ]
  },
  {
   "cell_type": "code",
   "execution_count": null,
   "id": "palestinian-thread",
   "metadata": {},
   "outputs": [],
   "source": [
    "len(datafechas[\"fecha_diagnostico\"])"
   ]
  },
  {
   "cell_type": "code",
   "execution_count": null,
   "id": "smooth-haiti",
   "metadata": {},
   "outputs": [],
   "source": [
    "pd.isnull(datafechas[\"fecha_diagnostico\"]).values.ravel().sum()"
   ]
  },
  {
   "cell_type": "code",
   "execution_count": null,
   "id": "revolutionary-making",
   "metadata": {},
   "outputs": [],
   "source": [
    "datafechas[\"fecha_diagnostico\"]= pd.to_datetime(datafechas[\"fecha_diagnostico\"])"
   ]
  },
  {
   "cell_type": "code",
   "execution_count": null,
   "id": "aggressive-bottle",
   "metadata": {},
   "outputs": [],
   "source": [
    "datafechas.dtypes"
   ]
  },
  {
   "cell_type": "code",
   "execution_count": null,
   "id": "eight-economics",
   "metadata": {},
   "outputs": [],
   "source": [
    "type(datafechas[\"fecha_diagnostico\"][1])"
   ]
  },
  {
   "cell_type": "code",
   "execution_count": null,
   "id": "impossible-nation",
   "metadata": {},
   "outputs": [],
   "source": [
    "data[\"origen_financiamiento\"].value_counts()"
   ]
  },
  {
   "cell_type": "code",
   "execution_count": null,
   "id": "divided-appraisal",
   "metadata": {},
   "outputs": [],
   "source": [
    "plt.hist(data[\"origen_financiamiento\"])\n",
    "# k= int(np.ceil(1+np.log2(3333))) \n",
    "#3333 es la cantidad de filas que tiene el dataframe, \"Regla de Sturges\"\n",
    "#plt.hist(data[\"Day Calls\"], bins=1+lnp.log2(3333))\n",
    "plt.xlabel(\"Servicio\")\n",
    "plt.ylabel(\"Cantidad de pacientes\")\n",
    "plt.title(\"Histograma de distribucion de pacientes covid\")"
   ]
  },
  {
   "cell_type": "code",
   "execution_count": null,
   "id": "circular-singer",
   "metadata": {},
   "outputs": [],
   "source": [
    "plt.hist(data[\"edad\"], bins= 200)\n",
    "# k= int(np.ceil(1+np.log2(3333))) \n",
    "#3333 es la cantidad de filas que tiene el dataframe, \"Regla de Sturges\"\n",
    "#plt.hist(data[\"Day Calls\"], bins=1+lnp.log2(3333))\n",
    "plt.xlabel(\"Servicio\")\n",
    "plt.ylabel(\"Cantidad de pacientes\")\n",
    "plt.title(\"Histograma de distribucion de pacientes covid\")"
   ]
  },
  {
   "cell_type": "code",
   "execution_count": null,
   "id": "dietary-subdivision",
   "metadata": {},
   "outputs": [],
   "source": [
    "plt.boxplot(data[\"edad\"])\n",
    "plt.ylabel(\"Numero de llamadas Diarias\")\n",
    "plt.title(\"Boxplot de las llamadas diarias\")"
   ]
  },
  {
   "cell_type": "code",
   "execution_count": null,
   "id": "durable-cross",
   "metadata": {},
   "outputs": [],
   "source": [
    "data[\"edad\"].describe()"
   ]
  },
  {
   "cell_type": "code",
   "execution_count": null,
   "id": "behind-musical",
   "metadata": {},
   "outputs": [],
   "source": [
    "data[\"edad\"].mode()"
   ]
  },
  {
   "cell_type": "code",
   "execution_count": null,
   "id": "enormous-interface",
   "metadata": {},
   "outputs": [],
   "source": [
    "data[\"edad\"].value_counts()"
   ]
  },
  {
   "cell_type": "code",
   "execution_count": null,
   "id": "compact-classics",
   "metadata": {},
   "outputs": [],
   "source": []
  }
 ],
 "metadata": {
  "kernelspec": {
   "display_name": "Python 3",
   "language": "python",
   "name": "python3"
  },
  "language_info": {
   "codemirror_mode": {
    "name": "ipython",
    "version": 3
   },
   "file_extension": ".py",
   "mimetype": "text/x-python",
   "name": "python",
   "nbconvert_exporter": "python",
   "pygments_lexer": "ipython3",
   "version": "3.5.5"
  }
 },
 "nbformat": 4,
 "nbformat_minor": 5
}
