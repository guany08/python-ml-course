{
 "cells": [
  {
   "cell_type": "code",
   "execution_count": 85,
   "id": "played-stretch",
   "metadata": {},
   "outputs": [],
   "source": [
    "import pandas as pd\n",
    "import numpy as np\n",
    "import matplotlib.pyplot as plt\n",
    "import os"
   ]
  },
  {
   "cell_type": "code",
   "execution_count": 86,
   "id": "elegant-engineer",
   "metadata": {},
   "outputs": [],
   "source": [
    "mainpath = \"C:/Users/Guany/Documents/GitHub/python-ml-course/datasets/\"\n",
    "filename = \"covid/covid19.csv\"\n",
    "fullpath = os.path.join(mainpath,filename)"
   ]
  },
  {
   "cell_type": "code",
   "execution_count": 92,
   "id": "african-eleven",
   "metadata": {},
   "outputs": [],
   "source": [
    "data = pd.read_csv(fullpath)"
   ]
  },
  {
   "cell_type": "code",
   "execution_count": 93,
   "id": "spanish-intelligence",
   "metadata": {},
   "outputs": [
    {
     "data": {
      "text/html": [
       "<div>\n",
       "<style scoped>\n",
       "    .dataframe tbody tr th:only-of-type {\n",
       "        vertical-align: middle;\n",
       "    }\n",
       "\n",
       "    .dataframe tbody tr th {\n",
       "        vertical-align: top;\n",
       "    }\n",
       "\n",
       "    .dataframe thead th {\n",
       "        text-align: right;\n",
       "    }\n",
       "</style>\n",
       "<table border=\"1\" class=\"dataframe\">\n",
       "  <thead>\n",
       "    <tr style=\"text-align: right;\">\n",
       "      <th></th>\n",
       "      <th>id_evento_caso</th>\n",
       "      <th>sexo</th>\n",
       "      <th>edad</th>\n",
       "      <th>edad_años_meses</th>\n",
       "      <th>residencia_pais_nombre</th>\n",
       "      <th>residencia_provincia_nombre</th>\n",
       "      <th>residencia_departamento_nombre</th>\n",
       "      <th>carga_provincia_nombre</th>\n",
       "      <th>fecha_inicio_sintomas</th>\n",
       "      <th>fecha_apertura</th>\n",
       "      <th>...</th>\n",
       "      <th>fecha_fallecimiento</th>\n",
       "      <th>asistencia_respiratoria_mecanica</th>\n",
       "      <th>carga_provincia_id</th>\n",
       "      <th>origen_financiamiento</th>\n",
       "      <th>clasificacion</th>\n",
       "      <th>clasificacion_resumen</th>\n",
       "      <th>residencia_provincia_id</th>\n",
       "      <th>fecha_diagnostico</th>\n",
       "      <th>residencia_departamento_id</th>\n",
       "      <th>ultima_actualizacion</th>\n",
       "    </tr>\n",
       "  </thead>\n",
       "  <tbody>\n",
       "    <tr>\n",
       "      <th>0</th>\n",
       "      <td>1000000</td>\n",
       "      <td>M</td>\n",
       "      <td>53.0</td>\n",
       "      <td>Años</td>\n",
       "      <td>Argentina</td>\n",
       "      <td>CABA</td>\n",
       "      <td>SIN ESPECIFICAR</td>\n",
       "      <td>Buenos Aires</td>\n",
       "      <td>NaN</td>\n",
       "      <td>2020-06-01</td>\n",
       "      <td>...</td>\n",
       "      <td>NaN</td>\n",
       "      <td>NO</td>\n",
       "      <td>6</td>\n",
       "      <td>Privado</td>\n",
       "      <td>Caso Descartado</td>\n",
       "      <td>Descartado</td>\n",
       "      <td>2</td>\n",
       "      <td>2020-06-09</td>\n",
       "      <td>0</td>\n",
       "      <td>2020-10-19</td>\n",
       "    </tr>\n",
       "    <tr>\n",
       "      <th>1</th>\n",
       "      <td>1000002</td>\n",
       "      <td>M</td>\n",
       "      <td>21.0</td>\n",
       "      <td>Años</td>\n",
       "      <td>Argentina</td>\n",
       "      <td>Buenos Aires</td>\n",
       "      <td>La Matanza</td>\n",
       "      <td>Buenos Aires</td>\n",
       "      <td>NaN</td>\n",
       "      <td>2020-06-01</td>\n",
       "      <td>...</td>\n",
       "      <td>NaN</td>\n",
       "      <td>NO</td>\n",
       "      <td>6</td>\n",
       "      <td>Público</td>\n",
       "      <td>Caso Descartado</td>\n",
       "      <td>Descartado</td>\n",
       "      <td>6</td>\n",
       "      <td>2020-06-01</td>\n",
       "      <td>427</td>\n",
       "      <td>2020-10-19</td>\n",
       "    </tr>\n",
       "    <tr>\n",
       "      <th>2</th>\n",
       "      <td>1000003</td>\n",
       "      <td>F</td>\n",
       "      <td>40.0</td>\n",
       "      <td>Años</td>\n",
       "      <td>Argentina</td>\n",
       "      <td>Córdoba</td>\n",
       "      <td>Capital</td>\n",
       "      <td>Córdoba</td>\n",
       "      <td>2020-05-24</td>\n",
       "      <td>2020-06-01</td>\n",
       "      <td>...</td>\n",
       "      <td>NaN</td>\n",
       "      <td>NO</td>\n",
       "      <td>14</td>\n",
       "      <td>Privado</td>\n",
       "      <td>Caso Descartado</td>\n",
       "      <td>Descartado</td>\n",
       "      <td>14</td>\n",
       "      <td>2020-06-01</td>\n",
       "      <td>14</td>\n",
       "      <td>2020-10-19</td>\n",
       "    </tr>\n",
       "    <tr>\n",
       "      <th>3</th>\n",
       "      <td>1000005</td>\n",
       "      <td>F</td>\n",
       "      <td>58.0</td>\n",
       "      <td>Años</td>\n",
       "      <td>Argentina</td>\n",
       "      <td>Mendoza</td>\n",
       "      <td>Las Heras</td>\n",
       "      <td>Mendoza</td>\n",
       "      <td>NaN</td>\n",
       "      <td>2020-06-01</td>\n",
       "      <td>...</td>\n",
       "      <td>NaN</td>\n",
       "      <td>NO</td>\n",
       "      <td>50</td>\n",
       "      <td>Público</td>\n",
       "      <td>Caso Descartado</td>\n",
       "      <td>Descartado</td>\n",
       "      <td>50</td>\n",
       "      <td>2020-06-01</td>\n",
       "      <td>49</td>\n",
       "      <td>2020-10-19</td>\n",
       "    </tr>\n",
       "    <tr>\n",
       "      <th>4</th>\n",
       "      <td>1000006</td>\n",
       "      <td>M</td>\n",
       "      <td>28.0</td>\n",
       "      <td>Años</td>\n",
       "      <td>Argentina</td>\n",
       "      <td>Buenos Aires</td>\n",
       "      <td>Malvinas Argentinas</td>\n",
       "      <td>Buenos Aires</td>\n",
       "      <td>2020-05-30</td>\n",
       "      <td>2020-06-01</td>\n",
       "      <td>...</td>\n",
       "      <td>NaN</td>\n",
       "      <td>NO</td>\n",
       "      <td>6</td>\n",
       "      <td>Público</td>\n",
       "      <td>Caso sospechoso - Con muestra sin resultado co...</td>\n",
       "      <td>Sospechoso</td>\n",
       "      <td>6</td>\n",
       "      <td>NaN</td>\n",
       "      <td>515</td>\n",
       "      <td>2020-10-19</td>\n",
       "    </tr>\n",
       "  </tbody>\n",
       "</table>\n",
       "<p>5 rows × 25 columns</p>\n",
       "</div>"
      ],
      "text/plain": [
       "   id_evento_caso sexo  edad edad_años_meses residencia_pais_nombre  \\\n",
       "0         1000000    M  53.0            Años              Argentina   \n",
       "1         1000002    M  21.0            Años              Argentina   \n",
       "2         1000003    F  40.0            Años              Argentina   \n",
       "3         1000005    F  58.0            Años              Argentina   \n",
       "4         1000006    M  28.0            Años              Argentina   \n",
       "\n",
       "  residencia_provincia_nombre residencia_departamento_nombre  \\\n",
       "0                        CABA                SIN ESPECIFICAR   \n",
       "1                Buenos Aires                     La Matanza   \n",
       "2                     Córdoba                        Capital   \n",
       "3                     Mendoza                      Las Heras   \n",
       "4                Buenos Aires            Malvinas Argentinas   \n",
       "\n",
       "  carga_provincia_nombre fecha_inicio_sintomas fecha_apertura  \\\n",
       "0           Buenos Aires                   NaN     2020-06-01   \n",
       "1           Buenos Aires                   NaN     2020-06-01   \n",
       "2                Córdoba            2020-05-24     2020-06-01   \n",
       "3                Mendoza                   NaN     2020-06-01   \n",
       "4           Buenos Aires            2020-05-30     2020-06-01   \n",
       "\n",
       "          ...           fecha_fallecimiento asistencia_respiratoria_mecanica  \\\n",
       "0         ...                           NaN                               NO   \n",
       "1         ...                           NaN                               NO   \n",
       "2         ...                           NaN                               NO   \n",
       "3         ...                           NaN                               NO   \n",
       "4         ...                           NaN                               NO   \n",
       "\n",
       "  carga_provincia_id origen_financiamiento  \\\n",
       "0                  6               Privado   \n",
       "1                  6               Público   \n",
       "2                 14               Privado   \n",
       "3                 50               Público   \n",
       "4                  6               Público   \n",
       "\n",
       "                                       clasificacion clasificacion_resumen  \\\n",
       "0                                    Caso Descartado            Descartado   \n",
       "1                                    Caso Descartado            Descartado   \n",
       "2                                    Caso Descartado            Descartado   \n",
       "3                                    Caso Descartado            Descartado   \n",
       "4  Caso sospechoso - Con muestra sin resultado co...            Sospechoso   \n",
       "\n",
       "  residencia_provincia_id  fecha_diagnostico residencia_departamento_id  \\\n",
       "0                       2         2020-06-09                          0   \n",
       "1                       6         2020-06-01                        427   \n",
       "2                      14         2020-06-01                         14   \n",
       "3                      50         2020-06-01                         49   \n",
       "4                       6                NaN                        515   \n",
       "\n",
       "  ultima_actualizacion  \n",
       "0           2020-10-19  \n",
       "1           2020-10-19  \n",
       "2           2020-10-19  \n",
       "3           2020-10-19  \n",
       "4           2020-10-19  \n",
       "\n",
       "[5 rows x 25 columns]"
      ]
     },
     "execution_count": 93,
     "metadata": {},
     "output_type": "execute_result"
    }
   ],
   "source": [
    "data.head()"
   ]
  },
  {
   "cell_type": "code",
   "execution_count": 46,
   "id": "indie-gravity",
   "metadata": {},
   "outputs": [
    {
     "data": {
      "text/plain": [
       "array(['Años', 'Meses'], dtype=object)"
      ]
     },
     "execution_count": 46,
     "metadata": {},
     "output_type": "execute_result"
    }
   ],
   "source": [
    "data[\"edad_años_meses\"].unique()"
   ]
  },
  {
   "cell_type": "code",
   "execution_count": 72,
   "id": "direct-challenge",
   "metadata": {},
   "outputs": [
    {
     "data": {
      "text/plain": [
       "0"
      ]
     },
     "execution_count": 72,
     "metadata": {},
     "output_type": "execute_result"
    }
   ],
   "source": [
    "pd.isnull(data[\"edad\"]).values.ravel().sum()"
   ]
  },
  {
   "cell_type": "code",
   "execution_count": 71,
   "id": "danish-colonial",
   "metadata": {},
   "outputs": [],
   "source": [
    "data[\"edad\"] = data[\"edad\"].fillna(int(data[\"edad\"].mean()))"
   ]
  },
  {
   "cell_type": "code",
   "execution_count": 64,
   "id": "blessed-november",
   "metadata": {},
   "outputs": [
    {
     "ename": "TypeError",
     "evalue": "int() argument must be a string, a bytes-like object or a number, not 'method'",
     "output_type": "error",
     "traceback": [
      "\u001b[1;31m---------------------------------------------------------------------------\u001b[0m",
      "\u001b[1;31mTypeError\u001b[0m                                 Traceback (most recent call last)",
      "\u001b[1;32m<ipython-input-64-42942e1c9eef>\u001b[0m in \u001b[0;36m<module>\u001b[1;34m\u001b[0m\n\u001b[1;32m----> 1\u001b[1;33m \u001b[0mint\u001b[0m\u001b[1;33m(\u001b[0m\u001b[0mdata\u001b[0m\u001b[1;33m[\u001b[0m\u001b[1;34m\"edad\"\u001b[0m\u001b[1;33m]\u001b[0m\u001b[1;33m.\u001b[0m\u001b[0mmean\u001b[0m\u001b[1;33m)\u001b[0m\u001b[1;33m\u001b[0m\u001b[0m\n\u001b[0m",
      "\u001b[1;31mTypeError\u001b[0m: int() argument must be a string, a bytes-like object or a number, not 'method'"
     ]
    }
   ],
   "source": []
  },
  {
   "cell_type": "code",
   "execution_count": 48,
   "id": "elder-satisfaction",
   "metadata": {},
   "outputs": [
    {
     "data": {
      "text/plain": [
       "numpy.float64"
      ]
     },
     "execution_count": 48,
     "metadata": {},
     "output_type": "execute_result"
    }
   ],
   "source": [
    "type(data[\"edad\"])"
   ]
  },
  {
   "cell_type": "code",
   "execution_count": 55,
   "id": "professional-sentence",
   "metadata": {},
   "outputs": [
    {
     "data": {
      "text/plain": [
       "2468519"
      ]
     },
     "execution_count": 55,
     "metadata": {},
     "output_type": "execute_result"
    }
   ],
   "source": [
    "len(data[\"edad\"])"
   ]
  },
  {
   "cell_type": "code",
   "execution_count": 74,
   "id": "synthetic-lending",
   "metadata": {},
   "outputs": [
    {
     "data": {
      "text/plain": [
       "0"
      ]
     },
     "execution_count": 74,
     "metadata": {},
     "output_type": "execute_result"
    }
   ],
   "source": [
    "cont = 0\n",
    "for i in range(len(data[\"edad\"])):\n",
    "    a = data[\"edad\"][i]\n",
    "    b = int(data[\"edad\"][i])\n",
    "    if (a-b) > 0:\n",
    "                            cont += 1\n",
    "cont                    "
   ]
  },
  {
   "cell_type": "code",
   "execution_count": 75,
   "id": "dated-oregon",
   "metadata": {},
   "outputs": [
    {
     "name": "stdout",
     "output_type": "stream",
     "text": [
      "0\n"
     ]
    }
   ],
   "source": [
    "print(cont)"
   ]
  },
  {
   "cell_type": "code",
   "execution_count": null,
   "id": "welsh-copyright",
   "metadata": {},
   "outputs": [],
   "source": [
    "for i in range(len(data[\"edad\"])):\n",
    "    (data[\"edad\"][i]) = int(data[\"edad\"][i])"
   ]
  },
  {
   "cell_type": "code",
   "execution_count": 5,
   "id": "ancient-cement",
   "metadata": {},
   "outputs": [
    {
     "data": {
      "text/plain": [
       "(2468519, 25)"
      ]
     },
     "execution_count": 5,
     "metadata": {},
     "output_type": "execute_result"
    }
   ],
   "source": [
    "data.shape"
   ]
  },
  {
   "cell_type": "code",
   "execution_count": 6,
   "id": "received-authorization",
   "metadata": {},
   "outputs": [
    {
     "data": {
      "text/plain": [
       "Index(['id_evento_caso', 'sexo', 'edad', 'edad_años_meses',\n",
       "       'residencia_pais_nombre', 'residencia_provincia_nombre',\n",
       "       'residencia_departamento_nombre', 'carga_provincia_nombre',\n",
       "       'fecha_inicio_sintomas', 'fecha_apertura', 'sepi_apertura',\n",
       "       'fecha_internacion', 'cuidado_intensivo', 'fecha_cui_intensivo',\n",
       "       'fallecido', 'fecha_fallecimiento', 'asistencia_respiratoria_mecanica',\n",
       "       'carga_provincia_id', 'origen_financiamiento', 'clasificacion',\n",
       "       'clasificacion_resumen', 'residencia_provincia_id', 'fecha_diagnostico',\n",
       "       'residencia_departamento_id', 'ultima_actualizacion'],\n",
       "      dtype='object')"
      ]
     },
     "execution_count": 6,
     "metadata": {},
     "output_type": "execute_result"
    }
   ],
   "source": [
    "data.columns"
   ]
  },
  {
   "cell_type": "code",
   "execution_count": 39,
   "id": "documentary-assault",
   "metadata": {},
   "outputs": [
    {
     "data": {
      "text/html": [
       "<div>\n",
       "<style scoped>\n",
       "    .dataframe tbody tr th:only-of-type {\n",
       "        vertical-align: middle;\n",
       "    }\n",
       "\n",
       "    .dataframe tbody tr th {\n",
       "        vertical-align: top;\n",
       "    }\n",
       "\n",
       "    .dataframe thead th {\n",
       "        text-align: right;\n",
       "    }\n",
       "</style>\n",
       "<table border=\"1\" class=\"dataframe\">\n",
       "  <thead>\n",
       "    <tr style=\"text-align: right;\">\n",
       "      <th></th>\n",
       "      <th>id_evento_caso</th>\n",
       "      <th>edad</th>\n",
       "      <th>sepi_apertura</th>\n",
       "      <th>carga_provincia_id</th>\n",
       "      <th>residencia_provincia_id</th>\n",
       "      <th>residencia_departamento_id</th>\n",
       "    </tr>\n",
       "  </thead>\n",
       "  <tbody>\n",
       "    <tr>\n",
       "      <th>count</th>\n",
       "      <td>2.468519e+06</td>\n",
       "      <td>2.466226e+06</td>\n",
       "      <td>2.468519e+06</td>\n",
       "      <td>2.468519e+06</td>\n",
       "      <td>2.468519e+06</td>\n",
       "      <td>2.468519e+06</td>\n",
       "    </tr>\n",
       "    <tr>\n",
       "      <th>mean</th>\n",
       "      <td>2.225209e+06</td>\n",
       "      <td>3.964073e+01</td>\n",
       "      <td>3.435215e+01</td>\n",
       "      <td>2.090618e+01</td>\n",
       "      <td>2.165322e+01</td>\n",
       "      <td>2.431117e+02</td>\n",
       "    </tr>\n",
       "    <tr>\n",
       "      <th>std</th>\n",
       "      <td>7.906795e+05</td>\n",
       "      <td>1.882743e+01</td>\n",
       "      <td>6.324782e+00</td>\n",
       "      <td>2.827136e+01</td>\n",
       "      <td>2.830506e+01</td>\n",
       "      <td>2.650229e+02</td>\n",
       "    </tr>\n",
       "    <tr>\n",
       "      <th>min</th>\n",
       "      <td>6.720640e+05</td>\n",
       "      <td>0.000000e+00</td>\n",
       "      <td>5.000000e+00</td>\n",
       "      <td>2.000000e+00</td>\n",
       "      <td>2.000000e+00</td>\n",
       "      <td>0.000000e+00</td>\n",
       "    </tr>\n",
       "    <tr>\n",
       "      <th>25%</th>\n",
       "      <td>1.547910e+06</td>\n",
       "      <td>2.700000e+01</td>\n",
       "      <td>3.100000e+01</td>\n",
       "      <td>2.000000e+00</td>\n",
       "      <td>6.000000e+00</td>\n",
       "      <td>2.100000e+01</td>\n",
       "    </tr>\n",
       "    <tr>\n",
       "      <th>50%</th>\n",
       "      <td>2.242387e+06</td>\n",
       "      <td>3.700000e+01</td>\n",
       "      <td>3.600000e+01</td>\n",
       "      <td>6.000000e+00</td>\n",
       "      <td>6.000000e+00</td>\n",
       "      <td>9.100000e+01</td>\n",
       "    </tr>\n",
       "    <tr>\n",
       "      <th>75%</th>\n",
       "      <td>2.909662e+06</td>\n",
       "      <td>5.100000e+01</td>\n",
       "      <td>3.900000e+01</td>\n",
       "      <td>2.600000e+01</td>\n",
       "      <td>2.600000e+01</td>\n",
       "      <td>4.340000e+02</td>\n",
       "    </tr>\n",
       "    <tr>\n",
       "      <th>max</th>\n",
       "      <td>3.567796e+06</td>\n",
       "      <td>1.944000e+03</td>\n",
       "      <td>4.400000e+01</td>\n",
       "      <td>9.400000e+01</td>\n",
       "      <td>9.900000e+01</td>\n",
       "      <td>8.820000e+02</td>\n",
       "    </tr>\n",
       "  </tbody>\n",
       "</table>\n",
       "</div>"
      ],
      "text/plain": [
       "       id_evento_caso          edad  sepi_apertura  carga_provincia_id  \\\n",
       "count    2.468519e+06  2.466226e+06   2.468519e+06        2.468519e+06   \n",
       "mean     2.225209e+06  3.964073e+01   3.435215e+01        2.090618e+01   \n",
       "std      7.906795e+05  1.882743e+01   6.324782e+00        2.827136e+01   \n",
       "min      6.720640e+05  0.000000e+00   5.000000e+00        2.000000e+00   \n",
       "25%      1.547910e+06  2.700000e+01   3.100000e+01        2.000000e+00   \n",
       "50%      2.242387e+06  3.700000e+01   3.600000e+01        6.000000e+00   \n",
       "75%      2.909662e+06  5.100000e+01   3.900000e+01        2.600000e+01   \n",
       "max      3.567796e+06  1.944000e+03   4.400000e+01        9.400000e+01   \n",
       "\n",
       "       residencia_provincia_id  residencia_departamento_id  \n",
       "count             2.468519e+06                2.468519e+06  \n",
       "mean              2.165322e+01                2.431117e+02  \n",
       "std               2.830506e+01                2.650229e+02  \n",
       "min               2.000000e+00                0.000000e+00  \n",
       "25%               6.000000e+00                2.100000e+01  \n",
       "50%               6.000000e+00                9.100000e+01  \n",
       "75%               2.600000e+01                4.340000e+02  \n",
       "max               9.900000e+01                8.820000e+02  "
      ]
     },
     "execution_count": 39,
     "metadata": {},
     "output_type": "execute_result"
    }
   ],
   "source": [
    "data.describe()"
   ]
  },
  {
   "cell_type": "code",
   "execution_count": 10,
   "id": "communist-smith",
   "metadata": {},
   "outputs": [
    {
     "data": {
      "text/plain": [
       "id_evento_caso                        int64\n",
       "sexo                                 object\n",
       "edad                                float64\n",
       "edad_años_meses                      object\n",
       "residencia_pais_nombre               object\n",
       "residencia_provincia_nombre          object\n",
       "residencia_departamento_nombre       object\n",
       "carga_provincia_nombre               object\n",
       "fecha_inicio_sintomas                object\n",
       "fecha_apertura                       object\n",
       "sepi_apertura                         int64\n",
       "fecha_internacion                    object\n",
       "cuidado_intensivo                    object\n",
       "fecha_cui_intensivo                  object\n",
       "fallecido                            object\n",
       "fecha_fallecimiento                  object\n",
       "asistencia_respiratoria_mecanica     object\n",
       "carga_provincia_id                    int64\n",
       "origen_financiamiento                object\n",
       "clasificacion                        object\n",
       "clasificacion_resumen                object\n",
       "residencia_provincia_id               int64\n",
       "fecha_diagnostico                    object\n",
       "residencia_departamento_id            int64\n",
       "ultima_actualizacion                 object\n",
       "dtype: object"
      ]
     },
     "execution_count": 10,
     "metadata": {},
     "output_type": "execute_result"
    }
   ],
   "source": [
    "data.dtypes"
   ]
  },
  {
   "cell_type": "code",
   "execution_count": 14,
   "id": "authorized-istanbul",
   "metadata": {},
   "outputs": [
    {
     "data": {
      "text/plain": [
       "array(['M', 'F', 'NR'], dtype=object)"
      ]
     },
     "execution_count": 14,
     "metadata": {},
     "output_type": "execute_result"
    }
   ],
   "source": [
    "data[\"sexo\"].unique()"
   ]
  },
  {
   "cell_type": "code",
   "execution_count": 18,
   "id": "julian-chicago",
   "metadata": {},
   "outputs": [
    {
     "data": {
      "text/plain": [
       "0"
      ]
     },
     "execution_count": 18,
     "metadata": {},
     "output_type": "execute_result"
    }
   ],
   "source": [
    "pd.isnull(data[\"sexo\"]).values.ravel().sum()"
   ]
  },
  {
   "cell_type": "code",
   "execution_count": 19,
   "id": "disturbed-channel",
   "metadata": {},
   "outputs": [
    {
     "data": {
      "text/plain": [
       "358929"
      ]
     },
     "execution_count": 19,
     "metadata": {},
     "output_type": "execute_result"
    }
   ],
   "source": [
    "pd.isnull(data[\"fecha_diagnostico\"]).values.ravel().sum()"
   ]
  },
  {
   "cell_type": "code",
   "execution_count": 25,
   "id": "verbal-horizon",
   "metadata": {},
   "outputs": [
    {
     "data": {
      "text/plain": [
       "str"
      ]
     },
     "execution_count": 25,
     "metadata": {},
     "output_type": "execute_result"
    }
   ],
   "source": [
    "type(data[\"fecha_diagnostico\"][1])"
   ]
  },
  {
   "cell_type": "code",
   "execution_count": 26,
   "id": "improving-medicaid",
   "metadata": {},
   "outputs": [
    {
     "data": {
      "text/plain": [
       "2468519"
      ]
     },
     "execution_count": 26,
     "metadata": {},
     "output_type": "execute_result"
    }
   ],
   "source": [
    "len(data[\"fecha_diagnostico\"])"
   ]
  },
  {
   "cell_type": "code",
   "execution_count": 49,
   "id": "natural-medium",
   "metadata": {},
   "outputs": [
    {
     "data": {
      "text/plain": [
       "2468519"
      ]
     },
     "execution_count": 49,
     "metadata": {},
     "output_type": "execute_result"
    }
   ],
   "source": [
    "len(data[\"edad\"])"
   ]
  },
  {
   "cell_type": "code",
   "execution_count": 27,
   "id": "tamil-reward",
   "metadata": {},
   "outputs": [],
   "source": [
    "datafechas = data"
   ]
  },
  {
   "cell_type": "code",
   "execution_count": 31,
   "id": "sorted-collins",
   "metadata": {},
   "outputs": [],
   "source": [
    "datafechas[\"fecha_diagnostico\"] = datafechas[\"fecha_diagnostico\"].fillna(method=\"ffill\")"
   ]
  },
  {
   "cell_type": "code",
   "execution_count": 32,
   "id": "champion-analyst",
   "metadata": {},
   "outputs": [
    {
     "data": {
      "text/plain": [
       "2468519"
      ]
     },
     "execution_count": 32,
     "metadata": {},
     "output_type": "execute_result"
    }
   ],
   "source": [
    "len(datafechas[\"fecha_diagnostico\"])"
   ]
  },
  {
   "cell_type": "code",
   "execution_count": 45,
   "id": "corporate-brain",
   "metadata": {},
   "outputs": [
    {
     "data": {
      "text/plain": [
       "0"
      ]
     },
     "execution_count": 45,
     "metadata": {},
     "output_type": "execute_result"
    }
   ],
   "source": [
    "pd.isnull(datafechas[\"fecha_diagnostico\"]).values.ravel().sum()"
   ]
  },
  {
   "cell_type": "code",
   "execution_count": 42,
   "id": "fitting-mainstream",
   "metadata": {},
   "outputs": [],
   "source": [
    "datafechas[\"fecha_diagnostico\"]= pd.to_datetime(datafechas[\"fecha_diagnostico\"])"
   ]
  },
  {
   "cell_type": "code",
   "execution_count": 43,
   "id": "dying-sheep",
   "metadata": {},
   "outputs": [
    {
     "data": {
      "text/plain": [
       "id_evento_caso                               int64\n",
       "sexo                                        object\n",
       "edad                                       float64\n",
       "edad_años_meses                             object\n",
       "residencia_pais_nombre                      object\n",
       "residencia_provincia_nombre                 object\n",
       "residencia_departamento_nombre              object\n",
       "carga_provincia_nombre                      object\n",
       "fecha_inicio_sintomas                       object\n",
       "fecha_apertura                              object\n",
       "sepi_apertura                                int64\n",
       "fecha_internacion                           object\n",
       "cuidado_intensivo                           object\n",
       "fecha_cui_intensivo                         object\n",
       "fallecido                                   object\n",
       "fecha_fallecimiento                         object\n",
       "asistencia_respiratoria_mecanica            object\n",
       "carga_provincia_id                           int64\n",
       "origen_financiamiento                       object\n",
       "clasificacion                               object\n",
       "clasificacion_resumen                       object\n",
       "residencia_provincia_id                      int64\n",
       "fecha_diagnostico                   datetime64[ns]\n",
       "residencia_departamento_id                   int64\n",
       "ultima_actualizacion                        object\n",
       "dtype: object"
      ]
     },
     "execution_count": 43,
     "metadata": {},
     "output_type": "execute_result"
    }
   ],
   "source": [
    "datafechas.dtypes"
   ]
  },
  {
   "cell_type": "code",
   "execution_count": 44,
   "id": "compatible-indonesian",
   "metadata": {},
   "outputs": [
    {
     "data": {
      "text/plain": [
       "pandas._libs.tslibs.timestamps.Timestamp"
      ]
     },
     "execution_count": 44,
     "metadata": {},
     "output_type": "execute_result"
    }
   ],
   "source": [
    "type(datafechas[\"fecha_diagnostico\"][1])"
   ]
  },
  {
   "cell_type": "code",
   "execution_count": null,
   "id": "average-shakespeare",
   "metadata": {},
   "outputs": [],
   "source": []
  }
 ],
 "metadata": {
  "kernelspec": {
   "display_name": "Python 3",
   "language": "python",
   "name": "python3"
  },
  "language_info": {
   "codemirror_mode": {
    "name": "ipython",
    "version": 3
   },
   "file_extension": ".py",
   "mimetype": "text/x-python",
   "name": "python",
   "nbconvert_exporter": "python",
   "pygments_lexer": "ipython3",
   "version": "3.5.5"
  }
 },
 "nbformat": 4,
 "nbformat_minor": 5
}
