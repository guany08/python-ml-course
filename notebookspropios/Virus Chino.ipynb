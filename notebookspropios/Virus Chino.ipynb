{
 "cells": [
  {
   "cell_type": "markdown",
   "metadata": {},
   "source": [
    "# Virus Chino"
   ]
  },
  {
   "cell_type": "code",
   "execution_count": 1,
   "metadata": {},
   "outputs": [],
   "source": [
    "import pandas as pd\n",
    "import matplotlib.pyplot as plt\n",
    "import os\n",
    "import numpy as np"
   ]
  },
  {
   "cell_type": "code",
   "execution_count": 2,
   "metadata": {},
   "outputs": [],
   "source": [
    "mainpath = \"C:/Users/Guany/Documents/\"\n",
    "filename = \"Covid19casos.csv\"\n",
    "fullpath = os.path.join(mainpath, filename)"
   ]
  },
  {
   "cell_type": "code",
   "execution_count": 3,
   "metadata": {},
   "outputs": [
    {
     "data": {
      "text/html": [
       "<div>\n",
       "<style scoped>\n",
       "    .dataframe tbody tr th:only-of-type {\n",
       "        vertical-align: middle;\n",
       "    }\n",
       "\n",
       "    .dataframe tbody tr th {\n",
       "        vertical-align: top;\n",
       "    }\n",
       "\n",
       "    .dataframe thead th {\n",
       "        text-align: right;\n",
       "    }\n",
       "</style>\n",
       "<table border=\"1\" class=\"dataframe\">\n",
       "  <thead>\n",
       "    <tr style=\"text-align: right;\">\n",
       "      <th></th>\n",
       "      <th>id_evento_caso</th>\n",
       "      <th>sexo</th>\n",
       "      <th>edad</th>\n",
       "      <th>edad_años_meses</th>\n",
       "      <th>residencia_pais_nombre</th>\n",
       "      <th>residencia_provincia_nombre</th>\n",
       "      <th>residencia_departamento_nombre</th>\n",
       "      <th>carga_provincia_nombre</th>\n",
       "      <th>fecha_inicio_sintomas</th>\n",
       "      <th>fecha_apertura</th>\n",
       "      <th>...</th>\n",
       "      <th>fecha_fallecimiento</th>\n",
       "      <th>asistencia_respiratoria_mecanica</th>\n",
       "      <th>carga_provincia_id</th>\n",
       "      <th>origen_financiamiento</th>\n",
       "      <th>clasificacion</th>\n",
       "      <th>clasificacion_resumen</th>\n",
       "      <th>residencia_provincia_id</th>\n",
       "      <th>fecha_diagnostico</th>\n",
       "      <th>residencia_departamento_id</th>\n",
       "      <th>ultima_actualizacion</th>\n",
       "    </tr>\n",
       "  </thead>\n",
       "  <tbody>\n",
       "    <tr>\n",
       "      <th>0</th>\n",
       "      <td>1000000</td>\n",
       "      <td>M</td>\n",
       "      <td>54.0</td>\n",
       "      <td>Años</td>\n",
       "      <td>Argentina</td>\n",
       "      <td>CABA</td>\n",
       "      <td>SIN ESPECIFICAR</td>\n",
       "      <td>Buenos Aires</td>\n",
       "      <td>NaN</td>\n",
       "      <td>2020-06-01</td>\n",
       "      <td>...</td>\n",
       "      <td>NaN</td>\n",
       "      <td>NO</td>\n",
       "      <td>6</td>\n",
       "      <td>Privado</td>\n",
       "      <td>Caso Descartado</td>\n",
       "      <td>Descartado</td>\n",
       "      <td>2</td>\n",
       "      <td>2020-06-09</td>\n",
       "      <td>0</td>\n",
       "      <td>2021-04-14</td>\n",
       "    </tr>\n",
       "    <tr>\n",
       "      <th>1</th>\n",
       "      <td>10000000</td>\n",
       "      <td>F</td>\n",
       "      <td>52.0</td>\n",
       "      <td>Años</td>\n",
       "      <td>Argentina</td>\n",
       "      <td>CABA</td>\n",
       "      <td>SIN ESPECIFICAR</td>\n",
       "      <td>CABA</td>\n",
       "      <td>NaN</td>\n",
       "      <td>2021-04-08</td>\n",
       "      <td>...</td>\n",
       "      <td>NaN</td>\n",
       "      <td>NO</td>\n",
       "      <td>2</td>\n",
       "      <td>Público</td>\n",
       "      <td>Caso Descartado</td>\n",
       "      <td>Descartado</td>\n",
       "      <td>2</td>\n",
       "      <td>2021-04-08</td>\n",
       "      <td>0</td>\n",
       "      <td>2021-04-14</td>\n",
       "    </tr>\n",
       "    <tr>\n",
       "      <th>2</th>\n",
       "      <td>10000001</td>\n",
       "      <td>F</td>\n",
       "      <td>22.0</td>\n",
       "      <td>Años</td>\n",
       "      <td>Argentina</td>\n",
       "      <td>Buenos Aires</td>\n",
       "      <td>Lomas de Zamora</td>\n",
       "      <td>Buenos Aires</td>\n",
       "      <td>2021-04-05</td>\n",
       "      <td>2021-04-08</td>\n",
       "      <td>...</td>\n",
       "      <td>NaN</td>\n",
       "      <td>NO</td>\n",
       "      <td>6</td>\n",
       "      <td>Público</td>\n",
       "      <td>Caso Descartado</td>\n",
       "      <td>Descartado</td>\n",
       "      <td>6</td>\n",
       "      <td>2021-04-08</td>\n",
       "      <td>490</td>\n",
       "      <td>2021-04-14</td>\n",
       "    </tr>\n",
       "    <tr>\n",
       "      <th>3</th>\n",
       "      <td>10000002</td>\n",
       "      <td>F</td>\n",
       "      <td>43.0</td>\n",
       "      <td>Años</td>\n",
       "      <td>Argentina</td>\n",
       "      <td>Buenos Aires</td>\n",
       "      <td>La Matanza</td>\n",
       "      <td>CABA</td>\n",
       "      <td>NaN</td>\n",
       "      <td>2021-04-08</td>\n",
       "      <td>...</td>\n",
       "      <td>NaN</td>\n",
       "      <td>NO</td>\n",
       "      <td>2</td>\n",
       "      <td>Público</td>\n",
       "      <td>Caso Descartado</td>\n",
       "      <td>Descartado</td>\n",
       "      <td>6</td>\n",
       "      <td>2021-04-06</td>\n",
       "      <td>427</td>\n",
       "      <td>2021-04-14</td>\n",
       "    </tr>\n",
       "    <tr>\n",
       "      <th>4</th>\n",
       "      <td>10000003</td>\n",
       "      <td>F</td>\n",
       "      <td>33.0</td>\n",
       "      <td>Años</td>\n",
       "      <td>Argentina</td>\n",
       "      <td>CABA</td>\n",
       "      <td>COMUNA 01</td>\n",
       "      <td>CABA</td>\n",
       "      <td>NaN</td>\n",
       "      <td>2021-04-08</td>\n",
       "      <td>...</td>\n",
       "      <td>NaN</td>\n",
       "      <td>NO</td>\n",
       "      <td>2</td>\n",
       "      <td>Público</td>\n",
       "      <td>Caso Descartado</td>\n",
       "      <td>Descartado</td>\n",
       "      <td>2</td>\n",
       "      <td>2021-04-08</td>\n",
       "      <td>1</td>\n",
       "      <td>2021-04-14</td>\n",
       "    </tr>\n",
       "  </tbody>\n",
       "</table>\n",
       "<p>5 rows × 25 columns</p>\n",
       "</div>"
      ],
      "text/plain": [
       "   id_evento_caso sexo  edad edad_años_meses residencia_pais_nombre  \\\n",
       "0         1000000    M  54.0            Años              Argentina   \n",
       "1        10000000    F  52.0            Años              Argentina   \n",
       "2        10000001    F  22.0            Años              Argentina   \n",
       "3        10000002    F  43.0            Años              Argentina   \n",
       "4        10000003    F  33.0            Años              Argentina   \n",
       "\n",
       "  residencia_provincia_nombre residencia_departamento_nombre  \\\n",
       "0                        CABA                SIN ESPECIFICAR   \n",
       "1                        CABA                SIN ESPECIFICAR   \n",
       "2                Buenos Aires                Lomas de Zamora   \n",
       "3                Buenos Aires                     La Matanza   \n",
       "4                        CABA                      COMUNA 01   \n",
       "\n",
       "  carga_provincia_nombre fecha_inicio_sintomas fecha_apertura  \\\n",
       "0           Buenos Aires                   NaN     2020-06-01   \n",
       "1                   CABA                   NaN     2021-04-08   \n",
       "2           Buenos Aires            2021-04-05     2021-04-08   \n",
       "3                   CABA                   NaN     2021-04-08   \n",
       "4                   CABA                   NaN     2021-04-08   \n",
       "\n",
       "          ...           fecha_fallecimiento asistencia_respiratoria_mecanica  \\\n",
       "0         ...                           NaN                               NO   \n",
       "1         ...                           NaN                               NO   \n",
       "2         ...                           NaN                               NO   \n",
       "3         ...                           NaN                               NO   \n",
       "4         ...                           NaN                               NO   \n",
       "\n",
       "  carga_provincia_id origen_financiamiento    clasificacion  \\\n",
       "0                  6               Privado  Caso Descartado   \n",
       "1                  2               Público  Caso Descartado   \n",
       "2                  6               Público  Caso Descartado   \n",
       "3                  2               Público  Caso Descartado   \n",
       "4                  2               Público  Caso Descartado   \n",
       "\n",
       "  clasificacion_resumen residencia_provincia_id  fecha_diagnostico  \\\n",
       "0            Descartado                       2         2020-06-09   \n",
       "1            Descartado                       2         2021-04-08   \n",
       "2            Descartado                       6         2021-04-08   \n",
       "3            Descartado                       6         2021-04-06   \n",
       "4            Descartado                       2         2021-04-08   \n",
       "\n",
       "  residencia_departamento_id ultima_actualizacion  \n",
       "0                          0           2021-04-14  \n",
       "1                          0           2021-04-14  \n",
       "2                        490           2021-04-14  \n",
       "3                        427           2021-04-14  \n",
       "4                          1           2021-04-14  \n",
       "\n",
       "[5 rows x 25 columns]"
      ]
     },
     "execution_count": 3,
     "metadata": {},
     "output_type": "execute_result"
    }
   ],
   "source": [
    "VC = pd.read_csv(fullpath)\n",
    "VC.head()"
   ]
  },
  {
   "cell_type": "code",
   "execution_count": 4,
   "metadata": {},
   "outputs": [
    {
     "data": {
      "text/html": [
       "<div>\n",
       "<style scoped>\n",
       "    .dataframe tbody tr th:only-of-type {\n",
       "        vertical-align: middle;\n",
       "    }\n",
       "\n",
       "    .dataframe tbody tr th {\n",
       "        vertical-align: top;\n",
       "    }\n",
       "\n",
       "    .dataframe thead th {\n",
       "        text-align: right;\n",
       "    }\n",
       "</style>\n",
       "<table border=\"1\" class=\"dataframe\">\n",
       "  <thead>\n",
       "    <tr style=\"text-align: right;\">\n",
       "      <th></th>\n",
       "      <th>id_evento_caso</th>\n",
       "      <th>edad</th>\n",
       "      <th>sepi_apertura</th>\n",
       "      <th>carga_provincia_id</th>\n",
       "      <th>residencia_provincia_id</th>\n",
       "      <th>residencia_departamento_id</th>\n",
       "    </tr>\n",
       "  </thead>\n",
       "  <tbody>\n",
       "    <tr>\n",
       "      <th>count</th>\n",
       "      <td>8.886341e+06</td>\n",
       "      <td>8.881943e+06</td>\n",
       "      <td>8.886341e+06</td>\n",
       "      <td>8.886341e+06</td>\n",
       "      <td>8.886341e+06</td>\n",
       "      <td>8.886341e+06</td>\n",
       "    </tr>\n",
       "    <tr>\n",
       "      <th>mean</th>\n",
       "      <td>5.674687e+06</td>\n",
       "      <td>3.922342e+01</td>\n",
       "      <td>2.492398e+01</td>\n",
       "      <td>2.302155e+01</td>\n",
       "      <td>2.431863e+01</td>\n",
       "      <td>1.902954e+02</td>\n",
       "    </tr>\n",
       "    <tr>\n",
       "      <th>std</th>\n",
       "      <td>2.751637e+06</td>\n",
       "      <td>1.822966e+01</td>\n",
       "      <td>1.764345e+01</td>\n",
       "      <td>2.916831e+01</td>\n",
       "      <td>2.943504e+01</td>\n",
       "      <td>2.483391e+02</td>\n",
       "    </tr>\n",
       "    <tr>\n",
       "      <th>min</th>\n",
       "      <td>6.720640e+05</td>\n",
       "      <td>-1.800000e+01</td>\n",
       "      <td>1.000000e+00</td>\n",
       "      <td>2.000000e+00</td>\n",
       "      <td>2.000000e+00</td>\n",
       "      <td>0.000000e+00</td>\n",
       "    </tr>\n",
       "    <tr>\n",
       "      <th>25%</th>\n",
       "      <td>3.305923e+06</td>\n",
       "      <td>2.600000e+01</td>\n",
       "      <td>8.000000e+00</td>\n",
       "      <td>2.000000e+00</td>\n",
       "      <td>6.000000e+00</td>\n",
       "      <td>1.400000e+01</td>\n",
       "    </tr>\n",
       "    <tr>\n",
       "      <th>50%</th>\n",
       "      <td>5.687366e+06</td>\n",
       "      <td>3.700000e+01</td>\n",
       "      <td>2.200000e+01</td>\n",
       "      <td>6.000000e+00</td>\n",
       "      <td>6.000000e+00</td>\n",
       "      <td>6.300000e+01</td>\n",
       "    </tr>\n",
       "    <tr>\n",
       "      <th>75%</th>\n",
       "      <td>8.052576e+06</td>\n",
       "      <td>5.100000e+01</td>\n",
       "      <td>4.200000e+01</td>\n",
       "      <td>3.400000e+01</td>\n",
       "      <td>3.800000e+01</td>\n",
       "      <td>3.710000e+02</td>\n",
       "    </tr>\n",
       "    <tr>\n",
       "      <th>max</th>\n",
       "      <td>1.040870e+07</td>\n",
       "      <td>2.210000e+02</td>\n",
       "      <td>5.300000e+01</td>\n",
       "      <td>9.400000e+01</td>\n",
       "      <td>9.900000e+01</td>\n",
       "      <td>8.820000e+02</td>\n",
       "    </tr>\n",
       "  </tbody>\n",
       "</table>\n",
       "</div>"
      ],
      "text/plain": [
       "       id_evento_caso          edad  sepi_apertura  carga_provincia_id  \\\n",
       "count    8.886341e+06  8.881943e+06   8.886341e+06        8.886341e+06   \n",
       "mean     5.674687e+06  3.922342e+01   2.492398e+01        2.302155e+01   \n",
       "std      2.751637e+06  1.822966e+01   1.764345e+01        2.916831e+01   \n",
       "min      6.720640e+05 -1.800000e+01   1.000000e+00        2.000000e+00   \n",
       "25%      3.305923e+06  2.600000e+01   8.000000e+00        2.000000e+00   \n",
       "50%      5.687366e+06  3.700000e+01   2.200000e+01        6.000000e+00   \n",
       "75%      8.052576e+06  5.100000e+01   4.200000e+01        3.400000e+01   \n",
       "max      1.040870e+07  2.210000e+02   5.300000e+01        9.400000e+01   \n",
       "\n",
       "       residencia_provincia_id  residencia_departamento_id  \n",
       "count             8.886341e+06                8.886341e+06  \n",
       "mean              2.431863e+01                1.902954e+02  \n",
       "std               2.943504e+01                2.483391e+02  \n",
       "min               2.000000e+00                0.000000e+00  \n",
       "25%               6.000000e+00                1.400000e+01  \n",
       "50%               6.000000e+00                6.300000e+01  \n",
       "75%               3.800000e+01                3.710000e+02  \n",
       "max               9.900000e+01                8.820000e+02  "
      ]
     },
     "execution_count": 4,
     "metadata": {},
     "output_type": "execute_result"
    }
   ],
   "source": [
    "VC.describe()"
   ]
  },
  {
   "cell_type": "code",
   "execution_count": 5,
   "metadata": {},
   "outputs": [
    {
     "data": {
      "text/plain": [
       "0"
      ]
     },
     "execution_count": 5,
     "metadata": {},
     "output_type": "execute_result"
    }
   ],
   "source": [
    "pd.isnull(VC[\"edad_años_meses\"]).values.ravel().sum()"
   ]
  },
  {
   "cell_type": "code",
   "execution_count": 6,
   "metadata": {},
   "outputs": [],
   "source": [
    "VC[\"fecha_diagnostico\"] = pd.to_datetime(VC[\"fecha_diagnostico\"])"
   ]
  },
  {
   "cell_type": "code",
   "execution_count": 7,
   "metadata": {},
   "outputs": [
    {
     "data": {
      "text/plain": [
       "4398"
      ]
     },
     "execution_count": 7,
     "metadata": {},
     "output_type": "execute_result"
    }
   ],
   "source": [
    "pd.isnull(VC[\"edad\"]).values.ravel().sum()"
   ]
  },
  {
   "cell_type": "code",
   "execution_count": 8,
   "metadata": {},
   "outputs": [
    {
     "data": {
      "text/plain": [
       "39.22341980803074"
      ]
     },
     "execution_count": 8,
     "metadata": {},
     "output_type": "execute_result"
    }
   ],
   "source": [
    "VC[\"edad\"].mean()"
   ]
  },
  {
   "cell_type": "code",
   "execution_count": 9,
   "metadata": {},
   "outputs": [
    {
     "data": {
      "text/plain": [
       "count    8.881943e+06\n",
       "mean     3.922342e+01\n",
       "std      1.822966e+01\n",
       "min     -1.800000e+01\n",
       "25%      2.600000e+01\n",
       "50%      3.700000e+01\n",
       "75%      5.100000e+01\n",
       "max      2.210000e+02\n",
       "Name: edad, dtype: float64"
      ]
     },
     "execution_count": 9,
     "metadata": {},
     "output_type": "execute_result"
    }
   ],
   "source": [
    "VC[\"edad\"].describe()"
   ]
  },
  {
   "cell_type": "code",
   "execution_count": 10,
   "metadata": {},
   "outputs": [
    {
     "data": {
      "text/plain": [
       "id_evento_caso                                 10000699\n",
       "sexo                                                  M\n",
       "edad                                                 36\n",
       "edad_años_meses                                    Años\n",
       "residencia_pais_nombre                        Argentina\n",
       "residencia_provincia_nombre                Buenos Aires\n",
       "residencia_departamento_nombre          Almirante Brown\n",
       "carga_provincia_nombre                             CABA\n",
       "fecha_inicio_sintomas                               NaN\n",
       "fecha_apertura                               2021-04-08\n",
       "sepi_apertura                                        14\n",
       "fecha_internacion                                   NaN\n",
       "cuidado_intensivo                                    NO\n",
       "fecha_cui_intensivo                                 NaN\n",
       "fallecido                                            NO\n",
       "fecha_fallecimiento                                 NaN\n",
       "asistencia_respiratoria_mecanica                     NO\n",
       "carga_provincia_id                                    2\n",
       "origen_financiamiento                           Público\n",
       "clasificacion                           Caso Descartado\n",
       "clasificacion_resumen                        Descartado\n",
       "residencia_provincia_id                               6\n",
       "fecha_diagnostico                   2021-04-06 00:00:00\n",
       "residencia_departamento_id                           28\n",
       "ultima_actualizacion                         2021-04-14\n",
       "Name: 737, dtype: object"
      ]
     },
     "execution_count": 10,
     "metadata": {},
     "output_type": "execute_result"
    }
   ],
   "source": [
    "VC.loc[737]"
   ]
  },
  {
   "cell_type": "code",
   "execution_count": 11,
   "metadata": {},
   "outputs": [],
   "source": [
    "VC.loc[VC['edad_años_meses'] == \"Meses\", [\"edad\"]] = 0\n",
    "VC.loc[VC['edad_años_meses'] == \"Meses\",  ['edad_años_meses']]= \"Años\"\n",
    "VC = VC.drop(VC[VC['edad_años_meses'] == 39].index)\n",
    "VC = VC.drop(VC[VC['sexo'] == 39].index)"
   ]
  },
  {
   "cell_type": "code",
   "execution_count": 12,
   "metadata": {},
   "outputs": [
    {
     "data": {
      "text/plain": [
       "F     4573269\n",
       "M     4216662\n",
       "NR      96410\n",
       "Name: sexo, dtype: int64"
      ]
     },
     "execution_count": 12,
     "metadata": {},
     "output_type": "execute_result"
    }
   ],
   "source": [
    "VC['sexo'].value_counts()"
   ]
  },
  {
   "cell_type": "code",
   "execution_count": 13,
   "metadata": {},
   "outputs": [
    {
     "data": {
      "text/plain": [
       "4398"
      ]
     },
     "execution_count": 13,
     "metadata": {},
     "output_type": "execute_result"
    }
   ],
   "source": [
    "pd.isnull(VC[\"edad\"]).values.ravel().sum()"
   ]
  },
  {
   "cell_type": "code",
   "execution_count": 14,
   "metadata": {},
   "outputs": [],
   "source": [
    "VC[\"edad\"] = VC[\"edad\"].fillna(int(VC[\"edad\"].mean()))"
   ]
  },
  {
   "cell_type": "code",
   "execution_count": 15,
   "metadata": {},
   "outputs": [],
   "source": [
    "#VC[VC['edad'] >= 105] = int(VC[\"edad\"].mean())\n",
    "#VC[VC['edad'] < 0] = int(VC[\"edad\"].mean())\n",
    "VC.loc[VC['edad']  > 105, [\"edad\"]] = int(VC[\"edad\"].mean())\n",
    "VC.loc[VC['edad'] < 0 ,  ['edad']]= int(VC[\"edad\"].mean())"
   ]
  },
  {
   "cell_type": "code",
   "execution_count": 16,
   "metadata": {},
   "outputs": [
    {
     "data": {
      "text/plain": [
       "39.19720996527142"
      ]
     },
     "execution_count": 16,
     "metadata": {},
     "output_type": "execute_result"
    }
   ],
   "source": [
    "VC[\"edad\"].mean()"
   ]
  },
  {
   "cell_type": "code",
   "execution_count": 17,
   "metadata": {},
   "outputs": [
    {
     "data": {
      "text/plain": [
       "Años    8886341\n",
       "Name: edad_años_meses, dtype: int64"
      ]
     },
     "execution_count": 17,
     "metadata": {},
     "output_type": "execute_result"
    }
   ],
   "source": [
    "VC[\"edad_años_meses\"].value_counts()"
   ]
  },
  {
   "cell_type": "code",
   "execution_count": 18,
   "metadata": {},
   "outputs": [
    {
     "data": {
      "text/html": [
       "<div>\n",
       "<style scoped>\n",
       "    .dataframe tbody tr th:only-of-type {\n",
       "        vertical-align: middle;\n",
       "    }\n",
       "\n",
       "    .dataframe tbody tr th {\n",
       "        vertical-align: top;\n",
       "    }\n",
       "\n",
       "    .dataframe thead th {\n",
       "        text-align: right;\n",
       "    }\n",
       "</style>\n",
       "<table border=\"1\" class=\"dataframe\">\n",
       "  <thead>\n",
       "    <tr style=\"text-align: right;\">\n",
       "      <th></th>\n",
       "      <th>id_evento_caso</th>\n",
       "      <th>sexo</th>\n",
       "      <th>edad</th>\n",
       "      <th>edad_años_meses</th>\n",
       "      <th>residencia_pais_nombre</th>\n",
       "      <th>residencia_provincia_nombre</th>\n",
       "      <th>residencia_departamento_nombre</th>\n",
       "      <th>carga_provincia_nombre</th>\n",
       "      <th>fecha_inicio_sintomas</th>\n",
       "      <th>fecha_apertura</th>\n",
       "      <th>...</th>\n",
       "      <th>fecha_fallecimiento</th>\n",
       "      <th>asistencia_respiratoria_mecanica</th>\n",
       "      <th>carga_provincia_id</th>\n",
       "      <th>origen_financiamiento</th>\n",
       "      <th>clasificacion</th>\n",
       "      <th>clasificacion_resumen</th>\n",
       "      <th>residencia_provincia_id</th>\n",
       "      <th>fecha_diagnostico</th>\n",
       "      <th>residencia_departamento_id</th>\n",
       "      <th>ultima_actualizacion</th>\n",
       "    </tr>\n",
       "  </thead>\n",
       "  <tbody>\n",
       "  </tbody>\n",
       "</table>\n",
       "<p>0 rows × 25 columns</p>\n",
       "</div>"
      ],
      "text/plain": [
       "Empty DataFrame\n",
       "Columns: [id_evento_caso, sexo, edad, edad_años_meses, residencia_pais_nombre, residencia_provincia_nombre, residencia_departamento_nombre, carga_provincia_nombre, fecha_inicio_sintomas, fecha_apertura, sepi_apertura, fecha_internacion, cuidado_intensivo, fecha_cui_intensivo, fallecido, fecha_fallecimiento, asistencia_respiratoria_mecanica, carga_provincia_id, origen_financiamiento, clasificacion, clasificacion_resumen, residencia_provincia_id, fecha_diagnostico, residencia_departamento_id, ultima_actualizacion]\n",
       "Index: []\n",
       "\n",
       "[0 rows x 25 columns]"
      ]
     },
     "execution_count": 18,
     "metadata": {},
     "output_type": "execute_result"
    }
   ],
   "source": [
    "VC[VC[\"edad_años_meses\"] == 39]"
   ]
  },
  {
   "cell_type": "code",
   "execution_count": 19,
   "metadata": {},
   "outputs": [
    {
     "data": {
      "text/plain": [
       "29.0     223260\n",
       "30.0     222003\n",
       "32.0     212951\n",
       "31.0     211104\n",
       "34.0     210860\n",
       "28.0     210154\n",
       "33.0     206632\n",
       "26.0     204157\n",
       "27.0     203019\n",
       "35.0     200637\n",
       "39.0     197452\n",
       "25.0     195315\n",
       "38.0     190024\n",
       "36.0     189953\n",
       "41.0     189568\n",
       "37.0     187804\n",
       "24.0     186185\n",
       "40.0     184379\n",
       "42.0     180939\n",
       "43.0     175518\n",
       "23.0     172639\n",
       "44.0     164259\n",
       "22.0     160440\n",
       "45.0     158332\n",
       "46.0     151739\n",
       "21.0     148895\n",
       "47.0     140841\n",
       "48.0     140417\n",
       "49.0     138627\n",
       "20.0     134422\n",
       "          ...  \n",
       "77.0      29270\n",
       "78.0      27035\n",
       "79.0      24997\n",
       "0.0       24795\n",
       "80.0      24112\n",
       "81.0      22676\n",
       "82.0      20412\n",
       "83.0      19190\n",
       "84.0      18156\n",
       "85.0      17187\n",
       "86.0      15720\n",
       "87.0      14672\n",
       "88.0      13756\n",
       "89.0      12813\n",
       "90.0      11796\n",
       "91.0       9755\n",
       "92.0       8340\n",
       "93.0       7126\n",
       "94.0       5609\n",
       "95.0       4356\n",
       "96.0       3409\n",
       "97.0       2428\n",
       "98.0       1841\n",
       "99.0       1160\n",
       "100.0       786\n",
       "101.0       410\n",
       "102.0       217\n",
       "103.0       159\n",
       "104.0        63\n",
       "105.0        54\n",
       "Name: edad, Length: 106, dtype: int64"
      ]
     },
     "execution_count": 19,
     "metadata": {},
     "output_type": "execute_result"
    }
   ],
   "source": [
    "VC['edad'].value_counts()"
   ]
  },
  {
   "cell_type": "code",
   "execution_count": 20,
   "metadata": {},
   "outputs": [
    {
     "data": {
      "text/plain": [
       "0.0"
      ]
     },
     "execution_count": 20,
     "metadata": {},
     "output_type": "execute_result"
    }
   ],
   "source": [
    "VC['edad'].min()"
   ]
  },
  {
   "cell_type": "code",
   "execution_count": 21,
   "metadata": {},
   "outputs": [
    {
     "data": {
      "text/plain": [
       "105.0"
      ]
     },
     "execution_count": 21,
     "metadata": {},
     "output_type": "execute_result"
    }
   ],
   "source": [
    "VC['edad'].max()"
   ]
  },
  {
   "cell_type": "code",
   "execution_count": 22,
   "metadata": {},
   "outputs": [
    {
     "data": {
      "text/plain": [
       "0    29.0\n",
       "dtype: float64"
      ]
     },
     "execution_count": 22,
     "metadata": {},
     "output_type": "execute_result"
    }
   ],
   "source": [
    "VC[\"edad\"].mode()"
   ]
  },
  {
   "cell_type": "code",
   "execution_count": 23,
   "metadata": {},
   "outputs": [
    {
     "data": {
      "text/plain": [
       "Text(0.5,1,'Histograma de distribucion de pacientes covid por edad')"
      ]
     },
     "execution_count": 23,
     "metadata": {},
     "output_type": "execute_result"
    },
    {
     "data": {
      "image/png": "[encoded data removed]",
      "text/plain": [
       "<matplotlib.figure.Figure at 0x1f0852d1f60>"
      ]
     },
     "metadata": {
      "needs_background": "light"
     },
     "output_type": "display_data"
    }
   ],
   "source": [
    "plt.hist(VC[\"edad\"], bins= 200)\n",
    "plt.xlabel(\"Edad\")\n",
    "plt.ylabel(\"Frecuencia\")\n",
    "plt.title(\"Histograma de distribucion de pacientes covid por edad\")"
   ]
  },
  {
   "cell_type": "code",
   "execution_count": 24,
   "metadata": {},
   "outputs": [
    {
     "data": {
      "text/plain": [
       "count    8.886341e+06\n",
       "mean     3.919721e+01\n",
       "std      1.825232e+01\n",
       "min      0.000000e+00\n",
       "25%      2.600000e+01\n",
       "50%      3.700000e+01\n",
       "75%      5.100000e+01\n",
       "max      1.050000e+02\n",
       "Name: edad, dtype: float64"
      ]
     },
     "execution_count": 24,
     "metadata": {},
     "output_type": "execute_result"
    }
   ],
   "source": [
    "VC[\"edad\"].describe()"
   ]
  },
  {
   "cell_type": "code",
   "execution_count": 25,
   "metadata": {},
   "outputs": [
    {
     "data": {
      "text/plain": [
       "Text(0.5,1,'Boxplot de pacientes por edad')"
      ]
     },
     "execution_count": 25,
     "metadata": {},
     "output_type": "execute_result"
    },
    {
     "data": {
      "image/png": "[encoded data removed]",
      "text/plain": [
       "<matplotlib.figure.Figure at 0x1f1d9a95e48>"
      ]
     },
     "metadata": {
      "needs_background": "light"
     },
     "output_type": "display_data"
    }
   ],
   "source": [
    "plt.boxplot(VC[\"edad\"])\n",
    "plt.ylabel(\"Edad de los pacientes\")\n",
    "plt.title(\"Boxplot de pacientes por edad\")"
   ]
  },
  {
   "cell_type": "code",
   "execution_count": 26,
   "metadata": {},
   "outputs": [
    {
     "data": {
      "text/plain": [
       "0    29.0\n",
       "dtype: float64"
      ]
     },
     "execution_count": 26,
     "metadata": {},
     "output_type": "execute_result"
    }
   ],
   "source": [
    "VC[\"edad\"].mode()"
   ]
  },
  {
   "cell_type": "code",
   "execution_count": 27,
   "metadata": {},
   "outputs": [
    {
     "data": {
      "text/plain": [
       "array(['Años'], dtype=object)"
      ]
     },
     "execution_count": 27,
     "metadata": {},
     "output_type": "execute_result"
    }
   ],
   "source": [
    "VC['edad_años_meses'].unique()"
   ]
  },
  {
   "cell_type": "code",
   "execution_count": 28,
   "metadata": {},
   "outputs": [
    {
     "data": {
      "text/plain": [
       "Text(0.5,1,'Histograma de distribucion de pacientes covid por sexo')"
      ]
     },
     "execution_count": 28,
     "metadata": {},
     "output_type": "execute_result"
    },
    {
     "data": {
      "image/png": "[encoded data removed]",
      "text/plain": [
       "<matplotlib.figure.Figure at 0x1f085251ba8>"
      ]
     },
     "metadata": {
      "needs_background": "light"
     },
     "output_type": "display_data"
    }
   ],
   "source": [
    "plt.hist(VC[\"sexo\"], bins=5)\n",
    "plt.xlabel(\"Sexo\")\n",
    "plt.ylabel(\"Cantidad de pacientes\")\n",
    "plt.title(\"Histograma de distribucion de pacientes covid por sexo\")"
   ]
  },
  {
   "cell_type": "code",
   "execution_count": 29,
   "metadata": {},
   "outputs": [
    {
     "data": {
      "text/plain": [
       "F     4573269\n",
       "M     4216662\n",
       "NR      96410\n",
       "Name: sexo, dtype: int64"
      ]
     },
     "execution_count": 29,
     "metadata": {},
     "output_type": "execute_result"
    }
   ],
   "source": [
    "VC[\"sexo\"].value_counts()"
   ]
  },
  {
   "cell_type": "code",
   "execution_count": 30,
   "metadata": {},
   "outputs": [],
   "source": [
    "confirmados = VC[[\"clasificacion_resumen\", \"fecha_diagnostico\"]]"
   ]
  },
  {
   "cell_type": "code",
   "execution_count": 31,
   "metadata": {},
   "outputs": [],
   "source": [
    "confirmados = confirmados.replace(to_replace=\"Confirmado\", value=1)"
   ]
  },
  {
   "cell_type": "code",
   "execution_count": 32,
   "metadata": {},
   "outputs": [
    {
     "data": {
      "text/html": [
       "<div>\n",
       "<style scoped>\n",
       "    .dataframe tbody tr th:only-of-type {\n",
       "        vertical-align: middle;\n",
       "    }\n",
       "\n",
       "    .dataframe tbody tr th {\n",
       "        vertical-align: top;\n",
       "    }\n",
       "\n",
       "    .dataframe thead th {\n",
       "        text-align: right;\n",
       "    }\n",
       "</style>\n",
       "<table border=\"1\" class=\"dataframe\">\n",
       "  <thead>\n",
       "    <tr style=\"text-align: right;\">\n",
       "      <th></th>\n",
       "      <th>clasificacion_resumen</th>\n",
       "      <th>fecha_diagnostico</th>\n",
       "    </tr>\n",
       "  </thead>\n",
       "  <tbody>\n",
       "    <tr>\n",
       "      <th>0</th>\n",
       "      <td>Descartado</td>\n",
       "      <td>2020-06-09</td>\n",
       "    </tr>\n",
       "    <tr>\n",
       "      <th>1</th>\n",
       "      <td>Descartado</td>\n",
       "      <td>2021-04-08</td>\n",
       "    </tr>\n",
       "    <tr>\n",
       "      <th>2</th>\n",
       "      <td>Descartado</td>\n",
       "      <td>2021-04-08</td>\n",
       "    </tr>\n",
       "    <tr>\n",
       "      <th>3</th>\n",
       "      <td>Descartado</td>\n",
       "      <td>2021-04-06</td>\n",
       "    </tr>\n",
       "    <tr>\n",
       "      <th>4</th>\n",
       "      <td>Descartado</td>\n",
       "      <td>2021-04-08</td>\n",
       "    </tr>\n",
       "    <tr>\n",
       "      <th>5</th>\n",
       "      <td>Descartado</td>\n",
       "      <td>2021-04-06</td>\n",
       "    </tr>\n",
       "    <tr>\n",
       "      <th>6</th>\n",
       "      <td>Descartado</td>\n",
       "      <td>2021-04-06</td>\n",
       "    </tr>\n",
       "    <tr>\n",
       "      <th>7</th>\n",
       "      <td>Descartado</td>\n",
       "      <td>2021-04-09</td>\n",
       "    </tr>\n",
       "    <tr>\n",
       "      <th>8</th>\n",
       "      <td>Descartado</td>\n",
       "      <td>2021-04-06</td>\n",
       "    </tr>\n",
       "    <tr>\n",
       "      <th>9</th>\n",
       "      <td>Descartado</td>\n",
       "      <td>2021-04-08</td>\n",
       "    </tr>\n",
       "    <tr>\n",
       "      <th>10</th>\n",
       "      <td>Descartado</td>\n",
       "      <td>2021-04-06</td>\n",
       "    </tr>\n",
       "    <tr>\n",
       "      <th>11</th>\n",
       "      <td>Descartado</td>\n",
       "      <td>2021-04-06</td>\n",
       "    </tr>\n",
       "    <tr>\n",
       "      <th>12</th>\n",
       "      <td>Descartado</td>\n",
       "      <td>2021-04-06</td>\n",
       "    </tr>\n",
       "    <tr>\n",
       "      <th>13</th>\n",
       "      <td>Descartado</td>\n",
       "      <td>2021-04-06</td>\n",
       "    </tr>\n",
       "    <tr>\n",
       "      <th>14</th>\n",
       "      <td>Descartado</td>\n",
       "      <td>2021-04-08</td>\n",
       "    </tr>\n",
       "  </tbody>\n",
       "</table>\n",
       "</div>"
      ],
      "text/plain": [
       "   clasificacion_resumen fecha_diagnostico\n",
       "0             Descartado        2020-06-09\n",
       "1             Descartado        2021-04-08\n",
       "2             Descartado        2021-04-08\n",
       "3             Descartado        2021-04-06\n",
       "4             Descartado        2021-04-08\n",
       "5             Descartado        2021-04-06\n",
       "6             Descartado        2021-04-06\n",
       "7             Descartado        2021-04-09\n",
       "8             Descartado        2021-04-06\n",
       "9             Descartado        2021-04-08\n",
       "10            Descartado        2021-04-06\n",
       "11            Descartado        2021-04-06\n",
       "12            Descartado        2021-04-06\n",
       "13            Descartado        2021-04-06\n",
       "14            Descartado        2021-04-08"
      ]
     },
     "execution_count": 32,
     "metadata": {},
     "output_type": "execute_result"
    }
   ],
   "source": [
    "confirmados.head(15)"
   ]
  },
  {
   "cell_type": "code",
   "execution_count": 33,
   "metadata": {},
   "outputs": [
    {
     "data": {
      "text/plain": [
       "str"
      ]
     },
     "execution_count": 33,
     "metadata": {},
     "output_type": "execute_result"
    }
   ],
   "source": [
    "type(confirmados[\"clasificacion_resumen\"][5])"
   ]
  },
  {
   "cell_type": "code",
   "execution_count": 34,
   "metadata": {},
   "outputs": [
    {
     "data": {
      "text/plain": [
       "pandas._libs.tslibs.timestamps.Timestamp"
      ]
     },
     "execution_count": 34,
     "metadata": {},
     "output_type": "execute_result"
    }
   ],
   "source": [
    "type(confirmados[\"fecha_diagnostico\"][5])"
   ]
  },
  {
   "cell_type": "code",
   "execution_count": 35,
   "metadata": {},
   "outputs": [],
   "source": [
    "confirmados = confirmados.dropna()"
   ]
  },
  {
   "cell_type": "code",
   "execution_count": 36,
   "metadata": {},
   "outputs": [],
   "source": [
    "confirmados = confirmados[confirmados[\"clasificacion_resumen\"]== 1]"
   ]
  },
  {
   "cell_type": "code",
   "execution_count": 37,
   "metadata": {},
   "outputs": [],
   "source": [
    "#confirmados = confirmados.drop(labels=2192241, axis=0)\n",
    "#confirmados = confirmados.drop(labels=2337905, axis=0)\n",
    "#confirmados = confirmados.drop(labels=2440280, axis=0)\n",
    "#confirmados = confirmados.drop(labels=4794269, axis=0)\n",
    "#confirmados = confirmados.drop(labels=1619136, axis=0)\n",
    "#confirmados = confirmados.drop(labels=6949111, axis=0)\n",
    "confirmados = confirmados.drop(labels=1824030, axis=0)"
   ]
  },
  {
   "cell_type": "code",
   "execution_count": 38,
   "metadata": {},
   "outputs": [],
   "source": [
    "confirmados = confirmados[confirmados[\"fecha_diagnostico\"] > \"2020-03-02\"]"
   ]
  },
  {
   "cell_type": "code",
   "execution_count": 39,
   "metadata": {},
   "outputs": [
    {
     "data": {
      "text/html": [
       "<div>\n",
       "<style scoped>\n",
       "    .dataframe tbody tr th:only-of-type {\n",
       "        vertical-align: middle;\n",
       "    }\n",
       "\n",
       "    .dataframe tbody tr th {\n",
       "        vertical-align: top;\n",
       "    }\n",
       "\n",
       "    .dataframe thead th {\n",
       "        text-align: right;\n",
       "    }\n",
       "</style>\n",
       "<table border=\"1\" class=\"dataframe\">\n",
       "  <thead>\n",
       "    <tr style=\"text-align: right;\">\n",
       "      <th></th>\n",
       "      <th>clasificacion_resumen</th>\n",
       "      <th>fecha_diagnostico</th>\n",
       "    </tr>\n",
       "  </thead>\n",
       "  <tbody>\n",
       "    <tr>\n",
       "      <th>6239089</th>\n",
       "      <td>1</td>\n",
       "      <td>2020-03-03</td>\n",
       "    </tr>\n",
       "    <tr>\n",
       "      <th>6258696</th>\n",
       "      <td>1</td>\n",
       "      <td>2020-03-06</td>\n",
       "    </tr>\n",
       "    <tr>\n",
       "      <th>6280510</th>\n",
       "      <td>1</td>\n",
       "      <td>2020-03-06</td>\n",
       "    </tr>\n",
       "    <tr>\n",
       "      <th>6279984</th>\n",
       "      <td>1</td>\n",
       "      <td>2020-03-06</td>\n",
       "    </tr>\n",
       "    <tr>\n",
       "      <th>6289938</th>\n",
       "      <td>1</td>\n",
       "      <td>2020-03-06</td>\n",
       "    </tr>\n",
       "    <tr>\n",
       "      <th>6252075</th>\n",
       "      <td>1</td>\n",
       "      <td>2020-03-06</td>\n",
       "    </tr>\n",
       "    <tr>\n",
       "      <th>6270940</th>\n",
       "      <td>1</td>\n",
       "      <td>2020-03-06</td>\n",
       "    </tr>\n",
       "    <tr>\n",
       "      <th>6274413</th>\n",
       "      <td>1</td>\n",
       "      <td>2020-03-07</td>\n",
       "    </tr>\n",
       "    <tr>\n",
       "      <th>6379914</th>\n",
       "      <td>1</td>\n",
       "      <td>2020-03-08</td>\n",
       "    </tr>\n",
       "    <tr>\n",
       "      <th>6298480</th>\n",
       "      <td>1</td>\n",
       "      <td>2020-03-08</td>\n",
       "    </tr>\n",
       "    <tr>\n",
       "      <th>6299944</th>\n",
       "      <td>1</td>\n",
       "      <td>2020-03-09</td>\n",
       "    </tr>\n",
       "    <tr>\n",
       "      <th>6298535</th>\n",
       "      <td>1</td>\n",
       "      <td>2020-03-09</td>\n",
       "    </tr>\n",
       "    <tr>\n",
       "      <th>6299554</th>\n",
       "      <td>1</td>\n",
       "      <td>2020-03-09</td>\n",
       "    </tr>\n",
       "    <tr>\n",
       "      <th>6298319</th>\n",
       "      <td>1</td>\n",
       "      <td>2020-03-09</td>\n",
       "    </tr>\n",
       "    <tr>\n",
       "      <th>6297653</th>\n",
       "      <td>1</td>\n",
       "      <td>2020-03-09</td>\n",
       "    </tr>\n",
       "    <tr>\n",
       "      <th>6298370</th>\n",
       "      <td>1</td>\n",
       "      <td>2020-03-09</td>\n",
       "    </tr>\n",
       "    <tr>\n",
       "      <th>6315447</th>\n",
       "      <td>1</td>\n",
       "      <td>2020-03-10</td>\n",
       "    </tr>\n",
       "    <tr>\n",
       "      <th>2295547</th>\n",
       "      <td>1</td>\n",
       "      <td>2020-03-10</td>\n",
       "    </tr>\n",
       "    <tr>\n",
       "      <th>6303387</th>\n",
       "      <td>1</td>\n",
       "      <td>2020-03-10</td>\n",
       "    </tr>\n",
       "    <tr>\n",
       "      <th>2300332</th>\n",
       "      <td>1</td>\n",
       "      <td>2020-03-10</td>\n",
       "    </tr>\n",
       "    <tr>\n",
       "      <th>2294508</th>\n",
       "      <td>1</td>\n",
       "      <td>2020-03-10</td>\n",
       "    </tr>\n",
       "    <tr>\n",
       "      <th>2295663</th>\n",
       "      <td>1</td>\n",
       "      <td>2020-03-10</td>\n",
       "    </tr>\n",
       "    <tr>\n",
       "      <th>2294467</th>\n",
       "      <td>1</td>\n",
       "      <td>2020-03-10</td>\n",
       "    </tr>\n",
       "    <tr>\n",
       "      <th>2295778</th>\n",
       "      <td>1</td>\n",
       "      <td>2020-03-10</td>\n",
       "    </tr>\n",
       "    <tr>\n",
       "      <th>2295331</th>\n",
       "      <td>1</td>\n",
       "      <td>2020-03-10</td>\n",
       "    </tr>\n",
       "    <tr>\n",
       "      <th>6313410</th>\n",
       "      <td>1</td>\n",
       "      <td>2020-03-11</td>\n",
       "    </tr>\n",
       "    <tr>\n",
       "      <th>6283726</th>\n",
       "      <td>1</td>\n",
       "      <td>2020-03-11</td>\n",
       "    </tr>\n",
       "    <tr>\n",
       "      <th>6335139</th>\n",
       "      <td>1</td>\n",
       "      <td>2020-03-11</td>\n",
       "    </tr>\n",
       "    <tr>\n",
       "      <th>6333239</th>\n",
       "      <td>1</td>\n",
       "      <td>2020-03-11</td>\n",
       "    </tr>\n",
       "    <tr>\n",
       "      <th>6416639</th>\n",
       "      <td>1</td>\n",
       "      <td>2020-03-12</td>\n",
       "    </tr>\n",
       "    <tr>\n",
       "      <th>...</th>\n",
       "      <td>...</td>\n",
       "      <td>...</td>\n",
       "    </tr>\n",
       "    <tr>\n",
       "      <th>404958</th>\n",
       "      <td>1</td>\n",
       "      <td>2021-04-14</td>\n",
       "    </tr>\n",
       "    <tr>\n",
       "      <th>404928</th>\n",
       "      <td>1</td>\n",
       "      <td>2021-04-14</td>\n",
       "    </tr>\n",
       "    <tr>\n",
       "      <th>405041</th>\n",
       "      <td>1</td>\n",
       "      <td>2021-04-14</td>\n",
       "    </tr>\n",
       "    <tr>\n",
       "      <th>405458</th>\n",
       "      <td>1</td>\n",
       "      <td>2021-04-14</td>\n",
       "    </tr>\n",
       "    <tr>\n",
       "      <th>358615</th>\n",
       "      <td>1</td>\n",
       "      <td>2021-04-14</td>\n",
       "    </tr>\n",
       "    <tr>\n",
       "      <th>405201</th>\n",
       "      <td>1</td>\n",
       "      <td>2021-04-14</td>\n",
       "    </tr>\n",
       "    <tr>\n",
       "      <th>405388</th>\n",
       "      <td>1</td>\n",
       "      <td>2021-04-14</td>\n",
       "    </tr>\n",
       "    <tr>\n",
       "      <th>279574</th>\n",
       "      <td>1</td>\n",
       "      <td>2021-04-14</td>\n",
       "    </tr>\n",
       "    <tr>\n",
       "      <th>405351</th>\n",
       "      <td>1</td>\n",
       "      <td>2021-04-14</td>\n",
       "    </tr>\n",
       "    <tr>\n",
       "      <th>405348</th>\n",
       "      <td>1</td>\n",
       "      <td>2021-04-14</td>\n",
       "    </tr>\n",
       "    <tr>\n",
       "      <th>325039</th>\n",
       "      <td>1</td>\n",
       "      <td>2021-04-14</td>\n",
       "    </tr>\n",
       "    <tr>\n",
       "      <th>405345</th>\n",
       "      <td>1</td>\n",
       "      <td>2021-04-14</td>\n",
       "    </tr>\n",
       "    <tr>\n",
       "      <th>405338</th>\n",
       "      <td>1</td>\n",
       "      <td>2021-04-14</td>\n",
       "    </tr>\n",
       "    <tr>\n",
       "      <th>405314</th>\n",
       "      <td>1</td>\n",
       "      <td>2021-04-14</td>\n",
       "    </tr>\n",
       "    <tr>\n",
       "      <th>279637</th>\n",
       "      <td>1</td>\n",
       "      <td>2021-04-14</td>\n",
       "    </tr>\n",
       "    <tr>\n",
       "      <th>405307</th>\n",
       "      <td>1</td>\n",
       "      <td>2021-04-14</td>\n",
       "    </tr>\n",
       "    <tr>\n",
       "      <th>405191</th>\n",
       "      <td>1</td>\n",
       "      <td>2021-04-14</td>\n",
       "    </tr>\n",
       "    <tr>\n",
       "      <th>405305</th>\n",
       "      <td>1</td>\n",
       "      <td>2021-04-14</td>\n",
       "    </tr>\n",
       "    <tr>\n",
       "      <th>324942</th>\n",
       "      <td>1</td>\n",
       "      <td>2021-04-14</td>\n",
       "    </tr>\n",
       "    <tr>\n",
       "      <th>405251</th>\n",
       "      <td>1</td>\n",
       "      <td>2021-04-14</td>\n",
       "    </tr>\n",
       "    <tr>\n",
       "      <th>405246</th>\n",
       "      <td>1</td>\n",
       "      <td>2021-04-14</td>\n",
       "    </tr>\n",
       "    <tr>\n",
       "      <th>405245</th>\n",
       "      <td>1</td>\n",
       "      <td>2021-04-14</td>\n",
       "    </tr>\n",
       "    <tr>\n",
       "      <th>405236</th>\n",
       "      <td>1</td>\n",
       "      <td>2021-04-14</td>\n",
       "    </tr>\n",
       "    <tr>\n",
       "      <th>405229</th>\n",
       "      <td>1</td>\n",
       "      <td>2021-04-14</td>\n",
       "    </tr>\n",
       "    <tr>\n",
       "      <th>405224</th>\n",
       "      <td>1</td>\n",
       "      <td>2021-04-14</td>\n",
       "    </tr>\n",
       "    <tr>\n",
       "      <th>279711</th>\n",
       "      <td>1</td>\n",
       "      <td>2021-04-14</td>\n",
       "    </tr>\n",
       "    <tr>\n",
       "      <th>405214</th>\n",
       "      <td>1</td>\n",
       "      <td>2021-04-14</td>\n",
       "    </tr>\n",
       "    <tr>\n",
       "      <th>405209</th>\n",
       "      <td>1</td>\n",
       "      <td>2021-04-14</td>\n",
       "    </tr>\n",
       "    <tr>\n",
       "      <th>405294</th>\n",
       "      <td>1</td>\n",
       "      <td>2021-04-14</td>\n",
       "    </tr>\n",
       "    <tr>\n",
       "      <th>348985</th>\n",
       "      <td>1</td>\n",
       "      <td>2021-04-14</td>\n",
       "    </tr>\n",
       "  </tbody>\n",
       "</table>\n",
       "<p>2376656 rows × 2 columns</p>\n",
       "</div>"
      ],
      "text/plain": [
       "        clasificacion_resumen fecha_diagnostico\n",
       "6239089                     1        2020-03-03\n",
       "6258696                     1        2020-03-06\n",
       "6280510                     1        2020-03-06\n",
       "6279984                     1        2020-03-06\n",
       "6289938                     1        2020-03-06\n",
       "6252075                     1        2020-03-06\n",
       "6270940                     1        2020-03-06\n",
       "6274413                     1        2020-03-07\n",
       "6379914                     1        2020-03-08\n",
       "6298480                     1        2020-03-08\n",
       "6299944                     1        2020-03-09\n",
       "6298535                     1        2020-03-09\n",
       "6299554                     1        2020-03-09\n",
       "6298319                     1        2020-03-09\n",
       "6297653                     1        2020-03-09\n",
       "6298370                     1        2020-03-09\n",
       "6315447                     1        2020-03-10\n",
       "2295547                     1        2020-03-10\n",
       "6303387                     1        2020-03-10\n",
       "2300332                     1        2020-03-10\n",
       "2294508                     1        2020-03-10\n",
       "2295663                     1        2020-03-10\n",
       "2294467                     1        2020-03-10\n",
       "2295778                     1        2020-03-10\n",
       "2295331                     1        2020-03-10\n",
       "6313410                     1        2020-03-11\n",
       "6283726                     1        2020-03-11\n",
       "6335139                     1        2020-03-11\n",
       "6333239                     1        2020-03-11\n",
       "6416639                     1        2020-03-12\n",
       "...                       ...               ...\n",
       "404958                      1        2021-04-14\n",
       "404928                      1        2021-04-14\n",
       "405041                      1        2021-04-14\n",
       "405458                      1        2021-04-14\n",
       "358615                      1        2021-04-14\n",
       "405201                      1        2021-04-14\n",
       "405388                      1        2021-04-14\n",
       "279574                      1        2021-04-14\n",
       "405351                      1        2021-04-14\n",
       "405348                      1        2021-04-14\n",
       "325039                      1        2021-04-14\n",
       "405345                      1        2021-04-14\n",
       "405338                      1        2021-04-14\n",
       "405314                      1        2021-04-14\n",
       "279637                      1        2021-04-14\n",
       "405307                      1        2021-04-14\n",
       "405191                      1        2021-04-14\n",
       "405305                      1        2021-04-14\n",
       "324942                      1        2021-04-14\n",
       "405251                      1        2021-04-14\n",
       "405246                      1        2021-04-14\n",
       "405245                      1        2021-04-14\n",
       "405236                      1        2021-04-14\n",
       "405229                      1        2021-04-14\n",
       "405224                      1        2021-04-14\n",
       "279711                      1        2021-04-14\n",
       "405214                      1        2021-04-14\n",
       "405209                      1        2021-04-14\n",
       "405294                      1        2021-04-14\n",
       "348985                      1        2021-04-14\n",
       "\n",
       "[2376656 rows x 2 columns]"
      ]
     },
     "execution_count": 39,
     "metadata": {},
     "output_type": "execute_result"
    }
   ],
   "source": [
    "confirmados.sort_values(\"fecha_diagnostico\")"
   ]
  },
  {
   "cell_type": "code",
   "execution_count": 40,
   "metadata": {},
   "outputs": [],
   "source": [
    "confirmados[\"fecha_diagnostico\"] = pd.to_datetime(confirmados[\"fecha_diagnostico\"])"
   ]
  },
  {
   "cell_type": "code",
   "execution_count": 41,
   "metadata": {},
   "outputs": [
    {
     "data": {
      "text/plain": [
       "pandas.core.series.Series"
      ]
     },
     "execution_count": 41,
     "metadata": {},
     "output_type": "execute_result"
    }
   ],
   "source": [
    "type(confirmados[\"fecha_diagnostico\"])"
   ]
  },
  {
   "cell_type": "code",
   "execution_count": 42,
   "metadata": {},
   "outputs": [
    {
     "data": {
      "text/plain": [
       "16        2021-04-08\n",
       "27        2021-04-05\n",
       "51        2021-04-10\n",
       "60        2021-04-06\n",
       "73        2020-06-25\n",
       "76        2021-04-07\n",
       "80        2021-04-08\n",
       "83        2021-04-10\n",
       "89        2021-04-09\n",
       "92        2021-04-09\n",
       "99        2021-04-13\n",
       "105       2021-04-06\n",
       "106       2020-06-01\n",
       "109       2021-04-08\n",
       "116       2021-04-08\n",
       "128       2020-05-31\n",
       "135       2021-04-07\n",
       "153       2021-04-06\n",
       "156       2021-04-07\n",
       "160       2020-06-01\n",
       "168       2021-04-09\n",
       "174       2021-04-12\n",
       "200       2021-04-09\n",
       "206       2021-04-07\n",
       "230       2021-04-08\n",
       "234       2020-05-31\n",
       "241       2021-04-08\n",
       "255       2020-06-01\n",
       "265       2020-06-01\n",
       "268       2021-04-08\n",
       "             ...    \n",
       "8886158   2021-04-12\n",
       "8886166   2021-04-09\n",
       "8886181   2020-06-18\n",
       "8886183   2021-04-07\n",
       "8886185   2021-04-09\n",
       "8886197   2021-04-07\n",
       "8886202   2020-09-29\n",
       "8886207   2021-04-09\n",
       "8886217   2021-04-06\n",
       "8886221   2021-04-10\n",
       "8886232   2021-04-13\n",
       "8886235   2020-06-01\n",
       "8886243   2021-04-08\n",
       "8886248   2021-04-08\n",
       "8886252   2021-04-07\n",
       "8886254   2021-04-08\n",
       "8886262   2021-04-07\n",
       "8886264   2021-04-07\n",
       "8886265   2020-06-13\n",
       "8886287   2020-06-12\n",
       "8886297   2021-04-07\n",
       "8886299   2021-04-09\n",
       "8886300   2021-04-09\n",
       "8886305   2021-04-06\n",
       "8886308   2021-04-08\n",
       "8886313   2021-04-08\n",
       "8886320   2021-04-09\n",
       "8886326   2021-04-09\n",
       "8886333   2021-04-09\n",
       "8886335   2021-04-11\n",
       "Name: fecha_diagnostico, Length: 2376656, dtype: datetime64[ns]"
      ]
     },
     "execution_count": 42,
     "metadata": {},
     "output_type": "execute_result"
    }
   ],
   "source": [
    "confirmados[\"fecha_diagnostico\"]"
   ]
  },
  {
   "cell_type": "code",
   "execution_count": 43,
   "metadata": {},
   "outputs": [],
   "source": [
    "confirmgroup = confirmados.groupby(\"fecha_diagnostico\")"
   ]
  },
  {
   "cell_type": "code",
   "execution_count": 44,
   "metadata": {},
   "outputs": [],
   "source": [
    "confirmgroup = confirmgroup.sum()"
   ]
  },
  {
   "cell_type": "code",
   "execution_count": 45,
   "metadata": {},
   "outputs": [
    {
     "data": {
      "image/png": "[encoded data removed]",
      "text/plain": [
       "<matplotlib.figure.Figure at 0x1f085276ba8>"
      ]
     },
     "metadata": {
      "needs_background": "light"
     },
     "output_type": "display_data"
    }
   ],
   "source": [
    "confirmgroup.plot(kind=\"line\", y=\"clasificacion_resumen\", figsize=(20,8), marker= \"v\")\n",
    "#linestyle\"--\"\"\n",
    "plt.xlabel(\"Fecha\")\n",
    "plt.tick_params('x', colors='blue')\n",
    "plt.ylabel(\"Confirmados\")\n",
    "plt.show()"
   ]
  },
  {
   "cell_type": "code",
   "execution_count": 46,
   "metadata": {},
   "outputs": [
    {
     "data": {
      "text/html": [
       "<div>\n",
       "<style scoped>\n",
       "    .dataframe tbody tr th:only-of-type {\n",
       "        vertical-align: middle;\n",
       "    }\n",
       "\n",
       "    .dataframe tbody tr th {\n",
       "        vertical-align: top;\n",
       "    }\n",
       "\n",
       "    .dataframe thead th {\n",
       "        text-align: right;\n",
       "    }\n",
       "</style>\n",
       "<table border=\"1\" class=\"dataframe\">\n",
       "  <thead>\n",
       "    <tr style=\"text-align: right;\">\n",
       "      <th></th>\n",
       "      <th>clasificacion_resumen</th>\n",
       "    </tr>\n",
       "    <tr>\n",
       "      <th>fecha_diagnostico</th>\n",
       "      <th></th>\n",
       "    </tr>\n",
       "  </thead>\n",
       "  <tbody>\n",
       "    <tr>\n",
       "      <th>2020-03-03</th>\n",
       "      <td>1</td>\n",
       "    </tr>\n",
       "    <tr>\n",
       "      <th>2020-03-06</th>\n",
       "      <td>6</td>\n",
       "    </tr>\n",
       "    <tr>\n",
       "      <th>2020-03-07</th>\n",
       "      <td>1</td>\n",
       "    </tr>\n",
       "    <tr>\n",
       "      <th>2020-03-08</th>\n",
       "      <td>2</td>\n",
       "    </tr>\n",
       "    <tr>\n",
       "      <th>2020-03-09</th>\n",
       "      <td>6</td>\n",
       "    </tr>\n",
       "  </tbody>\n",
       "</table>\n",
       "</div>"
      ],
      "text/plain": [
       "                   clasificacion_resumen\n",
       "fecha_diagnostico                       \n",
       "2020-03-03                             1\n",
       "2020-03-06                             6\n",
       "2020-03-07                             1\n",
       "2020-03-08                             2\n",
       "2020-03-09                             6"
      ]
     },
     "execution_count": 46,
     "metadata": {},
     "output_type": "execute_result"
    }
   ],
   "source": [
    "confirmgroup.head()"
   ]
  },
  {
   "cell_type": "code",
   "execution_count": 47,
   "metadata": {},
   "outputs": [],
   "source": [
    "confirmgroup = confirmgroup.reset_index()"
   ]
  },
  {
   "cell_type": "code",
   "execution_count": 123,
   "metadata": {},
   "outputs": [
    {
     "name": "stderr",
     "output_type": "stream",
     "text": [
      "C:\\Users\\Guany\\.conda\\envs\\python-ml-2020\\lib\\site-packages\\ipykernel_launcher.py:7: SettingWithCopyWarning: \n",
      "A value is trying to be set on a copy of a slice from a DataFrame\n",
      "\n",
      "See the caveats in the documentation: http://pandas.pydata.org/pandas-docs/stable/indexing.html#indexing-view-versus-copy\n",
      "  import sys\n"
     ]
    }
   ],
   "source": [
    "cont = 1\n",
    "dataregresion = pd.DataFrame(columns=[\"Fecha\", \"Positivos\", \"Dia\"])\n",
    "dataregresion[\"Positivos\"] = confirmgroup[\"clasificacion_resumen\"]\n",
    "dataregresion[\"Fecha\"] = confirmgroup[\"fecha_diagnostico\"]\n",
    "dataregresion.reset_index()\n",
    "for i in range (len(confirmgroup)):\n",
    "    dataregresion[\"Dia\"][i] = cont\n",
    "    cont = cont + 1"
   ]
  },
  {
   "cell_type": "code",
   "execution_count": 124,
   "metadata": {},
   "outputs": [],
   "source": [
    "from sklearn.linear_model import LinearRegression"
   ]
  },
  {
   "cell_type": "code",
   "execution_count": 125,
   "metadata": {},
   "outputs": [],
   "source": [
    "X_pred = dataregresion[\"Dia\"]\n",
    "X_pred = X_pred[:,np.newaxis]\n",
    "Y = dataregresion[\"Positivos\"]"
   ]
  },
  {
   "cell_type": "code",
   "execution_count": 126,
   "metadata": {},
   "outputs": [
    {
     "data": {
      "text/plain": [
       "LinearRegression(copy_X=True, fit_intercept=True, n_jobs=None,\n",
       "         normalize=False)"
      ]
     },
     "execution_count": 126,
     "metadata": {},
     "output_type": "execute_result"
    }
   ],
   "source": [
    "lm = LinearRegression()\n",
    "lm.fit(X_pred, Y)"
   ]
  },
  {
   "cell_type": "code",
   "execution_count": 127,
   "metadata": {},
   "outputs": [
    {
     "data": {
      "text/plain": [
       "672.2796569969005"
      ]
     },
     "execution_count": 127,
     "metadata": {},
     "output_type": "execute_result"
    }
   ],
   "source": [
    "lm.intercept_\n"
   ]
  },
  {
   "cell_type": "code",
   "execution_count": 128,
   "metadata": {},
   "outputs": [
    {
     "data": {
      "text/plain": [
       "array([25.46217619])"
      ]
     },
     "execution_count": 128,
     "metadata": {},
     "output_type": "execute_result"
    }
   ],
   "source": [
    "lm.coef_"
   ]
  },
  {
   "cell_type": "code",
   "execution_count": 129,
   "metadata": {},
   "outputs": [
    {
     "data": {
      "text/plain": [
       "0.40747685392254973"
      ]
     },
     "execution_count": 129,
     "metadata": {},
     "output_type": "execute_result"
    }
   ],
   "source": [
    "lm.score(X_pred, Y)"
   ]
  },
  {
   "cell_type": "markdown",
   "metadata": {},
   "source": [
    "#### y = 1088.67 + 22.32 * dia"
   ]
  },
  {
   "cell_type": "code",
   "execution_count": 130,
   "metadata": {},
   "outputs": [
    {
     "data": {
      "text/plain": [
       "[<matplotlib.lines.Line2D at 0x1f0f3ed0588>]"
      ]
     },
     "execution_count": 130,
     "metadata": {},
     "output_type": "execute_result"
    },
    {
     "data": {
      "image/png": "[encoded data removed]",
      "text/plain": [
       "<matplotlib.figure.Figure at 0x1f0f3ed7c18>"
      ]
     },
     "metadata": {
      "needs_background": "light"
     },
     "output_type": "display_data"
    }
   ],
   "source": [
    "%matplotlib inline\n",
    "plt.plot(X_pred,Y, \"ro\")\n",
    "plt.plot(X_pred, lm.predict(X_pred), color=\"blue\")"
   ]
  },
  {
   "cell_type": "code",
   "execution_count": 131,
   "metadata": {},
   "outputs": [
    {
     "data": {
      "text/plain": [
       "(5257601114.422577, 3603.0169506571033, 5853.832512315271, 61.54971026378171)"
      ]
     },
     "execution_count": 131,
     "metadata": {},
     "output_type": "execute_result"
    }
   ],
   "source": [
    "SSD = np.sum((Y - lm.predict(X_pred))**2)\n",
    "RSE = np.sqrt(SSD/(len(X_pred)-1))\n",
    "y_mean = np.mean(Y)\n",
    "error = RSE/y_mean\n",
    "SSD, RSE, y_mean, error*100"
   ]
  },
  {
   "cell_type": "markdown",
   "metadata": {},
   "source": [
    "#### intentando una cuadratica"
   ]
  },
  {
   "cell_type": "code",
   "execution_count": 132,
   "metadata": {},
   "outputs": [
    {
     "ename": "NameError",
     "evalue": "name 'X' is not defined",
     "output_type": "error",
     "traceback": [
      "\u001b[1;31m---------------------------------------------------------------------------\u001b[0m",
      "\u001b[1;31mNameError\u001b[0m                                 Traceback (most recent call last)",
      "\u001b[1;32m<ipython-input-132-a5de79b318d5>\u001b[0m in \u001b[0;36m<module>\u001b[1;34m\u001b[0m\n\u001b[1;32m----> 1\u001b[1;33m \u001b[0mX_data\u001b[0m \u001b[1;33m=\u001b[0m \u001b[0mX\u001b[0m\u001b[1;33m**\u001b[0m\u001b[1;36m2\u001b[0m\u001b[1;33m\u001b[0m\u001b[0m\n\u001b[0m\u001b[0;32m      2\u001b[0m \u001b[0mX_data\u001b[0m \u001b[1;33m=\u001b[0m \u001b[0mnp\u001b[0m\u001b[1;33m.\u001b[0m\u001b[0masarray\u001b[0m\u001b[1;33m(\u001b[0m\u001b[0mX_data\u001b[0m\u001b[1;33m)\u001b[0m\u001b[1;33m\u001b[0m\u001b[0m\n\u001b[0;32m      3\u001b[0m \u001b[0mX_data\u001b[0m \u001b[1;33m=\u001b[0m \u001b[0mX_data\u001b[0m\u001b[1;33m[\u001b[0m\u001b[1;33m:\u001b[0m\u001b[1;33m,\u001b[0m\u001b[0mnp\u001b[0m\u001b[1;33m.\u001b[0m\u001b[0mnewaxis\u001b[0m\u001b[1;33m]\u001b[0m\u001b[1;33m\u001b[0m\u001b[0m\n\u001b[0;32m      4\u001b[0m \u001b[0mlm\u001b[0m \u001b[1;33m=\u001b[0m \u001b[0mLinearRegression\u001b[0m\u001b[1;33m(\u001b[0m\u001b[1;33m)\u001b[0m\u001b[1;33m\u001b[0m\u001b[0m\n\u001b[0;32m      5\u001b[0m \u001b[0mlm\u001b[0m\u001b[1;33m.\u001b[0m\u001b[0mfit\u001b[0m\u001b[1;33m(\u001b[0m\u001b[0mX_data\u001b[0m\u001b[1;33m,\u001b[0m \u001b[0mY\u001b[0m\u001b[1;33m)\u001b[0m\u001b[1;33m\u001b[0m\u001b[0m\n",
      "\u001b[1;31mNameError\u001b[0m: name 'X' is not defined"
     ]
    }
   ],
   "source": [
    "X_data = X**2\n",
    "X_data = np.asarray(X_data)\n",
    "X_data = X_data[:,np.newaxis]\n",
    "lm = LinearRegression()\n",
    "lm.fit(X_data, Y)\n",
    "lm.score(X_data, Y)"
   ]
  },
  {
   "cell_type": "code",
   "execution_count": 133,
   "metadata": {
    "scrolled": true
   },
   "outputs": [
    {
     "data": {
      "text/plain": [
       "<bound method NDFrame.tail of          Fecha  Positivos  Dia\n",
       "0   2020-03-03          1    1\n",
       "1   2020-03-06          6    2\n",
       "2   2020-03-07          1    3\n",
       "3   2020-03-08          2    4\n",
       "4   2020-03-09          6    5\n",
       "5   2020-03-10          9    6\n",
       "6   2020-03-11          4    7\n",
       "7   2020-03-12         10    8\n",
       "8   2020-03-13          7    9\n",
       "9   2020-03-14          7   10\n",
       "10  2020-03-15         11   11\n",
       "11  2020-03-16         10   12\n",
       "12  2020-03-17         18   13\n",
       "13  2020-03-18         29   14\n",
       "14  2020-03-19         22   15\n",
       "15  2020-03-20         30   16\n",
       "16  2020-03-21         62   17\n",
       "17  2020-03-22         54   18\n",
       "18  2020-03-23         33   19\n",
       "19  2020-03-24        105   20\n",
       "20  2020-03-25        115   21\n",
       "21  2020-03-26        110   22\n",
       "22  2020-03-27         82   23\n",
       "23  2020-03-28         69   24\n",
       "24  2020-03-29        109   25\n",
       "25  2020-03-30         84   26\n",
       "26  2020-03-31         90   27\n",
       "27  2020-04-01        120   28\n",
       "28  2020-04-02        142   29\n",
       "29  2020-04-03        102   30\n",
       "..         ...        ...  ...\n",
       "376 2021-03-16       7583  377\n",
       "377 2021-03-17       7367  378\n",
       "378 2021-03-18       7097  379\n",
       "379 2021-03-19       7483  380\n",
       "380 2021-03-20       5340  381\n",
       "381 2021-03-21       2896  382\n",
       "382 2021-03-22       8825  383\n",
       "383 2021-03-23       9570  384\n",
       "384 2021-03-24       6436  385\n",
       "385 2021-03-25      10295  386\n",
       "386 2021-03-26      11758  387\n",
       "387 2021-03-27       8775  388\n",
       "388 2021-03-28       5242  389\n",
       "389 2021-03-29      13174  390\n",
       "390 2021-03-30      14317  391\n",
       "391 2021-03-31      15250  392\n",
       "392 2021-04-01      12922  393\n",
       "393 2021-04-02      10117  394\n",
       "394 2021-04-03      11434  395\n",
       "395 2021-04-04       8139  396\n",
       "396 2021-04-05      19849  397\n",
       "397 2021-04-06      21345  398\n",
       "398 2021-04-07      22086  399\n",
       "399 2021-04-08      21693  400\n",
       "400 2021-04-09      20872  401\n",
       "401 2021-04-10      14743  402\n",
       "402 2021-04-11       9082  403\n",
       "403 2021-04-12      20294  404\n",
       "404 2021-04-13      16825  405\n",
       "405 2021-04-14       4617  406\n",
       "\n",
       "[406 rows x 3 columns]>"
      ]
     },
     "execution_count": 133,
     "metadata": {},
     "output_type": "execute_result"
    }
   ],
   "source": [
    "dataregresion.tail"
   ]
  },
  {
   "cell_type": "code",
   "execution_count": 134,
   "metadata": {},
   "outputs": [],
   "source": [
    "dataregresion_corto = dataregresion[(dataregresion[\"Fecha\"]>\"2021-03-18\") & (dataregresion[\"Fecha\"]<\"2021-04-14\")]"
   ]
  },
  {
   "cell_type": "code",
   "execution_count": 169,
   "metadata": {},
   "outputs": [
    {
     "data": {
      "text/html": [
       "<div>\n",
       "<style scoped>\n",
       "    .dataframe tbody tr th:only-of-type {\n",
       "        vertical-align: middle;\n",
       "    }\n",
       "\n",
       "    .dataframe tbody tr th {\n",
       "        vertical-align: top;\n",
       "    }\n",
       "\n",
       "    .dataframe thead th {\n",
       "        text-align: right;\n",
       "    }\n",
       "</style>\n",
       "<table border=\"1\" class=\"dataframe\">\n",
       "  <thead>\n",
       "    <tr style=\"text-align: right;\">\n",
       "      <th></th>\n",
       "      <th>Fecha</th>\n",
       "      <th>Positivos</th>\n",
       "      <th>Dia</th>\n",
       "    </tr>\n",
       "  </thead>\n",
       "  <tbody>\n",
       "    <tr>\n",
       "      <th>17</th>\n",
       "      <td>2021-04-08</td>\n",
       "      <td>21693</td>\n",
       "      <td>400</td>\n",
       "    </tr>\n",
       "    <tr>\n",
       "      <th>18</th>\n",
       "      <td>2021-04-09</td>\n",
       "      <td>20872</td>\n",
       "      <td>401</td>\n",
       "    </tr>\n",
       "    <tr>\n",
       "      <th>19</th>\n",
       "      <td>2021-04-10</td>\n",
       "      <td>14743</td>\n",
       "      <td>402</td>\n",
       "    </tr>\n",
       "    <tr>\n",
       "      <th>20</th>\n",
       "      <td>2021-04-12</td>\n",
       "      <td>20294</td>\n",
       "      <td>404</td>\n",
       "    </tr>\n",
       "    <tr>\n",
       "      <th>21</th>\n",
       "      <td>2021-04-13</td>\n",
       "      <td>16825</td>\n",
       "      <td>405</td>\n",
       "    </tr>\n",
       "  </tbody>\n",
       "</table>\n",
       "</div>"
      ],
      "text/plain": [
       "        Fecha  Positivos  Dia\n",
       "17 2021-04-08      21693  400\n",
       "18 2021-04-09      20872  401\n",
       "19 2021-04-10      14743  402\n",
       "20 2021-04-12      20294  404\n",
       "21 2021-04-13      16825  405"
      ]
     },
     "execution_count": 169,
     "metadata": {},
     "output_type": "execute_result"
    }
   ],
   "source": [
    "dataregresion_corto.tail(5)"
   ]
  },
  {
   "cell_type": "code",
   "execution_count": 160,
   "metadata": {},
   "outputs": [],
   "source": [
    "dataregresion_corto = dataregresion_corto.reset_index()"
   ]
  },
  {
   "cell_type": "code",
   "execution_count": 162,
   "metadata": {},
   "outputs": [],
   "source": [
    "dataregresion_corto = dataregresion_corto.drop(labels=\"index\", axis=1)"
   ]
  },
  {
   "cell_type": "code",
   "execution_count": 164,
   "metadata": {},
   "outputs": [],
   "source": [
    "#X_data = dataregresion_corto[\"Dia\"]\n",
    "X_data =np.arange(0,len(dataregresion_corto))\n",
    "X_data = X_data[:,np.newaxis]\n",
    "Y = dataregresion_corto[\"Positivos\"]"
   ]
  },
  {
   "cell_type": "code",
   "execution_count": 165,
   "metadata": {},
   "outputs": [
    {
     "data": {
      "text/plain": [
       "LinearRegression(copy_X=True, fit_intercept=True, n_jobs=None,\n",
       "         normalize=False)"
      ]
     },
     "execution_count": 165,
     "metadata": {},
     "output_type": "execute_result"
    }
   ],
   "source": [
    "lm = LinearRegression()\n",
    "lm.fit(X_data, Y)"
   ]
  },
  {
   "cell_type": "code",
   "execution_count": 166,
   "metadata": {},
   "outputs": [
    {
     "data": {
      "text/plain": [
       "(5670.339920948617, array([747.95031056]), 0.7164636077777998)"
      ]
     },
     "execution_count": 166,
     "metadata": {},
     "output_type": "execute_result"
    }
   ],
   "source": [
    "lm.intercept_, lm.coef_ , lm.score(X_data, Y), "
   ]
  },
  {
   "cell_type": "markdown",
   "metadata": {},
   "source": [
    "#### Funcion y= 1701.28 + 68.153 + Dia Numero"
   ]
  },
  {
   "cell_type": "code",
   "execution_count": 167,
   "metadata": {},
   "outputs": [
    {
     "data": {
      "text/plain": [
       "(196041823.0863919, 3055.3763939776395, 13523.818181818182, 22.592557463434236)"
      ]
     },
     "execution_count": 167,
     "metadata": {},
     "output_type": "execute_result"
    }
   ],
   "source": [
    "SSD = np.sum((Y - lm.predict(X_data))**2)\n",
    "RSE = np.sqrt(SSD/(len(X_data)-1))\n",
    "y_mean = np.mean(Y)\n",
    "error = RSE/y_mean\n",
    "SSD, RSE, y_mean, error*100"
   ]
  },
  {
   "cell_type": "code",
   "execution_count": 168,
   "metadata": {},
   "outputs": [
    {
     "data": {
      "text/plain": [
       "[<matplotlib.lines.Line2D at 0x1f0f3faf908>]"
      ]
     },
     "execution_count": 168,
     "metadata": {},
     "output_type": "execute_result"
    },
    {
     "data": {
      "image/png": "[encoded data removed]",
      "text/plain": [
       "<matplotlib.figure.Figure at 0x1f0f3fa4dd8>"
      ]
     },
     "metadata": {
      "needs_background": "light"
     },
     "output_type": "display_data"
    }
   ],
   "source": [
    "%matplotlib inline\n",
    "plt.plot(X_data,Y, \"ro\")\n",
    "plt.plot(X_data, lm.predict(X_data), color=\"blue\")"
   ]
  },
  {
   "cell_type": "code",
   "execution_count": 156,
   "metadata": {},
   "outputs": [
    {
     "data": {
      "text/html": [
       "<div>\n",
       "<style scoped>\n",
       "    .dataframe tbody tr th:only-of-type {\n",
       "        vertical-align: middle;\n",
       "    }\n",
       "\n",
       "    .dataframe tbody tr th {\n",
       "        vertical-align: top;\n",
       "    }\n",
       "\n",
       "    .dataframe thead th {\n",
       "        text-align: right;\n",
       "    }\n",
       "</style>\n",
       "<table border=\"1\" class=\"dataframe\">\n",
       "  <thead>\n",
       "    <tr style=\"text-align: right;\">\n",
       "      <th></th>\n",
       "      <th>Fecha</th>\n",
       "      <th>Positivos</th>\n",
       "      <th>Dia</th>\n",
       "    </tr>\n",
       "  </thead>\n",
       "  <tbody>\n",
       "    <tr>\n",
       "      <th>8</th>\n",
       "      <td>2021-03-27</td>\n",
       "      <td>8775</td>\n",
       "      <td>388</td>\n",
       "    </tr>\n",
       "    <tr>\n",
       "      <th>9</th>\n",
       "      <td>2021-03-28</td>\n",
       "      <td>5242</td>\n",
       "      <td>389</td>\n",
       "    </tr>\n",
       "    <tr>\n",
       "      <th>16</th>\n",
       "      <td>2021-04-04</td>\n",
       "      <td>8139</td>\n",
       "      <td>396</td>\n",
       "    </tr>\n",
       "    <tr>\n",
       "      <th>23</th>\n",
       "      <td>2021-04-11</td>\n",
       "      <td>9082</td>\n",
       "      <td>403</td>\n",
       "    </tr>\n",
       "  </tbody>\n",
       "</table>\n",
       "</div>"
      ],
      "text/plain": [
       "        Fecha  Positivos  Dia\n",
       "8  2021-03-27       8775  388\n",
       "9  2021-03-28       5242  389\n",
       "16 2021-04-04       8139  396\n",
       "23 2021-04-11       9082  403"
      ]
     },
     "execution_count": 156,
     "metadata": {},
     "output_type": "execute_result"
    }
   ],
   "source": [
    "dataregresion_corto[(dataregresion_corto[\"Dia\"] > 387) & (dataregresion_corto[\"Positivos\"] < 10000) ]"
   ]
  },
  {
   "cell_type": "code",
   "execution_count": 158,
   "metadata": {},
   "outputs": [],
   "source": [
    "#dataregresion_corto = dataregresion_corto.drop([8, 9, 16, 23]) #LIMPIANDO OUTLIERS"
   ]
  },
  {
   "cell_type": "code",
   "execution_count": null,
   "metadata": {},
   "outputs": [],
   "source": []
  },
  {
   "cell_type": "code",
   "execution_count": null,
   "metadata": {},
   "outputs": [],
   "source": []
  }
 ],
 "metadata": {
  "kernelspec": {
   "display_name": "Python 3",
   "language": "python",
   "name": "python3"
  },
  "language_info": {
   "codemirror_mode": {
    "name": "ipython",
    "version": 3
   },
   "file_extension": ".py",
   "mimetype": "text/x-python",
   "name": "python",
   "nbconvert_exporter": "python",
   "pygments_lexer": "ipython3",
   "version": "3.5.5"
  }
 },
 "nbformat": 4,
 "nbformat_minor": 4
}
