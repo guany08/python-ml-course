{
 "cells": [
  {
   "cell_type": "markdown",
   "metadata": {},
   "source": [
    "# Virus Chino"
   ]
  },
  {
   "cell_type": "code",
   "execution_count": 116,
   "metadata": {},
   "outputs": [],
   "source": [
    "import pandas as pd\n",
    "import matplotlib.pyplot as plt\n",
    "import os\n",
    "import numpy as np"
   ]
  },
  {
   "cell_type": "code",
   "execution_count": 117,
   "metadata": {},
   "outputs": [],
   "source": [
    "mainpath = \"C:/Users/Guany/Documents/\"\n",
    "filename = \"Covid19casos.csv\"\n",
    "fullpath = os.path.join(mainpath, filename)"
   ]
  },
  {
   "cell_type": "code",
   "execution_count": 118,
   "metadata": {},
   "outputs": [
    {
     "data": {
      "text/html": [
       "<div>\n",
       "<style scoped>\n",
       "    .dataframe tbody tr th:only-of-type {\n",
       "        vertical-align: middle;\n",
       "    }\n",
       "\n",
       "    .dataframe tbody tr th {\n",
       "        vertical-align: top;\n",
       "    }\n",
       "\n",
       "    .dataframe thead th {\n",
       "        text-align: right;\n",
       "    }\n",
       "</style>\n",
       "<table border=\"1\" class=\"dataframe\">\n",
       "  <thead>\n",
       "    <tr style=\"text-align: right;\">\n",
       "      <th></th>\n",
       "      <th>id_evento_caso</th>\n",
       "      <th>sexo</th>\n",
       "      <th>edad</th>\n",
       "      <th>edad_años_meses</th>\n",
       "      <th>residencia_pais_nombre</th>\n",
       "      <th>residencia_provincia_nombre</th>\n",
       "      <th>residencia_departamento_nombre</th>\n",
       "      <th>carga_provincia_nombre</th>\n",
       "      <th>fecha_inicio_sintomas</th>\n",
       "      <th>fecha_apertura</th>\n",
       "      <th>...</th>\n",
       "      <th>fecha_fallecimiento</th>\n",
       "      <th>asistencia_respiratoria_mecanica</th>\n",
       "      <th>carga_provincia_id</th>\n",
       "      <th>origen_financiamiento</th>\n",
       "      <th>clasificacion</th>\n",
       "      <th>clasificacion_resumen</th>\n",
       "      <th>residencia_provincia_id</th>\n",
       "      <th>fecha_diagnostico</th>\n",
       "      <th>residencia_departamento_id</th>\n",
       "      <th>ultima_actualizacion</th>\n",
       "    </tr>\n",
       "  </thead>\n",
       "  <tbody>\n",
       "    <tr>\n",
       "      <th>0</th>\n",
       "      <td>1000000</td>\n",
       "      <td>M</td>\n",
       "      <td>54.0</td>\n",
       "      <td>Años</td>\n",
       "      <td>Argentina</td>\n",
       "      <td>CABA</td>\n",
       "      <td>SIN ESPECIFICAR</td>\n",
       "      <td>Buenos Aires</td>\n",
       "      <td>NaN</td>\n",
       "      <td>2020-06-01</td>\n",
       "      <td>...</td>\n",
       "      <td>NaN</td>\n",
       "      <td>NO</td>\n",
       "      <td>6</td>\n",
       "      <td>Privado</td>\n",
       "      <td>Caso Descartado</td>\n",
       "      <td>Descartado</td>\n",
       "      <td>2</td>\n",
       "      <td>2020-06-09</td>\n",
       "      <td>0</td>\n",
       "      <td>2021-03-18</td>\n",
       "    </tr>\n",
       "    <tr>\n",
       "      <th>1</th>\n",
       "      <td>1000002</td>\n",
       "      <td>M</td>\n",
       "      <td>22.0</td>\n",
       "      <td>Años</td>\n",
       "      <td>Argentina</td>\n",
       "      <td>Buenos Aires</td>\n",
       "      <td>La Matanza</td>\n",
       "      <td>Buenos Aires</td>\n",
       "      <td>NaN</td>\n",
       "      <td>2020-06-01</td>\n",
       "      <td>...</td>\n",
       "      <td>NaN</td>\n",
       "      <td>NO</td>\n",
       "      <td>6</td>\n",
       "      <td>Público</td>\n",
       "      <td>Caso Descartado</td>\n",
       "      <td>Descartado</td>\n",
       "      <td>6</td>\n",
       "      <td>2020-06-01</td>\n",
       "      <td>427</td>\n",
       "      <td>2021-03-18</td>\n",
       "    </tr>\n",
       "    <tr>\n",
       "      <th>2</th>\n",
       "      <td>1000003</td>\n",
       "      <td>F</td>\n",
       "      <td>41.0</td>\n",
       "      <td>Años</td>\n",
       "      <td>Argentina</td>\n",
       "      <td>Córdoba</td>\n",
       "      <td>Capital</td>\n",
       "      <td>Córdoba</td>\n",
       "      <td>2020-05-24</td>\n",
       "      <td>2020-06-01</td>\n",
       "      <td>...</td>\n",
       "      <td>NaN</td>\n",
       "      <td>NO</td>\n",
       "      <td>14</td>\n",
       "      <td>Privado</td>\n",
       "      <td>Caso Descartado</td>\n",
       "      <td>Descartado</td>\n",
       "      <td>14</td>\n",
       "      <td>2020-06-01</td>\n",
       "      <td>14</td>\n",
       "      <td>2021-03-18</td>\n",
       "    </tr>\n",
       "    <tr>\n",
       "      <th>3</th>\n",
       "      <td>1000005</td>\n",
       "      <td>F</td>\n",
       "      <td>58.0</td>\n",
       "      <td>Años</td>\n",
       "      <td>Argentina</td>\n",
       "      <td>Mendoza</td>\n",
       "      <td>Las Heras</td>\n",
       "      <td>Mendoza</td>\n",
       "      <td>NaN</td>\n",
       "      <td>2020-06-01</td>\n",
       "      <td>...</td>\n",
       "      <td>NaN</td>\n",
       "      <td>NO</td>\n",
       "      <td>50</td>\n",
       "      <td>Público</td>\n",
       "      <td>Caso Descartado</td>\n",
       "      <td>Descartado</td>\n",
       "      <td>50</td>\n",
       "      <td>2020-06-01</td>\n",
       "      <td>49</td>\n",
       "      <td>2021-03-18</td>\n",
       "    </tr>\n",
       "    <tr>\n",
       "      <th>4</th>\n",
       "      <td>1000006</td>\n",
       "      <td>M</td>\n",
       "      <td>29.0</td>\n",
       "      <td>Años</td>\n",
       "      <td>Argentina</td>\n",
       "      <td>Buenos Aires</td>\n",
       "      <td>Malvinas Argentinas</td>\n",
       "      <td>Buenos Aires</td>\n",
       "      <td>2020-05-30</td>\n",
       "      <td>2020-06-01</td>\n",
       "      <td>...</td>\n",
       "      <td>NaN</td>\n",
       "      <td>NO</td>\n",
       "      <td>6</td>\n",
       "      <td>Público</td>\n",
       "      <td>Caso sospechoso - No Activo - Con muestra sin ...</td>\n",
       "      <td>Sospechoso</td>\n",
       "      <td>6</td>\n",
       "      <td>NaN</td>\n",
       "      <td>515</td>\n",
       "      <td>2021-03-18</td>\n",
       "    </tr>\n",
       "  </tbody>\n",
       "</table>\n",
       "<p>5 rows × 25 columns</p>\n",
       "</div>"
      ],
      "text/plain": [
       "   id_evento_caso sexo  edad edad_años_meses residencia_pais_nombre  \\\n",
       "0         1000000    M  54.0            Años              Argentina   \n",
       "1         1000002    M  22.0            Años              Argentina   \n",
       "2         1000003    F  41.0            Años              Argentina   \n",
       "3         1000005    F  58.0            Años              Argentina   \n",
       "4         1000006    M  29.0            Años              Argentina   \n",
       "\n",
       "  residencia_provincia_nombre residencia_departamento_nombre  \\\n",
       "0                        CABA                SIN ESPECIFICAR   \n",
       "1                Buenos Aires                     La Matanza   \n",
       "2                     Córdoba                        Capital   \n",
       "3                     Mendoza                      Las Heras   \n",
       "4                Buenos Aires            Malvinas Argentinas   \n",
       "\n",
       "  carga_provincia_nombre fecha_inicio_sintomas fecha_apertura  \\\n",
       "0           Buenos Aires                   NaN     2020-06-01   \n",
       "1           Buenos Aires                   NaN     2020-06-01   \n",
       "2                Córdoba            2020-05-24     2020-06-01   \n",
       "3                Mendoza                   NaN     2020-06-01   \n",
       "4           Buenos Aires            2020-05-30     2020-06-01   \n",
       "\n",
       "          ...           fecha_fallecimiento asistencia_respiratoria_mecanica  \\\n",
       "0         ...                           NaN                               NO   \n",
       "1         ...                           NaN                               NO   \n",
       "2         ...                           NaN                               NO   \n",
       "3         ...                           NaN                               NO   \n",
       "4         ...                           NaN                               NO   \n",
       "\n",
       "  carga_provincia_id origen_financiamiento  \\\n",
       "0                  6               Privado   \n",
       "1                  6               Público   \n",
       "2                 14               Privado   \n",
       "3                 50               Público   \n",
       "4                  6               Público   \n",
       "\n",
       "                                       clasificacion clasificacion_resumen  \\\n",
       "0                                    Caso Descartado            Descartado   \n",
       "1                                    Caso Descartado            Descartado   \n",
       "2                                    Caso Descartado            Descartado   \n",
       "3                                    Caso Descartado            Descartado   \n",
       "4  Caso sospechoso - No Activo - Con muestra sin ...            Sospechoso   \n",
       "\n",
       "  residencia_provincia_id  fecha_diagnostico residencia_departamento_id  \\\n",
       "0                       2         2020-06-09                          0   \n",
       "1                       6         2020-06-01                        427   \n",
       "2                      14         2020-06-01                         14   \n",
       "3                      50         2020-06-01                         49   \n",
       "4                       6                NaN                        515   \n",
       "\n",
       "  ultima_actualizacion  \n",
       "0           2021-03-18  \n",
       "1           2021-03-18  \n",
       "2           2021-03-18  \n",
       "3           2021-03-18  \n",
       "4           2021-03-18  \n",
       "\n",
       "[5 rows x 25 columns]"
      ]
     },
     "execution_count": 118,
     "metadata": {},
     "output_type": "execute_result"
    }
   ],
   "source": [
    "VC = pd.read_csv(fullpath)\n",
    "VC.head()"
   ]
  },
  {
   "cell_type": "code",
   "execution_count": 119,
   "metadata": {},
   "outputs": [
    {
     "data": {
      "text/html": [
       "<div>\n",
       "<style scoped>\n",
       "    .dataframe tbody tr th:only-of-type {\n",
       "        vertical-align: middle;\n",
       "    }\n",
       "\n",
       "    .dataframe tbody tr th {\n",
       "        vertical-align: top;\n",
       "    }\n",
       "\n",
       "    .dataframe thead th {\n",
       "        text-align: right;\n",
       "    }\n",
       "</style>\n",
       "<table border=\"1\" class=\"dataframe\">\n",
       "  <thead>\n",
       "    <tr style=\"text-align: right;\">\n",
       "      <th></th>\n",
       "      <th>id_evento_caso</th>\n",
       "      <th>edad</th>\n",
       "      <th>sepi_apertura</th>\n",
       "      <th>carga_provincia_id</th>\n",
       "      <th>residencia_provincia_id</th>\n",
       "      <th>residencia_departamento_id</th>\n",
       "    </tr>\n",
       "  </thead>\n",
       "  <tbody>\n",
       "    <tr>\n",
       "      <th>count</th>\n",
       "      <td>7.491466e+06</td>\n",
       "      <td>7.487468e+06</td>\n",
       "      <td>7.491466e+06</td>\n",
       "      <td>7.491466e+06</td>\n",
       "      <td>7.491466e+06</td>\n",
       "      <td>7.491466e+06</td>\n",
       "    </tr>\n",
       "    <tr>\n",
       "      <th>mean</th>\n",
       "      <td>4.929453e+06</td>\n",
       "      <td>3.942873e+01</td>\n",
       "      <td>2.709139e+01</td>\n",
       "      <td>2.331324e+01</td>\n",
       "      <td>2.456044e+01</td>\n",
       "      <td>1.903115e+02</td>\n",
       "    </tr>\n",
       "    <tr>\n",
       "      <th>std</th>\n",
       "      <td>2.325955e+06</td>\n",
       "      <td>1.842127e+01</td>\n",
       "      <td>1.841393e+01</td>\n",
       "      <td>2.942521e+01</td>\n",
       "      <td>2.964966e+01</td>\n",
       "      <td>2.478283e+02</td>\n",
       "    </tr>\n",
       "    <tr>\n",
       "      <th>min</th>\n",
       "      <td>6.720640e+05</td>\n",
       "      <td>-1.800000e+01</td>\n",
       "      <td>1.000000e+00</td>\n",
       "      <td>2.000000e+00</td>\n",
       "      <td>2.000000e+00</td>\n",
       "      <td>0.000000e+00</td>\n",
       "    </tr>\n",
       "    <tr>\n",
       "      <th>25%</th>\n",
       "      <td>2.932655e+06</td>\n",
       "      <td>2.700000e+01</td>\n",
       "      <td>7.000000e+00</td>\n",
       "      <td>2.000000e+00</td>\n",
       "      <td>6.000000e+00</td>\n",
       "      <td>1.400000e+01</td>\n",
       "    </tr>\n",
       "    <tr>\n",
       "      <th>50%</th>\n",
       "      <td>4.939036e+06</td>\n",
       "      <td>3.700000e+01</td>\n",
       "      <td>3.300000e+01</td>\n",
       "      <td>6.000000e+00</td>\n",
       "      <td>6.000000e+00</td>\n",
       "      <td>6.300000e+01</td>\n",
       "    </tr>\n",
       "    <tr>\n",
       "      <th>75%</th>\n",
       "      <td>6.945625e+06</td>\n",
       "      <td>5.100000e+01</td>\n",
       "      <td>4.400000e+01</td>\n",
       "      <td>3.400000e+01</td>\n",
       "      <td>4.200000e+01</td>\n",
       "      <td>3.710000e+02</td>\n",
       "    </tr>\n",
       "    <tr>\n",
       "      <th>max</th>\n",
       "      <td>8.937030e+06</td>\n",
       "      <td>1.944000e+03</td>\n",
       "      <td>5.300000e+01</td>\n",
       "      <td>9.400000e+01</td>\n",
       "      <td>9.900000e+01</td>\n",
       "      <td>8.820000e+02</td>\n",
       "    </tr>\n",
       "  </tbody>\n",
       "</table>\n",
       "</div>"
      ],
      "text/plain": [
       "       id_evento_caso          edad  sepi_apertura  carga_provincia_id  \\\n",
       "count    7.491466e+06  7.487468e+06   7.491466e+06        7.491466e+06   \n",
       "mean     4.929453e+06  3.942873e+01   2.709139e+01        2.331324e+01   \n",
       "std      2.325955e+06  1.842127e+01   1.841393e+01        2.942521e+01   \n",
       "min      6.720640e+05 -1.800000e+01   1.000000e+00        2.000000e+00   \n",
       "25%      2.932655e+06  2.700000e+01   7.000000e+00        2.000000e+00   \n",
       "50%      4.939036e+06  3.700000e+01   3.300000e+01        6.000000e+00   \n",
       "75%      6.945625e+06  5.100000e+01   4.400000e+01        3.400000e+01   \n",
       "max      8.937030e+06  1.944000e+03   5.300000e+01        9.400000e+01   \n",
       "\n",
       "       residencia_provincia_id  residencia_departamento_id  \n",
       "count             7.491466e+06                7.491466e+06  \n",
       "mean              2.456044e+01                1.903115e+02  \n",
       "std               2.964966e+01                2.478283e+02  \n",
       "min               2.000000e+00                0.000000e+00  \n",
       "25%               6.000000e+00                1.400000e+01  \n",
       "50%               6.000000e+00                6.300000e+01  \n",
       "75%               4.200000e+01                3.710000e+02  \n",
       "max               9.900000e+01                8.820000e+02  "
      ]
     },
     "execution_count": 119,
     "metadata": {},
     "output_type": "execute_result"
    }
   ],
   "source": [
    "VC.describe()"
   ]
  },
  {
   "cell_type": "code",
   "execution_count": 120,
   "metadata": {},
   "outputs": [
    {
     "data": {
      "text/plain": [
       "0"
      ]
     },
     "execution_count": 120,
     "metadata": {},
     "output_type": "execute_result"
    }
   ],
   "source": [
    "pd.isnull(VC[\"edad_años_meses\"]).values.ravel().sum()"
   ]
  },
  {
   "cell_type": "code",
   "execution_count": 121,
   "metadata": {},
   "outputs": [
    {
     "data": {
      "text/plain": [
       "3998"
      ]
     },
     "execution_count": 121,
     "metadata": {},
     "output_type": "execute_result"
    }
   ],
   "source": [
    "pd.isnull(VC[\"edad\"]).values.ravel().sum()"
   ]
  },
  {
   "cell_type": "code",
   "execution_count": 122,
   "metadata": {},
   "outputs": [
    {
     "data": {
      "text/plain": [
       "39.42873492080367"
      ]
     },
     "execution_count": 122,
     "metadata": {},
     "output_type": "execute_result"
    }
   ],
   "source": [
    "VC[\"edad\"].mean()"
   ]
  },
  {
   "cell_type": "code",
   "execution_count": 123,
   "metadata": {},
   "outputs": [
    {
     "data": {
      "text/plain": [
       "count    7.487468e+06\n",
       "mean     3.942873e+01\n",
       "std      1.842127e+01\n",
       "min     -1.800000e+01\n",
       "25%      2.700000e+01\n",
       "50%      3.700000e+01\n",
       "75%      5.100000e+01\n",
       "max      1.944000e+03\n",
       "Name: edad, dtype: float64"
      ]
     },
     "execution_count": 123,
     "metadata": {},
     "output_type": "execute_result"
    }
   ],
   "source": [
    "VC[\"edad\"].describe()"
   ]
  },
  {
   "cell_type": "code",
   "execution_count": 124,
   "metadata": {},
   "outputs": [
    {
     "data": {
      "text/plain": [
       "id_evento_caso                              1000994\n",
       "sexo                                             NR\n",
       "edad                                              9\n",
       "edad_años_meses                               Meses\n",
       "residencia_pais_nombre                    Argentina\n",
       "residencia_provincia_nombre                    CABA\n",
       "residencia_departamento_nombre      SIN ESPECIFICAR\n",
       "carga_provincia_nombre                         CABA\n",
       "fecha_inicio_sintomas                    2020-06-01\n",
       "fecha_apertura                           2020-06-01\n",
       "sepi_apertura                                    23\n",
       "fecha_internacion                               NaN\n",
       "cuidado_intensivo                                NO\n",
       "fecha_cui_intensivo                             NaN\n",
       "fallecido                                        NO\n",
       "fecha_fallecimiento                             NaN\n",
       "asistencia_respiratoria_mecanica                 NO\n",
       "carga_provincia_id                                2\n",
       "origen_financiamiento                       Público\n",
       "clasificacion                       Caso Descartado\n",
       "clasificacion_resumen                    Descartado\n",
       "residencia_provincia_id                           2\n",
       "fecha_diagnostico                        2020-06-01\n",
       "residencia_departamento_id                        0\n",
       "ultima_actualizacion                     2021-03-18\n",
       "Name: 737, dtype: object"
      ]
     },
     "execution_count": 124,
     "metadata": {},
     "output_type": "execute_result"
    }
   ],
   "source": [
    "VC.loc[737]"
   ]
  },
  {
   "cell_type": "code",
   "execution_count": 144,
   "metadata": {},
   "outputs": [],
   "source": [
    "VC.loc[VC['edad_años_meses'] == \"Meses\", [\"edad\"]] = 0\n",
    "VC.loc[VC['edad_años_meses'] == \"Meses\",  ['edad_años_meses']]= \"Años\"\n",
    "VC = VC.drop(VC[VC['edad_años_meses'] == 39].index)\n",
    "VC = VC.drop(VC[VC['sexo'] == 39].index)"
   ]
  },
  {
   "cell_type": "code",
   "execution_count": 145,
   "metadata": {},
   "outputs": [
    {
     "data": {
      "text/plain": [
       "F     3839595\n",
       "M     3562341\n",
       "NR      88872\n",
       "Name: sexo, dtype: int64"
      ]
     },
     "execution_count": 145,
     "metadata": {},
     "output_type": "execute_result"
    }
   ],
   "source": [
    "VC['sexo'].value_counts()"
   ]
  },
  {
   "cell_type": "code",
   "execution_count": 146,
   "metadata": {},
   "outputs": [
    {
     "data": {
      "text/plain": [
       "0"
      ]
     },
     "execution_count": 146,
     "metadata": {},
     "output_type": "execute_result"
    }
   ],
   "source": [
    "pd.isnull(VC[\"edad\"]).values.ravel().sum()"
   ]
  },
  {
   "cell_type": "code",
   "execution_count": 147,
   "metadata": {},
   "outputs": [],
   "source": [
    "VC[\"edad\"] = VC[\"edad\"].fillna(int(VC[\"edad\"].mean()))"
   ]
  },
  {
   "cell_type": "code",
   "execution_count": 148,
   "metadata": {},
   "outputs": [],
   "source": [
    "VC[VC['edad'] >= 105] = int(VC[\"edad\"].mean())\n",
    "VC[VC['edad'] < 0] = int(VC[\"edad\"].mean())"
   ]
  },
  {
   "cell_type": "code",
   "execution_count": 149,
   "metadata": {},
   "outputs": [
    {
     "data": {
      "text/plain": [
       "29.0     188889\n",
       "30.0     186170\n",
       "32.0     179454\n",
       "31.0     178299\n",
       "28.0     178172\n",
       "34.0     177411\n",
       "33.0     175044\n",
       "26.0     171507\n",
       "27.0     170815\n",
       "35.0     168713\n",
       "39.0     166184\n",
       "25.0     164603\n",
       "38.0     161405\n",
       "36.0     160796\n",
       "41.0     160239\n",
       "37.0     158491\n",
       "24.0     155880\n",
       "40.0     155435\n",
       "42.0     152177\n",
       "43.0     147681\n",
       "23.0     144388\n",
       "44.0     138185\n",
       "22.0     134570\n",
       "45.0     133191\n",
       "46.0     127198\n",
       "21.0     122957\n",
       "48.0     118652\n",
       "47.0     118392\n",
       "49.0     116535\n",
       "50.0     111753\n",
       "          ...  \n",
       "9.0       25765\n",
       "77.0      25713\n",
       "0.0       24107\n",
       "78.0      23702\n",
       "79.0      22152\n",
       "80.0      21411\n",
       "81.0      20159\n",
       "82.0      18266\n",
       "83.0      17204\n",
       "84.0      16312\n",
       "85.0      15502\n",
       "86.0      14231\n",
       "87.0      13275\n",
       "88.0      12540\n",
       "89.0      11737\n",
       "90.0      10660\n",
       "91.0       8927\n",
       "92.0       7545\n",
       "93.0       6505\n",
       "94.0       5130\n",
       "95.0       3954\n",
       "96.0       3147\n",
       "97.0       2207\n",
       "98.0       1637\n",
       "99.0       1101\n",
       "100.0       712\n",
       "101.0       364\n",
       "102.0       205\n",
       "103.0       131\n",
       "104.0        55\n",
       "Name: edad, Length: 105, dtype: int64"
      ]
     },
     "execution_count": 149,
     "metadata": {},
     "output_type": "execute_result"
    }
   ],
   "source": [
    "VC['edad'].value_counts()"
   ]
  },
  {
   "cell_type": "code",
   "execution_count": 150,
   "metadata": {},
   "outputs": [
    {
     "data": {
      "text/plain": [
       "0.0"
      ]
     },
     "execution_count": 150,
     "metadata": {},
     "output_type": "execute_result"
    }
   ],
   "source": [
    "VC['edad'].min()"
   ]
  },
  {
   "cell_type": "code",
   "execution_count": 151,
   "metadata": {},
   "outputs": [
    {
     "data": {
      "text/plain": [
       "104.0"
      ]
     },
     "execution_count": 151,
     "metadata": {},
     "output_type": "execute_result"
    }
   ],
   "source": [
    "VC['edad'].max()"
   ]
  },
  {
   "cell_type": "code",
   "execution_count": 164,
   "metadata": {},
   "outputs": [
    {
     "data": {
      "text/plain": [
       "Text(0.5,1,'Histograma de distribucion de pacientes covid por edad')"
      ]
     },
     "execution_count": 164,
     "metadata": {},
     "output_type": "execute_result"
    },
    {
     "data": {
      "image/png": "[encoded data removed]",
      "text/plain": [
       "<matplotlib.figure.Figure at 0x24f09a20ba8>"
      ]
     },
     "metadata": {
      "needs_background": "light"
     },
     "output_type": "display_data"
    }
   ],
   "source": [
    "plt.hist(VC[\"edad\"], bins= 200)\n",
    "plt.xlabel(\"Edad\")\n",
    "plt.ylabel(\"Frecuencia\")\n",
    "plt.title(\"Histograma de distribucion de pacientes covid por edad\")"
   ]
  },
  {
   "cell_type": "code",
   "execution_count": 153,
   "metadata": {},
   "outputs": [
    {
     "data": {
      "text/plain": [
       "count    7.490808e+06\n",
       "mean     3.939567e+01\n",
       "std      1.839761e+01\n",
       "min      0.000000e+00\n",
       "25%      2.700000e+01\n",
       "50%      3.700000e+01\n",
       "75%      5.100000e+01\n",
       "max      1.040000e+02\n",
       "Name: edad, dtype: float64"
      ]
     },
     "execution_count": 153,
     "metadata": {},
     "output_type": "execute_result"
    }
   ],
   "source": [
    "VC[\"edad\"].describe()"
   ]
  },
  {
   "cell_type": "code",
   "execution_count": 154,
   "metadata": {},
   "outputs": [
    {
     "data": {
      "text/plain": [
       "Text(0.5,1,'Boxplot de pacientes por edad')"
      ]
     },
     "execution_count": 154,
     "metadata": {},
     "output_type": "execute_result"
    },
    {
     "data": {
      "image/png": "[encoded data removed]",
      "text/plain": [
       "<matplotlib.figure.Figure at 0x24f29193b00>"
      ]
     },
     "metadata": {
      "needs_background": "light"
     },
     "output_type": "display_data"
    }
   ],
   "source": [
    "plt.boxplot(VC[\"edad\"])\n",
    "plt.ylabel(\"Edad de los pacientes\")\n",
    "plt.title(\"Boxplot de pacientes por edad\")"
   ]
  },
  {
   "cell_type": "code",
   "execution_count": 155,
   "metadata": {},
   "outputs": [
    {
     "data": {
      "text/plain": [
       "0    29.0\n",
       "dtype: float64"
      ]
     },
     "execution_count": 155,
     "metadata": {},
     "output_type": "execute_result"
    }
   ],
   "source": [
    "VC[\"edad\"].mode()"
   ]
  },
  {
   "cell_type": "code",
   "execution_count": 156,
   "metadata": {},
   "outputs": [
    {
     "data": {
      "text/plain": [
       "array(['Años'], dtype=object)"
      ]
     },
     "execution_count": 156,
     "metadata": {},
     "output_type": "execute_result"
    }
   ],
   "source": [
    "VC['edad_años_meses'].unique()"
   ]
  },
  {
   "cell_type": "code",
   "execution_count": 167,
   "metadata": {},
   "outputs": [
    {
     "data": {
      "text/plain": [
       "Text(0.5,1,'Histograma de distribucion de pacientes covid por sexo')"
      ]
     },
     "execution_count": 167,
     "metadata": {},
     "output_type": "execute_result"
    },
    {
     "data": {
      "image/png": "[encoded data removed]",
      "text/plain": [
       "<matplotlib.figure.Figure at 0x24f0927a7f0>"
      ]
     },
     "metadata": {
      "needs_background": "light"
     },
     "output_type": "display_data"
    }
   ],
   "source": [
    "plt.hist(VC[\"sexo\"], bins=5)\n",
    "plt.xlabel(\"Sexo\")\n",
    "plt.ylabel(\"Cantidad de pacientes\")\n",
    "plt.title(\"Histograma de distribucion de pacientes covid por sexo\")"
   ]
  },
  {
   "cell_type": "code",
   "execution_count": 160,
   "metadata": {},
   "outputs": [
    {
     "data": {
      "text/plain": [
       "F     3839595\n",
       "M     3562341\n",
       "NR      88872\n",
       "Name: sexo, dtype: int64"
      ]
     },
     "execution_count": 160,
     "metadata": {},
     "output_type": "execute_result"
    }
   ],
   "source": [
    "VC[\"sexo\"].value_counts()"
   ]
  },
  {
   "cell_type": "code",
   "execution_count": null,
   "metadata": {},
   "outputs": [],
   "source": []
  }
 ],
 "metadata": {
  "kernelspec": {
   "display_name": "Python 3",
   "language": "python",
   "name": "python3"
  },
  "language_info": {
   "codemirror_mode": {
    "name": "ipython",
    "version": 3
   },
   "file_extension": ".py",
   "mimetype": "text/x-python",
   "name": "python",
   "nbconvert_exporter": "python",
   "pygments_lexer": "ipython3",
   "version": "3.5.5"
  }
 },
 "nbformat": 4,
 "nbformat_minor": 4
}
